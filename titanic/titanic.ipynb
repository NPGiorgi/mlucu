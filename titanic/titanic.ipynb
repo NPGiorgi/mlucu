{
 "cells": [
  {
   "cell_type": "markdown",
   "source": [
    "Ignore SSL error when pulling file from S3"
   ],
   "metadata": {
    "collapsed": false
   }
  },
  {
   "cell_type": "code",
   "source": [
    "# avoid SSL errors\n",
    "import ssl\n",
    "\n",
    "import numpy as np\n",
    "\n",
    "ssl._create_default_https_context = ssl._create_unverified_context"
   ],
   "metadata": {
    "collapsed": false,
    "pycharm": {
     "name": "#%%\n"
    }
   },
   "execution_count": 66,
   "outputs": []
  },
  {
   "cell_type": "markdown",
   "source": [
    "Read dataset and show it"
   ],
   "metadata": {
    "collapsed": false,
    "pycharm": {
     "name": "#%% md\n"
    }
   }
  },
  {
   "cell_type": "code",
   "execution_count": 67,
   "outputs": [
    {
     "data": {
      "text/plain": "      pclass  survived                                             name  \\\n0        1.0       1.0                    Allen, Miss. Elisabeth Walton   \n1        1.0       1.0                   Allison, Master. Hudson Trevor   \n2        1.0       0.0                     Allison, Miss. Helen Loraine   \n3        1.0       0.0             Allison, Mr. Hudson Joshua Creighton   \n4        1.0       0.0  Allison, Mrs. Hudson J C (Bessie Waldo Daniels)   \n...      ...       ...                                              ...   \n1304     3.0       0.0                             Zabour, Miss. Hileni   \n1305     3.0       0.0                            Zabour, Miss. Thamine   \n1306     3.0       0.0                        Zakarian, Mr. Mapriededer   \n1307     3.0       0.0                              Zakarian, Mr. Ortin   \n1308     3.0       0.0                               Zimmerman, Mr. Leo   \n\n         sex      age  sibsp  parch  ticket      fare    cabin embarked boat  \\\n0     female  29.0000    0.0    0.0   24160  211.3375       B5        S    2   \n1       male   0.9167    1.0    2.0  113781  151.5500  C22 C26        S   11   \n2     female   2.0000    1.0    2.0  113781  151.5500  C22 C26        S  NaN   \n3       male  30.0000    1.0    2.0  113781  151.5500  C22 C26        S  NaN   \n4     female  25.0000    1.0    2.0  113781  151.5500  C22 C26        S  NaN   \n...      ...      ...    ...    ...     ...       ...      ...      ...  ...   \n1304  female  14.5000    1.0    0.0    2665   14.4542      NaN        C  NaN   \n1305  female      NaN    1.0    0.0    2665   14.4542      NaN        C  NaN   \n1306    male  26.5000    0.0    0.0    2656    7.2250      NaN        C  NaN   \n1307    male  27.0000    0.0    0.0    2670    7.2250      NaN        C  NaN   \n1308    male  29.0000    0.0    0.0  315082    7.8750      NaN        S  NaN   \n\n       body                        home.dest  \n0       NaN                     St Louis, MO  \n1       NaN  Montreal, PQ / Chesterville, ON  \n2       NaN  Montreal, PQ / Chesterville, ON  \n3     135.0  Montreal, PQ / Chesterville, ON  \n4       NaN  Montreal, PQ / Chesterville, ON  \n...     ...                              ...  \n1304  328.0                              NaN  \n1305    NaN                              NaN  \n1306  304.0                              NaN  \n1307    NaN                              NaN  \n1308    NaN                              NaN  \n\n[1309 rows x 14 columns]",
      "text/html": "<div>\n<style scoped>\n    .dataframe tbody tr th:only-of-type {\n        vertical-align: middle;\n    }\n\n    .dataframe tbody tr th {\n        vertical-align: top;\n    }\n\n    .dataframe thead th {\n        text-align: right;\n    }\n</style>\n<table border=\"1\" class=\"dataframe\">\n  <thead>\n    <tr style=\"text-align: right;\">\n      <th></th>\n      <th>pclass</th>\n      <th>survived</th>\n      <th>name</th>\n      <th>sex</th>\n      <th>age</th>\n      <th>sibsp</th>\n      <th>parch</th>\n      <th>ticket</th>\n      <th>fare</th>\n      <th>cabin</th>\n      <th>embarked</th>\n      <th>boat</th>\n      <th>body</th>\n      <th>home.dest</th>\n    </tr>\n  </thead>\n  <tbody>\n    <tr>\n      <th>0</th>\n      <td>1.0</td>\n      <td>1.0</td>\n      <td>Allen, Miss. Elisabeth Walton</td>\n      <td>female</td>\n      <td>29.0000</td>\n      <td>0.0</td>\n      <td>0.0</td>\n      <td>24160</td>\n      <td>211.3375</td>\n      <td>B5</td>\n      <td>S</td>\n      <td>2</td>\n      <td>NaN</td>\n      <td>St Louis, MO</td>\n    </tr>\n    <tr>\n      <th>1</th>\n      <td>1.0</td>\n      <td>1.0</td>\n      <td>Allison, Master. Hudson Trevor</td>\n      <td>male</td>\n      <td>0.9167</td>\n      <td>1.0</td>\n      <td>2.0</td>\n      <td>113781</td>\n      <td>151.5500</td>\n      <td>C22 C26</td>\n      <td>S</td>\n      <td>11</td>\n      <td>NaN</td>\n      <td>Montreal, PQ / Chesterville, ON</td>\n    </tr>\n    <tr>\n      <th>2</th>\n      <td>1.0</td>\n      <td>0.0</td>\n      <td>Allison, Miss. Helen Loraine</td>\n      <td>female</td>\n      <td>2.0000</td>\n      <td>1.0</td>\n      <td>2.0</td>\n      <td>113781</td>\n      <td>151.5500</td>\n      <td>C22 C26</td>\n      <td>S</td>\n      <td>NaN</td>\n      <td>NaN</td>\n      <td>Montreal, PQ / Chesterville, ON</td>\n    </tr>\n    <tr>\n      <th>3</th>\n      <td>1.0</td>\n      <td>0.0</td>\n      <td>Allison, Mr. Hudson Joshua Creighton</td>\n      <td>male</td>\n      <td>30.0000</td>\n      <td>1.0</td>\n      <td>2.0</td>\n      <td>113781</td>\n      <td>151.5500</td>\n      <td>C22 C26</td>\n      <td>S</td>\n      <td>NaN</td>\n      <td>135.0</td>\n      <td>Montreal, PQ / Chesterville, ON</td>\n    </tr>\n    <tr>\n      <th>4</th>\n      <td>1.0</td>\n      <td>0.0</td>\n      <td>Allison, Mrs. Hudson J C (Bessie Waldo Daniels)</td>\n      <td>female</td>\n      <td>25.0000</td>\n      <td>1.0</td>\n      <td>2.0</td>\n      <td>113781</td>\n      <td>151.5500</td>\n      <td>C22 C26</td>\n      <td>S</td>\n      <td>NaN</td>\n      <td>NaN</td>\n      <td>Montreal, PQ / Chesterville, ON</td>\n    </tr>\n    <tr>\n      <th>...</th>\n      <td>...</td>\n      <td>...</td>\n      <td>...</td>\n      <td>...</td>\n      <td>...</td>\n      <td>...</td>\n      <td>...</td>\n      <td>...</td>\n      <td>...</td>\n      <td>...</td>\n      <td>...</td>\n      <td>...</td>\n      <td>...</td>\n      <td>...</td>\n    </tr>\n    <tr>\n      <th>1304</th>\n      <td>3.0</td>\n      <td>0.0</td>\n      <td>Zabour, Miss. Hileni</td>\n      <td>female</td>\n      <td>14.5000</td>\n      <td>1.0</td>\n      <td>0.0</td>\n      <td>2665</td>\n      <td>14.4542</td>\n      <td>NaN</td>\n      <td>C</td>\n      <td>NaN</td>\n      <td>328.0</td>\n      <td>NaN</td>\n    </tr>\n    <tr>\n      <th>1305</th>\n      <td>3.0</td>\n      <td>0.0</td>\n      <td>Zabour, Miss. Thamine</td>\n      <td>female</td>\n      <td>NaN</td>\n      <td>1.0</td>\n      <td>0.0</td>\n      <td>2665</td>\n      <td>14.4542</td>\n      <td>NaN</td>\n      <td>C</td>\n      <td>NaN</td>\n      <td>NaN</td>\n      <td>NaN</td>\n    </tr>\n    <tr>\n      <th>1306</th>\n      <td>3.0</td>\n      <td>0.0</td>\n      <td>Zakarian, Mr. Mapriededer</td>\n      <td>male</td>\n      <td>26.5000</td>\n      <td>0.0</td>\n      <td>0.0</td>\n      <td>2656</td>\n      <td>7.2250</td>\n      <td>NaN</td>\n      <td>C</td>\n      <td>NaN</td>\n      <td>304.0</td>\n      <td>NaN</td>\n    </tr>\n    <tr>\n      <th>1307</th>\n      <td>3.0</td>\n      <td>0.0</td>\n      <td>Zakarian, Mr. Ortin</td>\n      <td>male</td>\n      <td>27.0000</td>\n      <td>0.0</td>\n      <td>0.0</td>\n      <td>2670</td>\n      <td>7.2250</td>\n      <td>NaN</td>\n      <td>C</td>\n      <td>NaN</td>\n      <td>NaN</td>\n      <td>NaN</td>\n    </tr>\n    <tr>\n      <th>1308</th>\n      <td>3.0</td>\n      <td>0.0</td>\n      <td>Zimmerman, Mr. Leo</td>\n      <td>male</td>\n      <td>29.0000</td>\n      <td>0.0</td>\n      <td>0.0</td>\n      <td>315082</td>\n      <td>7.8750</td>\n      <td>NaN</td>\n      <td>S</td>\n      <td>NaN</td>\n      <td>NaN</td>\n      <td>NaN</td>\n    </tr>\n  </tbody>\n</table>\n<p>1309 rows × 14 columns</p>\n</div>"
     },
     "execution_count": 67,
     "metadata": {},
     "output_type": "execute_result"
    }
   ],
   "source": [
    "import pandas as pd\n",
    "\n",
    "# read csv and remove one emtpy row\n",
    "df = pd.read_csv(\"https://npg-ds.s3.amazonaws.com/titanic.csv\")[:-1]\n",
    "df.copy()"
   ],
   "metadata": {
    "collapsed": false,
    "pycharm": {
     "name": "#%%\n"
    }
   }
  },
  {
   "cell_type": "markdown",
   "source": [
    "The dataset has `1308` rows and the following columns:\n",
    "\n",
    "* pclass: In which class  (1 = 1st; 2 = 2nd; 3 = 3rd)\n",
    "* survived: Whether the passenger survived (0 = No; 1 = Yes)\n",
    "* name: Name of the passenger\n",
    "* sex: Sex\n",
    "* age: Age in years\n",
    "* sibsp: Number of Siblings/Spouses Aboard\n",
    "* parch: Number of Parents/Children Aboard\n",
    "* ticket: Ticket number\n",
    "* fare: Passenger fare\n",
    "* cabin: Cabin number\n",
    "* embarked: Port of Embarkation (C = Cherbourg; Q = Queenstown; S = Southampton)\n",
    "* boat: Which boat the passenger got into\n",
    "* body: Passenger was assigned a corpse number (died)\n",
    "* home.dest: Home/Destination"
   ],
   "metadata": {
    "collapsed": false,
    "pycharm": {
     "name": "#%% md\n"
    }
   }
  },
  {
   "cell_type": "markdown",
   "source": [
    "Let's see some statistics on the data"
   ],
   "metadata": {
    "collapsed": false,
    "pycharm": {
     "name": "#%% md\n"
    }
   }
  },
  {
   "cell_type": "code",
   "execution_count": 68,
   "outputs": [
    {
     "data": {
      "text/plain": "            pclass     survived          age        sibsp        parch  \\\ncount  1309.000000  1309.000000  1046.000000  1309.000000  1309.000000   \nmean      2.294882     0.381971    29.881135     0.498854     0.385027   \nstd       0.837836     0.486055    14.413500     1.041658     0.865560   \nmin       1.000000     0.000000     0.166700     0.000000     0.000000   \n25%       2.000000     0.000000    21.000000     0.000000     0.000000   \n50%       3.000000     0.000000    28.000000     0.000000     0.000000   \n75%       3.000000     1.000000    39.000000     1.000000     0.000000   \nmax       3.000000     1.000000    80.000000     8.000000     9.000000   \n\n              fare        body  \ncount  1308.000000  121.000000  \nmean     33.295479  160.809917  \nstd      51.758668   97.696922  \nmin       0.000000    1.000000  \n25%       7.895800   72.000000  \n50%      14.454200  155.000000  \n75%      31.275000  256.000000  \nmax     512.329200  328.000000  ",
      "text/html": "<div>\n<style scoped>\n    .dataframe tbody tr th:only-of-type {\n        vertical-align: middle;\n    }\n\n    .dataframe tbody tr th {\n        vertical-align: top;\n    }\n\n    .dataframe thead th {\n        text-align: right;\n    }\n</style>\n<table border=\"1\" class=\"dataframe\">\n  <thead>\n    <tr style=\"text-align: right;\">\n      <th></th>\n      <th>pclass</th>\n      <th>survived</th>\n      <th>age</th>\n      <th>sibsp</th>\n      <th>parch</th>\n      <th>fare</th>\n      <th>body</th>\n    </tr>\n  </thead>\n  <tbody>\n    <tr>\n      <th>count</th>\n      <td>1309.000000</td>\n      <td>1309.000000</td>\n      <td>1046.000000</td>\n      <td>1309.000000</td>\n      <td>1309.000000</td>\n      <td>1308.000000</td>\n      <td>121.000000</td>\n    </tr>\n    <tr>\n      <th>mean</th>\n      <td>2.294882</td>\n      <td>0.381971</td>\n      <td>29.881135</td>\n      <td>0.498854</td>\n      <td>0.385027</td>\n      <td>33.295479</td>\n      <td>160.809917</td>\n    </tr>\n    <tr>\n      <th>std</th>\n      <td>0.837836</td>\n      <td>0.486055</td>\n      <td>14.413500</td>\n      <td>1.041658</td>\n      <td>0.865560</td>\n      <td>51.758668</td>\n      <td>97.696922</td>\n    </tr>\n    <tr>\n      <th>min</th>\n      <td>1.000000</td>\n      <td>0.000000</td>\n      <td>0.166700</td>\n      <td>0.000000</td>\n      <td>0.000000</td>\n      <td>0.000000</td>\n      <td>1.000000</td>\n    </tr>\n    <tr>\n      <th>25%</th>\n      <td>2.000000</td>\n      <td>0.000000</td>\n      <td>21.000000</td>\n      <td>0.000000</td>\n      <td>0.000000</td>\n      <td>7.895800</td>\n      <td>72.000000</td>\n    </tr>\n    <tr>\n      <th>50%</th>\n      <td>3.000000</td>\n      <td>0.000000</td>\n      <td>28.000000</td>\n      <td>0.000000</td>\n      <td>0.000000</td>\n      <td>14.454200</td>\n      <td>155.000000</td>\n    </tr>\n    <tr>\n      <th>75%</th>\n      <td>3.000000</td>\n      <td>1.000000</td>\n      <td>39.000000</td>\n      <td>1.000000</td>\n      <td>0.000000</td>\n      <td>31.275000</td>\n      <td>256.000000</td>\n    </tr>\n    <tr>\n      <th>max</th>\n      <td>3.000000</td>\n      <td>1.000000</td>\n      <td>80.000000</td>\n      <td>8.000000</td>\n      <td>9.000000</td>\n      <td>512.329200</td>\n      <td>328.000000</td>\n    </tr>\n  </tbody>\n</table>\n</div>"
     },
     "execution_count": 68,
     "metadata": {},
     "output_type": "execute_result"
    }
   ],
   "source": [
    "df.copy().describe()"
   ],
   "metadata": {
    "collapsed": false,
    "pycharm": {
     "name": "#%%\n"
    }
   }
  },
  {
   "cell_type": "markdown",
   "source": [
    "Let's now start checking for some initial statistics about our dataset. For instance we could check for null values per column:"
   ],
   "metadata": {
    "collapsed": false,
    "pycharm": {
     "name": "#%% md\n"
    }
   }
  },
  {
   "cell_type": "code",
   "execution_count": 69,
   "outputs": [
    {
     "data": {
      "text/plain": "pclass          0\nsurvived        0\nname            0\nsex             0\nage           263\nsibsp           0\nparch           0\nticket          0\nfare            1\ncabin        1014\nembarked        2\nboat          823\nbody         1188\nhome.dest     564\ndtype: int64"
     },
     "execution_count": 69,
     "metadata": {},
     "output_type": "execute_result"
    }
   ],
   "source": [
    "df.copy().isnull().sum()\n",
    "\n",
    "# available cabin data by pclass\n",
    "# df.groupby(\"pclass\")[\"cabin\"].apply(lambda x: (x.notna().sum())).reset_index(name=\"count\")"
   ],
   "metadata": {
    "collapsed": false,
    "pycharm": {
     "name": "#%%\n"
    }
   }
  },
  {
   "cell_type": "markdown",
   "source": [
    "We can see that `cabin` is missing a lot of values 1014 out of 1308. This means we can't use this column. If we were to fill the missing values with something calculated we would bias the data too much. Also we have other good options representing the same concept (`fare`, `pclass`).\n",
    "\n",
    "We can also see that we are missing a lot of values for `boat`, that's okay because the missing values means that they didn't make it to the boat. We can replace the missing values with a zero to represent the ones that didn't make it to the boat. Same case for `body`.\n",
    "\n",
    "Another conclusion we can take is that we are missing quite a few values for age, 263/1308. We will work around this by finding a way to replace the missing values with a value that make sense.\n",
    "\n",
    "We are also missing quite a few `home.dest` values, but we don't really have use for those.\n",
    "\n",
    "All in all, let's do the following:\n",
    "\n",
    "* Remove `cabin`\n",
    "* Remove `home.dest`\n",
    "* Replace `null` values in `boat` for a 0, other values for a 1\n",
    "* Replace `null` values in `body` for a 0, other values for a 1\n",
    "* Replace missing age values for the mean (later we will try to create a model for predicting the age)"
   ],
   "metadata": {
    "collapsed": false,
    "pycharm": {
     "name": "#%% md\n"
    }
   }
  },
  {
   "cell_type": "code",
   "execution_count": 70,
   "outputs": [
    {
     "data": {
      "text/plain": "      pclass  survived                                             name  \\\n0        1.0       1.0                    Allen, Miss. Elisabeth Walton   \n1        1.0       1.0                   Allison, Master. Hudson Trevor   \n2        1.0       0.0                     Allison, Miss. Helen Loraine   \n3        1.0       0.0             Allison, Mr. Hudson Joshua Creighton   \n4        1.0       0.0  Allison, Mrs. Hudson J C (Bessie Waldo Daniels)   \n...      ...       ...                                              ...   \n1301     3.0       0.0                             Youseff, Mr. Gerious   \n1304     3.0       0.0                             Zabour, Miss. Hileni   \n1306     3.0       0.0                        Zakarian, Mr. Mapriededer   \n1307     3.0       0.0                              Zakarian, Mr. Ortin   \n1308     3.0       0.0                               Zimmerman, Mr. Leo   \n\n         sex      age  sibsp  parch  ticket      fare embarked  boat  body  \n0     female  29.0000    0.0    0.0   24160  211.3375        S     1     0  \n1       male   0.9167    1.0    2.0  113781  151.5500        S     1     0  \n2     female   2.0000    1.0    2.0  113781  151.5500        S     0     0  \n3       male  30.0000    1.0    2.0  113781  151.5500        S     0     1  \n4     female  25.0000    1.0    2.0  113781  151.5500        S     0     0  \n...      ...      ...    ...    ...     ...       ...      ...   ...   ...  \n1301    male  45.5000    0.0    0.0    2628    7.2250        C     0     1  \n1304  female  14.5000    1.0    0.0    2665   14.4542        C     0     1  \n1306    male  26.5000    0.0    0.0    2656    7.2250        C     0     1  \n1307    male  27.0000    0.0    0.0    2670    7.2250        C     0     0  \n1308    male  29.0000    0.0    0.0  315082    7.8750        S     0     0  \n\n[1046 rows x 12 columns]",
      "text/html": "<div>\n<style scoped>\n    .dataframe tbody tr th:only-of-type {\n        vertical-align: middle;\n    }\n\n    .dataframe tbody tr th {\n        vertical-align: top;\n    }\n\n    .dataframe thead th {\n        text-align: right;\n    }\n</style>\n<table border=\"1\" class=\"dataframe\">\n  <thead>\n    <tr style=\"text-align: right;\">\n      <th></th>\n      <th>pclass</th>\n      <th>survived</th>\n      <th>name</th>\n      <th>sex</th>\n      <th>age</th>\n      <th>sibsp</th>\n      <th>parch</th>\n      <th>ticket</th>\n      <th>fare</th>\n      <th>embarked</th>\n      <th>boat</th>\n      <th>body</th>\n    </tr>\n  </thead>\n  <tbody>\n    <tr>\n      <th>0</th>\n      <td>1.0</td>\n      <td>1.0</td>\n      <td>Allen, Miss. Elisabeth Walton</td>\n      <td>female</td>\n      <td>29.0000</td>\n      <td>0.0</td>\n      <td>0.0</td>\n      <td>24160</td>\n      <td>211.3375</td>\n      <td>S</td>\n      <td>1</td>\n      <td>0</td>\n    </tr>\n    <tr>\n      <th>1</th>\n      <td>1.0</td>\n      <td>1.0</td>\n      <td>Allison, Master. Hudson Trevor</td>\n      <td>male</td>\n      <td>0.9167</td>\n      <td>1.0</td>\n      <td>2.0</td>\n      <td>113781</td>\n      <td>151.5500</td>\n      <td>S</td>\n      <td>1</td>\n      <td>0</td>\n    </tr>\n    <tr>\n      <th>2</th>\n      <td>1.0</td>\n      <td>0.0</td>\n      <td>Allison, Miss. Helen Loraine</td>\n      <td>female</td>\n      <td>2.0000</td>\n      <td>1.0</td>\n      <td>2.0</td>\n      <td>113781</td>\n      <td>151.5500</td>\n      <td>S</td>\n      <td>0</td>\n      <td>0</td>\n    </tr>\n    <tr>\n      <th>3</th>\n      <td>1.0</td>\n      <td>0.0</td>\n      <td>Allison, Mr. Hudson Joshua Creighton</td>\n      <td>male</td>\n      <td>30.0000</td>\n      <td>1.0</td>\n      <td>2.0</td>\n      <td>113781</td>\n      <td>151.5500</td>\n      <td>S</td>\n      <td>0</td>\n      <td>1</td>\n    </tr>\n    <tr>\n      <th>4</th>\n      <td>1.0</td>\n      <td>0.0</td>\n      <td>Allison, Mrs. Hudson J C (Bessie Waldo Daniels)</td>\n      <td>female</td>\n      <td>25.0000</td>\n      <td>1.0</td>\n      <td>2.0</td>\n      <td>113781</td>\n      <td>151.5500</td>\n      <td>S</td>\n      <td>0</td>\n      <td>0</td>\n    </tr>\n    <tr>\n      <th>...</th>\n      <td>...</td>\n      <td>...</td>\n      <td>...</td>\n      <td>...</td>\n      <td>...</td>\n      <td>...</td>\n      <td>...</td>\n      <td>...</td>\n      <td>...</td>\n      <td>...</td>\n      <td>...</td>\n      <td>...</td>\n    </tr>\n    <tr>\n      <th>1301</th>\n      <td>3.0</td>\n      <td>0.0</td>\n      <td>Youseff, Mr. Gerious</td>\n      <td>male</td>\n      <td>45.5000</td>\n      <td>0.0</td>\n      <td>0.0</td>\n      <td>2628</td>\n      <td>7.2250</td>\n      <td>C</td>\n      <td>0</td>\n      <td>1</td>\n    </tr>\n    <tr>\n      <th>1304</th>\n      <td>3.0</td>\n      <td>0.0</td>\n      <td>Zabour, Miss. Hileni</td>\n      <td>female</td>\n      <td>14.5000</td>\n      <td>1.0</td>\n      <td>0.0</td>\n      <td>2665</td>\n      <td>14.4542</td>\n      <td>C</td>\n      <td>0</td>\n      <td>1</td>\n    </tr>\n    <tr>\n      <th>1306</th>\n      <td>3.0</td>\n      <td>0.0</td>\n      <td>Zakarian, Mr. Mapriededer</td>\n      <td>male</td>\n      <td>26.5000</td>\n      <td>0.0</td>\n      <td>0.0</td>\n      <td>2656</td>\n      <td>7.2250</td>\n      <td>C</td>\n      <td>0</td>\n      <td>1</td>\n    </tr>\n    <tr>\n      <th>1307</th>\n      <td>3.0</td>\n      <td>0.0</td>\n      <td>Zakarian, Mr. Ortin</td>\n      <td>male</td>\n      <td>27.0000</td>\n      <td>0.0</td>\n      <td>0.0</td>\n      <td>2670</td>\n      <td>7.2250</td>\n      <td>C</td>\n      <td>0</td>\n      <td>0</td>\n    </tr>\n    <tr>\n      <th>1308</th>\n      <td>3.0</td>\n      <td>0.0</td>\n      <td>Zimmerman, Mr. Leo</td>\n      <td>male</td>\n      <td>29.0000</td>\n      <td>0.0</td>\n      <td>0.0</td>\n      <td>315082</td>\n      <td>7.8750</td>\n      <td>S</td>\n      <td>0</td>\n      <td>0</td>\n    </tr>\n  </tbody>\n</table>\n<p>1046 rows × 12 columns</p>\n</div>"
     },
     "execution_count": 70,
     "metadata": {},
     "output_type": "execute_result"
    }
   ],
   "source": [
    "from typing import Any\n",
    "\n",
    "# remove columns\n",
    "df = df.drop(\"home.dest\", axis=1)\n",
    "df = df.drop(\"cabin\", axis=1)\n",
    "\n",
    "def convert_to_binomial(value: Any) -> int:\n",
    "    if str(value) == str(np.nan):\n",
    "        return 0\n",
    "    return 1\n",
    "\n",
    "# convert to binomial\n",
    "df[\"boat\"] = df.boat.apply(convert_to_binomial)\n",
    "df[\"body\"] = df.body.apply(convert_to_binomial)\n",
    "\n",
    "\n",
    "\n",
    "# replace with mean\n",
    "#df[\"age\"] = df[\"age\"].fillna(df[\"age\"].mean())\n",
    "\n",
    "# remove rows without age value\n",
    "df.dropna(subset=[\"age\"], inplace=True)\n",
    "df.copy()"
   ],
   "metadata": {
    "collapsed": false,
    "pycharm": {
     "name": "#%%\n"
    }
   }
  },
  {
   "cell_type": "markdown",
   "source": [
    "Let's now remove a few columns we won't use:\n",
    "\n",
    "* Name: We don't need the name of the passenger for anything\n",
    "* Embarked: Were the passenger embarked shouldn't make a difference, they were divided in classes anyway\n",
    "* Ticket: Related to `fare` and `pclass`"
   ],
   "metadata": {
    "collapsed": false,
    "pycharm": {
     "name": "#%% md\n"
    }
   }
  },
  {
   "cell_type": "code",
   "execution_count": 71,
   "outputs": [
    {
     "data": {
      "text/plain": "      pclass  survived     sex      age  sibsp  parch      fare  boat  body\n0        1.0       1.0  female  29.0000    0.0    0.0  211.3375     1     0\n1        1.0       1.0    male   0.9167    1.0    2.0  151.5500     1     0\n2        1.0       0.0  female   2.0000    1.0    2.0  151.5500     0     0\n3        1.0       0.0    male  30.0000    1.0    2.0  151.5500     0     1\n4        1.0       0.0  female  25.0000    1.0    2.0  151.5500     0     0\n...      ...       ...     ...      ...    ...    ...       ...   ...   ...\n1301     3.0       0.0    male  45.5000    0.0    0.0    7.2250     0     1\n1304     3.0       0.0  female  14.5000    1.0    0.0   14.4542     0     1\n1306     3.0       0.0    male  26.5000    0.0    0.0    7.2250     0     1\n1307     3.0       0.0    male  27.0000    0.0    0.0    7.2250     0     0\n1308     3.0       0.0    male  29.0000    0.0    0.0    7.8750     0     0\n\n[1046 rows x 9 columns]",
      "text/html": "<div>\n<style scoped>\n    .dataframe tbody tr th:only-of-type {\n        vertical-align: middle;\n    }\n\n    .dataframe tbody tr th {\n        vertical-align: top;\n    }\n\n    .dataframe thead th {\n        text-align: right;\n    }\n</style>\n<table border=\"1\" class=\"dataframe\">\n  <thead>\n    <tr style=\"text-align: right;\">\n      <th></th>\n      <th>pclass</th>\n      <th>survived</th>\n      <th>sex</th>\n      <th>age</th>\n      <th>sibsp</th>\n      <th>parch</th>\n      <th>fare</th>\n      <th>boat</th>\n      <th>body</th>\n    </tr>\n  </thead>\n  <tbody>\n    <tr>\n      <th>0</th>\n      <td>1.0</td>\n      <td>1.0</td>\n      <td>female</td>\n      <td>29.0000</td>\n      <td>0.0</td>\n      <td>0.0</td>\n      <td>211.3375</td>\n      <td>1</td>\n      <td>0</td>\n    </tr>\n    <tr>\n      <th>1</th>\n      <td>1.0</td>\n      <td>1.0</td>\n      <td>male</td>\n      <td>0.9167</td>\n      <td>1.0</td>\n      <td>2.0</td>\n      <td>151.5500</td>\n      <td>1</td>\n      <td>0</td>\n    </tr>\n    <tr>\n      <th>2</th>\n      <td>1.0</td>\n      <td>0.0</td>\n      <td>female</td>\n      <td>2.0000</td>\n      <td>1.0</td>\n      <td>2.0</td>\n      <td>151.5500</td>\n      <td>0</td>\n      <td>0</td>\n    </tr>\n    <tr>\n      <th>3</th>\n      <td>1.0</td>\n      <td>0.0</td>\n      <td>male</td>\n      <td>30.0000</td>\n      <td>1.0</td>\n      <td>2.0</td>\n      <td>151.5500</td>\n      <td>0</td>\n      <td>1</td>\n    </tr>\n    <tr>\n      <th>4</th>\n      <td>1.0</td>\n      <td>0.0</td>\n      <td>female</td>\n      <td>25.0000</td>\n      <td>1.0</td>\n      <td>2.0</td>\n      <td>151.5500</td>\n      <td>0</td>\n      <td>0</td>\n    </tr>\n    <tr>\n      <th>...</th>\n      <td>...</td>\n      <td>...</td>\n      <td>...</td>\n      <td>...</td>\n      <td>...</td>\n      <td>...</td>\n      <td>...</td>\n      <td>...</td>\n      <td>...</td>\n    </tr>\n    <tr>\n      <th>1301</th>\n      <td>3.0</td>\n      <td>0.0</td>\n      <td>male</td>\n      <td>45.5000</td>\n      <td>0.0</td>\n      <td>0.0</td>\n      <td>7.2250</td>\n      <td>0</td>\n      <td>1</td>\n    </tr>\n    <tr>\n      <th>1304</th>\n      <td>3.0</td>\n      <td>0.0</td>\n      <td>female</td>\n      <td>14.5000</td>\n      <td>1.0</td>\n      <td>0.0</td>\n      <td>14.4542</td>\n      <td>0</td>\n      <td>1</td>\n    </tr>\n    <tr>\n      <th>1306</th>\n      <td>3.0</td>\n      <td>0.0</td>\n      <td>male</td>\n      <td>26.5000</td>\n      <td>0.0</td>\n      <td>0.0</td>\n      <td>7.2250</td>\n      <td>0</td>\n      <td>1</td>\n    </tr>\n    <tr>\n      <th>1307</th>\n      <td>3.0</td>\n      <td>0.0</td>\n      <td>male</td>\n      <td>27.0000</td>\n      <td>0.0</td>\n      <td>0.0</td>\n      <td>7.2250</td>\n      <td>0</td>\n      <td>0</td>\n    </tr>\n    <tr>\n      <th>1308</th>\n      <td>3.0</td>\n      <td>0.0</td>\n      <td>male</td>\n      <td>29.0000</td>\n      <td>0.0</td>\n      <td>0.0</td>\n      <td>7.8750</td>\n      <td>0</td>\n      <td>0</td>\n    </tr>\n  </tbody>\n</table>\n<p>1046 rows × 9 columns</p>\n</div>"
     },
     "execution_count": 71,
     "metadata": {},
     "output_type": "execute_result"
    }
   ],
   "source": [
    "df = df.drop(\"name\", axis=1)\n",
    "df = df.drop(\"embarked\", axis=1)\n",
    "df = df.drop(\"ticket\", axis=1)\n",
    "\n",
    "df.copy()"
   ],
   "metadata": {
    "collapsed": false,
    "pycharm": {
     "name": "#%%\n"
    }
   }
  },
  {
   "cell_type": "markdown",
   "source": [
    "By looking at the columns we can see that we have some data we need to encode, `sex` and `pclass`. For encoding we will use one hot"
   ],
   "metadata": {
    "collapsed": false,
    "pycharm": {
     "name": "#%% md\n"
    }
   }
  },
  {
   "cell_type": "code",
   "execution_count": 72,
   "outputs": [
    {
     "name": "stderr",
     "output_type": "stream",
     "text": [
      "/home/npg/.cache/pypoetry/virtualenvs/mlucu-FtCk9vg6-py3.8/lib/python3.8/site-packages/category_encoders/utils.py:21: FutureWarning: is_categorical is deprecated and will be removed in a future version.  Use is_categorical_dtype instead\n",
      "  elif pd.api.types.is_categorical(cols):\n"
     ]
    },
    {
     "data": {
      "text/plain": "        pclass  survived       sex      age  sibsp  parch      fare  boat  \\\n0     0.637324       1.0  0.752577  29.0000    0.0    0.0  211.3375     1   \n1     0.637324       1.0  0.205167   0.9167    1.0    2.0  151.5500     1   \n2     0.637324       0.0  0.752577   2.0000    1.0    2.0  151.5500     0   \n3     0.637324       0.0  0.205167  30.0000    1.0    2.0  151.5500     0   \n4     0.637324       0.0  0.752577  25.0000    1.0    2.0  151.5500     0   \n...        ...       ...       ...      ...    ...    ...       ...   ...   \n1301  0.261477       0.0  0.205167  45.5000    0.0    0.0    7.2250     0   \n1304  0.261477       0.0  0.752577  14.5000    1.0    0.0   14.4542     0   \n1306  0.261477       0.0  0.205167  26.5000    0.0    0.0    7.2250     0   \n1307  0.261477       0.0  0.205167  27.0000    0.0    0.0    7.2250     0   \n1308  0.261477       0.0  0.205167  29.0000    0.0    0.0    7.8750     0   \n\n      body  \n0        0  \n1        0  \n2        0  \n3        1  \n4        0  \n...    ...  \n1301     1  \n1304     1  \n1306     1  \n1307     0  \n1308     0  \n\n[1046 rows x 9 columns]",
      "text/html": "<div>\n<style scoped>\n    .dataframe tbody tr th:only-of-type {\n        vertical-align: middle;\n    }\n\n    .dataframe tbody tr th {\n        vertical-align: top;\n    }\n\n    .dataframe thead th {\n        text-align: right;\n    }\n</style>\n<table border=\"1\" class=\"dataframe\">\n  <thead>\n    <tr style=\"text-align: right;\">\n      <th></th>\n      <th>pclass</th>\n      <th>survived</th>\n      <th>sex</th>\n      <th>age</th>\n      <th>sibsp</th>\n      <th>parch</th>\n      <th>fare</th>\n      <th>boat</th>\n      <th>body</th>\n    </tr>\n  </thead>\n  <tbody>\n    <tr>\n      <th>0</th>\n      <td>0.637324</td>\n      <td>1.0</td>\n      <td>0.752577</td>\n      <td>29.0000</td>\n      <td>0.0</td>\n      <td>0.0</td>\n      <td>211.3375</td>\n      <td>1</td>\n      <td>0</td>\n    </tr>\n    <tr>\n      <th>1</th>\n      <td>0.637324</td>\n      <td>1.0</td>\n      <td>0.205167</td>\n      <td>0.9167</td>\n      <td>1.0</td>\n      <td>2.0</td>\n      <td>151.5500</td>\n      <td>1</td>\n      <td>0</td>\n    </tr>\n    <tr>\n      <th>2</th>\n      <td>0.637324</td>\n      <td>0.0</td>\n      <td>0.752577</td>\n      <td>2.0000</td>\n      <td>1.0</td>\n      <td>2.0</td>\n      <td>151.5500</td>\n      <td>0</td>\n      <td>0</td>\n    </tr>\n    <tr>\n      <th>3</th>\n      <td>0.637324</td>\n      <td>0.0</td>\n      <td>0.205167</td>\n      <td>30.0000</td>\n      <td>1.0</td>\n      <td>2.0</td>\n      <td>151.5500</td>\n      <td>0</td>\n      <td>1</td>\n    </tr>\n    <tr>\n      <th>4</th>\n      <td>0.637324</td>\n      <td>0.0</td>\n      <td>0.752577</td>\n      <td>25.0000</td>\n      <td>1.0</td>\n      <td>2.0</td>\n      <td>151.5500</td>\n      <td>0</td>\n      <td>0</td>\n    </tr>\n    <tr>\n      <th>...</th>\n      <td>...</td>\n      <td>...</td>\n      <td>...</td>\n      <td>...</td>\n      <td>...</td>\n      <td>...</td>\n      <td>...</td>\n      <td>...</td>\n      <td>...</td>\n    </tr>\n    <tr>\n      <th>1301</th>\n      <td>0.261477</td>\n      <td>0.0</td>\n      <td>0.205167</td>\n      <td>45.5000</td>\n      <td>0.0</td>\n      <td>0.0</td>\n      <td>7.2250</td>\n      <td>0</td>\n      <td>1</td>\n    </tr>\n    <tr>\n      <th>1304</th>\n      <td>0.261477</td>\n      <td>0.0</td>\n      <td>0.752577</td>\n      <td>14.5000</td>\n      <td>1.0</td>\n      <td>0.0</td>\n      <td>14.4542</td>\n      <td>0</td>\n      <td>1</td>\n    </tr>\n    <tr>\n      <th>1306</th>\n      <td>0.261477</td>\n      <td>0.0</td>\n      <td>0.205167</td>\n      <td>26.5000</td>\n      <td>0.0</td>\n      <td>0.0</td>\n      <td>7.2250</td>\n      <td>0</td>\n      <td>1</td>\n    </tr>\n    <tr>\n      <th>1307</th>\n      <td>0.261477</td>\n      <td>0.0</td>\n      <td>0.205167</td>\n      <td>27.0000</td>\n      <td>0.0</td>\n      <td>0.0</td>\n      <td>7.2250</td>\n      <td>0</td>\n      <td>0</td>\n    </tr>\n    <tr>\n      <th>1308</th>\n      <td>0.261477</td>\n      <td>0.0</td>\n      <td>0.205167</td>\n      <td>29.0000</td>\n      <td>0.0</td>\n      <td>0.0</td>\n      <td>7.8750</td>\n      <td>0</td>\n      <td>0</td>\n    </tr>\n  </tbody>\n</table>\n<p>1046 rows × 9 columns</p>\n</div>"
     },
     "execution_count": 72,
     "metadata": {},
     "output_type": "execute_result"
    }
   ],
   "source": [
    "from category_encoders import TargetEncoder\n",
    "\n",
    "# encode sex\n",
    "ndf = TargetEncoder().fit_transform(df['sex'], df[\"survived\"])\n",
    "df[\"sex\"] = ndf\n",
    "\n",
    "# convert pclass to str and encode\n",
    "df['pclass'] = df['pclass'].astype(str)\n",
    "ndf = TargetEncoder().fit_transform(df[\"pclass\"], df[\"survived\"])\n",
    "df[\"pclass\"] = ndf\n",
    "df.copy()"
   ],
   "metadata": {
    "collapsed": false,
    "pycharm": {
     "name": "#%%\n"
    }
   }
  },
  {
   "cell_type": "markdown",
   "source": [
    "Let's try to run the correlation matrix and see how does the values we want to use correlate to each other:"
   ],
   "metadata": {
    "collapsed": false
   }
  },
  {
   "cell_type": "code",
   "execution_count": 73,
   "outputs": [
    {
     "data": {
      "text/plain": "<Figure size 288x288 with 2 Axes>",
      "image/png": "[encoded data removed]"
     },
     "metadata": {
      "needs_background": "light"
     },
     "output_type": "display_data"
    },
    {
     "data": {
      "text/plain": "            pclass  survived       sex       age     sibsp     parch  \\\npclass    1.000000  0.320578  0.144468  0.409752 -0.046069 -0.016783   \nsurvived  0.320578  1.000000  0.538000 -0.055513 -0.012213  0.114438   \nsex       0.144468  0.538000  1.000000 -0.063646  0.095267  0.221144   \nage       0.409752 -0.055513 -0.063646  1.000000 -0.243699 -0.150917   \nsibsp    -0.046069 -0.012213  0.095267 -0.243699  1.000000  0.374456   \nparch    -0.016783  0.114438  0.221144 -0.150917  0.374456  1.000000   \nfare      0.570737  0.249164  0.187930  0.178739  0.141184  0.216723   \nboat      0.324456  0.952526  0.490388 -0.053176 -0.012199  0.120011   \nbody      0.020914 -0.298988 -0.226750  0.159975 -0.060358 -0.058893   \n\n              fare      boat      body  \npclass    0.570737  0.324456  0.020914  \nsurvived  0.249164  0.952526 -0.298988  \nsex       0.187930  0.490388 -0.226750  \nage       0.178739 -0.053176  0.159975  \nsibsp     0.141184 -0.012199 -0.060358  \nparch     0.216723  0.120011 -0.058893  \nfare      1.000000  0.255313 -0.028635  \nboat      0.255313  1.000000 -0.293108  \nbody     -0.028635 -0.293108  1.000000  ",
      "text/html": "<div>\n<style scoped>\n    .dataframe tbody tr th:only-of-type {\n        vertical-align: middle;\n    }\n\n    .dataframe tbody tr th {\n        vertical-align: top;\n    }\n\n    .dataframe thead th {\n        text-align: right;\n    }\n</style>\n<table border=\"1\" class=\"dataframe\">\n  <thead>\n    <tr style=\"text-align: right;\">\n      <th></th>\n      <th>pclass</th>\n      <th>survived</th>\n      <th>sex</th>\n      <th>age</th>\n      <th>sibsp</th>\n      <th>parch</th>\n      <th>fare</th>\n      <th>boat</th>\n      <th>body</th>\n    </tr>\n  </thead>\n  <tbody>\n    <tr>\n      <th>pclass</th>\n      <td>1.000000</td>\n      <td>0.320578</td>\n      <td>0.144468</td>\n      <td>0.409752</td>\n      <td>-0.046069</td>\n      <td>-0.016783</td>\n      <td>0.570737</td>\n      <td>0.324456</td>\n      <td>0.020914</td>\n    </tr>\n    <tr>\n      <th>survived</th>\n      <td>0.320578</td>\n      <td>1.000000</td>\n      <td>0.538000</td>\n      <td>-0.055513</td>\n      <td>-0.012213</td>\n      <td>0.114438</td>\n      <td>0.249164</td>\n      <td>0.952526</td>\n      <td>-0.298988</td>\n    </tr>\n    <tr>\n      <th>sex</th>\n      <td>0.144468</td>\n      <td>0.538000</td>\n      <td>1.000000</td>\n      <td>-0.063646</td>\n      <td>0.095267</td>\n      <td>0.221144</td>\n      <td>0.187930</td>\n      <td>0.490388</td>\n      <td>-0.226750</td>\n    </tr>\n    <tr>\n      <th>age</th>\n      <td>0.409752</td>\n      <td>-0.055513</td>\n      <td>-0.063646</td>\n      <td>1.000000</td>\n      <td>-0.243699</td>\n      <td>-0.150917</td>\n      <td>0.178739</td>\n      <td>-0.053176</td>\n      <td>0.159975</td>\n    </tr>\n    <tr>\n      <th>sibsp</th>\n      <td>-0.046069</td>\n      <td>-0.012213</td>\n      <td>0.095267</td>\n      <td>-0.243699</td>\n      <td>1.000000</td>\n      <td>0.374456</td>\n      <td>0.141184</td>\n      <td>-0.012199</td>\n      <td>-0.060358</td>\n    </tr>\n    <tr>\n      <th>parch</th>\n      <td>-0.016783</td>\n      <td>0.114438</td>\n      <td>0.221144</td>\n      <td>-0.150917</td>\n      <td>0.374456</td>\n      <td>1.000000</td>\n      <td>0.216723</td>\n      <td>0.120011</td>\n      <td>-0.058893</td>\n    </tr>\n    <tr>\n      <th>fare</th>\n      <td>0.570737</td>\n      <td>0.249164</td>\n      <td>0.187930</td>\n      <td>0.178739</td>\n      <td>0.141184</td>\n      <td>0.216723</td>\n      <td>1.000000</td>\n      <td>0.255313</td>\n      <td>-0.028635</td>\n    </tr>\n    <tr>\n      <th>boat</th>\n      <td>0.324456</td>\n      <td>0.952526</td>\n      <td>0.490388</td>\n      <td>-0.053176</td>\n      <td>-0.012199</td>\n      <td>0.120011</td>\n      <td>0.255313</td>\n      <td>1.000000</td>\n      <td>-0.293108</td>\n    </tr>\n    <tr>\n      <th>body</th>\n      <td>0.020914</td>\n      <td>-0.298988</td>\n      <td>-0.226750</td>\n      <td>0.159975</td>\n      <td>-0.060358</td>\n      <td>-0.058893</td>\n      <td>-0.028635</td>\n      <td>-0.293108</td>\n      <td>1.000000</td>\n    </tr>\n  </tbody>\n</table>\n</div>"
     },
     "execution_count": 73,
     "metadata": {},
     "output_type": "execute_result"
    }
   ],
   "source": [
    "import matplotlib.pyplot as plt\n",
    "\n",
    "# plot heatmap\n",
    "plt.matshow(df.corr())\n",
    "cb = plt.colorbar()\n",
    "plt.show()\n",
    "\n",
    "# show numerical values\n",
    "df.corr()"
   ],
   "metadata": {
    "collapsed": false,
    "pycharm": {
     "name": "#%%\n"
    }
   }
  },
  {
   "cell_type": "markdown",
   "source": [
    "After taking a look at the chart and the matrix, we can find a correlation between `fare` and `pclass` (around 0.5), between `body` and `survived` and . That tells us that we should remove one of those. The more representative one is `pclass` which tell us in which class the passenger was traveling, so let's keep that one and remove `fare`. We also see high correlations among `survived`, `body` and `boat`, so we will remove those as well."
   ],
   "metadata": {
    "collapsed": false,
    "pycharm": {
     "name": "#%% md\n"
    }
   }
  },
  {
   "cell_type": "code",
   "execution_count": 74,
   "outputs": [
    {
     "data": {
      "text/plain": "        pclass  survived       sex      age  sibsp  parch\n0     0.637324       1.0  0.752577  29.0000    0.0    0.0\n1     0.637324       1.0  0.205167   0.9167    1.0    2.0\n2     0.637324       0.0  0.752577   2.0000    1.0    2.0\n3     0.637324       0.0  0.205167  30.0000    1.0    2.0\n4     0.637324       0.0  0.752577  25.0000    1.0    2.0\n...        ...       ...       ...      ...    ...    ...\n1301  0.261477       0.0  0.205167  45.5000    0.0    0.0\n1304  0.261477       0.0  0.752577  14.5000    1.0    0.0\n1306  0.261477       0.0  0.205167  26.5000    0.0    0.0\n1307  0.261477       0.0  0.205167  27.0000    0.0    0.0\n1308  0.261477       0.0  0.205167  29.0000    0.0    0.0\n\n[1046 rows x 6 columns]",
      "text/html": "<div>\n<style scoped>\n    .dataframe tbody tr th:only-of-type {\n        vertical-align: middle;\n    }\n\n    .dataframe tbody tr th {\n        vertical-align: top;\n    }\n\n    .dataframe thead th {\n        text-align: right;\n    }\n</style>\n<table border=\"1\" class=\"dataframe\">\n  <thead>\n    <tr style=\"text-align: right;\">\n      <th></th>\n      <th>pclass</th>\n      <th>survived</th>\n      <th>sex</th>\n      <th>age</th>\n      <th>sibsp</th>\n      <th>parch</th>\n    </tr>\n  </thead>\n  <tbody>\n    <tr>\n      <th>0</th>\n      <td>0.637324</td>\n      <td>1.0</td>\n      <td>0.752577</td>\n      <td>29.0000</td>\n      <td>0.0</td>\n      <td>0.0</td>\n    </tr>\n    <tr>\n      <th>1</th>\n      <td>0.637324</td>\n      <td>1.0</td>\n      <td>0.205167</td>\n      <td>0.9167</td>\n      <td>1.0</td>\n      <td>2.0</td>\n    </tr>\n    <tr>\n      <th>2</th>\n      <td>0.637324</td>\n      <td>0.0</td>\n      <td>0.752577</td>\n      <td>2.0000</td>\n      <td>1.0</td>\n      <td>2.0</td>\n    </tr>\n    <tr>\n      <th>3</th>\n      <td>0.637324</td>\n      <td>0.0</td>\n      <td>0.205167</td>\n      <td>30.0000</td>\n      <td>1.0</td>\n      <td>2.0</td>\n    </tr>\n    <tr>\n      <th>4</th>\n      <td>0.637324</td>\n      <td>0.0</td>\n      <td>0.752577</td>\n      <td>25.0000</td>\n      <td>1.0</td>\n      <td>2.0</td>\n    </tr>\n    <tr>\n      <th>...</th>\n      <td>...</td>\n      <td>...</td>\n      <td>...</td>\n      <td>...</td>\n      <td>...</td>\n      <td>...</td>\n    </tr>\n    <tr>\n      <th>1301</th>\n      <td>0.261477</td>\n      <td>0.0</td>\n      <td>0.205167</td>\n      <td>45.5000</td>\n      <td>0.0</td>\n      <td>0.0</td>\n    </tr>\n    <tr>\n      <th>1304</th>\n      <td>0.261477</td>\n      <td>0.0</td>\n      <td>0.752577</td>\n      <td>14.5000</td>\n      <td>1.0</td>\n      <td>0.0</td>\n    </tr>\n    <tr>\n      <th>1306</th>\n      <td>0.261477</td>\n      <td>0.0</td>\n      <td>0.205167</td>\n      <td>26.5000</td>\n      <td>0.0</td>\n      <td>0.0</td>\n    </tr>\n    <tr>\n      <th>1307</th>\n      <td>0.261477</td>\n      <td>0.0</td>\n      <td>0.205167</td>\n      <td>27.0000</td>\n      <td>0.0</td>\n      <td>0.0</td>\n    </tr>\n    <tr>\n      <th>1308</th>\n      <td>0.261477</td>\n      <td>0.0</td>\n      <td>0.205167</td>\n      <td>29.0000</td>\n      <td>0.0</td>\n      <td>0.0</td>\n    </tr>\n  </tbody>\n</table>\n<p>1046 rows × 6 columns</p>\n</div>"
     },
     "execution_count": 74,
     "metadata": {},
     "output_type": "execute_result"
    }
   ],
   "source": [
    "# drop columns\n",
    "df = df.drop(\"fare\", axis=1)\n",
    "df = df.drop(\"body\", axis=1)\n",
    "df = df.drop(\"boat\", axis=1)\n",
    "df.copy()"
   ],
   "metadata": {
    "collapsed": false,
    "pycharm": {
     "name": "#%%\n"
    }
   }
  },
  {
   "cell_type": "markdown",
   "source": [
    "Now we will normalize the numerical data."
   ],
   "metadata": {
    "collapsed": false,
    "pycharm": {
     "name": "#%% md\n"
    }
   }
  },
  {
   "cell_type": "code",
   "execution_count": 75,
   "outputs": [
    {
     "data": {
      "text/plain": "        pclass  survived       sex       age     sibsp     parch\n0     0.637324       1.0  0.752577 -0.061133 -0.551289 -0.500923\n1     0.637324       1.0  0.205167 -2.009535  0.545001  1.880737\n2     0.637324       0.0  0.752577 -1.934376  0.545001  1.880737\n3     0.637324       0.0  0.205167  0.008247  0.545001  1.880737\n4     0.637324       0.0  0.752577 -0.338650  0.545001  1.880737\n...        ...       ...       ...       ...       ...       ...\n1301  0.261477       0.0  0.205167  1.083628 -0.551289 -0.500923\n1304  0.261477       0.0  0.752577 -1.067134  0.545001 -0.500923\n1306  0.261477       0.0  0.205167 -0.234581 -0.551289 -0.500923\n1307  0.261477       0.0  0.205167 -0.199891 -0.551289 -0.500923\n1308  0.261477       0.0  0.205167 -0.061133 -0.551289 -0.500923\n\n[1046 rows x 6 columns]",
      "text/html": "<div>\n<style scoped>\n    .dataframe tbody tr th:only-of-type {\n        vertical-align: middle;\n    }\n\n    .dataframe tbody tr th {\n        vertical-align: top;\n    }\n\n    .dataframe thead th {\n        text-align: right;\n    }\n</style>\n<table border=\"1\" class=\"dataframe\">\n  <thead>\n    <tr style=\"text-align: right;\">\n      <th></th>\n      <th>pclass</th>\n      <th>survived</th>\n      <th>sex</th>\n      <th>age</th>\n      <th>sibsp</th>\n      <th>parch</th>\n    </tr>\n  </thead>\n  <tbody>\n    <tr>\n      <th>0</th>\n      <td>0.637324</td>\n      <td>1.0</td>\n      <td>0.752577</td>\n      <td>-0.061133</td>\n      <td>-0.551289</td>\n      <td>-0.500923</td>\n    </tr>\n    <tr>\n      <th>1</th>\n      <td>0.637324</td>\n      <td>1.0</td>\n      <td>0.205167</td>\n      <td>-2.009535</td>\n      <td>0.545001</td>\n      <td>1.880737</td>\n    </tr>\n    <tr>\n      <th>2</th>\n      <td>0.637324</td>\n      <td>0.0</td>\n      <td>0.752577</td>\n      <td>-1.934376</td>\n      <td>0.545001</td>\n      <td>1.880737</td>\n    </tr>\n    <tr>\n      <th>3</th>\n      <td>0.637324</td>\n      <td>0.0</td>\n      <td>0.205167</td>\n      <td>0.008247</td>\n      <td>0.545001</td>\n      <td>1.880737</td>\n    </tr>\n    <tr>\n      <th>4</th>\n      <td>0.637324</td>\n      <td>0.0</td>\n      <td>0.752577</td>\n      <td>-0.338650</td>\n      <td>0.545001</td>\n      <td>1.880737</td>\n    </tr>\n    <tr>\n      <th>...</th>\n      <td>...</td>\n      <td>...</td>\n      <td>...</td>\n      <td>...</td>\n      <td>...</td>\n      <td>...</td>\n    </tr>\n    <tr>\n      <th>1301</th>\n      <td>0.261477</td>\n      <td>0.0</td>\n      <td>0.205167</td>\n      <td>1.083628</td>\n      <td>-0.551289</td>\n      <td>-0.500923</td>\n    </tr>\n    <tr>\n      <th>1304</th>\n      <td>0.261477</td>\n      <td>0.0</td>\n      <td>0.752577</td>\n      <td>-1.067134</td>\n      <td>0.545001</td>\n      <td>-0.500923</td>\n    </tr>\n    <tr>\n      <th>1306</th>\n      <td>0.261477</td>\n      <td>0.0</td>\n      <td>0.205167</td>\n      <td>-0.234581</td>\n      <td>-0.551289</td>\n      <td>-0.500923</td>\n    </tr>\n    <tr>\n      <th>1307</th>\n      <td>0.261477</td>\n      <td>0.0</td>\n      <td>0.205167</td>\n      <td>-0.199891</td>\n      <td>-0.551289</td>\n      <td>-0.500923</td>\n    </tr>\n    <tr>\n      <th>1308</th>\n      <td>0.261477</td>\n      <td>0.0</td>\n      <td>0.205167</td>\n      <td>-0.061133</td>\n      <td>-0.551289</td>\n      <td>-0.500923</td>\n    </tr>\n  </tbody>\n</table>\n<p>1046 rows × 6 columns</p>\n</div>"
     },
     "execution_count": 75,
     "metadata": {},
     "output_type": "execute_result"
    }
   ],
   "source": [
    "# normalize age by mean\n",
    "df[\"age\"] = (df[\"age\"] - df[\"age\"].mean()) / df[\"age\"].std()\n",
    "df[\"sibsp\"] = (df[\"sibsp\"] - df[\"sibsp\"].mean()) / df[\"sibsp\"].std()\n",
    "df[\"parch\"] = (df[\"parch\"] - df[\"parch\"].mean()) / df[\"parch\"].std()\n",
    "\n",
    "df.copy()"
   ],
   "metadata": {
    "collapsed": false,
    "pycharm": {
     "name": "#%%\n"
    }
   }
  },
  {
   "cell_type": "markdown",
   "source": [
    "With this data we can now train our model. Initially we will use random forest."
   ],
   "metadata": {
    "collapsed": false,
    "pycharm": {
     "name": "#%% md\n"
    }
   }
  },
  {
   "cell_type": "code",
   "execution_count": 76,
   "outputs": [],
   "source": [
    "from sklearn.model_selection import train_test_split\n",
    "from sklearn.ensemble import RandomForestClassifier\n",
    "\n",
    "# split data for train and test\n",
    "training_data, testing_data = train_test_split(df, test_size=0.2, random_state=25)\n",
    "\n",
    "# split into features and labels\n",
    "training_features = training_data.copy()\n",
    "training_features = training_features.drop(\"survived\", axis=1)\n",
    "training_labels = training_data[\"survived\"]\n",
    "\n",
    "# split into features and labels\n",
    "testing_features = pd.DataFrame(testing_data.copy())\n",
    "testing_features = testing_features.drop(\"survived\", axis=1)\n",
    "testing_labels = pd.DataFrame(testing_data[\"survived\"])"
   ],
   "metadata": {
    "collapsed": false,
    "pycharm": {
     "name": "#%%\n"
    }
   }
  },
  {
   "cell_type": "markdown",
   "source": [
    "Now, let's try to get a better performance by tuning the RandomForest parameters."
   ],
   "metadata": {
    "collapsed": false,
    "pycharm": {
     "name": "#%% md\n"
    }
   }
  },
  {
   "cell_type": "code",
   "execution_count": 77,
   "outputs": [
    {
     "name": "stdout",
     "output_type": "stream",
     "text": [
      "Fitting 3 folds for each of 100 candidates, totalling 300 fits\n"
     ]
    },
    {
     "data": {
      "text/plain": "{'n_estimators': 2000,\n 'min_samples_split': 2,\n 'min_samples_leaf': 2,\n 'max_features': 'auto',\n 'max_depth': 90,\n 'bootstrap': True}"
     },
     "execution_count": 77,
     "metadata": {},
     "output_type": "execute_result"
    }
   ],
   "source": [
    "from sklearn.model_selection import RandomizedSearchCV\n",
    "\n",
    "# Number of trees in random forest\n",
    "n_estimators = [int(x) for x in np.linspace(start=200, stop=2000, num=10)]\n",
    "\n",
    "# Number of features to consider at every split\n",
    "max_features = ['auto', 'sqrt']\n",
    "\n",
    "# Maximum number of levels in tree\n",
    "max_depth = [int(x) for x in np.linspace(10, 110, num = 11)]\n",
    "max_depth.append(None)\n",
    "\n",
    "# Minimum number of samples required to split a node\n",
    "min_samples_split = [2, 5, 10]\n",
    "\n",
    "# Minimum number of samples required at each leaf node\n",
    "min_samples_leaf = [1, 2, 4]\n",
    "\n",
    "# Method of selecting samples for training each tree\n",
    "bootstrap = [True, False]\n",
    "\n",
    "# Create the random grid\n",
    "random_grid = {\n",
    "    'n_estimators': n_estimators,\n",
    "    'max_features': max_features,\n",
    "    'max_depth': max_depth,\n",
    "    'min_samples_split': min_samples_split,\n",
    "    'min_samples_leaf': min_samples_leaf,\n",
    "    'bootstrap': bootstrap\n",
    "}\n",
    "\n",
    "# Use the random grid to search for best hyperparameters\n",
    "# First create the base model to tune\n",
    "rf = RandomForestClassifier()\n",
    "\n",
    "# Random search of parameters, using 3 fold cross validation,\n",
    "# search across 100 different combinations, and use all available cores\n",
    "rf_random = RandomizedSearchCV(\n",
    "    estimator=rf,\n",
    "    param_distributions=random_grid,\n",
    "    n_iter=100,\n",
    "    cv=3,\n",
    "    verbose=2,\n",
    "    random_state=42,\n",
    "    n_jobs=-1\n",
    ")\n",
    "\n",
    "# Fit the random search model\n",
    "# rf_random.fit(training_features, training_labels)\n",
    "# rf_random.best_params_"
   ],
   "metadata": {
    "collapsed": false,
    "pycharm": {
     "name": "#%%\n"
    }
   }
  },
  {
   "cell_type": "markdown",
   "source": [
    "Now that we know the range of values we can use, we can optimize them using grid search.\n"
   ],
   "metadata": {
    "collapsed": false,
    "pycharm": {
     "name": "#%% md\n"
    }
   }
  },
  {
   "cell_type": "code",
   "execution_count": 78,
   "outputs": [],
   "source": [
    "from sklearn.model_selection import GridSearchCV\n",
    "\n",
    "# Create the parameter grid based on the results of random search\n",
    "param_grid = {\n",
    "    'bootstrap': [True],\n",
    "    'max_depth': [x for x in range(7, 20, 3)],\n",
    "    'max_features': [\"sqrt\", \"log2\"],\n",
    "    'min_samples_leaf': [x for x in range(1, 5)],\n",
    "    'min_samples_split': [x for x in range(6, 30, 2)],\n",
    "    'n_estimators': [x for x in range(1000, 3000, 500)]\n",
    "}\n",
    "\n",
    "# Create a based model\n",
    "rf = RandomForestClassifier()\n",
    "\n",
    "# Instantiate the grid search model\n",
    "grid_search = GridSearchCV(\n",
    "    estimator=rf,\n",
    "    param_grid=param_grid,\n",
    "    cv=3,\n",
    "    n_jobs=-1,\n",
    "    verbose=2\n",
    ")\n",
    "\n",
    "# Fit the grid search to the data\n",
    "# grid_search.fit(training_features, training_labels)\n",
    "# grid_search.best_params_"
   ],
   "metadata": {
    "collapsed": false,
    "pycharm": {
     "name": "#%%\n"
    }
   }
  },
  {
   "cell_type": "code",
   "execution_count": 79,
   "outputs": [
    {
     "name": "stdout",
     "output_type": "stream",
     "text": [
      "Train Performance: 0.8301435406698564\n",
      "Test Performance: 0.819047619047619\n"
     ]
    }
   ],
   "source": [
    "params = {\n",
    "    'bootstrap': True,\n",
    "    'max_depth': 10,\n",
    "    'max_features': 'sqrt',\n",
    "    'min_samples_leaf': 4,\n",
    "    'min_samples_split': 30,\n",
    "    'n_estimators': 1700\n",
    "}\n",
    "\n",
    "# Instantiate model and fit training data\n",
    "rf = RandomForestClassifier(**params)\n",
    "\n",
    "# Train the model on training data\n",
    "rf.fit(training_features, training_labels)\n",
    "\n",
    "def check_result_match(row) -> int:\n",
    "    expected = int(row[\"expected\"])\n",
    "    predicted = int(row[\"prediction\"])\n",
    "    return int(expected == predicted)\n",
    "\n",
    "# predict train data\n",
    "predictions = pd.DataFrame(rf.predict(training_features), columns=[\"prediction\"])\n",
    "predictions[\"expected\"] = pd.DataFrame(training_labels)[\"survived\"].values\n",
    "predictions[\"match\"] = predictions.apply(lambda row: check_result_match(row), axis=1)\n",
    "performance = len(predictions.loc[predictions['match'] == 1]) / len(predictions)\n",
    "print(\"Train Performance:\", performance)\n",
    "\n",
    "# predict test data\n",
    "predictions = pd.DataFrame(rf.predict(testing_features), columns=[\"prediction\"])\n",
    "predictions[\"expected\"] = testing_labels[\"survived\"].values\n",
    "predictions[\"match\"] = predictions.apply(lambda row: check_result_match(row), axis=1)\n",
    "performance = len(predictions.loc[predictions['match'] == 1]) / len(predictions)\n",
    "print(\"Test Performance:\", performance)"
   ],
   "metadata": {
    "collapsed": false,
    "pycharm": {
     "name": "#%%\n"
    }
   }
  }
 ],
 "metadata": {
  "kernelspec": {
   "display_name": "Python 3",
   "language": "python",
   "name": "python3"
  },
  "language_info": {
   "codemirror_mode": {
    "name": "ipython",
    "version": 2
   },
   "file_extension": ".py",
   "mimetype": "text/x-python",
   "name": "python",
   "nbconvert_exporter": "python",
   "pygments_lexer": "ipython2",
   "version": "2.7.6"
  }
 },
 "nbformat": 4,
 "nbformat_minor": 0
}