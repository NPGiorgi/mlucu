{
 "cells": [
  {
   "cell_type": "code",
   "execution_count": 2,
   "metadata": {
    "collapsed": true
   },
   "outputs": [],
   "source": [
    "# avoid SSL errors\n",
    "import ssl\n",
    "ssl._create_default_https_context = ssl._create_unverified_context"
   ]
  },
  {
   "cell_type": "markdown",
   "source": [
    "Read dataset and show."
   ],
   "metadata": {
    "collapsed": false,
    "pycharm": {
     "name": "#%% md\n"
    }
   }
  },
  {
   "cell_type": "code",
   "execution_count": 3,
   "outputs": [
    {
     "data": {
      "text/plain": "     Cultivar  Alcohol  Malic acid   Ash  Alcalinity of ash  Magnesium  \\\n0           1    14.23        1.71  2.43               15.6        127   \n1           1    13.20        1.78  2.14               11.2        100   \n2           1    13.16        2.36  2.67               18.6        101   \n3           1    14.37        1.95  2.50               16.8        113   \n4           1    13.24        2.59  2.87               21.0        118   \n..        ...      ...         ...   ...                ...        ...   \n173         3    13.71        5.65  2.45               20.5         95   \n174         3    13.40        3.91  2.48               23.0        102   \n175         3    13.27        4.28  2.26               20.0        120   \n176         3    13.17        2.59  2.37               20.0        120   \n177         3    14.13        4.10  2.74               24.5         96   \n\n     Total phenols  Flavanoids  Nonflavanoid phenols  Proanthocyanins  \\\n0             2.80        3.06                  0.28             2.29   \n1             2.65        2.76                  0.26             1.28   \n2             2.80        3.24                  0.30             2.81   \n3             3.85        3.49                  0.24             2.18   \n4             2.80        2.69                  0.39             1.82   \n..             ...         ...                   ...              ...   \n173           1.68        0.61                  0.52             1.06   \n174           1.80        0.75                  0.43             1.41   \n175           1.59        0.69                  0.43             1.35   \n176           1.65        0.68                  0.53             1.46   \n177           2.05        0.76                  0.56             1.35   \n\n     Color intensity   Hue  OD280/OD315 of diluted wines  Proline  \n0               5.64  1.04                          3.92     1065  \n1               4.38  1.05                          3.40     1050  \n2               5.68  1.03                          3.17     1185  \n3               7.80  0.86                          3.45     1480  \n4               4.32  1.04                          2.93      735  \n..               ...   ...                           ...      ...  \n173             7.70  0.64                          1.74      740  \n174             7.30  0.70                          1.56      750  \n175            10.20  0.59                          1.56      835  \n176             9.30  0.60                          1.62      840  \n177             9.20  0.61                          1.60      560  \n\n[178 rows x 14 columns]",
      "text/html": "<div>\n<style scoped>\n    .dataframe tbody tr th:only-of-type {\n        vertical-align: middle;\n    }\n\n    .dataframe tbody tr th {\n        vertical-align: top;\n    }\n\n    .dataframe thead th {\n        text-align: right;\n    }\n</style>\n<table border=\"1\" class=\"dataframe\">\n  <thead>\n    <tr style=\"text-align: right;\">\n      <th></th>\n      <th>Cultivar</th>\n      <th>Alcohol</th>\n      <th>Malic acid</th>\n      <th>Ash</th>\n      <th>Alcalinity of ash</th>\n      <th>Magnesium</th>\n      <th>Total phenols</th>\n      <th>Flavanoids</th>\n      <th>Nonflavanoid phenols</th>\n      <th>Proanthocyanins</th>\n      <th>Color intensity</th>\n      <th>Hue</th>\n      <th>OD280/OD315 of diluted wines</th>\n      <th>Proline</th>\n    </tr>\n  </thead>\n  <tbody>\n    <tr>\n      <th>0</th>\n      <td>1</td>\n      <td>14.23</td>\n      <td>1.71</td>\n      <td>2.43</td>\n      <td>15.6</td>\n      <td>127</td>\n      <td>2.80</td>\n      <td>3.06</td>\n      <td>0.28</td>\n      <td>2.29</td>\n      <td>5.64</td>\n      <td>1.04</td>\n      <td>3.92</td>\n      <td>1065</td>\n    </tr>\n    <tr>\n      <th>1</th>\n      <td>1</td>\n      <td>13.20</td>\n      <td>1.78</td>\n      <td>2.14</td>\n      <td>11.2</td>\n      <td>100</td>\n      <td>2.65</td>\n      <td>2.76</td>\n      <td>0.26</td>\n      <td>1.28</td>\n      <td>4.38</td>\n      <td>1.05</td>\n      <td>3.40</td>\n      <td>1050</td>\n    </tr>\n    <tr>\n      <th>2</th>\n      <td>1</td>\n      <td>13.16</td>\n      <td>2.36</td>\n      <td>2.67</td>\n      <td>18.6</td>\n      <td>101</td>\n      <td>2.80</td>\n      <td>3.24</td>\n      <td>0.30</td>\n      <td>2.81</td>\n      <td>5.68</td>\n      <td>1.03</td>\n      <td>3.17</td>\n      <td>1185</td>\n    </tr>\n    <tr>\n      <th>3</th>\n      <td>1</td>\n      <td>14.37</td>\n      <td>1.95</td>\n      <td>2.50</td>\n      <td>16.8</td>\n      <td>113</td>\n      <td>3.85</td>\n      <td>3.49</td>\n      <td>0.24</td>\n      <td>2.18</td>\n      <td>7.80</td>\n      <td>0.86</td>\n      <td>3.45</td>\n      <td>1480</td>\n    </tr>\n    <tr>\n      <th>4</th>\n      <td>1</td>\n      <td>13.24</td>\n      <td>2.59</td>\n      <td>2.87</td>\n      <td>21.0</td>\n      <td>118</td>\n      <td>2.80</td>\n      <td>2.69</td>\n      <td>0.39</td>\n      <td>1.82</td>\n      <td>4.32</td>\n      <td>1.04</td>\n      <td>2.93</td>\n      <td>735</td>\n    </tr>\n    <tr>\n      <th>...</th>\n      <td>...</td>\n      <td>...</td>\n      <td>...</td>\n      <td>...</td>\n      <td>...</td>\n      <td>...</td>\n      <td>...</td>\n      <td>...</td>\n      <td>...</td>\n      <td>...</td>\n      <td>...</td>\n      <td>...</td>\n      <td>...</td>\n      <td>...</td>\n    </tr>\n    <tr>\n      <th>173</th>\n      <td>3</td>\n      <td>13.71</td>\n      <td>5.65</td>\n      <td>2.45</td>\n      <td>20.5</td>\n      <td>95</td>\n      <td>1.68</td>\n      <td>0.61</td>\n      <td>0.52</td>\n      <td>1.06</td>\n      <td>7.70</td>\n      <td>0.64</td>\n      <td>1.74</td>\n      <td>740</td>\n    </tr>\n    <tr>\n      <th>174</th>\n      <td>3</td>\n      <td>13.40</td>\n      <td>3.91</td>\n      <td>2.48</td>\n      <td>23.0</td>\n      <td>102</td>\n      <td>1.80</td>\n      <td>0.75</td>\n      <td>0.43</td>\n      <td>1.41</td>\n      <td>7.30</td>\n      <td>0.70</td>\n      <td>1.56</td>\n      <td>750</td>\n    </tr>\n    <tr>\n      <th>175</th>\n      <td>3</td>\n      <td>13.27</td>\n      <td>4.28</td>\n      <td>2.26</td>\n      <td>20.0</td>\n      <td>120</td>\n      <td>1.59</td>\n      <td>0.69</td>\n      <td>0.43</td>\n      <td>1.35</td>\n      <td>10.20</td>\n      <td>0.59</td>\n      <td>1.56</td>\n      <td>835</td>\n    </tr>\n    <tr>\n      <th>176</th>\n      <td>3</td>\n      <td>13.17</td>\n      <td>2.59</td>\n      <td>2.37</td>\n      <td>20.0</td>\n      <td>120</td>\n      <td>1.65</td>\n      <td>0.68</td>\n      <td>0.53</td>\n      <td>1.46</td>\n      <td>9.30</td>\n      <td>0.60</td>\n      <td>1.62</td>\n      <td>840</td>\n    </tr>\n    <tr>\n      <th>177</th>\n      <td>3</td>\n      <td>14.13</td>\n      <td>4.10</td>\n      <td>2.74</td>\n      <td>24.5</td>\n      <td>96</td>\n      <td>2.05</td>\n      <td>0.76</td>\n      <td>0.56</td>\n      <td>1.35</td>\n      <td>9.20</td>\n      <td>0.61</td>\n      <td>1.60</td>\n      <td>560</td>\n    </tr>\n  </tbody>\n</table>\n<p>178 rows × 14 columns</p>\n</div>"
     },
     "execution_count": 3,
     "metadata": {},
     "output_type": "execute_result"
    }
   ],
   "source": [
    "import pandas as pd\n",
    "\n",
    "# read csv and remove one emtpy row\n",
    "df = pd.read_csv(\"https://npg-ds.s3.amazonaws.com/wine.csv\")\n",
    "df.copy()"
   ],
   "metadata": {
    "collapsed": false,
    "pycharm": {
     "name": "#%%\n"
    }
   }
  },
  {
   "cell_type": "markdown",
   "source": [
    "Let's see some statistics on the data"
   ],
   "metadata": {
    "collapsed": false,
    "pycharm": {
     "name": "#%% md\n"
    }
   }
  },
  {
   "cell_type": "code",
   "execution_count": 4,
   "outputs": [
    {
     "data": {
      "text/plain": "         Cultivar     Alcohol  Malic acid         Ash  Alcalinity of ash  \\\ncount  178.000000  178.000000  178.000000  178.000000         178.000000   \nmean     1.938202   13.000618    2.336348    2.366517          19.494944   \nstd      0.775035    0.811827    1.117146    0.274344           3.339564   \nmin      1.000000   11.030000    0.740000    1.360000          10.600000   \n25%      1.000000   12.362500    1.602500    2.210000          17.200000   \n50%      2.000000   13.050000    1.865000    2.360000          19.500000   \n75%      3.000000   13.677500    3.082500    2.557500          21.500000   \nmax      3.000000   14.830000    5.800000    3.230000          30.000000   \n\n        Magnesium  Total phenols  Flavanoids  Nonflavanoid phenols  \\\ncount  178.000000     178.000000  178.000000            178.000000   \nmean    99.741573       2.295112    2.029270              0.361854   \nstd     14.282484       0.625851    0.998859              0.124453   \nmin     70.000000       0.980000    0.340000              0.130000   \n25%     88.000000       1.742500    1.205000              0.270000   \n50%     98.000000       2.355000    2.135000              0.340000   \n75%    107.000000       2.800000    2.875000              0.437500   \nmax    162.000000       3.880000    5.080000              0.660000   \n\n       Proanthocyanins  Color intensity         Hue  \\\ncount       178.000000       178.000000  178.000000   \nmean          1.590899         5.058090    0.957449   \nstd           0.572359         2.318286    0.228572   \nmin           0.410000         1.280000    0.480000   \n25%           1.250000         3.220000    0.782500   \n50%           1.555000         4.690000    0.965000   \n75%           1.950000         6.200000    1.120000   \nmax           3.580000        13.000000    1.710000   \n\n       OD280/OD315 of diluted wines      Proline  \ncount                    178.000000   178.000000  \nmean                       2.611685   746.893258  \nstd                        0.709990   314.907474  \nmin                        1.270000   278.000000  \n25%                        1.937500   500.500000  \n50%                        2.780000   673.500000  \n75%                        3.170000   985.000000  \nmax                        4.000000  1680.000000  ",
      "text/html": "<div>\n<style scoped>\n    .dataframe tbody tr th:only-of-type {\n        vertical-align: middle;\n    }\n\n    .dataframe tbody tr th {\n        vertical-align: top;\n    }\n\n    .dataframe thead th {\n        text-align: right;\n    }\n</style>\n<table border=\"1\" class=\"dataframe\">\n  <thead>\n    <tr style=\"text-align: right;\">\n      <th></th>\n      <th>Cultivar</th>\n      <th>Alcohol</th>\n      <th>Malic acid</th>\n      <th>Ash</th>\n      <th>Alcalinity of ash</th>\n      <th>Magnesium</th>\n      <th>Total phenols</th>\n      <th>Flavanoids</th>\n      <th>Nonflavanoid phenols</th>\n      <th>Proanthocyanins</th>\n      <th>Color intensity</th>\n      <th>Hue</th>\n      <th>OD280/OD315 of diluted wines</th>\n      <th>Proline</th>\n    </tr>\n  </thead>\n  <tbody>\n    <tr>\n      <th>count</th>\n      <td>178.000000</td>\n      <td>178.000000</td>\n      <td>178.000000</td>\n      <td>178.000000</td>\n      <td>178.000000</td>\n      <td>178.000000</td>\n      <td>178.000000</td>\n      <td>178.000000</td>\n      <td>178.000000</td>\n      <td>178.000000</td>\n      <td>178.000000</td>\n      <td>178.000000</td>\n      <td>178.000000</td>\n      <td>178.000000</td>\n    </tr>\n    <tr>\n      <th>mean</th>\n      <td>1.938202</td>\n      <td>13.000618</td>\n      <td>2.336348</td>\n      <td>2.366517</td>\n      <td>19.494944</td>\n      <td>99.741573</td>\n      <td>2.295112</td>\n      <td>2.029270</td>\n      <td>0.361854</td>\n      <td>1.590899</td>\n      <td>5.058090</td>\n      <td>0.957449</td>\n      <td>2.611685</td>\n      <td>746.893258</td>\n    </tr>\n    <tr>\n      <th>std</th>\n      <td>0.775035</td>\n      <td>0.811827</td>\n      <td>1.117146</td>\n      <td>0.274344</td>\n      <td>3.339564</td>\n      <td>14.282484</td>\n      <td>0.625851</td>\n      <td>0.998859</td>\n      <td>0.124453</td>\n      <td>0.572359</td>\n      <td>2.318286</td>\n      <td>0.228572</td>\n      <td>0.709990</td>\n      <td>314.907474</td>\n    </tr>\n    <tr>\n      <th>min</th>\n      <td>1.000000</td>\n      <td>11.030000</td>\n      <td>0.740000</td>\n      <td>1.360000</td>\n      <td>10.600000</td>\n      <td>70.000000</td>\n      <td>0.980000</td>\n      <td>0.340000</td>\n      <td>0.130000</td>\n      <td>0.410000</td>\n      <td>1.280000</td>\n      <td>0.480000</td>\n      <td>1.270000</td>\n      <td>278.000000</td>\n    </tr>\n    <tr>\n      <th>25%</th>\n      <td>1.000000</td>\n      <td>12.362500</td>\n      <td>1.602500</td>\n      <td>2.210000</td>\n      <td>17.200000</td>\n      <td>88.000000</td>\n      <td>1.742500</td>\n      <td>1.205000</td>\n      <td>0.270000</td>\n      <td>1.250000</td>\n      <td>3.220000</td>\n      <td>0.782500</td>\n      <td>1.937500</td>\n      <td>500.500000</td>\n    </tr>\n    <tr>\n      <th>50%</th>\n      <td>2.000000</td>\n      <td>13.050000</td>\n      <td>1.865000</td>\n      <td>2.360000</td>\n      <td>19.500000</td>\n      <td>98.000000</td>\n      <td>2.355000</td>\n      <td>2.135000</td>\n      <td>0.340000</td>\n      <td>1.555000</td>\n      <td>4.690000</td>\n      <td>0.965000</td>\n      <td>2.780000</td>\n      <td>673.500000</td>\n    </tr>\n    <tr>\n      <th>75%</th>\n      <td>3.000000</td>\n      <td>13.677500</td>\n      <td>3.082500</td>\n      <td>2.557500</td>\n      <td>21.500000</td>\n      <td>107.000000</td>\n      <td>2.800000</td>\n      <td>2.875000</td>\n      <td>0.437500</td>\n      <td>1.950000</td>\n      <td>6.200000</td>\n      <td>1.120000</td>\n      <td>3.170000</td>\n      <td>985.000000</td>\n    </tr>\n    <tr>\n      <th>max</th>\n      <td>3.000000</td>\n      <td>14.830000</td>\n      <td>5.800000</td>\n      <td>3.230000</td>\n      <td>30.000000</td>\n      <td>162.000000</td>\n      <td>3.880000</td>\n      <td>5.080000</td>\n      <td>0.660000</td>\n      <td>3.580000</td>\n      <td>13.000000</td>\n      <td>1.710000</td>\n      <td>4.000000</td>\n      <td>1680.000000</td>\n    </tr>\n  </tbody>\n</table>\n</div>"
     },
     "execution_count": 4,
     "metadata": {},
     "output_type": "execute_result"
    }
   ],
   "source": [
    "df.describe().copy()"
   ],
   "metadata": {
    "collapsed": false,
    "pycharm": {
     "name": "#%%\n"
    }
   }
  },
  {
   "cell_type": "markdown",
   "source": [
    "Check for null values"
   ],
   "metadata": {
    "collapsed": false,
    "pycharm": {
     "name": "#%% md\n"
    }
   }
  },
  {
   "cell_type": "code",
   "execution_count": 5,
   "outputs": [
    {
     "data": {
      "text/plain": "Cultivar                        0\nAlcohol                         0\nMalic acid                      0\nAsh                             0\nAlcalinity of ash               0\nMagnesium                       0\nTotal phenols                   0\nFlavanoids                      0\nNonflavanoid phenols            0\nProanthocyanins                 0\nColor intensity                 0\nHue                             0\nOD280/OD315 of diluted wines    0\nProline                         0\ndtype: int64"
     },
     "execution_count": 5,
     "metadata": {},
     "output_type": "execute_result"
    }
   ],
   "source": [
    "df.copy().isnull().sum()"
   ],
   "metadata": {
    "collapsed": false,
    "pycharm": {
     "name": "#%%\n"
    }
   }
  },
  {
   "cell_type": "code",
   "execution_count": 6,
   "outputs": [
    {
     "data": {
      "text/plain": "     Cultivar   Alcohol  Malic acid       Ash  Alcalinity of ash  Magnesium  \\\n0           1  1.518613   -0.562250  0.232053          -1.169593   1.913905   \n1           1  0.246290   -0.499413 -0.827996          -2.490847   0.018145   \n2           1  0.196879    0.021231  1.109334          -0.268738   0.088358   \n3           1  1.691550   -0.346811  0.487926          -0.809251   0.930918   \n4           1  0.295700    0.227694  1.840403           0.451946   1.281985   \n..        ...       ...         ...       ...                ...        ...   \n173         3  0.876275    2.974543  0.305159           0.301803  -0.332922   \n174         3  0.493343    1.412609  0.414820           1.052516   0.158572   \n175         3  0.332758    1.744744 -0.389355           0.151661   1.422412   \n176         3  0.209232    0.227694  0.012732           0.151661   1.422412   \n177         3  1.395086    1.583165  1.365208           1.502943  -0.262708   \n\n     Total phenols  Flavanoids  Nonflavanoid phenols  Proanthocyanins  \\\n0         0.808997    1.034819             -0.659563         1.224884   \n1         0.568648    0.733629             -0.820719        -0.544721   \n2         0.808997    1.215533             -0.498407         2.135968   \n3         2.491446    1.466525             -0.981875         1.032155   \n4         0.808997    0.663351              0.226796         0.401404   \n..             ...         ...                   ...              ...   \n173      -0.985614   -1.424900              1.274310        -0.930179   \n174      -0.793334   -1.284344              0.549108        -0.316950   \n175      -1.129824   -1.344582              0.549108        -0.422075   \n176      -1.033684   -1.354622              1.354888        -0.229346   \n177      -0.392751   -1.274305              1.596623        -0.422075   \n\n     Color intensity       Hue  OD280/OD315 of diluted wines   Proline  \n0           0.251717  0.362177                      1.847920  1.013009  \n1          -0.293321  0.406051                      1.113449  0.965242  \n2           0.269020  0.318304                      0.788587  1.395148  \n3           1.186068 -0.427544                      1.184071  2.334574  \n4          -0.319276  0.362177                      0.449601 -0.037874  \n..               ...       ...                           ...       ...  \n173         1.142811 -1.392758                     -1.231206 -0.021952  \n174         0.969783 -1.129518                     -1.485445  0.009893  \n175         2.224236 -1.612125                     -1.485445  0.280575  \n176         1.834923 -1.568252                     -1.400699  0.296498  \n177         1.791666 -1.524378                     -1.428948 -0.595160  \n\n[178 rows x 14 columns]",
      "text/html": "<div>\n<style scoped>\n    .dataframe tbody tr th:only-of-type {\n        vertical-align: middle;\n    }\n\n    .dataframe tbody tr th {\n        vertical-align: top;\n    }\n\n    .dataframe thead th {\n        text-align: right;\n    }\n</style>\n<table border=\"1\" class=\"dataframe\">\n  <thead>\n    <tr style=\"text-align: right;\">\n      <th></th>\n      <th>Cultivar</th>\n      <th>Alcohol</th>\n      <th>Malic acid</th>\n      <th>Ash</th>\n      <th>Alcalinity of ash</th>\n      <th>Magnesium</th>\n      <th>Total phenols</th>\n      <th>Flavanoids</th>\n      <th>Nonflavanoid phenols</th>\n      <th>Proanthocyanins</th>\n      <th>Color intensity</th>\n      <th>Hue</th>\n      <th>OD280/OD315 of diluted wines</th>\n      <th>Proline</th>\n    </tr>\n  </thead>\n  <tbody>\n    <tr>\n      <th>0</th>\n      <td>1</td>\n      <td>1.518613</td>\n      <td>-0.562250</td>\n      <td>0.232053</td>\n      <td>-1.169593</td>\n      <td>1.913905</td>\n      <td>0.808997</td>\n      <td>1.034819</td>\n      <td>-0.659563</td>\n      <td>1.224884</td>\n      <td>0.251717</td>\n      <td>0.362177</td>\n      <td>1.847920</td>\n      <td>1.013009</td>\n    </tr>\n    <tr>\n      <th>1</th>\n      <td>1</td>\n      <td>0.246290</td>\n      <td>-0.499413</td>\n      <td>-0.827996</td>\n      <td>-2.490847</td>\n      <td>0.018145</td>\n      <td>0.568648</td>\n      <td>0.733629</td>\n      <td>-0.820719</td>\n      <td>-0.544721</td>\n      <td>-0.293321</td>\n      <td>0.406051</td>\n      <td>1.113449</td>\n      <td>0.965242</td>\n    </tr>\n    <tr>\n      <th>2</th>\n      <td>1</td>\n      <td>0.196879</td>\n      <td>0.021231</td>\n      <td>1.109334</td>\n      <td>-0.268738</td>\n      <td>0.088358</td>\n      <td>0.808997</td>\n      <td>1.215533</td>\n      <td>-0.498407</td>\n      <td>2.135968</td>\n      <td>0.269020</td>\n      <td>0.318304</td>\n      <td>0.788587</td>\n      <td>1.395148</td>\n    </tr>\n    <tr>\n      <th>3</th>\n      <td>1</td>\n      <td>1.691550</td>\n      <td>-0.346811</td>\n      <td>0.487926</td>\n      <td>-0.809251</td>\n      <td>0.930918</td>\n      <td>2.491446</td>\n      <td>1.466525</td>\n      <td>-0.981875</td>\n      <td>1.032155</td>\n      <td>1.186068</td>\n      <td>-0.427544</td>\n      <td>1.184071</td>\n      <td>2.334574</td>\n    </tr>\n    <tr>\n      <th>4</th>\n      <td>1</td>\n      <td>0.295700</td>\n      <td>0.227694</td>\n      <td>1.840403</td>\n      <td>0.451946</td>\n      <td>1.281985</td>\n      <td>0.808997</td>\n      <td>0.663351</td>\n      <td>0.226796</td>\n      <td>0.401404</td>\n      <td>-0.319276</td>\n      <td>0.362177</td>\n      <td>0.449601</td>\n      <td>-0.037874</td>\n    </tr>\n    <tr>\n      <th>...</th>\n      <td>...</td>\n      <td>...</td>\n      <td>...</td>\n      <td>...</td>\n      <td>...</td>\n      <td>...</td>\n      <td>...</td>\n      <td>...</td>\n      <td>...</td>\n      <td>...</td>\n      <td>...</td>\n      <td>...</td>\n      <td>...</td>\n      <td>...</td>\n    </tr>\n    <tr>\n      <th>173</th>\n      <td>3</td>\n      <td>0.876275</td>\n      <td>2.974543</td>\n      <td>0.305159</td>\n      <td>0.301803</td>\n      <td>-0.332922</td>\n      <td>-0.985614</td>\n      <td>-1.424900</td>\n      <td>1.274310</td>\n      <td>-0.930179</td>\n      <td>1.142811</td>\n      <td>-1.392758</td>\n      <td>-1.231206</td>\n      <td>-0.021952</td>\n    </tr>\n    <tr>\n      <th>174</th>\n      <td>3</td>\n      <td>0.493343</td>\n      <td>1.412609</td>\n      <td>0.414820</td>\n      <td>1.052516</td>\n      <td>0.158572</td>\n      <td>-0.793334</td>\n      <td>-1.284344</td>\n      <td>0.549108</td>\n      <td>-0.316950</td>\n      <td>0.969783</td>\n      <td>-1.129518</td>\n      <td>-1.485445</td>\n      <td>0.009893</td>\n    </tr>\n    <tr>\n      <th>175</th>\n      <td>3</td>\n      <td>0.332758</td>\n      <td>1.744744</td>\n      <td>-0.389355</td>\n      <td>0.151661</td>\n      <td>1.422412</td>\n      <td>-1.129824</td>\n      <td>-1.344582</td>\n      <td>0.549108</td>\n      <td>-0.422075</td>\n      <td>2.224236</td>\n      <td>-1.612125</td>\n      <td>-1.485445</td>\n      <td>0.280575</td>\n    </tr>\n    <tr>\n      <th>176</th>\n      <td>3</td>\n      <td>0.209232</td>\n      <td>0.227694</td>\n      <td>0.012732</td>\n      <td>0.151661</td>\n      <td>1.422412</td>\n      <td>-1.033684</td>\n      <td>-1.354622</td>\n      <td>1.354888</td>\n      <td>-0.229346</td>\n      <td>1.834923</td>\n      <td>-1.568252</td>\n      <td>-1.400699</td>\n      <td>0.296498</td>\n    </tr>\n    <tr>\n      <th>177</th>\n      <td>3</td>\n      <td>1.395086</td>\n      <td>1.583165</td>\n      <td>1.365208</td>\n      <td>1.502943</td>\n      <td>-0.262708</td>\n      <td>-0.392751</td>\n      <td>-1.274305</td>\n      <td>1.596623</td>\n      <td>-0.422075</td>\n      <td>1.791666</td>\n      <td>-1.524378</td>\n      <td>-1.428948</td>\n      <td>-0.595160</td>\n    </tr>\n  </tbody>\n</table>\n<p>178 rows × 14 columns</p>\n</div>"
     },
     "execution_count": 6,
     "metadata": {},
     "output_type": "execute_result"
    }
   ],
   "source": [
    "from sklearn.preprocessing import StandardScaler\n",
    "\n",
    "# standardize columns\n",
    "cols = df.columns.difference(['Cultivar'])\n",
    "df[cols] = StandardScaler().fit_transform(df[cols])\n",
    "df.copy()"
   ],
   "metadata": {
    "collapsed": false,
    "pycharm": {
     "name": "#%%\n"
    }
   }
  },
  {
   "cell_type": "code",
   "execution_count": 7,
   "outputs": [
    {
     "data": {
      "text/plain": "<Figure size 288x288 with 2 Axes>",
      "image/png": "[encoded data removed]"
     },
     "metadata": {
      "needs_background": "light"
     },
     "output_type": "display_data"
    },
    {
     "data": {
      "text/plain": "                              Cultivar   Alcohol  Malic acid       Ash  \\\nCultivar                      1.000000 -0.328222    0.437776 -0.049643   \nAlcohol                      -0.328222  1.000000    0.094397  0.211545   \nMalic acid                    0.437776  0.094397    1.000000  0.164045   \nAsh                          -0.049643  0.211545    0.164045  1.000000   \nAlcalinity of ash             0.517859 -0.310235    0.288500  0.443367   \nMagnesium                    -0.209179  0.270798   -0.054575  0.286587   \nTotal phenols                -0.719163  0.289101   -0.335167  0.128980   \nFlavanoids                   -0.847498  0.236815   -0.411007  0.115077   \nNonflavanoid phenols          0.489109 -0.155929    0.292977  0.186230   \nProanthocyanins              -0.499130  0.136698   -0.220746  0.009652   \nColor intensity               0.265668  0.546364    0.248985  0.258887   \nHue                          -0.617369 -0.071747   -0.561296 -0.074667   \nOD280/OD315 of diluted wines -0.788230  0.072343   -0.368710  0.003911   \nProline                      -0.633717  0.643720   -0.192011  0.223626   \n\n                              Alcalinity of ash  Magnesium  Total phenols  \\\nCultivar                               0.517859  -0.209179      -0.719163   \nAlcohol                               -0.310235   0.270798       0.289101   \nMalic acid                             0.288500  -0.054575      -0.335167   \nAsh                                    0.443367   0.286587       0.128980   \nAlcalinity of ash                      1.000000  -0.083333      -0.321113   \nMagnesium                             -0.083333   1.000000       0.214401   \nTotal phenols                         -0.321113   0.214401       1.000000   \nFlavanoids                            -0.351370   0.195784       0.864564   \nNonflavanoid phenols                   0.361922  -0.256294      -0.449935   \nProanthocyanins                       -0.197327   0.236441       0.612413   \nColor intensity                        0.018732   0.199950      -0.055136   \nHue                                   -0.273955   0.055398       0.433681   \nOD280/OD315 of diluted wines          -0.276769   0.066004       0.699949   \nProline                               -0.440597   0.393351       0.498115   \n\n                              Flavanoids  Nonflavanoid phenols  \\\nCultivar                       -0.847498              0.489109   \nAlcohol                         0.236815             -0.155929   \nMalic acid                     -0.411007              0.292977   \nAsh                             0.115077              0.186230   \nAlcalinity of ash              -0.351370              0.361922   \nMagnesium                       0.195784             -0.256294   \nTotal phenols                   0.864564             -0.449935   \nFlavanoids                      1.000000             -0.537900   \nNonflavanoid phenols           -0.537900              1.000000   \nProanthocyanins                 0.652692             -0.365845   \nColor intensity                -0.172379              0.139057   \nHue                             0.543479             -0.262640   \nOD280/OD315 of diluted wines    0.787194             -0.503270   \nProline                         0.494193             -0.311385   \n\n                              Proanthocyanins  Color intensity       Hue  \\\nCultivar                            -0.499130         0.265668 -0.617369   \nAlcohol                              0.136698         0.546364 -0.071747   \nMalic acid                          -0.220746         0.248985 -0.561296   \nAsh                                  0.009652         0.258887 -0.074667   \nAlcalinity of ash                   -0.197327         0.018732 -0.273955   \nMagnesium                            0.236441         0.199950  0.055398   \nTotal phenols                        0.612413        -0.055136  0.433681   \nFlavanoids                           0.652692        -0.172379  0.543479   \nNonflavanoid phenols                -0.365845         0.139057 -0.262640   \nProanthocyanins                      1.000000        -0.025250  0.295544   \nColor intensity                     -0.025250         1.000000 -0.521813   \nHue                                  0.295544        -0.521813  1.000000   \nOD280/OD315 of diluted wines         0.519067        -0.428815  0.565468   \nProline                              0.330417         0.316100  0.236183   \n\n                              OD280/OD315 of diluted wines   Proline  \nCultivar                                         -0.788230 -0.633717  \nAlcohol                                           0.072343  0.643720  \nMalic acid                                       -0.368710 -0.192011  \nAsh                                               0.003911  0.223626  \nAlcalinity of ash                                -0.276769 -0.440597  \nMagnesium                                         0.066004  0.393351  \nTotal phenols                                     0.699949  0.498115  \nFlavanoids                                        0.787194  0.494193  \nNonflavanoid phenols                             -0.503270 -0.311385  \nProanthocyanins                                   0.519067  0.330417  \nColor intensity                                  -0.428815  0.316100  \nHue                                               0.565468  0.236183  \nOD280/OD315 of diluted wines                      1.000000  0.312761  \nProline                                           0.312761  1.000000  ",
      "text/html": "<div>\n<style scoped>\n    .dataframe tbody tr th:only-of-type {\n        vertical-align: middle;\n    }\n\n    .dataframe tbody tr th {\n        vertical-align: top;\n    }\n\n    .dataframe thead th {\n        text-align: right;\n    }\n</style>\n<table border=\"1\" class=\"dataframe\">\n  <thead>\n    <tr style=\"text-align: right;\">\n      <th></th>\n      <th>Cultivar</th>\n      <th>Alcohol</th>\n      <th>Malic acid</th>\n      <th>Ash</th>\n      <th>Alcalinity of ash</th>\n      <th>Magnesium</th>\n      <th>Total phenols</th>\n      <th>Flavanoids</th>\n      <th>Nonflavanoid phenols</th>\n      <th>Proanthocyanins</th>\n      <th>Color intensity</th>\n      <th>Hue</th>\n      <th>OD280/OD315 of diluted wines</th>\n      <th>Proline</th>\n    </tr>\n  </thead>\n  <tbody>\n    <tr>\n      <th>Cultivar</th>\n      <td>1.000000</td>\n      <td>-0.328222</td>\n      <td>0.437776</td>\n      <td>-0.049643</td>\n      <td>0.517859</td>\n      <td>-0.209179</td>\n      <td>-0.719163</td>\n      <td>-0.847498</td>\n      <td>0.489109</td>\n      <td>-0.499130</td>\n      <td>0.265668</td>\n      <td>-0.617369</td>\n      <td>-0.788230</td>\n      <td>-0.633717</td>\n    </tr>\n    <tr>\n      <th>Alcohol</th>\n      <td>-0.328222</td>\n      <td>1.000000</td>\n      <td>0.094397</td>\n      <td>0.211545</td>\n      <td>-0.310235</td>\n      <td>0.270798</td>\n      <td>0.289101</td>\n      <td>0.236815</td>\n      <td>-0.155929</td>\n      <td>0.136698</td>\n      <td>0.546364</td>\n      <td>-0.071747</td>\n      <td>0.072343</td>\n      <td>0.643720</td>\n    </tr>\n    <tr>\n      <th>Malic acid</th>\n      <td>0.437776</td>\n      <td>0.094397</td>\n      <td>1.000000</td>\n      <td>0.164045</td>\n      <td>0.288500</td>\n      <td>-0.054575</td>\n      <td>-0.335167</td>\n      <td>-0.411007</td>\n      <td>0.292977</td>\n      <td>-0.220746</td>\n      <td>0.248985</td>\n      <td>-0.561296</td>\n      <td>-0.368710</td>\n      <td>-0.192011</td>\n    </tr>\n    <tr>\n      <th>Ash</th>\n      <td>-0.049643</td>\n      <td>0.211545</td>\n      <td>0.164045</td>\n      <td>1.000000</td>\n      <td>0.443367</td>\n      <td>0.286587</td>\n      <td>0.128980</td>\n      <td>0.115077</td>\n      <td>0.186230</td>\n      <td>0.009652</td>\n      <td>0.258887</td>\n      <td>-0.074667</td>\n      <td>0.003911</td>\n      <td>0.223626</td>\n    </tr>\n    <tr>\n      <th>Alcalinity of ash</th>\n      <td>0.517859</td>\n      <td>-0.310235</td>\n      <td>0.288500</td>\n      <td>0.443367</td>\n      <td>1.000000</td>\n      <td>-0.083333</td>\n      <td>-0.321113</td>\n      <td>-0.351370</td>\n      <td>0.361922</td>\n      <td>-0.197327</td>\n      <td>0.018732</td>\n      <td>-0.273955</td>\n      <td>-0.276769</td>\n      <td>-0.440597</td>\n    </tr>\n    <tr>\n      <th>Magnesium</th>\n      <td>-0.209179</td>\n      <td>0.270798</td>\n      <td>-0.054575</td>\n      <td>0.286587</td>\n      <td>-0.083333</td>\n      <td>1.000000</td>\n      <td>0.214401</td>\n      <td>0.195784</td>\n      <td>-0.256294</td>\n      <td>0.236441</td>\n      <td>0.199950</td>\n      <td>0.055398</td>\n      <td>0.066004</td>\n      <td>0.393351</td>\n    </tr>\n    <tr>\n      <th>Total phenols</th>\n      <td>-0.719163</td>\n      <td>0.289101</td>\n      <td>-0.335167</td>\n      <td>0.128980</td>\n      <td>-0.321113</td>\n      <td>0.214401</td>\n      <td>1.000000</td>\n      <td>0.864564</td>\n      <td>-0.449935</td>\n      <td>0.612413</td>\n      <td>-0.055136</td>\n      <td>0.433681</td>\n      <td>0.699949</td>\n      <td>0.498115</td>\n    </tr>\n    <tr>\n      <th>Flavanoids</th>\n      <td>-0.847498</td>\n      <td>0.236815</td>\n      <td>-0.411007</td>\n      <td>0.115077</td>\n      <td>-0.351370</td>\n      <td>0.195784</td>\n      <td>0.864564</td>\n      <td>1.000000</td>\n      <td>-0.537900</td>\n      <td>0.652692</td>\n      <td>-0.172379</td>\n      <td>0.543479</td>\n      <td>0.787194</td>\n      <td>0.494193</td>\n    </tr>\n    <tr>\n      <th>Nonflavanoid phenols</th>\n      <td>0.489109</td>\n      <td>-0.155929</td>\n      <td>0.292977</td>\n      <td>0.186230</td>\n      <td>0.361922</td>\n      <td>-0.256294</td>\n      <td>-0.449935</td>\n      <td>-0.537900</td>\n      <td>1.000000</td>\n      <td>-0.365845</td>\n      <td>0.139057</td>\n      <td>-0.262640</td>\n      <td>-0.503270</td>\n      <td>-0.311385</td>\n    </tr>\n    <tr>\n      <th>Proanthocyanins</th>\n      <td>-0.499130</td>\n      <td>0.136698</td>\n      <td>-0.220746</td>\n      <td>0.009652</td>\n      <td>-0.197327</td>\n      <td>0.236441</td>\n      <td>0.612413</td>\n      <td>0.652692</td>\n      <td>-0.365845</td>\n      <td>1.000000</td>\n      <td>-0.025250</td>\n      <td>0.295544</td>\n      <td>0.519067</td>\n      <td>0.330417</td>\n    </tr>\n    <tr>\n      <th>Color intensity</th>\n      <td>0.265668</td>\n      <td>0.546364</td>\n      <td>0.248985</td>\n      <td>0.258887</td>\n      <td>0.018732</td>\n      <td>0.199950</td>\n      <td>-0.055136</td>\n      <td>-0.172379</td>\n      <td>0.139057</td>\n      <td>-0.025250</td>\n      <td>1.000000</td>\n      <td>-0.521813</td>\n      <td>-0.428815</td>\n      <td>0.316100</td>\n    </tr>\n    <tr>\n      <th>Hue</th>\n      <td>-0.617369</td>\n      <td>-0.071747</td>\n      <td>-0.561296</td>\n      <td>-0.074667</td>\n      <td>-0.273955</td>\n      <td>0.055398</td>\n      <td>0.433681</td>\n      <td>0.543479</td>\n      <td>-0.262640</td>\n      <td>0.295544</td>\n      <td>-0.521813</td>\n      <td>1.000000</td>\n      <td>0.565468</td>\n      <td>0.236183</td>\n    </tr>\n    <tr>\n      <th>OD280/OD315 of diluted wines</th>\n      <td>-0.788230</td>\n      <td>0.072343</td>\n      <td>-0.368710</td>\n      <td>0.003911</td>\n      <td>-0.276769</td>\n      <td>0.066004</td>\n      <td>0.699949</td>\n      <td>0.787194</td>\n      <td>-0.503270</td>\n      <td>0.519067</td>\n      <td>-0.428815</td>\n      <td>0.565468</td>\n      <td>1.000000</td>\n      <td>0.312761</td>\n    </tr>\n    <tr>\n      <th>Proline</th>\n      <td>-0.633717</td>\n      <td>0.643720</td>\n      <td>-0.192011</td>\n      <td>0.223626</td>\n      <td>-0.440597</td>\n      <td>0.393351</td>\n      <td>0.498115</td>\n      <td>0.494193</td>\n      <td>-0.311385</td>\n      <td>0.330417</td>\n      <td>0.316100</td>\n      <td>0.236183</td>\n      <td>0.312761</td>\n      <td>1.000000</td>\n    </tr>\n  </tbody>\n</table>\n</div>"
     },
     "execution_count": 7,
     "metadata": {},
     "output_type": "execute_result"
    }
   ],
   "source": [
    "import matplotlib.pyplot as plt\n",
    "\n",
    "# plot heatmap\n",
    "plt.matshow(df.corr())\n",
    "cb = plt.colorbar()\n",
    "plt.show()\n",
    "\n",
    "# show numerical values\n",
    "df.corr()"
   ],
   "metadata": {
    "collapsed": false,
    "pycharm": {
     "name": "#%%\n"
    }
   }
  },
  {
   "cell_type": "markdown",
   "source": [
    "Let's check for outliers"
   ],
   "metadata": {
    "collapsed": false
   }
  },
  {
   "cell_type": "code",
   "execution_count": 8,
   "outputs": [
    {
     "name": "stdout",
     "output_type": "stream",
     "text": [
      "Outliers: 48\n"
     ]
    },
    {
     "data": {
      "text/plain": "     Cultivar   Alcohol  Malic acid       Ash  Alcalinity of ash  Magnesium  \\\n0           1  1.518613   -0.562250  0.232053          -1.169593   1.913905   \n1           1  0.246290   -0.499413 -0.827996          -2.490847   0.018145   \n2           1  0.196879    0.021231  1.109334          -0.268738   0.088358   \n4           1  0.295700    0.227694  1.840403           0.451946   1.281985   \n5           1  1.481555   -0.517367  0.305159          -1.289707   0.860705   \n..        ...       ...         ...       ...                ...        ...   \n173         3  0.876275    2.974543  0.305159           0.301803  -0.332922   \n174         3  0.493343    1.412609  0.414820           1.052516   0.158572   \n175         3  0.332758    1.744744 -0.389355           0.151661   1.422412   \n176         3  0.209232    0.227694  0.012732           0.151661   1.422412   \n177         3  1.395086    1.583165  1.365208           1.502943  -0.262708   \n\n     Total phenols  Flavanoids  Nonflavanoid phenols  Proanthocyanins  \\\n0         0.808997    1.034819             -0.659563         1.224884   \n1         0.568648    0.733629             -0.820719        -0.544721   \n2         0.808997    1.215533             -0.498407         2.135968   \n4         0.808997    0.663351              0.226796         0.401404   \n5         1.562093    1.366128             -0.176095         0.664217   \n..             ...         ...                   ...              ...   \n173      -0.985614   -1.424900              1.274310        -0.930179   \n174      -0.793334   -1.284344              0.549108        -0.316950   \n175      -1.129824   -1.344582              0.549108        -0.422075   \n176      -1.033684   -1.354622              1.354888        -0.229346   \n177      -0.392751   -1.274305              1.596623        -0.422075   \n\n     Color intensity       Hue  OD280/OD315 of diluted wines   Proline  \\\n0           0.251717  0.362177                      1.847920  1.013009   \n1          -0.293321  0.406051                      1.113449  0.965242   \n2           0.269020  0.318304                      0.788587  1.395148   \n4          -0.319276  0.362177                      0.449601 -0.037874   \n5           0.731870  0.406051                      0.336606  2.239039   \n..               ...       ...                           ...       ...   \n173         1.142811 -1.392758                     -1.231206 -0.021952   \n174         0.969783 -1.129518                     -1.485445  0.009893   \n175         2.224236 -1.612125                     -1.485445  0.280575   \n176         1.834923 -1.568252                     -1.400699  0.296498   \n177         1.791666 -1.524378                     -1.428948 -0.595160   \n\n     outlier  \n0          1  \n1          1  \n2          1  \n4          1  \n5          1  \n..       ...  \n173        1  \n174        1  \n175        1  \n176        1  \n177        1  \n\n[154 rows x 15 columns]",
      "text/html": "<div>\n<style scoped>\n    .dataframe tbody tr th:only-of-type {\n        vertical-align: middle;\n    }\n\n    .dataframe tbody tr th {\n        vertical-align: top;\n    }\n\n    .dataframe thead th {\n        text-align: right;\n    }\n</style>\n<table border=\"1\" class=\"dataframe\">\n  <thead>\n    <tr style=\"text-align: right;\">\n      <th></th>\n      <th>Cultivar</th>\n      <th>Alcohol</th>\n      <th>Malic acid</th>\n      <th>Ash</th>\n      <th>Alcalinity of ash</th>\n      <th>Magnesium</th>\n      <th>Total phenols</th>\n      <th>Flavanoids</th>\n      <th>Nonflavanoid phenols</th>\n      <th>Proanthocyanins</th>\n      <th>Color intensity</th>\n      <th>Hue</th>\n      <th>OD280/OD315 of diluted wines</th>\n      <th>Proline</th>\n      <th>outlier</th>\n    </tr>\n  </thead>\n  <tbody>\n    <tr>\n      <th>0</th>\n      <td>1</td>\n      <td>1.518613</td>\n      <td>-0.562250</td>\n      <td>0.232053</td>\n      <td>-1.169593</td>\n      <td>1.913905</td>\n      <td>0.808997</td>\n      <td>1.034819</td>\n      <td>-0.659563</td>\n      <td>1.224884</td>\n      <td>0.251717</td>\n      <td>0.362177</td>\n      <td>1.847920</td>\n      <td>1.013009</td>\n      <td>1</td>\n    </tr>\n    <tr>\n      <th>1</th>\n      <td>1</td>\n      <td>0.246290</td>\n      <td>-0.499413</td>\n      <td>-0.827996</td>\n      <td>-2.490847</td>\n      <td>0.018145</td>\n      <td>0.568648</td>\n      <td>0.733629</td>\n      <td>-0.820719</td>\n      <td>-0.544721</td>\n      <td>-0.293321</td>\n      <td>0.406051</td>\n      <td>1.113449</td>\n      <td>0.965242</td>\n      <td>1</td>\n    </tr>\n    <tr>\n      <th>2</th>\n      <td>1</td>\n      <td>0.196879</td>\n      <td>0.021231</td>\n      <td>1.109334</td>\n      <td>-0.268738</td>\n      <td>0.088358</td>\n      <td>0.808997</td>\n      <td>1.215533</td>\n      <td>-0.498407</td>\n      <td>2.135968</td>\n      <td>0.269020</td>\n      <td>0.318304</td>\n      <td>0.788587</td>\n      <td>1.395148</td>\n      <td>1</td>\n    </tr>\n    <tr>\n      <th>4</th>\n      <td>1</td>\n      <td>0.295700</td>\n      <td>0.227694</td>\n      <td>1.840403</td>\n      <td>0.451946</td>\n      <td>1.281985</td>\n      <td>0.808997</td>\n      <td>0.663351</td>\n      <td>0.226796</td>\n      <td>0.401404</td>\n      <td>-0.319276</td>\n      <td>0.362177</td>\n      <td>0.449601</td>\n      <td>-0.037874</td>\n      <td>1</td>\n    </tr>\n    <tr>\n      <th>5</th>\n      <td>1</td>\n      <td>1.481555</td>\n      <td>-0.517367</td>\n      <td>0.305159</td>\n      <td>-1.289707</td>\n      <td>0.860705</td>\n      <td>1.562093</td>\n      <td>1.366128</td>\n      <td>-0.176095</td>\n      <td>0.664217</td>\n      <td>0.731870</td>\n      <td>0.406051</td>\n      <td>0.336606</td>\n      <td>2.239039</td>\n      <td>1</td>\n    </tr>\n    <tr>\n      <th>...</th>\n      <td>...</td>\n      <td>...</td>\n      <td>...</td>\n      <td>...</td>\n      <td>...</td>\n      <td>...</td>\n      <td>...</td>\n      <td>...</td>\n      <td>...</td>\n      <td>...</td>\n      <td>...</td>\n      <td>...</td>\n      <td>...</td>\n      <td>...</td>\n      <td>...</td>\n    </tr>\n    <tr>\n      <th>173</th>\n      <td>3</td>\n      <td>0.876275</td>\n      <td>2.974543</td>\n      <td>0.305159</td>\n      <td>0.301803</td>\n      <td>-0.332922</td>\n      <td>-0.985614</td>\n      <td>-1.424900</td>\n      <td>1.274310</td>\n      <td>-0.930179</td>\n      <td>1.142811</td>\n      <td>-1.392758</td>\n      <td>-1.231206</td>\n      <td>-0.021952</td>\n      <td>1</td>\n    </tr>\n    <tr>\n      <th>174</th>\n      <td>3</td>\n      <td>0.493343</td>\n      <td>1.412609</td>\n      <td>0.414820</td>\n      <td>1.052516</td>\n      <td>0.158572</td>\n      <td>-0.793334</td>\n      <td>-1.284344</td>\n      <td>0.549108</td>\n      <td>-0.316950</td>\n      <td>0.969783</td>\n      <td>-1.129518</td>\n      <td>-1.485445</td>\n      <td>0.009893</td>\n      <td>1</td>\n    </tr>\n    <tr>\n      <th>175</th>\n      <td>3</td>\n      <td>0.332758</td>\n      <td>1.744744</td>\n      <td>-0.389355</td>\n      <td>0.151661</td>\n      <td>1.422412</td>\n      <td>-1.129824</td>\n      <td>-1.344582</td>\n      <td>0.549108</td>\n      <td>-0.422075</td>\n      <td>2.224236</td>\n      <td>-1.612125</td>\n      <td>-1.485445</td>\n      <td>0.280575</td>\n      <td>1</td>\n    </tr>\n    <tr>\n      <th>176</th>\n      <td>3</td>\n      <td>0.209232</td>\n      <td>0.227694</td>\n      <td>0.012732</td>\n      <td>0.151661</td>\n      <td>1.422412</td>\n      <td>-1.033684</td>\n      <td>-1.354622</td>\n      <td>1.354888</td>\n      <td>-0.229346</td>\n      <td>1.834923</td>\n      <td>-1.568252</td>\n      <td>-1.400699</td>\n      <td>0.296498</td>\n      <td>1</td>\n    </tr>\n    <tr>\n      <th>177</th>\n      <td>3</td>\n      <td>1.395086</td>\n      <td>1.583165</td>\n      <td>1.365208</td>\n      <td>1.502943</td>\n      <td>-0.262708</td>\n      <td>-0.392751</td>\n      <td>-1.274305</td>\n      <td>1.596623</td>\n      <td>-0.422075</td>\n      <td>1.791666</td>\n      <td>-1.524378</td>\n      <td>-1.428948</td>\n      <td>-0.595160</td>\n      <td>1</td>\n    </tr>\n  </tbody>\n</table>\n<p>154 rows × 15 columns</p>\n</div>"
     },
     "execution_count": 8,
     "metadata": {},
     "output_type": "execute_result"
    }
   ],
   "source": [
    "from sklearn.ensemble import IsolationForest\n",
    "\n",
    "# estimate outliers\n",
    "df[\"outlier\"] = IsolationForest(n_estimators=300).fit_predict(df)\n",
    "print(\"Outliers:\", len(df) - df.outlier.sum())\n",
    "\n",
    "# remove outliers\n",
    "df = df[df.outlier == 1]\n",
    "df.copy()"
   ],
   "metadata": {
    "collapsed": false,
    "pycharm": {
     "name": "#%%\n"
    }
   }
  },
  {
   "cell_type": "markdown",
   "source": [
    "Split model"
   ],
   "metadata": {
    "collapsed": false,
    "pycharm": {
     "name": "#%% md\n"
    }
   }
  },
  {
   "cell_type": "code",
   "execution_count": 9,
   "outputs": [],
   "source": [
    "from sklearn.model_selection import train_test_split\n",
    "\n",
    "# split data for train and test\n",
    "training_data, testing_data = train_test_split(df, test_size=0.2, random_state=25)\n",
    "\n",
    "# split into train features and labels\n",
    "training_features = training_data.copy()\n",
    "training_features = training_features.drop(\"Cultivar\", axis=1)\n",
    "training_labels = training_data[\"Cultivar\"]\n",
    "\n",
    "# split into test features and labels\n",
    "testing_features = pd.DataFrame(testing_data.copy())\n",
    "testing_features = testing_features.drop(\"Cultivar\", axis=1)\n",
    "testing_labels = pd.DataFrame(testing_data[\"Cultivar\"])"
   ],
   "metadata": {
    "collapsed": false,
    "pycharm": {
     "name": "#%%\n"
    }
   }
  },
  {
   "cell_type": "markdown",
   "source": [
    "Lets now train our model"
   ],
   "metadata": {
    "collapsed": false,
    "pycharm": {
     "name": "#%% md\n"
    }
   }
  },
  {
   "cell_type": "code",
   "execution_count": 10,
   "outputs": [
    {
     "name": "stdout",
     "output_type": "stream",
     "text": [
      "Train Performance: 0.983739837398374\n",
      "Test Performance: 1.0\n"
     ]
    }
   ],
   "source": [
    "from sklearn.neighbors import KNeighborsClassifier\n",
    "\n",
    "neigh = KNeighborsClassifier()\n",
    "neigh.fit(training_features, training_labels)\n",
    "\n",
    "# function to check if expected value equals prediction\n",
    "def check_result_match(row) -> int:\n",
    "    expected = int(row[\"expected\"])\n",
    "    predicted = int(row[\"prediction\"])\n",
    "    return int(expected == predicted)\n",
    "\n",
    "# predict train data\n",
    "predictions = pd.DataFrame(neigh.predict(training_features), columns=[\"prediction\"])\n",
    "predictions[\"expected\"] = pd.DataFrame(training_labels)[\"Cultivar\"].values\n",
    "predictions[\"match\"] = predictions.apply(lambda row: check_result_match(row), axis=1)\n",
    "performance = len(predictions.loc[predictions['match'] == 1]) / len(predictions)\n",
    "print(\"Train Performance:\", performance)\n",
    "\n",
    "# predict test data\n",
    "predictions = pd.DataFrame(neigh.predict(testing_features), columns=[\"prediction\"])\n",
    "predictions[\"expected\"] = testing_labels[\"Cultivar\"].values\n",
    "predictions[\"match\"] = predictions.apply(lambda row: check_result_match(row), axis=1)\n",
    "performance = len(predictions.loc[predictions['match'] == 1]) / len(predictions)\n",
    "print(\"Test Performance:\", performance)"
   ],
   "metadata": {
    "collapsed": false,
    "pycharm": {
     "name": "#%%\n"
    }
   }
  }
 ],
 "metadata": {
  "kernelspec": {
   "display_name": "Python 3",
   "language": "python",
   "name": "python3"
  },
  "language_info": {
   "codemirror_mode": {
    "name": "ipython",
    "version": 2
   },
   "file_extension": ".py",
   "mimetype": "text/x-python",
   "name": "python",
   "nbconvert_exporter": "python",
   "pygments_lexer": "ipython2",
   "version": "2.7.6"
  }
 },
 "nbformat": 4,
 "nbformat_minor": 0
}