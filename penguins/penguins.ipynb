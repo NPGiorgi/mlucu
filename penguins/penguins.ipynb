{
 "cells": [
  {
   "cell_type": "code",
   "metadata": {
    "collapsed": true,
    "pycharm": {
     "name": "#%%\n"
    }
   },
   "source": [
    "import ssl\n",
    "\n",
    "import numpy as np\n",
    "\n",
    "ssl._create_default_https_context = ssl._create_unverified_context"
   ],
   "execution_count": 333,
   "outputs": []
  },
  {
   "cell_type": "code",
   "execution_count": 334,
   "outputs": [
    {
     "data": {
      "text/plain": "    species     island  culmen_length_mm  culmen_depth_mm  flipper_length_mm  \\\n0    Adelie  Torgersen              39.1             18.7              181.0   \n1    Adelie  Torgersen              39.5             17.4              186.0   \n2    Adelie  Torgersen              40.3             18.0              195.0   \n3    Adelie  Torgersen               NaN              NaN                NaN   \n4    Adelie  Torgersen              36.7             19.3              193.0   \n..      ...        ...               ...              ...                ...   \n339  Gentoo     Biscoe               NaN              NaN                NaN   \n340  Gentoo     Biscoe              46.8             14.3              215.0   \n341  Gentoo     Biscoe              50.4             15.7              222.0   \n342  Gentoo     Biscoe              45.2             14.8              212.0   \n343  Gentoo     Biscoe              49.9             16.1              213.0   \n\n     body_mass_g     sex  \n0         3750.0    MALE  \n1         3800.0  FEMALE  \n2         3250.0  FEMALE  \n3            NaN     NaN  \n4         3450.0  FEMALE  \n..           ...     ...  \n339          NaN     NaN  \n340       4850.0  FEMALE  \n341       5750.0    MALE  \n342       5200.0  FEMALE  \n343       5400.0    MALE  \n\n[344 rows x 7 columns]",
      "text/html": "<div>\n<style scoped>\n    .dataframe tbody tr th:only-of-type {\n        vertical-align: middle;\n    }\n\n    .dataframe tbody tr th {\n        vertical-align: top;\n    }\n\n    .dataframe thead th {\n        text-align: right;\n    }\n</style>\n<table border=\"1\" class=\"dataframe\">\n  <thead>\n    <tr style=\"text-align: right;\">\n      <th></th>\n      <th>species</th>\n      <th>island</th>\n      <th>culmen_length_mm</th>\n      <th>culmen_depth_mm</th>\n      <th>flipper_length_mm</th>\n      <th>body_mass_g</th>\n      <th>sex</th>\n    </tr>\n  </thead>\n  <tbody>\n    <tr>\n      <th>0</th>\n      <td>Adelie</td>\n      <td>Torgersen</td>\n      <td>39.1</td>\n      <td>18.7</td>\n      <td>181.0</td>\n      <td>3750.0</td>\n      <td>MALE</td>\n    </tr>\n    <tr>\n      <th>1</th>\n      <td>Adelie</td>\n      <td>Torgersen</td>\n      <td>39.5</td>\n      <td>17.4</td>\n      <td>186.0</td>\n      <td>3800.0</td>\n      <td>FEMALE</td>\n    </tr>\n    <tr>\n      <th>2</th>\n      <td>Adelie</td>\n      <td>Torgersen</td>\n      <td>40.3</td>\n      <td>18.0</td>\n      <td>195.0</td>\n      <td>3250.0</td>\n      <td>FEMALE</td>\n    </tr>\n    <tr>\n      <th>3</th>\n      <td>Adelie</td>\n      <td>Torgersen</td>\n      <td>NaN</td>\n      <td>NaN</td>\n      <td>NaN</td>\n      <td>NaN</td>\n      <td>NaN</td>\n    </tr>\n    <tr>\n      <th>4</th>\n      <td>Adelie</td>\n      <td>Torgersen</td>\n      <td>36.7</td>\n      <td>19.3</td>\n      <td>193.0</td>\n      <td>3450.0</td>\n      <td>FEMALE</td>\n    </tr>\n    <tr>\n      <th>...</th>\n      <td>...</td>\n      <td>...</td>\n      <td>...</td>\n      <td>...</td>\n      <td>...</td>\n      <td>...</td>\n      <td>...</td>\n    </tr>\n    <tr>\n      <th>339</th>\n      <td>Gentoo</td>\n      <td>Biscoe</td>\n      <td>NaN</td>\n      <td>NaN</td>\n      <td>NaN</td>\n      <td>NaN</td>\n      <td>NaN</td>\n    </tr>\n    <tr>\n      <th>340</th>\n      <td>Gentoo</td>\n      <td>Biscoe</td>\n      <td>46.8</td>\n      <td>14.3</td>\n      <td>215.0</td>\n      <td>4850.0</td>\n      <td>FEMALE</td>\n    </tr>\n    <tr>\n      <th>341</th>\n      <td>Gentoo</td>\n      <td>Biscoe</td>\n      <td>50.4</td>\n      <td>15.7</td>\n      <td>222.0</td>\n      <td>5750.0</td>\n      <td>MALE</td>\n    </tr>\n    <tr>\n      <th>342</th>\n      <td>Gentoo</td>\n      <td>Biscoe</td>\n      <td>45.2</td>\n      <td>14.8</td>\n      <td>212.0</td>\n      <td>5200.0</td>\n      <td>FEMALE</td>\n    </tr>\n    <tr>\n      <th>343</th>\n      <td>Gentoo</td>\n      <td>Biscoe</td>\n      <td>49.9</td>\n      <td>16.1</td>\n      <td>213.0</td>\n      <td>5400.0</td>\n      <td>MALE</td>\n    </tr>\n  </tbody>\n</table>\n<p>344 rows × 7 columns</p>\n</div>"
     },
     "execution_count": 334,
     "metadata": {},
     "output_type": "execute_result"
    }
   ],
   "source": [
    "import pandas as pd\n",
    "\n",
    "odf = pd.read_csv(\"https://npg-ds.s3.amazonaws.com/penguins.csv\")\n",
    "odf.copy()"
   ],
   "metadata": {
    "collapsed": false,
    "pycharm": {
     "name": "#%%\n"
    }
   }
  },
  {
   "cell_type": "code",
   "execution_count": 335,
   "outputs": [],
   "source": [
    "# copy the dataframe from later usage\n",
    "df = odf.copy()"
   ],
   "metadata": {
    "collapsed": false,
    "pycharm": {
     "name": "#%%\n"
    }
   }
  },
  {
   "cell_type": "markdown",
   "source": [
    "The dataset has the following features:\n",
    "\n",
    "1. Species: penguin species\n",
    "    - Chinstrap\n",
    "    - Adelie (Adélie)\n",
    "    - Gentoo\n",
    "2. Culmen length: culmen length (mm)\n",
    "3. Culmen depth: culmen depth (mm)\n",
    "4. Flipper length: flipper length (mm)\n",
    "5. Body mass: body mass (g)\n",
    "6. Island: island name in the Palmer Archipelago (Antarctica)\n",
    "    - Dream\n",
    "    - Torgersen\n",
    "    - Biscoe\n",
    "7. Sex: penguin sex\n",
    "    - MALE\n",
    "    - FEMALE\n",
    "\n",
    "Let's see some statistics on the data."
   ],
   "metadata": {
    "collapsed": false,
    "pycharm": {
     "name": "#%% md\n"
    }
   }
  },
  {
   "cell_type": "markdown",
   "source": [],
   "metadata": {
    "collapsed": false
   }
  },
  {
   "cell_type": "code",
   "execution_count": 336,
   "outputs": [
    {
     "data": {
      "text/plain": "       culmen_length_mm  culmen_depth_mm  flipper_length_mm  body_mass_g\ncount        342.000000       342.000000         342.000000   342.000000\nmean          43.921930        17.151170         200.915205  4201.754386\nstd            5.459584         1.974793          14.061714   801.954536\nmin           32.100000        13.100000         172.000000  2700.000000\n25%           39.225000        15.600000         190.000000  3550.000000\n50%           44.450000        17.300000         197.000000  4050.000000\n75%           48.500000        18.700000         213.000000  4750.000000\nmax           59.600000        21.500000         231.000000  6300.000000",
      "text/html": "<div>\n<style scoped>\n    .dataframe tbody tr th:only-of-type {\n        vertical-align: middle;\n    }\n\n    .dataframe tbody tr th {\n        vertical-align: top;\n    }\n\n    .dataframe thead th {\n        text-align: right;\n    }\n</style>\n<table border=\"1\" class=\"dataframe\">\n  <thead>\n    <tr style=\"text-align: right;\">\n      <th></th>\n      <th>culmen_length_mm</th>\n      <th>culmen_depth_mm</th>\n      <th>flipper_length_mm</th>\n      <th>body_mass_g</th>\n    </tr>\n  </thead>\n  <tbody>\n    <tr>\n      <th>count</th>\n      <td>342.000000</td>\n      <td>342.000000</td>\n      <td>342.000000</td>\n      <td>342.000000</td>\n    </tr>\n    <tr>\n      <th>mean</th>\n      <td>43.921930</td>\n      <td>17.151170</td>\n      <td>200.915205</td>\n      <td>4201.754386</td>\n    </tr>\n    <tr>\n      <th>std</th>\n      <td>5.459584</td>\n      <td>1.974793</td>\n      <td>14.061714</td>\n      <td>801.954536</td>\n    </tr>\n    <tr>\n      <th>min</th>\n      <td>32.100000</td>\n      <td>13.100000</td>\n      <td>172.000000</td>\n      <td>2700.000000</td>\n    </tr>\n    <tr>\n      <th>25%</th>\n      <td>39.225000</td>\n      <td>15.600000</td>\n      <td>190.000000</td>\n      <td>3550.000000</td>\n    </tr>\n    <tr>\n      <th>50%</th>\n      <td>44.450000</td>\n      <td>17.300000</td>\n      <td>197.000000</td>\n      <td>4050.000000</td>\n    </tr>\n    <tr>\n      <th>75%</th>\n      <td>48.500000</td>\n      <td>18.700000</td>\n      <td>213.000000</td>\n      <td>4750.000000</td>\n    </tr>\n    <tr>\n      <th>max</th>\n      <td>59.600000</td>\n      <td>21.500000</td>\n      <td>231.000000</td>\n      <td>6300.000000</td>\n    </tr>\n  </tbody>\n</table>\n</div>"
     },
     "execution_count": 336,
     "metadata": {},
     "output_type": "execute_result"
    }
   ],
   "source": [
    "df.copy().describe()"
   ],
   "metadata": {
    "collapsed": false,
    "pycharm": {
     "name": "#%%\n"
    }
   }
  },
  {
   "cell_type": "markdown",
   "source": [
    "And check for missing values per feature."
   ],
   "metadata": {
    "collapsed": false
   }
  },
  {
   "cell_type": "code",
   "execution_count": 337,
   "outputs": [
    {
     "data": {
      "text/plain": "species               0\nisland                0\nculmen_length_mm      2\nculmen_depth_mm       2\nflipper_length_mm     2\nbody_mass_g           2\nsex                  10\ndtype: int64"
     },
     "execution_count": 337,
     "metadata": {},
     "output_type": "execute_result"
    }
   ],
   "source": [
    "df.copy().isnull().sum()"
   ],
   "metadata": {
    "collapsed": false,
    "pycharm": {
     "name": "#%%\n"
    }
   }
  },
  {
   "cell_type": "markdown",
   "source": [
    "We have a few values missing, As they are not too many of them we can just remove them."
   ],
   "metadata": {
    "collapsed": false
   }
  },
  {
   "cell_type": "code",
   "execution_count": 338,
   "outputs": [
    {
     "data": {
      "text/plain": "    species     island  culmen_length_mm  culmen_depth_mm  flipper_length_mm  \\\n0    Adelie  Torgersen              39.1             18.7              181.0   \n1    Adelie  Torgersen              39.5             17.4              186.0   \n2    Adelie  Torgersen              40.3             18.0              195.0   \n4    Adelie  Torgersen              36.7             19.3              193.0   \n5    Adelie  Torgersen              39.3             20.6              190.0   \n..      ...        ...               ...              ...                ...   \n338  Gentoo     Biscoe              47.2             13.7              214.0   \n340  Gentoo     Biscoe              46.8             14.3              215.0   \n341  Gentoo     Biscoe              50.4             15.7              222.0   \n342  Gentoo     Biscoe              45.2             14.8              212.0   \n343  Gentoo     Biscoe              49.9             16.1              213.0   \n\n     body_mass_g     sex  \n0         3750.0    MALE  \n1         3800.0  FEMALE  \n2         3250.0  FEMALE  \n4         3450.0  FEMALE  \n5         3650.0    MALE  \n..           ...     ...  \n338       4925.0  FEMALE  \n340       4850.0  FEMALE  \n341       5750.0    MALE  \n342       5200.0  FEMALE  \n343       5400.0    MALE  \n\n[334 rows x 7 columns]",
      "text/html": "<div>\n<style scoped>\n    .dataframe tbody tr th:only-of-type {\n        vertical-align: middle;\n    }\n\n    .dataframe tbody tr th {\n        vertical-align: top;\n    }\n\n    .dataframe thead th {\n        text-align: right;\n    }\n</style>\n<table border=\"1\" class=\"dataframe\">\n  <thead>\n    <tr style=\"text-align: right;\">\n      <th></th>\n      <th>species</th>\n      <th>island</th>\n      <th>culmen_length_mm</th>\n      <th>culmen_depth_mm</th>\n      <th>flipper_length_mm</th>\n      <th>body_mass_g</th>\n      <th>sex</th>\n    </tr>\n  </thead>\n  <tbody>\n    <tr>\n      <th>0</th>\n      <td>Adelie</td>\n      <td>Torgersen</td>\n      <td>39.1</td>\n      <td>18.7</td>\n      <td>181.0</td>\n      <td>3750.0</td>\n      <td>MALE</td>\n    </tr>\n    <tr>\n      <th>1</th>\n      <td>Adelie</td>\n      <td>Torgersen</td>\n      <td>39.5</td>\n      <td>17.4</td>\n      <td>186.0</td>\n      <td>3800.0</td>\n      <td>FEMALE</td>\n    </tr>\n    <tr>\n      <th>2</th>\n      <td>Adelie</td>\n      <td>Torgersen</td>\n      <td>40.3</td>\n      <td>18.0</td>\n      <td>195.0</td>\n      <td>3250.0</td>\n      <td>FEMALE</td>\n    </tr>\n    <tr>\n      <th>4</th>\n      <td>Adelie</td>\n      <td>Torgersen</td>\n      <td>36.7</td>\n      <td>19.3</td>\n      <td>193.0</td>\n      <td>3450.0</td>\n      <td>FEMALE</td>\n    </tr>\n    <tr>\n      <th>5</th>\n      <td>Adelie</td>\n      <td>Torgersen</td>\n      <td>39.3</td>\n      <td>20.6</td>\n      <td>190.0</td>\n      <td>3650.0</td>\n      <td>MALE</td>\n    </tr>\n    <tr>\n      <th>...</th>\n      <td>...</td>\n      <td>...</td>\n      <td>...</td>\n      <td>...</td>\n      <td>...</td>\n      <td>...</td>\n      <td>...</td>\n    </tr>\n    <tr>\n      <th>338</th>\n      <td>Gentoo</td>\n      <td>Biscoe</td>\n      <td>47.2</td>\n      <td>13.7</td>\n      <td>214.0</td>\n      <td>4925.0</td>\n      <td>FEMALE</td>\n    </tr>\n    <tr>\n      <th>340</th>\n      <td>Gentoo</td>\n      <td>Biscoe</td>\n      <td>46.8</td>\n      <td>14.3</td>\n      <td>215.0</td>\n      <td>4850.0</td>\n      <td>FEMALE</td>\n    </tr>\n    <tr>\n      <th>341</th>\n      <td>Gentoo</td>\n      <td>Biscoe</td>\n      <td>50.4</td>\n      <td>15.7</td>\n      <td>222.0</td>\n      <td>5750.0</td>\n      <td>MALE</td>\n    </tr>\n    <tr>\n      <th>342</th>\n      <td>Gentoo</td>\n      <td>Biscoe</td>\n      <td>45.2</td>\n      <td>14.8</td>\n      <td>212.0</td>\n      <td>5200.0</td>\n      <td>FEMALE</td>\n    </tr>\n    <tr>\n      <th>343</th>\n      <td>Gentoo</td>\n      <td>Biscoe</td>\n      <td>49.9</td>\n      <td>16.1</td>\n      <td>213.0</td>\n      <td>5400.0</td>\n      <td>MALE</td>\n    </tr>\n  </tbody>\n</table>\n<p>334 rows × 7 columns</p>\n</div>"
     },
     "execution_count": 338,
     "metadata": {},
     "output_type": "execute_result"
    }
   ],
   "source": [
    "df.dropna(subset=[\"culmen_length_mm\", \"culmen_depth_mm\", \"flipper_length_mm\", \"body_mass_g\", \"sex\"], inplace=True)\n",
    "df.copy()"
   ],
   "metadata": {
    "collapsed": false,
    "pycharm": {
     "name": "#%%\n"
    }
   }
  },
  {
   "cell_type": "markdown",
   "source": [
    "We have some categorical features, `species`, `island`, and `sex`. We'll use Target Encoding, our target will be the `species` column."
   ],
   "metadata": {
    "collapsed": false,
    "pycharm": {
     "name": "#%% md\n"
    }
   }
  },
  {
   "cell_type": "code",
   "execution_count": 339,
   "outputs": [
    {
     "name": "stderr",
     "output_type": "stream",
     "text": [
      "/Users/npg/Library/Caches/pypoetry/virtualenvs/mlucu-Vdmf4rJI-py3.8/lib/python3.8/site-packages/category_encoders/utils.py:21: FutureWarning: is_categorical is deprecated and will be removed in a future version.  Use is_categorical_dtype instead\n",
      "  elif pd.api.types.is_categorical(cols):\n"
     ]
    },
    {
     "data": {
      "text/plain": "     species    island  culmen_length_mm  culmen_depth_mm  flipper_length_mm  \\\n0          0  0.000000              39.1             18.7              181.0   \n1          0  0.000000              39.5             17.4              186.0   \n2          0  0.000000              40.3             18.0              195.0   \n4          0  0.000000              36.7             19.3              193.0   \n5          0  0.000000              39.3             20.6              190.0   \n..       ...       ...               ...              ...                ...   \n338        2  1.463415              47.2             13.7              214.0   \n340        2  1.463415              46.8             14.3              215.0   \n341        2  1.463415              50.4             15.7              222.0   \n342        2  1.463415              45.2             14.8              212.0   \n343        2  1.463415              49.9             16.1              213.0   \n\n     body_mass_g       sex  \n0         3750.0  0.928571  \n1         3800.0  0.909091  \n2         3250.0  0.909091  \n4         3450.0  0.909091  \n5         3650.0  0.928571  \n..           ...       ...  \n338       4925.0  0.909091  \n340       4850.0  0.909091  \n341       5750.0  0.928571  \n342       5200.0  0.909091  \n343       5400.0  0.928571  \n\n[334 rows x 7 columns]",
      "text/html": "<div>\n<style scoped>\n    .dataframe tbody tr th:only-of-type {\n        vertical-align: middle;\n    }\n\n    .dataframe tbody tr th {\n        vertical-align: top;\n    }\n\n    .dataframe thead th {\n        text-align: right;\n    }\n</style>\n<table border=\"1\" class=\"dataframe\">\n  <thead>\n    <tr style=\"text-align: right;\">\n      <th></th>\n      <th>species</th>\n      <th>island</th>\n      <th>culmen_length_mm</th>\n      <th>culmen_depth_mm</th>\n      <th>flipper_length_mm</th>\n      <th>body_mass_g</th>\n      <th>sex</th>\n    </tr>\n  </thead>\n  <tbody>\n    <tr>\n      <th>0</th>\n      <td>0</td>\n      <td>0.000000</td>\n      <td>39.1</td>\n      <td>18.7</td>\n      <td>181.0</td>\n      <td>3750.0</td>\n      <td>0.928571</td>\n    </tr>\n    <tr>\n      <th>1</th>\n      <td>0</td>\n      <td>0.000000</td>\n      <td>39.5</td>\n      <td>17.4</td>\n      <td>186.0</td>\n      <td>3800.0</td>\n      <td>0.909091</td>\n    </tr>\n    <tr>\n      <th>2</th>\n      <td>0</td>\n      <td>0.000000</td>\n      <td>40.3</td>\n      <td>18.0</td>\n      <td>195.0</td>\n      <td>3250.0</td>\n      <td>0.909091</td>\n    </tr>\n    <tr>\n      <th>4</th>\n      <td>0</td>\n      <td>0.000000</td>\n      <td>36.7</td>\n      <td>19.3</td>\n      <td>193.0</td>\n      <td>3450.0</td>\n      <td>0.909091</td>\n    </tr>\n    <tr>\n      <th>5</th>\n      <td>0</td>\n      <td>0.000000</td>\n      <td>39.3</td>\n      <td>20.6</td>\n      <td>190.0</td>\n      <td>3650.0</td>\n      <td>0.928571</td>\n    </tr>\n    <tr>\n      <th>...</th>\n      <td>...</td>\n      <td>...</td>\n      <td>...</td>\n      <td>...</td>\n      <td>...</td>\n      <td>...</td>\n      <td>...</td>\n    </tr>\n    <tr>\n      <th>338</th>\n      <td>2</td>\n      <td>1.463415</td>\n      <td>47.2</td>\n      <td>13.7</td>\n      <td>214.0</td>\n      <td>4925.0</td>\n      <td>0.909091</td>\n    </tr>\n    <tr>\n      <th>340</th>\n      <td>2</td>\n      <td>1.463415</td>\n      <td>46.8</td>\n      <td>14.3</td>\n      <td>215.0</td>\n      <td>4850.0</td>\n      <td>0.909091</td>\n    </tr>\n    <tr>\n      <th>341</th>\n      <td>2</td>\n      <td>1.463415</td>\n      <td>50.4</td>\n      <td>15.7</td>\n      <td>222.0</td>\n      <td>5750.0</td>\n      <td>0.928571</td>\n    </tr>\n    <tr>\n      <th>342</th>\n      <td>2</td>\n      <td>1.463415</td>\n      <td>45.2</td>\n      <td>14.8</td>\n      <td>212.0</td>\n      <td>5200.0</td>\n      <td>0.909091</td>\n    </tr>\n    <tr>\n      <th>343</th>\n      <td>2</td>\n      <td>1.463415</td>\n      <td>49.9</td>\n      <td>16.1</td>\n      <td>213.0</td>\n      <td>5400.0</td>\n      <td>0.928571</td>\n    </tr>\n  </tbody>\n</table>\n<p>334 rows × 7 columns</p>\n</div>"
     },
     "execution_count": 339,
     "metadata": {},
     "output_type": "execute_result"
    }
   ],
   "source": [
    "from category_encoders import TargetEncoder\n",
    "\n",
    "# transform into numeric value\n",
    "target_ordinals = {\n",
    "    \"Adelie\": 0,\n",
    "    \"Chinstrap\": 1,\n",
    "    \"Gentoo\": 2,\n",
    "}\n",
    "df[\"species\"] = df[\"species\"].apply(lambda x: target_ordinals[x])\n",
    "\n",
    "# encode categorical data\n",
    "ndf = TargetEncoder().fit_transform(df['island'], df[\"species\"])\n",
    "df[\"island\"] = ndf\n",
    "\n",
    "ndf = TargetEncoder().fit_transform(df['sex'], df[\"species\"])\n",
    "df[\"sex\"] = ndf\n",
    "df.copy()"
   ],
   "metadata": {
    "collapsed": false,
    "pycharm": {
     "name": "#%%\n"
    }
   }
  },
  {
   "cell_type": "markdown",
   "source": [
    "We'll now have to normalize the values."
   ],
   "metadata": {
    "collapsed": false
   }
  },
  {
   "cell_type": "code",
   "execution_count": 340,
   "outputs": [
    {
     "data": {
      "text/plain": "          species        island  culmen_length_mm  culmen_depth_mm  \\\ncount  334.000000  3.340000e+02      3.340000e+02     3.340000e+02   \nmean     0.922156 -2.127373e-16      4.254747e-17    -4.680222e-16   \nstd      0.890349  1.000000e+00      1.000000e+00     1.000000e+00   \nmin      0.000000 -1.643874e+00     -2.178237e+00    -2.063346e+00   \n25%      0.000000 -6.583478e-01     -8.230553e-01    -7.929628e-01   \n50%      1.000000 -6.583478e-01      9.260812e-02     7.089806e-02   \n75%      2.000000  9.648710e-01      8.388738e-01     7.823129e-01   \nmax      2.000000  9.648710e-01      2.857912e+00     2.205143e+00   \n\n       flipper_length_mm   body_mass_g           sex  \ncount       3.340000e+02  3.340000e+02  3.340000e+02  \nmean        8.934969e-16 -1.276424e-16  5.571724e-15  \nstd         1.000000e+00  1.000000e+00  1.000000e+00  \nmin        -2.069220e+00 -1.874987e+00 -1.009878e+00  \n25%        -7.855393e-01 -8.188709e-01 -1.009878e+00  \n50%        -2.863300e-01 -1.976264e-01  9.898726e-01  \n75%         8.547197e-01  7.264747e-01  9.898726e-01  \nmax         2.138401e+00  2.597974e+00  9.898726e-01  ",
      "text/html": "<div>\n<style scoped>\n    .dataframe tbody tr th:only-of-type {\n        vertical-align: middle;\n    }\n\n    .dataframe tbody tr th {\n        vertical-align: top;\n    }\n\n    .dataframe thead th {\n        text-align: right;\n    }\n</style>\n<table border=\"1\" class=\"dataframe\">\n  <thead>\n    <tr style=\"text-align: right;\">\n      <th></th>\n      <th>species</th>\n      <th>island</th>\n      <th>culmen_length_mm</th>\n      <th>culmen_depth_mm</th>\n      <th>flipper_length_mm</th>\n      <th>body_mass_g</th>\n      <th>sex</th>\n    </tr>\n  </thead>\n  <tbody>\n    <tr>\n      <th>count</th>\n      <td>334.000000</td>\n      <td>3.340000e+02</td>\n      <td>3.340000e+02</td>\n      <td>3.340000e+02</td>\n      <td>3.340000e+02</td>\n      <td>3.340000e+02</td>\n      <td>3.340000e+02</td>\n    </tr>\n    <tr>\n      <th>mean</th>\n      <td>0.922156</td>\n      <td>-2.127373e-16</td>\n      <td>4.254747e-17</td>\n      <td>-4.680222e-16</td>\n      <td>8.934969e-16</td>\n      <td>-1.276424e-16</td>\n      <td>5.571724e-15</td>\n    </tr>\n    <tr>\n      <th>std</th>\n      <td>0.890349</td>\n      <td>1.000000e+00</td>\n      <td>1.000000e+00</td>\n      <td>1.000000e+00</td>\n      <td>1.000000e+00</td>\n      <td>1.000000e+00</td>\n      <td>1.000000e+00</td>\n    </tr>\n    <tr>\n      <th>min</th>\n      <td>0.000000</td>\n      <td>-1.643874e+00</td>\n      <td>-2.178237e+00</td>\n      <td>-2.063346e+00</td>\n      <td>-2.069220e+00</td>\n      <td>-1.874987e+00</td>\n      <td>-1.009878e+00</td>\n    </tr>\n    <tr>\n      <th>25%</th>\n      <td>0.000000</td>\n      <td>-6.583478e-01</td>\n      <td>-8.230553e-01</td>\n      <td>-7.929628e-01</td>\n      <td>-7.855393e-01</td>\n      <td>-8.188709e-01</td>\n      <td>-1.009878e+00</td>\n    </tr>\n    <tr>\n      <th>50%</th>\n      <td>1.000000</td>\n      <td>-6.583478e-01</td>\n      <td>9.260812e-02</td>\n      <td>7.089806e-02</td>\n      <td>-2.863300e-01</td>\n      <td>-1.976264e-01</td>\n      <td>9.898726e-01</td>\n    </tr>\n    <tr>\n      <th>75%</th>\n      <td>2.000000</td>\n      <td>9.648710e-01</td>\n      <td>8.388738e-01</td>\n      <td>7.823129e-01</td>\n      <td>8.547197e-01</td>\n      <td>7.264747e-01</td>\n      <td>9.898726e-01</td>\n    </tr>\n    <tr>\n      <th>max</th>\n      <td>2.000000</td>\n      <td>9.648710e-01</td>\n      <td>2.857912e+00</td>\n      <td>2.205143e+00</td>\n      <td>2.138401e+00</td>\n      <td>2.597974e+00</td>\n      <td>9.898726e-01</td>\n    </tr>\n  </tbody>\n</table>\n</div>"
     },
     "execution_count": 340,
     "metadata": {},
     "output_type": "execute_result"
    }
   ],
   "source": [
    "# normalize everything but the count\n",
    "cols = df.columns.difference(['species'])\n",
    "df[cols] = (df[cols] - df[cols].mean()) / df[cols].std()\n",
    "df.describe()"
   ],
   "metadata": {
    "collapsed": false,
    "pycharm": {
     "name": "#%%\n"
    }
   }
  },
  {
   "cell_type": "markdown",
   "source": [
    "Let's check the correlation matrix."
   ],
   "metadata": {
    "collapsed": false
   }
  },
  {
   "cell_type": "code",
   "execution_count": 341,
   "outputs": [
    {
     "data": {
      "text/plain": "<Figure size 288x288 with 2 Axes>",
      "image/png": "[encoded data removed]"
     },
     "metadata": {
      "needs_background": "light"
     },
     "output_type": "display_data"
    },
    {
     "data": {
      "text/plain": "                   species  culmen_length_mm  culmen_depth_mm  body_mass_g  \\\nspecies           1.000000          0.729262        -0.740803     0.751020   \nculmen_length_mm  0.729262          1.000000        -0.228640     0.589066   \nculmen_depth_mm  -0.740803         -0.228640         1.000000    -0.472987   \nbody_mass_g       0.751020          0.589066        -0.472987     1.000000   \nsex               0.012145          0.344109         0.371562     0.425304   \n\n                       sex  \nspecies           0.012145  \nculmen_length_mm  0.344109  \nculmen_depth_mm   0.371562  \nbody_mass_g       0.425304  \nsex               1.000000  ",
      "text/html": "<div>\n<style scoped>\n    .dataframe tbody tr th:only-of-type {\n        vertical-align: middle;\n    }\n\n    .dataframe tbody tr th {\n        vertical-align: top;\n    }\n\n    .dataframe thead th {\n        text-align: right;\n    }\n</style>\n<table border=\"1\" class=\"dataframe\">\n  <thead>\n    <tr style=\"text-align: right;\">\n      <th></th>\n      <th>species</th>\n      <th>culmen_length_mm</th>\n      <th>culmen_depth_mm</th>\n      <th>body_mass_g</th>\n      <th>sex</th>\n    </tr>\n  </thead>\n  <tbody>\n    <tr>\n      <th>species</th>\n      <td>1.000000</td>\n      <td>0.729262</td>\n      <td>-0.740803</td>\n      <td>0.751020</td>\n      <td>0.012145</td>\n    </tr>\n    <tr>\n      <th>culmen_length_mm</th>\n      <td>0.729262</td>\n      <td>1.000000</td>\n      <td>-0.228640</td>\n      <td>0.589066</td>\n      <td>0.344109</td>\n    </tr>\n    <tr>\n      <th>culmen_depth_mm</th>\n      <td>-0.740803</td>\n      <td>-0.228640</td>\n      <td>1.000000</td>\n      <td>-0.472987</td>\n      <td>0.371562</td>\n    </tr>\n    <tr>\n      <th>body_mass_g</th>\n      <td>0.751020</td>\n      <td>0.589066</td>\n      <td>-0.472987</td>\n      <td>1.000000</td>\n      <td>0.425304</td>\n    </tr>\n    <tr>\n      <th>sex</th>\n      <td>0.012145</td>\n      <td>0.344109</td>\n      <td>0.371562</td>\n      <td>0.425304</td>\n      <td>1.000000</td>\n    </tr>\n  </tbody>\n</table>\n</div>"
     },
     "execution_count": 341,
     "metadata": {},
     "output_type": "execute_result"
    }
   ],
   "source": [
    "df = df.drop(\"island\", axis=1)\n",
    "df = df.drop(\"flipper_length_mm\", axis=1)\n",
    "\n",
    "\n",
    "import matplotlib.pyplot as plt\n",
    "\n",
    "# plot heatmap\n",
    "plt.matshow(df.corr())\n",
    "cb = plt.colorbar()\n",
    "plt.show()\n",
    "\n",
    "# show numerical values\n",
    "df.corr()"
   ],
   "metadata": {
    "collapsed": false,
    "pycharm": {
     "name": "#%%\n"
    }
   }
  },
  {
   "cell_type": "code",
   "execution_count": 342,
   "outputs": [
    {
     "data": {
      "text/plain": "     prediction  expected\n0             2       0.0\n1             1       0.0\n2             1       0.0\n3             1       NaN\n4             2       0.0\n..          ...       ...\n329           0       2.0\n330           0       2.0\n331           0       2.0\n332           0       2.0\n333           0       2.0\n\n[334 rows x 2 columns]",
      "text/html": "<div>\n<style scoped>\n    .dataframe tbody tr th:only-of-type {\n        vertical-align: middle;\n    }\n\n    .dataframe tbody tr th {\n        vertical-align: top;\n    }\n\n    .dataframe thead th {\n        text-align: right;\n    }\n</style>\n<table border=\"1\" class=\"dataframe\">\n  <thead>\n    <tr style=\"text-align: right;\">\n      <th></th>\n      <th>prediction</th>\n      <th>expected</th>\n    </tr>\n  </thead>\n  <tbody>\n    <tr>\n      <th>0</th>\n      <td>2</td>\n      <td>0.0</td>\n    </tr>\n    <tr>\n      <th>1</th>\n      <td>1</td>\n      <td>0.0</td>\n    </tr>\n    <tr>\n      <th>2</th>\n      <td>1</td>\n      <td>0.0</td>\n    </tr>\n    <tr>\n      <th>3</th>\n      <td>1</td>\n      <td>NaN</td>\n    </tr>\n    <tr>\n      <th>4</th>\n      <td>2</td>\n      <td>0.0</td>\n    </tr>\n    <tr>\n      <th>...</th>\n      <td>...</td>\n      <td>...</td>\n    </tr>\n    <tr>\n      <th>329</th>\n      <td>0</td>\n      <td>2.0</td>\n    </tr>\n    <tr>\n      <th>330</th>\n      <td>0</td>\n      <td>2.0</td>\n    </tr>\n    <tr>\n      <th>331</th>\n      <td>0</td>\n      <td>2.0</td>\n    </tr>\n    <tr>\n      <th>332</th>\n      <td>0</td>\n      <td>2.0</td>\n    </tr>\n    <tr>\n      <th>333</th>\n      <td>0</td>\n      <td>2.0</td>\n    </tr>\n  </tbody>\n</table>\n<p>334 rows × 2 columns</p>\n</div>"
     },
     "execution_count": 342,
     "metadata": {},
     "output_type": "execute_result"
    }
   ],
   "source": [
    "from pandas import DataFrame\n",
    "# from sklearn.model_selection import cross_val_score\n",
    "from sklearn.cluster import KMeans\n",
    "\n",
    "# split into features and labels\n",
    "features = df.copy()\n",
    "features = features.drop(\"species\", axis=1)\n",
    "labels = df[\"species\"]\n",
    "\n",
    "k_means = KMeans(n_clusters=3, init=\"k-means++\", n_init=100, max_iter=1000).fit(features)\n",
    "\n",
    "# scores = cross_val_score(k_means, features, labels, cv=10)\n",
    "result_df = DataFrame()\n",
    "result_df[\"prediction\"] = k_means.predict(features)\n",
    "result_df[\"expected\"] = labels\n",
    "result_df"
   ],
   "metadata": {
    "collapsed": false,
    "pycharm": {
     "name": "#%%\n"
    }
   }
  }
 ],
 "metadata": {
  "kernelspec": {
   "display_name": "Python 3",
   "language": "python",
   "name": "python3"
  },
  "language_info": {
   "codemirror_mode": {
    "name": "ipython",
    "version": 2
   },
   "file_extension": ".py",
   "mimetype": "text/x-python",
   "name": "python",
   "nbconvert_exporter": "python",
   "pygments_lexer": "ipython2",
   "version": "2.7.6"
  }
 },
 "nbformat": 4,
 "nbformat_minor": 0
}