{
 "cells": [
  {
   "cell_type": "code",
   "execution_count": 422,
   "outputs": [],
   "source": [
    "import ssl\n",
    "ssl._create_default_https_context = ssl._create_unverified_context"
   ],
   "metadata": {
    "collapsed": false,
    "pycharm": {
     "name": "#%%\n"
    }
   }
  },
  {
   "cell_type": "code",
   "execution_count": 423,
   "outputs": [],
   "source": [
    "import pandas as pd"
   ],
   "metadata": {
    "collapsed": false,
    "pycharm": {
     "name": "#%%\n"
    }
   }
  },
  {
   "cell_type": "code",
   "execution_count": 424,
   "metadata": {
    "collapsed": true,
    "pycharm": {
     "name": "#%%\n"
    }
   },
   "outputs": [
    {
     "data": {
      "text/plain": "                  datetime  season  holiday  workingday  weather   temp  \\\n0      2011-01-01 00:00:00       1        0           0        1   9.84   \n1      2011-01-01 01:00:00       1        0           0        1   9.02   \n2      2011-01-01 02:00:00       1        0           0        1   9.02   \n3      2011-01-01 03:00:00       1        0           0        1   9.84   \n4      2011-01-01 04:00:00       1        0           0        1   9.84   \n...                    ...     ...      ...         ...      ...    ...   \n10881  2012-12-19 19:00:00       4        0           1        1  15.58   \n10882  2012-12-19 20:00:00       4        0           1        1  14.76   \n10883  2012-12-19 21:00:00       4        0           1        1  13.94   \n10884  2012-12-19 22:00:00       4        0           1        1  13.94   \n10885  2012-12-19 23:00:00       4        0           1        1  13.12   \n\n        atemp  humidity  windspeed  casual  registered  count  \n0      14.395        81     0.0000       3          13     16  \n1      13.635        80     0.0000       8          32     40  \n2      13.635        80     0.0000       5          27     32  \n3      14.395        75     0.0000       3          10     13  \n4      14.395        75     0.0000       0           1      1  \n...       ...       ...        ...     ...         ...    ...  \n10881  19.695        50    26.0027       7         329    336  \n10882  17.425        57    15.0013      10         231    241  \n10883  15.910        61    15.0013       4         164    168  \n10884  17.425        61     6.0032      12         117    129  \n10885  16.665        66     8.9981       4          84     88  \n\n[10886 rows x 12 columns]",
      "text/html": "<div>\n<style scoped>\n    .dataframe tbody tr th:only-of-type {\n        vertical-align: middle;\n    }\n\n    .dataframe tbody tr th {\n        vertical-align: top;\n    }\n\n    .dataframe thead th {\n        text-align: right;\n    }\n</style>\n<table border=\"1\" class=\"dataframe\">\n  <thead>\n    <tr style=\"text-align: right;\">\n      <th></th>\n      <th>datetime</th>\n      <th>season</th>\n      <th>holiday</th>\n      <th>workingday</th>\n      <th>weather</th>\n      <th>temp</th>\n      <th>atemp</th>\n      <th>humidity</th>\n      <th>windspeed</th>\n      <th>casual</th>\n      <th>registered</th>\n      <th>count</th>\n    </tr>\n  </thead>\n  <tbody>\n    <tr>\n      <th>0</th>\n      <td>2011-01-01 00:00:00</td>\n      <td>1</td>\n      <td>0</td>\n      <td>0</td>\n      <td>1</td>\n      <td>9.84</td>\n      <td>14.395</td>\n      <td>81</td>\n      <td>0.0000</td>\n      <td>3</td>\n      <td>13</td>\n      <td>16</td>\n    </tr>\n    <tr>\n      <th>1</th>\n      <td>2011-01-01 01:00:00</td>\n      <td>1</td>\n      <td>0</td>\n      <td>0</td>\n      <td>1</td>\n      <td>9.02</td>\n      <td>13.635</td>\n      <td>80</td>\n      <td>0.0000</td>\n      <td>8</td>\n      <td>32</td>\n      <td>40</td>\n    </tr>\n    <tr>\n      <th>2</th>\n      <td>2011-01-01 02:00:00</td>\n      <td>1</td>\n      <td>0</td>\n      <td>0</td>\n      <td>1</td>\n      <td>9.02</td>\n      <td>13.635</td>\n      <td>80</td>\n      <td>0.0000</td>\n      <td>5</td>\n      <td>27</td>\n      <td>32</td>\n    </tr>\n    <tr>\n      <th>3</th>\n      <td>2011-01-01 03:00:00</td>\n      <td>1</td>\n      <td>0</td>\n      <td>0</td>\n      <td>1</td>\n      <td>9.84</td>\n      <td>14.395</td>\n      <td>75</td>\n      <td>0.0000</td>\n      <td>3</td>\n      <td>10</td>\n      <td>13</td>\n    </tr>\n    <tr>\n      <th>4</th>\n      <td>2011-01-01 04:00:00</td>\n      <td>1</td>\n      <td>0</td>\n      <td>0</td>\n      <td>1</td>\n      <td>9.84</td>\n      <td>14.395</td>\n      <td>75</td>\n      <td>0.0000</td>\n      <td>0</td>\n      <td>1</td>\n      <td>1</td>\n    </tr>\n    <tr>\n      <th>...</th>\n      <td>...</td>\n      <td>...</td>\n      <td>...</td>\n      <td>...</td>\n      <td>...</td>\n      <td>...</td>\n      <td>...</td>\n      <td>...</td>\n      <td>...</td>\n      <td>...</td>\n      <td>...</td>\n      <td>...</td>\n    </tr>\n    <tr>\n      <th>10881</th>\n      <td>2012-12-19 19:00:00</td>\n      <td>4</td>\n      <td>0</td>\n      <td>1</td>\n      <td>1</td>\n      <td>15.58</td>\n      <td>19.695</td>\n      <td>50</td>\n      <td>26.0027</td>\n      <td>7</td>\n      <td>329</td>\n      <td>336</td>\n    </tr>\n    <tr>\n      <th>10882</th>\n      <td>2012-12-19 20:00:00</td>\n      <td>4</td>\n      <td>0</td>\n      <td>1</td>\n      <td>1</td>\n      <td>14.76</td>\n      <td>17.425</td>\n      <td>57</td>\n      <td>15.0013</td>\n      <td>10</td>\n      <td>231</td>\n      <td>241</td>\n    </tr>\n    <tr>\n      <th>10883</th>\n      <td>2012-12-19 21:00:00</td>\n      <td>4</td>\n      <td>0</td>\n      <td>1</td>\n      <td>1</td>\n      <td>13.94</td>\n      <td>15.910</td>\n      <td>61</td>\n      <td>15.0013</td>\n      <td>4</td>\n      <td>164</td>\n      <td>168</td>\n    </tr>\n    <tr>\n      <th>10884</th>\n      <td>2012-12-19 22:00:00</td>\n      <td>4</td>\n      <td>0</td>\n      <td>1</td>\n      <td>1</td>\n      <td>13.94</td>\n      <td>17.425</td>\n      <td>61</td>\n      <td>6.0032</td>\n      <td>12</td>\n      <td>117</td>\n      <td>129</td>\n    </tr>\n    <tr>\n      <th>10885</th>\n      <td>2012-12-19 23:00:00</td>\n      <td>4</td>\n      <td>0</td>\n      <td>1</td>\n      <td>1</td>\n      <td>13.12</td>\n      <td>16.665</td>\n      <td>66</td>\n      <td>8.9981</td>\n      <td>4</td>\n      <td>84</td>\n      <td>88</td>\n    </tr>\n  </tbody>\n</table>\n<p>10886 rows × 12 columns</p>\n</div>"
     },
     "execution_count": 424,
     "metadata": {},
     "output_type": "execute_result"
    }
   ],
   "source": [
    "odf = pd.read_csv(\"https://npg-ds.s3.amazonaws.com/bike_sharing.csv\")\n",
    "odf.copy()"
   ]
  },
  {
   "cell_type": "code",
   "execution_count": 425,
   "outputs": [],
   "source": [
    "# save dataset into a different variable to avoid pulling/reading every time\n",
    "df = odf.copy()"
   ],
   "metadata": {
    "collapsed": false,
    "pycharm": {
     "name": "#%%\n"
    }
   }
  },
  {
   "cell_type": "code",
   "execution_count": 426,
   "outputs": [
    {
     "data": {
      "text/plain": "             season       holiday    workingday       weather         temp  \\\ncount  10886.000000  10886.000000  10886.000000  10886.000000  10886.00000   \nmean       2.506614      0.028569      0.680875      1.418427     20.23086   \nstd        1.116174      0.166599      0.466159      0.633839      7.79159   \nmin        1.000000      0.000000      0.000000      1.000000      0.82000   \n25%        2.000000      0.000000      0.000000      1.000000     13.94000   \n50%        3.000000      0.000000      1.000000      1.000000     20.50000   \n75%        4.000000      0.000000      1.000000      2.000000     26.24000   \nmax        4.000000      1.000000      1.000000      4.000000     41.00000   \n\n              atemp      humidity     windspeed        casual    registered  \\\ncount  10886.000000  10886.000000  10886.000000  10886.000000  10886.000000   \nmean      23.655084     61.886460     12.799395     36.021955    155.552177   \nstd        8.474601     19.245033      8.164537     49.960477    151.039033   \nmin        0.760000      0.000000      0.000000      0.000000      0.000000   \n25%       16.665000     47.000000      7.001500      4.000000     36.000000   \n50%       24.240000     62.000000     12.998000     17.000000    118.000000   \n75%       31.060000     77.000000     16.997900     49.000000    222.000000   \nmax       45.455000    100.000000     56.996900    367.000000    886.000000   \n\n              count  \ncount  10886.000000  \nmean     191.574132  \nstd      181.144454  \nmin        1.000000  \n25%       42.000000  \n50%      145.000000  \n75%      284.000000  \nmax      977.000000  ",
      "text/html": "<div>\n<style scoped>\n    .dataframe tbody tr th:only-of-type {\n        vertical-align: middle;\n    }\n\n    .dataframe tbody tr th {\n        vertical-align: top;\n    }\n\n    .dataframe thead th {\n        text-align: right;\n    }\n</style>\n<table border=\"1\" class=\"dataframe\">\n  <thead>\n    <tr style=\"text-align: right;\">\n      <th></th>\n      <th>season</th>\n      <th>holiday</th>\n      <th>workingday</th>\n      <th>weather</th>\n      <th>temp</th>\n      <th>atemp</th>\n      <th>humidity</th>\n      <th>windspeed</th>\n      <th>casual</th>\n      <th>registered</th>\n      <th>count</th>\n    </tr>\n  </thead>\n  <tbody>\n    <tr>\n      <th>count</th>\n      <td>10886.000000</td>\n      <td>10886.000000</td>\n      <td>10886.000000</td>\n      <td>10886.000000</td>\n      <td>10886.00000</td>\n      <td>10886.000000</td>\n      <td>10886.000000</td>\n      <td>10886.000000</td>\n      <td>10886.000000</td>\n      <td>10886.000000</td>\n      <td>10886.000000</td>\n    </tr>\n    <tr>\n      <th>mean</th>\n      <td>2.506614</td>\n      <td>0.028569</td>\n      <td>0.680875</td>\n      <td>1.418427</td>\n      <td>20.23086</td>\n      <td>23.655084</td>\n      <td>61.886460</td>\n      <td>12.799395</td>\n      <td>36.021955</td>\n      <td>155.552177</td>\n      <td>191.574132</td>\n    </tr>\n    <tr>\n      <th>std</th>\n      <td>1.116174</td>\n      <td>0.166599</td>\n      <td>0.466159</td>\n      <td>0.633839</td>\n      <td>7.79159</td>\n      <td>8.474601</td>\n      <td>19.245033</td>\n      <td>8.164537</td>\n      <td>49.960477</td>\n      <td>151.039033</td>\n      <td>181.144454</td>\n    </tr>\n    <tr>\n      <th>min</th>\n      <td>1.000000</td>\n      <td>0.000000</td>\n      <td>0.000000</td>\n      <td>1.000000</td>\n      <td>0.82000</td>\n      <td>0.760000</td>\n      <td>0.000000</td>\n      <td>0.000000</td>\n      <td>0.000000</td>\n      <td>0.000000</td>\n      <td>1.000000</td>\n    </tr>\n    <tr>\n      <th>25%</th>\n      <td>2.000000</td>\n      <td>0.000000</td>\n      <td>0.000000</td>\n      <td>1.000000</td>\n      <td>13.94000</td>\n      <td>16.665000</td>\n      <td>47.000000</td>\n      <td>7.001500</td>\n      <td>4.000000</td>\n      <td>36.000000</td>\n      <td>42.000000</td>\n    </tr>\n    <tr>\n      <th>50%</th>\n      <td>3.000000</td>\n      <td>0.000000</td>\n      <td>1.000000</td>\n      <td>1.000000</td>\n      <td>20.50000</td>\n      <td>24.240000</td>\n      <td>62.000000</td>\n      <td>12.998000</td>\n      <td>17.000000</td>\n      <td>118.000000</td>\n      <td>145.000000</td>\n    </tr>\n    <tr>\n      <th>75%</th>\n      <td>4.000000</td>\n      <td>0.000000</td>\n      <td>1.000000</td>\n      <td>2.000000</td>\n      <td>26.24000</td>\n      <td>31.060000</td>\n      <td>77.000000</td>\n      <td>16.997900</td>\n      <td>49.000000</td>\n      <td>222.000000</td>\n      <td>284.000000</td>\n    </tr>\n    <tr>\n      <th>max</th>\n      <td>4.000000</td>\n      <td>1.000000</td>\n      <td>1.000000</td>\n      <td>4.000000</td>\n      <td>41.00000</td>\n      <td>45.455000</td>\n      <td>100.000000</td>\n      <td>56.996900</td>\n      <td>367.000000</td>\n      <td>886.000000</td>\n      <td>977.000000</td>\n    </tr>\n  </tbody>\n</table>\n</div>"
     },
     "execution_count": 426,
     "metadata": {},
     "output_type": "execute_result"
    }
   ],
   "source": [
    "# describe dataset\n",
    "df.describe()"
   ],
   "metadata": {
    "collapsed": false,
    "pycharm": {
     "name": "#%%\n"
    }
   }
  },
  {
   "cell_type": "code",
   "execution_count": 427,
   "outputs": [
    {
     "data": {
      "text/plain": "datetime      0\nseason        0\nholiday       0\nworkingday    0\nweather       0\ntemp          0\natemp         0\nhumidity      0\nwindspeed     0\ncasual        0\nregistered    0\ncount         0\ndtype: int64"
     },
     "execution_count": 427,
     "metadata": {},
     "output_type": "execute_result"
    }
   ],
   "source": [
    "# check for null values\n",
    "df.copy().isnull().sum()"
   ],
   "metadata": {
    "collapsed": false,
    "pycharm": {
     "name": "#%%\n"
    }
   }
  },
  {
   "cell_type": "code",
   "execution_count": 428,
   "outputs": [
    {
     "data": {
      "text/plain": "                  datetime  season  holiday  workingday  weather   temp  \\\n0      2011-01-01 00:00:00       1        0           0        1   9.84   \n1      2011-01-01 01:00:00       1        0           0        1   9.02   \n2      2011-01-01 02:00:00       1        0           0        1   9.02   \n3      2011-01-01 03:00:00       1        0           0        1   9.84   \n4      2011-01-01 04:00:00       1        0           0        1   9.84   \n...                    ...     ...      ...         ...      ...    ...   \n10881  2012-12-19 19:00:00       4        0           1        1  15.58   \n10882  2012-12-19 20:00:00       4        0           1        1  14.76   \n10883  2012-12-19 21:00:00       4        0           1        1  13.94   \n10884  2012-12-19 22:00:00       4        0           1        1  13.94   \n10885  2012-12-19 23:00:00       4        0           1        1  13.12   \n\n       humidity  windspeed  count  \n0            81     0.0000     16  \n1            80     0.0000     40  \n2            80     0.0000     32  \n3            75     0.0000     13  \n4            75     0.0000      1  \n...         ...        ...    ...  \n10881        50    26.0027    336  \n10882        57    15.0013    241  \n10883        61    15.0013    168  \n10884        61     6.0032    129  \n10885        66     8.9981     88  \n\n[10886 rows x 9 columns]",
      "text/html": "<div>\n<style scoped>\n    .dataframe tbody tr th:only-of-type {\n        vertical-align: middle;\n    }\n\n    .dataframe tbody tr th {\n        vertical-align: top;\n    }\n\n    .dataframe thead th {\n        text-align: right;\n    }\n</style>\n<table border=\"1\" class=\"dataframe\">\n  <thead>\n    <tr style=\"text-align: right;\">\n      <th></th>\n      <th>datetime</th>\n      <th>season</th>\n      <th>holiday</th>\n      <th>workingday</th>\n      <th>weather</th>\n      <th>temp</th>\n      <th>humidity</th>\n      <th>windspeed</th>\n      <th>count</th>\n    </tr>\n  </thead>\n  <tbody>\n    <tr>\n      <th>0</th>\n      <td>2011-01-01 00:00:00</td>\n      <td>1</td>\n      <td>0</td>\n      <td>0</td>\n      <td>1</td>\n      <td>9.84</td>\n      <td>81</td>\n      <td>0.0000</td>\n      <td>16</td>\n    </tr>\n    <tr>\n      <th>1</th>\n      <td>2011-01-01 01:00:00</td>\n      <td>1</td>\n      <td>0</td>\n      <td>0</td>\n      <td>1</td>\n      <td>9.02</td>\n      <td>80</td>\n      <td>0.0000</td>\n      <td>40</td>\n    </tr>\n    <tr>\n      <th>2</th>\n      <td>2011-01-01 02:00:00</td>\n      <td>1</td>\n      <td>0</td>\n      <td>0</td>\n      <td>1</td>\n      <td>9.02</td>\n      <td>80</td>\n      <td>0.0000</td>\n      <td>32</td>\n    </tr>\n    <tr>\n      <th>3</th>\n      <td>2011-01-01 03:00:00</td>\n      <td>1</td>\n      <td>0</td>\n      <td>0</td>\n      <td>1</td>\n      <td>9.84</td>\n      <td>75</td>\n      <td>0.0000</td>\n      <td>13</td>\n    </tr>\n    <tr>\n      <th>4</th>\n      <td>2011-01-01 04:00:00</td>\n      <td>1</td>\n      <td>0</td>\n      <td>0</td>\n      <td>1</td>\n      <td>9.84</td>\n      <td>75</td>\n      <td>0.0000</td>\n      <td>1</td>\n    </tr>\n    <tr>\n      <th>...</th>\n      <td>...</td>\n      <td>...</td>\n      <td>...</td>\n      <td>...</td>\n      <td>...</td>\n      <td>...</td>\n      <td>...</td>\n      <td>...</td>\n      <td>...</td>\n    </tr>\n    <tr>\n      <th>10881</th>\n      <td>2012-12-19 19:00:00</td>\n      <td>4</td>\n      <td>0</td>\n      <td>1</td>\n      <td>1</td>\n      <td>15.58</td>\n      <td>50</td>\n      <td>26.0027</td>\n      <td>336</td>\n    </tr>\n    <tr>\n      <th>10882</th>\n      <td>2012-12-19 20:00:00</td>\n      <td>4</td>\n      <td>0</td>\n      <td>1</td>\n      <td>1</td>\n      <td>14.76</td>\n      <td>57</td>\n      <td>15.0013</td>\n      <td>241</td>\n    </tr>\n    <tr>\n      <th>10883</th>\n      <td>2012-12-19 21:00:00</td>\n      <td>4</td>\n      <td>0</td>\n      <td>1</td>\n      <td>1</td>\n      <td>13.94</td>\n      <td>61</td>\n      <td>15.0013</td>\n      <td>168</td>\n    </tr>\n    <tr>\n      <th>10884</th>\n      <td>2012-12-19 22:00:00</td>\n      <td>4</td>\n      <td>0</td>\n      <td>1</td>\n      <td>1</td>\n      <td>13.94</td>\n      <td>61</td>\n      <td>6.0032</td>\n      <td>129</td>\n    </tr>\n    <tr>\n      <th>10885</th>\n      <td>2012-12-19 23:00:00</td>\n      <td>4</td>\n      <td>0</td>\n      <td>1</td>\n      <td>1</td>\n      <td>13.12</td>\n      <td>66</td>\n      <td>8.9981</td>\n      <td>88</td>\n    </tr>\n  </tbody>\n</table>\n<p>10886 rows × 9 columns</p>\n</div>"
     },
     "execution_count": 428,
     "metadata": {},
     "output_type": "execute_result"
    }
   ],
   "source": [
    "# remove not necessary columns\n",
    "df.drop(columns=[\"registered\", \"casual\", \"atemp\"], axis=1, inplace=True)\n",
    "df.copy()"
   ],
   "metadata": {
    "collapsed": false,
    "pycharm": {
     "name": "#%%\n"
    }
   }
  },
  {
   "cell_type": "code",
   "execution_count": 429,
   "outputs": [
    {
     "data": {
      "text/plain": "       season  holiday  workingday  weather   temp  humidity  windspeed  \\\n0           1        0           0        1   9.84        81     0.0000   \n1           1        0           0        1   9.02        80     0.0000   \n2           1        0           0        1   9.02        80     0.0000   \n3           1        0           0        1   9.84        75     0.0000   \n4           1        0           0        1   9.84        75     0.0000   \n...       ...      ...         ...      ...    ...       ...        ...   \n10881       4        0           1        1  15.58        50    26.0027   \n10882       4        0           1        1  14.76        57    15.0013   \n10883       4        0           1        1  13.94        61    15.0013   \n10884       4        0           1        1  13.94        61     6.0032   \n10885       4        0           1        1  13.12        66     8.9981   \n\n       count  hour_of_day day_of_week  day_of_month     month  \n0         16            0    Saturday             1   January  \n1         40            1    Saturday             1   January  \n2         32            2    Saturday             1   January  \n3         13            3    Saturday             1   January  \n4          1            4    Saturday             1   January  \n...      ...          ...         ...           ...       ...  \n10881    336           19   Wednesday            19  December  \n10882    241           20   Wednesday            19  December  \n10883    168           21   Wednesday            19  December  \n10884    129           22   Wednesday            19  December  \n10885     88           23   Wednesday            19  December  \n\n[10886 rows x 12 columns]",
      "text/html": "<div>\n<style scoped>\n    .dataframe tbody tr th:only-of-type {\n        vertical-align: middle;\n    }\n\n    .dataframe tbody tr th {\n        vertical-align: top;\n    }\n\n    .dataframe thead th {\n        text-align: right;\n    }\n</style>\n<table border=\"1\" class=\"dataframe\">\n  <thead>\n    <tr style=\"text-align: right;\">\n      <th></th>\n      <th>season</th>\n      <th>holiday</th>\n      <th>workingday</th>\n      <th>weather</th>\n      <th>temp</th>\n      <th>humidity</th>\n      <th>windspeed</th>\n      <th>count</th>\n      <th>hour_of_day</th>\n      <th>day_of_week</th>\n      <th>day_of_month</th>\n      <th>month</th>\n    </tr>\n  </thead>\n  <tbody>\n    <tr>\n      <th>0</th>\n      <td>1</td>\n      <td>0</td>\n      <td>0</td>\n      <td>1</td>\n      <td>9.84</td>\n      <td>81</td>\n      <td>0.0000</td>\n      <td>16</td>\n      <td>0</td>\n      <td>Saturday</td>\n      <td>1</td>\n      <td>January</td>\n    </tr>\n    <tr>\n      <th>1</th>\n      <td>1</td>\n      <td>0</td>\n      <td>0</td>\n      <td>1</td>\n      <td>9.02</td>\n      <td>80</td>\n      <td>0.0000</td>\n      <td>40</td>\n      <td>1</td>\n      <td>Saturday</td>\n      <td>1</td>\n      <td>January</td>\n    </tr>\n    <tr>\n      <th>2</th>\n      <td>1</td>\n      <td>0</td>\n      <td>0</td>\n      <td>1</td>\n      <td>9.02</td>\n      <td>80</td>\n      <td>0.0000</td>\n      <td>32</td>\n      <td>2</td>\n      <td>Saturday</td>\n      <td>1</td>\n      <td>January</td>\n    </tr>\n    <tr>\n      <th>3</th>\n      <td>1</td>\n      <td>0</td>\n      <td>0</td>\n      <td>1</td>\n      <td>9.84</td>\n      <td>75</td>\n      <td>0.0000</td>\n      <td>13</td>\n      <td>3</td>\n      <td>Saturday</td>\n      <td>1</td>\n      <td>January</td>\n    </tr>\n    <tr>\n      <th>4</th>\n      <td>1</td>\n      <td>0</td>\n      <td>0</td>\n      <td>1</td>\n      <td>9.84</td>\n      <td>75</td>\n      <td>0.0000</td>\n      <td>1</td>\n      <td>4</td>\n      <td>Saturday</td>\n      <td>1</td>\n      <td>January</td>\n    </tr>\n    <tr>\n      <th>...</th>\n      <td>...</td>\n      <td>...</td>\n      <td>...</td>\n      <td>...</td>\n      <td>...</td>\n      <td>...</td>\n      <td>...</td>\n      <td>...</td>\n      <td>...</td>\n      <td>...</td>\n      <td>...</td>\n      <td>...</td>\n    </tr>\n    <tr>\n      <th>10881</th>\n      <td>4</td>\n      <td>0</td>\n      <td>1</td>\n      <td>1</td>\n      <td>15.58</td>\n      <td>50</td>\n      <td>26.0027</td>\n      <td>336</td>\n      <td>19</td>\n      <td>Wednesday</td>\n      <td>19</td>\n      <td>December</td>\n    </tr>\n    <tr>\n      <th>10882</th>\n      <td>4</td>\n      <td>0</td>\n      <td>1</td>\n      <td>1</td>\n      <td>14.76</td>\n      <td>57</td>\n      <td>15.0013</td>\n      <td>241</td>\n      <td>20</td>\n      <td>Wednesday</td>\n      <td>19</td>\n      <td>December</td>\n    </tr>\n    <tr>\n      <th>10883</th>\n      <td>4</td>\n      <td>0</td>\n      <td>1</td>\n      <td>1</td>\n      <td>13.94</td>\n      <td>61</td>\n      <td>15.0013</td>\n      <td>168</td>\n      <td>21</td>\n      <td>Wednesday</td>\n      <td>19</td>\n      <td>December</td>\n    </tr>\n    <tr>\n      <th>10884</th>\n      <td>4</td>\n      <td>0</td>\n      <td>1</td>\n      <td>1</td>\n      <td>13.94</td>\n      <td>61</td>\n      <td>6.0032</td>\n      <td>129</td>\n      <td>22</td>\n      <td>Wednesday</td>\n      <td>19</td>\n      <td>December</td>\n    </tr>\n    <tr>\n      <th>10885</th>\n      <td>4</td>\n      <td>0</td>\n      <td>1</td>\n      <td>1</td>\n      <td>13.12</td>\n      <td>66</td>\n      <td>8.9981</td>\n      <td>88</td>\n      <td>23</td>\n      <td>Wednesday</td>\n      <td>19</td>\n      <td>December</td>\n    </tr>\n  </tbody>\n</table>\n<p>10886 rows × 12 columns</p>\n</div>"
     },
     "execution_count": 429,
     "metadata": {},
     "output_type": "execute_result"
    }
   ],
   "source": [
    "DAYS = [\"Monday\", \"Tuesday\", \"Wednesday\", \"Thursday\", \"Friday\", \"Saturday\", \"Sunday\"]\n",
    "MONTHS = [\"January\", \"February\", \"March\", \"April\", \"May\", \"June\", \"July\", \"August\", \"September\", \"October\", \"November\", \"December\"]\n",
    "\n",
    "# cast column to datetime\n",
    "df['datetime'] = pd.to_datetime(df['datetime'])\n",
    "\n",
    "# extract data from datetime into individual features\n",
    "df[\"hour_of_day\"] = df[\"datetime\"].dt.hour\n",
    "df[\"day_of_week\"] = df[\"datetime\"].apply(lambda x: DAYS[x.dayofweek])\n",
    "df[\"day_of_month\"] = df[\"datetime\"].dt.day\n",
    "df[\"month\"] = df[\"datetime\"].apply(lambda x: MONTHS[x.month - 1])\n",
    "df.drop(columns=[\"datetime\"], axis=1, inplace=True)\n",
    "df.copy()"
   ],
   "metadata": {
    "collapsed": false,
    "pycharm": {
     "name": "#%%\n"
    }
   }
  },
  {
   "cell_type": "code",
   "execution_count": 430,
   "outputs": [
    {
     "name": "stderr",
     "output_type": "stream",
     "text": [
      "/Users/npg/Library/Caches/pypoetry/virtualenvs/mlucu-Vdmf4rJI-py3.8/lib/python3.8/site-packages/category_encoders/utils.py:21: FutureWarning: is_categorical is deprecated and will be removed in a future version.  Use is_categorical_dtype instead\n",
      "  elif pd.api.types.is_categorical(cols):\n"
     ]
    },
    {
     "data": {
      "text/plain": "         season  holiday  workingday   weather      temp  humidity  windspeed  \\\n0     -1.677258  0.17149   -1.460672  0.566156 -1.333661  0.993213  -1.567754   \n1     -1.677258  0.17149   -1.460672  0.566156 -1.438907  0.941249  -1.567754   \n2     -1.677258  0.17149   -1.460672  0.566156 -1.438907  0.941249  -1.567754   \n3     -1.677258  0.17149   -1.460672  0.566156 -1.333661  0.681430  -1.567754   \n4     -1.677258  0.17149   -1.460672  0.566156 -1.333661  0.681430  -1.567754   \n...         ...      ...         ...       ...       ...       ...        ...   \n10881  0.165297  0.17149    0.684616  0.566156 -0.596935 -0.617666   1.617227   \n10882  0.165297  0.17149    0.684616  0.566156 -0.702182 -0.253919   0.269704   \n10883  0.165297  0.17149    0.684616  0.566156 -0.807428 -0.046064   0.269704   \n10884  0.165297  0.17149    0.684616  0.566156 -0.807428 -0.046064  -0.832442   \n10885  0.165297  0.17149    0.684616  0.566156 -0.912675  0.213755  -0.465608   \n\n       count  hour_of_day  day_of_week  day_of_month     month  \n0         16    -1.047910     0.889151     -1.642070 -2.060190  \n1         40    -1.211349     0.889151     -1.642070 -2.060190  \n2         32    -1.295525     0.889151     -1.642070 -2.060190  \n3         13    -1.381103     0.889151     -1.642070 -2.060190  \n4          1    -1.422196     0.889151     -1.642070 -2.060190  \n...      ...          ...          ...           ...       ...  \n10881    336     0.950126    -0.552355      1.644787 -0.324885  \n10882    241     0.283748    -0.552355      1.644787 -0.324885  \n10883    168    -0.139814    -0.552355      1.644787 -0.324885  \n10884    129    -0.445456    -0.552355      1.644787 -0.324885  \n10885     88    -0.783925    -0.552355      1.644787 -0.324885  \n\n[10886 rows x 12 columns]",
      "text/html": "<div>\n<style scoped>\n    .dataframe tbody tr th:only-of-type {\n        vertical-align: middle;\n    }\n\n    .dataframe tbody tr th {\n        vertical-align: top;\n    }\n\n    .dataframe thead th {\n        text-align: right;\n    }\n</style>\n<table border=\"1\" class=\"dataframe\">\n  <thead>\n    <tr style=\"text-align: right;\">\n      <th></th>\n      <th>season</th>\n      <th>holiday</th>\n      <th>workingday</th>\n      <th>weather</th>\n      <th>temp</th>\n      <th>humidity</th>\n      <th>windspeed</th>\n      <th>count</th>\n      <th>hour_of_day</th>\n      <th>day_of_week</th>\n      <th>day_of_month</th>\n      <th>month</th>\n    </tr>\n  </thead>\n  <tbody>\n    <tr>\n      <th>0</th>\n      <td>-1.677258</td>\n      <td>0.17149</td>\n      <td>-1.460672</td>\n      <td>0.566156</td>\n      <td>-1.333661</td>\n      <td>0.993213</td>\n      <td>-1.567754</td>\n      <td>16</td>\n      <td>-1.047910</td>\n      <td>0.889151</td>\n      <td>-1.642070</td>\n      <td>-2.060190</td>\n    </tr>\n    <tr>\n      <th>1</th>\n      <td>-1.677258</td>\n      <td>0.17149</td>\n      <td>-1.460672</td>\n      <td>0.566156</td>\n      <td>-1.438907</td>\n      <td>0.941249</td>\n      <td>-1.567754</td>\n      <td>40</td>\n      <td>-1.211349</td>\n      <td>0.889151</td>\n      <td>-1.642070</td>\n      <td>-2.060190</td>\n    </tr>\n    <tr>\n      <th>2</th>\n      <td>-1.677258</td>\n      <td>0.17149</td>\n      <td>-1.460672</td>\n      <td>0.566156</td>\n      <td>-1.438907</td>\n      <td>0.941249</td>\n      <td>-1.567754</td>\n      <td>32</td>\n      <td>-1.295525</td>\n      <td>0.889151</td>\n      <td>-1.642070</td>\n      <td>-2.060190</td>\n    </tr>\n    <tr>\n      <th>3</th>\n      <td>-1.677258</td>\n      <td>0.17149</td>\n      <td>-1.460672</td>\n      <td>0.566156</td>\n      <td>-1.333661</td>\n      <td>0.681430</td>\n      <td>-1.567754</td>\n      <td>13</td>\n      <td>-1.381103</td>\n      <td>0.889151</td>\n      <td>-1.642070</td>\n      <td>-2.060190</td>\n    </tr>\n    <tr>\n      <th>4</th>\n      <td>-1.677258</td>\n      <td>0.17149</td>\n      <td>-1.460672</td>\n      <td>0.566156</td>\n      <td>-1.333661</td>\n      <td>0.681430</td>\n      <td>-1.567754</td>\n      <td>1</td>\n      <td>-1.422196</td>\n      <td>0.889151</td>\n      <td>-1.642070</td>\n      <td>-2.060190</td>\n    </tr>\n    <tr>\n      <th>...</th>\n      <td>...</td>\n      <td>...</td>\n      <td>...</td>\n      <td>...</td>\n      <td>...</td>\n      <td>...</td>\n      <td>...</td>\n      <td>...</td>\n      <td>...</td>\n      <td>...</td>\n      <td>...</td>\n      <td>...</td>\n    </tr>\n    <tr>\n      <th>10881</th>\n      <td>0.165297</td>\n      <td>0.17149</td>\n      <td>0.684616</td>\n      <td>0.566156</td>\n      <td>-0.596935</td>\n      <td>-0.617666</td>\n      <td>1.617227</td>\n      <td>336</td>\n      <td>0.950126</td>\n      <td>-0.552355</td>\n      <td>1.644787</td>\n      <td>-0.324885</td>\n    </tr>\n    <tr>\n      <th>10882</th>\n      <td>0.165297</td>\n      <td>0.17149</td>\n      <td>0.684616</td>\n      <td>0.566156</td>\n      <td>-0.702182</td>\n      <td>-0.253919</td>\n      <td>0.269704</td>\n      <td>241</td>\n      <td>0.283748</td>\n      <td>-0.552355</td>\n      <td>1.644787</td>\n      <td>-0.324885</td>\n    </tr>\n    <tr>\n      <th>10883</th>\n      <td>0.165297</td>\n      <td>0.17149</td>\n      <td>0.684616</td>\n      <td>0.566156</td>\n      <td>-0.807428</td>\n      <td>-0.046064</td>\n      <td>0.269704</td>\n      <td>168</td>\n      <td>-0.139814</td>\n      <td>-0.552355</td>\n      <td>1.644787</td>\n      <td>-0.324885</td>\n    </tr>\n    <tr>\n      <th>10884</th>\n      <td>0.165297</td>\n      <td>0.17149</td>\n      <td>0.684616</td>\n      <td>0.566156</td>\n      <td>-0.807428</td>\n      <td>-0.046064</td>\n      <td>-0.832442</td>\n      <td>129</td>\n      <td>-0.445456</td>\n      <td>-0.552355</td>\n      <td>1.644787</td>\n      <td>-0.324885</td>\n    </tr>\n    <tr>\n      <th>10885</th>\n      <td>0.165297</td>\n      <td>0.17149</td>\n      <td>0.684616</td>\n      <td>0.566156</td>\n      <td>-0.912675</td>\n      <td>0.213755</td>\n      <td>-0.465608</td>\n      <td>88</td>\n      <td>-0.783925</td>\n      <td>-0.552355</td>\n      <td>1.644787</td>\n      <td>-0.324885</td>\n    </tr>\n  </tbody>\n</table>\n<p>10886 rows × 12 columns</p>\n</div>"
     },
     "execution_count": 430,
     "metadata": {},
     "output_type": "execute_result"
    }
   ],
   "source": [
    "from category_encoders import TargetEncoder\n",
    "from sklearn.preprocessing import StandardScaler\n",
    "\n",
    "# Should I be encoding boolean values?\n",
    "# encode categorical values into reals using target encoder\n",
    "df = TargetEncoder(cols=[\"season\", \"holiday\", \"workingday\", \"weather\", \"hour_of_day\", \"day_of_week\", \"month\"]).fit_transform(df, df[\"count\"])\n",
    "\n",
    "# scale features\n",
    "cols = df.columns.difference(['count'])\n",
    "df[cols] = StandardScaler().fit_transform(df[cols])\n",
    "df.copy()"
   ],
   "metadata": {
    "collapsed": false,
    "pycharm": {
     "name": "#%%\n"
    }
   }
  },
  {
   "cell_type": "code",
   "execution_count": 431,
   "outputs": [
    {
     "name": "stdout",
     "output_type": "stream",
     "text": [
      "Number of outliers: 82\n"
     ]
    },
    {
     "data": {
      "text/plain": "         season  holiday  workingday   weather      temp  humidity  windspeed  \\\n0     -1.677258  0.17149   -1.460672  0.566156 -1.333661  0.993213  -1.567754   \n1     -1.677258  0.17149   -1.460672  0.566156 -1.438907  0.941249  -1.567754   \n2     -1.677258  0.17149   -1.460672  0.566156 -1.438907  0.941249  -1.567754   \n3     -1.677258  0.17149   -1.460672  0.566156 -1.333661  0.681430  -1.567754   \n4     -1.677258  0.17149   -1.460672  0.566156 -1.333661  0.681430  -1.567754   \n...         ...      ...         ...       ...       ...       ...        ...   \n10799  0.165297  0.17149    0.684616  0.566156 -0.596935 -0.617666   1.617227   \n10800  0.165297  0.17149    0.684616  0.566156 -0.702182 -0.253919   0.269704   \n10801  0.165297  0.17149    0.684616  0.566156 -0.807428 -0.046064   0.269704   \n10802  0.165297  0.17149    0.684616  0.566156 -0.807428 -0.046064  -0.832442   \n10803  0.165297  0.17149    0.684616  0.566156 -0.912675  0.213755  -0.465608   \n\n       count  hour_of_day  day_of_week  day_of_month     month  \n0         16    -1.047910     0.889151     -1.642070 -2.060190  \n1         40    -1.211349     0.889151     -1.642070 -2.060190  \n2         32    -1.295525     0.889151     -1.642070 -2.060190  \n3         13    -1.381103     0.889151     -1.642070 -2.060190  \n4          1    -1.422196     0.889151     -1.642070 -2.060190  \n...      ...          ...          ...           ...       ...  \n10799    336     0.950126    -0.552355      1.644787 -0.324885  \n10800    241     0.283748    -0.552355      1.644787 -0.324885  \n10801    168    -0.139814    -0.552355      1.644787 -0.324885  \n10802    129    -0.445456    -0.552355      1.644787 -0.324885  \n10803     88    -0.783925    -0.552355      1.644787 -0.324885  \n\n[10804 rows x 12 columns]",
      "text/html": "<div>\n<style scoped>\n    .dataframe tbody tr th:only-of-type {\n        vertical-align: middle;\n    }\n\n    .dataframe tbody tr th {\n        vertical-align: top;\n    }\n\n    .dataframe thead th {\n        text-align: right;\n    }\n</style>\n<table border=\"1\" class=\"dataframe\">\n  <thead>\n    <tr style=\"text-align: right;\">\n      <th></th>\n      <th>season</th>\n      <th>holiday</th>\n      <th>workingday</th>\n      <th>weather</th>\n      <th>temp</th>\n      <th>humidity</th>\n      <th>windspeed</th>\n      <th>count</th>\n      <th>hour_of_day</th>\n      <th>day_of_week</th>\n      <th>day_of_month</th>\n      <th>month</th>\n    </tr>\n  </thead>\n  <tbody>\n    <tr>\n      <th>0</th>\n      <td>-1.677258</td>\n      <td>0.17149</td>\n      <td>-1.460672</td>\n      <td>0.566156</td>\n      <td>-1.333661</td>\n      <td>0.993213</td>\n      <td>-1.567754</td>\n      <td>16</td>\n      <td>-1.047910</td>\n      <td>0.889151</td>\n      <td>-1.642070</td>\n      <td>-2.060190</td>\n    </tr>\n    <tr>\n      <th>1</th>\n      <td>-1.677258</td>\n      <td>0.17149</td>\n      <td>-1.460672</td>\n      <td>0.566156</td>\n      <td>-1.438907</td>\n      <td>0.941249</td>\n      <td>-1.567754</td>\n      <td>40</td>\n      <td>-1.211349</td>\n      <td>0.889151</td>\n      <td>-1.642070</td>\n      <td>-2.060190</td>\n    </tr>\n    <tr>\n      <th>2</th>\n      <td>-1.677258</td>\n      <td>0.17149</td>\n      <td>-1.460672</td>\n      <td>0.566156</td>\n      <td>-1.438907</td>\n      <td>0.941249</td>\n      <td>-1.567754</td>\n      <td>32</td>\n      <td>-1.295525</td>\n      <td>0.889151</td>\n      <td>-1.642070</td>\n      <td>-2.060190</td>\n    </tr>\n    <tr>\n      <th>3</th>\n      <td>-1.677258</td>\n      <td>0.17149</td>\n      <td>-1.460672</td>\n      <td>0.566156</td>\n      <td>-1.333661</td>\n      <td>0.681430</td>\n      <td>-1.567754</td>\n      <td>13</td>\n      <td>-1.381103</td>\n      <td>0.889151</td>\n      <td>-1.642070</td>\n      <td>-2.060190</td>\n    </tr>\n    <tr>\n      <th>4</th>\n      <td>-1.677258</td>\n      <td>0.17149</td>\n      <td>-1.460672</td>\n      <td>0.566156</td>\n      <td>-1.333661</td>\n      <td>0.681430</td>\n      <td>-1.567754</td>\n      <td>1</td>\n      <td>-1.422196</td>\n      <td>0.889151</td>\n      <td>-1.642070</td>\n      <td>-2.060190</td>\n    </tr>\n    <tr>\n      <th>...</th>\n      <td>...</td>\n      <td>...</td>\n      <td>...</td>\n      <td>...</td>\n      <td>...</td>\n      <td>...</td>\n      <td>...</td>\n      <td>...</td>\n      <td>...</td>\n      <td>...</td>\n      <td>...</td>\n      <td>...</td>\n    </tr>\n    <tr>\n      <th>10799</th>\n      <td>0.165297</td>\n      <td>0.17149</td>\n      <td>0.684616</td>\n      <td>0.566156</td>\n      <td>-0.596935</td>\n      <td>-0.617666</td>\n      <td>1.617227</td>\n      <td>336</td>\n      <td>0.950126</td>\n      <td>-0.552355</td>\n      <td>1.644787</td>\n      <td>-0.324885</td>\n    </tr>\n    <tr>\n      <th>10800</th>\n      <td>0.165297</td>\n      <td>0.17149</td>\n      <td>0.684616</td>\n      <td>0.566156</td>\n      <td>-0.702182</td>\n      <td>-0.253919</td>\n      <td>0.269704</td>\n      <td>241</td>\n      <td>0.283748</td>\n      <td>-0.552355</td>\n      <td>1.644787</td>\n      <td>-0.324885</td>\n    </tr>\n    <tr>\n      <th>10801</th>\n      <td>0.165297</td>\n      <td>0.17149</td>\n      <td>0.684616</td>\n      <td>0.566156</td>\n      <td>-0.807428</td>\n      <td>-0.046064</td>\n      <td>0.269704</td>\n      <td>168</td>\n      <td>-0.139814</td>\n      <td>-0.552355</td>\n      <td>1.644787</td>\n      <td>-0.324885</td>\n    </tr>\n    <tr>\n      <th>10802</th>\n      <td>0.165297</td>\n      <td>0.17149</td>\n      <td>0.684616</td>\n      <td>0.566156</td>\n      <td>-0.807428</td>\n      <td>-0.046064</td>\n      <td>-0.832442</td>\n      <td>129</td>\n      <td>-0.445456</td>\n      <td>-0.552355</td>\n      <td>1.644787</td>\n      <td>-0.324885</td>\n    </tr>\n    <tr>\n      <th>10803</th>\n      <td>0.165297</td>\n      <td>0.17149</td>\n      <td>0.684616</td>\n      <td>0.566156</td>\n      <td>-0.912675</td>\n      <td>0.213755</td>\n      <td>-0.465608</td>\n      <td>88</td>\n      <td>-0.783925</td>\n      <td>-0.552355</td>\n      <td>1.644787</td>\n      <td>-0.324885</td>\n    </tr>\n  </tbody>\n</table>\n<p>10804 rows × 12 columns</p>\n</div>"
     },
     "execution_count": 431,
     "metadata": {},
     "output_type": "execute_result"
    }
   ],
   "source": [
    "from sklearn.neighbors import LocalOutlierFactor\n",
    "\n",
    "# search for outliers -1 for outliers\n",
    "clf = LocalOutlierFactor(n_neighbors=200)\n",
    "df[\"outlier\"] = clf.fit_predict(df)\n",
    "print(f\"Number of outliers: {len(df[df.outlier == -1])}\")\n",
    "df = df[df.outlier == 1]\n",
    "df.drop(\"outlier\", axis=1, inplace=True)\n",
    "df.reset_index(inplace=True, drop=True)\n",
    "df.copy()"
   ],
   "metadata": {
    "collapsed": false,
    "pycharm": {
     "name": "#%%\n"
    }
   }
  },
  {
   "cell_type": "code",
   "execution_count": 432,
   "outputs": [
    {
     "ename": "KeyboardInterrupt",
     "evalue": "",
     "output_type": "error",
     "traceback": [
      "\u001B[0;31m---------------------------------------------------------------------------\u001B[0m",
      "\u001B[0;31mKeyboardInterrupt\u001B[0m                         Traceback (most recent call last)",
      "\u001B[0;32m/var/folders/wt/z1kn1r9d5d9dxws96_cyhsxh0000gn/T/ipykernel_48121/2192853973.py\u001B[0m in \u001B[0;36m<module>\u001B[0;34m\u001B[0m\n\u001B[1;32m     25\u001B[0m )\n\u001B[1;32m     26\u001B[0m \u001B[0;34m\u001B[0m\u001B[0m\n\u001B[0;32m---> 27\u001B[0;31m \u001B[0mrfr_grid_search\u001B[0m\u001B[0;34m.\u001B[0m\u001B[0mfit\u001B[0m\u001B[0;34m(\u001B[0m\u001B[0mX_train\u001B[0m\u001B[0;34m,\u001B[0m \u001B[0my_train\u001B[0m\u001B[0;34m)\u001B[0m\u001B[0;34m\u001B[0m\u001B[0;34m\u001B[0m\u001B[0m\n\u001B[0m\u001B[1;32m     28\u001B[0m \u001B[0;34m\u001B[0m\u001B[0m\n\u001B[1;32m     29\u001B[0m \u001B[0mprint\u001B[0m\u001B[0;34m(\u001B[0m\u001B[0;34mf\"Train score: {mean_squared_log_error(y_true=y_train,y_pred=rfr_grid_search.predict(X_train))}\"\u001B[0m\u001B[0;34m)\u001B[0m\u001B[0;34m\u001B[0m\u001B[0;34m\u001B[0m\u001B[0m\n",
      "\u001B[0;32m~/Library/Caches/pypoetry/virtualenvs/mlucu-Vdmf4rJI-py3.8/lib/python3.8/site-packages/sklearn/utils/validation.py\u001B[0m in \u001B[0;36minner_f\u001B[0;34m(*args, **kwargs)\u001B[0m\n\u001B[1;32m     61\u001B[0m             \u001B[0mextra_args\u001B[0m \u001B[0;34m=\u001B[0m \u001B[0mlen\u001B[0m\u001B[0;34m(\u001B[0m\u001B[0margs\u001B[0m\u001B[0;34m)\u001B[0m \u001B[0;34m-\u001B[0m \u001B[0mlen\u001B[0m\u001B[0;34m(\u001B[0m\u001B[0mall_args\u001B[0m\u001B[0;34m)\u001B[0m\u001B[0;34m\u001B[0m\u001B[0;34m\u001B[0m\u001B[0m\n\u001B[1;32m     62\u001B[0m             \u001B[0;32mif\u001B[0m \u001B[0mextra_args\u001B[0m \u001B[0;34m<=\u001B[0m \u001B[0;36m0\u001B[0m\u001B[0;34m:\u001B[0m\u001B[0;34m\u001B[0m\u001B[0;34m\u001B[0m\u001B[0m\n\u001B[0;32m---> 63\u001B[0;31m                 \u001B[0;32mreturn\u001B[0m \u001B[0mf\u001B[0m\u001B[0;34m(\u001B[0m\u001B[0;34m*\u001B[0m\u001B[0margs\u001B[0m\u001B[0;34m,\u001B[0m \u001B[0;34m**\u001B[0m\u001B[0mkwargs\u001B[0m\u001B[0;34m)\u001B[0m\u001B[0;34m\u001B[0m\u001B[0;34m\u001B[0m\u001B[0m\n\u001B[0m\u001B[1;32m     64\u001B[0m \u001B[0;34m\u001B[0m\u001B[0m\n\u001B[1;32m     65\u001B[0m             \u001B[0;31m# extra_args > 0\u001B[0m\u001B[0;34m\u001B[0m\u001B[0;34m\u001B[0m\u001B[0;34m\u001B[0m\u001B[0m\n",
      "\u001B[0;32m~/Library/Caches/pypoetry/virtualenvs/mlucu-Vdmf4rJI-py3.8/lib/python3.8/site-packages/sklearn/model_selection/_search.py\u001B[0m in \u001B[0;36mfit\u001B[0;34m(self, X, y, groups, **fit_params)\u001B[0m\n\u001B[1;32m    839\u001B[0m                 \u001B[0;32mreturn\u001B[0m \u001B[0mresults\u001B[0m\u001B[0;34m\u001B[0m\u001B[0;34m\u001B[0m\u001B[0m\n\u001B[1;32m    840\u001B[0m \u001B[0;34m\u001B[0m\u001B[0m\n\u001B[0;32m--> 841\u001B[0;31m             \u001B[0mself\u001B[0m\u001B[0;34m.\u001B[0m\u001B[0m_run_search\u001B[0m\u001B[0;34m(\u001B[0m\u001B[0mevaluate_candidates\u001B[0m\u001B[0;34m)\u001B[0m\u001B[0;34m\u001B[0m\u001B[0;34m\u001B[0m\u001B[0m\n\u001B[0m\u001B[1;32m    842\u001B[0m \u001B[0;34m\u001B[0m\u001B[0m\n\u001B[1;32m    843\u001B[0m             \u001B[0;31m# multimetric is determined here because in the case of a callable\u001B[0m\u001B[0;34m\u001B[0m\u001B[0;34m\u001B[0m\u001B[0;34m\u001B[0m\u001B[0m\n",
      "\u001B[0;32m~/Library/Caches/pypoetry/virtualenvs/mlucu-Vdmf4rJI-py3.8/lib/python3.8/site-packages/sklearn/model_selection/_search.py\u001B[0m in \u001B[0;36m_run_search\u001B[0;34m(self, evaluate_candidates)\u001B[0m\n\u001B[1;32m   1294\u001B[0m     \u001B[0;32mdef\u001B[0m \u001B[0m_run_search\u001B[0m\u001B[0;34m(\u001B[0m\u001B[0mself\u001B[0m\u001B[0;34m,\u001B[0m \u001B[0mevaluate_candidates\u001B[0m\u001B[0;34m)\u001B[0m\u001B[0;34m:\u001B[0m\u001B[0;34m\u001B[0m\u001B[0;34m\u001B[0m\u001B[0m\n\u001B[1;32m   1295\u001B[0m         \u001B[0;34m\"\"\"Search all candidates in param_grid\"\"\"\u001B[0m\u001B[0;34m\u001B[0m\u001B[0;34m\u001B[0m\u001B[0m\n\u001B[0;32m-> 1296\u001B[0;31m         \u001B[0mevaluate_candidates\u001B[0m\u001B[0;34m(\u001B[0m\u001B[0mParameterGrid\u001B[0m\u001B[0;34m(\u001B[0m\u001B[0mself\u001B[0m\u001B[0;34m.\u001B[0m\u001B[0mparam_grid\u001B[0m\u001B[0;34m)\u001B[0m\u001B[0;34m)\u001B[0m\u001B[0;34m\u001B[0m\u001B[0;34m\u001B[0m\u001B[0m\n\u001B[0m\u001B[1;32m   1297\u001B[0m \u001B[0;34m\u001B[0m\u001B[0m\n\u001B[1;32m   1298\u001B[0m \u001B[0;34m\u001B[0m\u001B[0m\n",
      "\u001B[0;32m~/Library/Caches/pypoetry/virtualenvs/mlucu-Vdmf4rJI-py3.8/lib/python3.8/site-packages/sklearn/model_selection/_search.py\u001B[0m in \u001B[0;36mevaluate_candidates\u001B[0;34m(candidate_params, cv, more_results)\u001B[0m\n\u001B[1;32m    793\u001B[0m                               n_splits, n_candidates, n_candidates * n_splits))\n\u001B[1;32m    794\u001B[0m \u001B[0;34m\u001B[0m\u001B[0m\n\u001B[0;32m--> 795\u001B[0;31m                 out = parallel(delayed(_fit_and_score)(clone(base_estimator),\n\u001B[0m\u001B[1;32m    796\u001B[0m                                                        \u001B[0mX\u001B[0m\u001B[0;34m,\u001B[0m \u001B[0my\u001B[0m\u001B[0;34m,\u001B[0m\u001B[0;34m\u001B[0m\u001B[0;34m\u001B[0m\u001B[0m\n\u001B[1;32m    797\u001B[0m                                                        \u001B[0mtrain\u001B[0m\u001B[0;34m=\u001B[0m\u001B[0mtrain\u001B[0m\u001B[0;34m,\u001B[0m \u001B[0mtest\u001B[0m\u001B[0;34m=\u001B[0m\u001B[0mtest\u001B[0m\u001B[0;34m,\u001B[0m\u001B[0;34m\u001B[0m\u001B[0;34m\u001B[0m\u001B[0m\n",
      "\u001B[0;32m~/Library/Caches/pypoetry/virtualenvs/mlucu-Vdmf4rJI-py3.8/lib/python3.8/site-packages/joblib/parallel.py\u001B[0m in \u001B[0;36m__call__\u001B[0;34m(self, iterable)\u001B[0m\n\u001B[1;32m   1052\u001B[0m \u001B[0;34m\u001B[0m\u001B[0m\n\u001B[1;32m   1053\u001B[0m             \u001B[0;32mwith\u001B[0m \u001B[0mself\u001B[0m\u001B[0;34m.\u001B[0m\u001B[0m_backend\u001B[0m\u001B[0;34m.\u001B[0m\u001B[0mretrieval_context\u001B[0m\u001B[0;34m(\u001B[0m\u001B[0;34m)\u001B[0m\u001B[0;34m:\u001B[0m\u001B[0;34m\u001B[0m\u001B[0;34m\u001B[0m\u001B[0m\n\u001B[0;32m-> 1054\u001B[0;31m                 \u001B[0mself\u001B[0m\u001B[0;34m.\u001B[0m\u001B[0mretrieve\u001B[0m\u001B[0;34m(\u001B[0m\u001B[0;34m)\u001B[0m\u001B[0;34m\u001B[0m\u001B[0;34m\u001B[0m\u001B[0m\n\u001B[0m\u001B[1;32m   1055\u001B[0m             \u001B[0;31m# Make sure that we get a last message telling us we are done\u001B[0m\u001B[0;34m\u001B[0m\u001B[0;34m\u001B[0m\u001B[0;34m\u001B[0m\u001B[0m\n\u001B[1;32m   1056\u001B[0m             \u001B[0melapsed_time\u001B[0m \u001B[0;34m=\u001B[0m \u001B[0mtime\u001B[0m\u001B[0;34m.\u001B[0m\u001B[0mtime\u001B[0m\u001B[0;34m(\u001B[0m\u001B[0;34m)\u001B[0m \u001B[0;34m-\u001B[0m \u001B[0mself\u001B[0m\u001B[0;34m.\u001B[0m\u001B[0m_start_time\u001B[0m\u001B[0;34m\u001B[0m\u001B[0;34m\u001B[0m\u001B[0m\n",
      "\u001B[0;32m~/Library/Caches/pypoetry/virtualenvs/mlucu-Vdmf4rJI-py3.8/lib/python3.8/site-packages/joblib/parallel.py\u001B[0m in \u001B[0;36mretrieve\u001B[0;34m(self)\u001B[0m\n\u001B[1;32m    931\u001B[0m             \u001B[0;32mtry\u001B[0m\u001B[0;34m:\u001B[0m\u001B[0;34m\u001B[0m\u001B[0;34m\u001B[0m\u001B[0m\n\u001B[1;32m    932\u001B[0m                 \u001B[0;32mif\u001B[0m \u001B[0mgetattr\u001B[0m\u001B[0;34m(\u001B[0m\u001B[0mself\u001B[0m\u001B[0;34m.\u001B[0m\u001B[0m_backend\u001B[0m\u001B[0;34m,\u001B[0m \u001B[0;34m'supports_timeout'\u001B[0m\u001B[0;34m,\u001B[0m \u001B[0;32mFalse\u001B[0m\u001B[0;34m)\u001B[0m\u001B[0;34m:\u001B[0m\u001B[0;34m\u001B[0m\u001B[0;34m\u001B[0m\u001B[0m\n\u001B[0;32m--> 933\u001B[0;31m                     \u001B[0mself\u001B[0m\u001B[0;34m.\u001B[0m\u001B[0m_output\u001B[0m\u001B[0;34m.\u001B[0m\u001B[0mextend\u001B[0m\u001B[0;34m(\u001B[0m\u001B[0mjob\u001B[0m\u001B[0;34m.\u001B[0m\u001B[0mget\u001B[0m\u001B[0;34m(\u001B[0m\u001B[0mtimeout\u001B[0m\u001B[0;34m=\u001B[0m\u001B[0mself\u001B[0m\u001B[0;34m.\u001B[0m\u001B[0mtimeout\u001B[0m\u001B[0;34m)\u001B[0m\u001B[0;34m)\u001B[0m\u001B[0;34m\u001B[0m\u001B[0;34m\u001B[0m\u001B[0m\n\u001B[0m\u001B[1;32m    934\u001B[0m                 \u001B[0;32melse\u001B[0m\u001B[0;34m:\u001B[0m\u001B[0;34m\u001B[0m\u001B[0;34m\u001B[0m\u001B[0m\n\u001B[1;32m    935\u001B[0m                     \u001B[0mself\u001B[0m\u001B[0;34m.\u001B[0m\u001B[0m_output\u001B[0m\u001B[0;34m.\u001B[0m\u001B[0mextend\u001B[0m\u001B[0;34m(\u001B[0m\u001B[0mjob\u001B[0m\u001B[0;34m.\u001B[0m\u001B[0mget\u001B[0m\u001B[0;34m(\u001B[0m\u001B[0;34m)\u001B[0m\u001B[0;34m)\u001B[0m\u001B[0;34m\u001B[0m\u001B[0;34m\u001B[0m\u001B[0m\n",
      "\u001B[0;32m~/Library/Caches/pypoetry/virtualenvs/mlucu-Vdmf4rJI-py3.8/lib/python3.8/site-packages/joblib/_parallel_backends.py\u001B[0m in \u001B[0;36mwrap_future_result\u001B[0;34m(future, timeout)\u001B[0m\n\u001B[1;32m    540\u001B[0m         AsyncResults.get from multiprocessing.\"\"\"\n\u001B[1;32m    541\u001B[0m         \u001B[0;32mtry\u001B[0m\u001B[0;34m:\u001B[0m\u001B[0;34m\u001B[0m\u001B[0;34m\u001B[0m\u001B[0m\n\u001B[0;32m--> 542\u001B[0;31m             \u001B[0;32mreturn\u001B[0m \u001B[0mfuture\u001B[0m\u001B[0;34m.\u001B[0m\u001B[0mresult\u001B[0m\u001B[0;34m(\u001B[0m\u001B[0mtimeout\u001B[0m\u001B[0;34m=\u001B[0m\u001B[0mtimeout\u001B[0m\u001B[0;34m)\u001B[0m\u001B[0;34m\u001B[0m\u001B[0;34m\u001B[0m\u001B[0m\n\u001B[0m\u001B[1;32m    543\u001B[0m         \u001B[0;32mexcept\u001B[0m \u001B[0mCfTimeoutError\u001B[0m \u001B[0;32mas\u001B[0m \u001B[0me\u001B[0m\u001B[0;34m:\u001B[0m\u001B[0;34m\u001B[0m\u001B[0;34m\u001B[0m\u001B[0m\n\u001B[1;32m    544\u001B[0m             \u001B[0;32mraise\u001B[0m \u001B[0mTimeoutError\u001B[0m \u001B[0;32mfrom\u001B[0m \u001B[0me\u001B[0m\u001B[0;34m\u001B[0m\u001B[0;34m\u001B[0m\u001B[0m\n",
      "\u001B[0;32m/Library/Frameworks/Python.framework/Versions/3.8/lib/python3.8/concurrent/futures/_base.py\u001B[0m in \u001B[0;36mresult\u001B[0;34m(self, timeout)\u001B[0m\n\u001B[1;32m    432\u001B[0m                 \u001B[0;32mreturn\u001B[0m \u001B[0mself\u001B[0m\u001B[0;34m.\u001B[0m\u001B[0m__get_result\u001B[0m\u001B[0;34m(\u001B[0m\u001B[0;34m)\u001B[0m\u001B[0;34m\u001B[0m\u001B[0;34m\u001B[0m\u001B[0m\n\u001B[1;32m    433\u001B[0m \u001B[0;34m\u001B[0m\u001B[0m\n\u001B[0;32m--> 434\u001B[0;31m             \u001B[0mself\u001B[0m\u001B[0;34m.\u001B[0m\u001B[0m_condition\u001B[0m\u001B[0;34m.\u001B[0m\u001B[0mwait\u001B[0m\u001B[0;34m(\u001B[0m\u001B[0mtimeout\u001B[0m\u001B[0;34m)\u001B[0m\u001B[0;34m\u001B[0m\u001B[0;34m\u001B[0m\u001B[0m\n\u001B[0m\u001B[1;32m    435\u001B[0m \u001B[0;34m\u001B[0m\u001B[0m\n\u001B[1;32m    436\u001B[0m             \u001B[0;32mif\u001B[0m \u001B[0mself\u001B[0m\u001B[0;34m.\u001B[0m\u001B[0m_state\u001B[0m \u001B[0;32min\u001B[0m \u001B[0;34m[\u001B[0m\u001B[0mCANCELLED\u001B[0m\u001B[0;34m,\u001B[0m \u001B[0mCANCELLED_AND_NOTIFIED\u001B[0m\u001B[0;34m]\u001B[0m\u001B[0;34m:\u001B[0m\u001B[0;34m\u001B[0m\u001B[0;34m\u001B[0m\u001B[0m\n",
      "\u001B[0;32m/Library/Frameworks/Python.framework/Versions/3.8/lib/python3.8/threading.py\u001B[0m in \u001B[0;36mwait\u001B[0;34m(self, timeout)\u001B[0m\n\u001B[1;32m    300\u001B[0m         \u001B[0;32mtry\u001B[0m\u001B[0;34m:\u001B[0m    \u001B[0;31m# restore state no matter what (e.g., KeyboardInterrupt)\u001B[0m\u001B[0;34m\u001B[0m\u001B[0;34m\u001B[0m\u001B[0m\n\u001B[1;32m    301\u001B[0m             \u001B[0;32mif\u001B[0m \u001B[0mtimeout\u001B[0m \u001B[0;32mis\u001B[0m \u001B[0;32mNone\u001B[0m\u001B[0;34m:\u001B[0m\u001B[0;34m\u001B[0m\u001B[0;34m\u001B[0m\u001B[0m\n\u001B[0;32m--> 302\u001B[0;31m                 \u001B[0mwaiter\u001B[0m\u001B[0;34m.\u001B[0m\u001B[0macquire\u001B[0m\u001B[0;34m(\u001B[0m\u001B[0;34m)\u001B[0m\u001B[0;34m\u001B[0m\u001B[0;34m\u001B[0m\u001B[0m\n\u001B[0m\u001B[1;32m    303\u001B[0m                 \u001B[0mgotit\u001B[0m \u001B[0;34m=\u001B[0m \u001B[0;32mTrue\u001B[0m\u001B[0;34m\u001B[0m\u001B[0;34m\u001B[0m\u001B[0m\n\u001B[1;32m    304\u001B[0m             \u001B[0;32melse\u001B[0m\u001B[0;34m:\u001B[0m\u001B[0;34m\u001B[0m\u001B[0;34m\u001B[0m\u001B[0m\n",
      "\u001B[0;31mKeyboardInterrupt\u001B[0m: "
     ]
    }
   ],
   "source": [
    "from sklearn.model_selection import train_test_split, GridSearchCV\n",
    "from sklearn.ensemble import RandomForestRegressor\n",
    "from sklearn.metrics import mean_squared_log_error, make_scorer\n",
    "\n",
    "cols = df.columns.difference(['count'])\n",
    "X_train, X_test, y_train, y_test = train_test_split(df[cols], df[\"count\"], test_size=0.30, random_state=42)\n",
    "\n",
    "\n",
    "base_grid_params = {\n",
    "    'bootstrap': [True],\n",
    "    'max_depth': [x for x in range(8, 16, 3)],\n",
    "    'max_features': [\"sqrt\"],\n",
    "    'min_samples_leaf': [x for x in range(3, 8, 2)],\n",
    "    'min_samples_split': [x for x in range(2, 8, 1)],\n",
    "    'n_estimators': [x for x in range(500, 1500, 200)]\n",
    "}\n",
    "\n",
    "rfr_grid_search = GridSearchCV(\n",
    "    estimator=RandomForestRegressor(),\n",
    "    param_grid=base_grid_params,\n",
    "    cv=3,\n",
    "    n_jobs=-1,\n",
    "    verbose=0,\n",
    "    scoring=make_scorer(mean_squared_log_error, greater_is_better=False)\n",
    ")\n",
    "\n",
    "rfr_grid_search.fit(X_train, y_train)\n",
    "\n",
    "print(f\"Train score: {mean_squared_log_error(y_true=y_train,y_pred=rfr_grid_search.predict(X_train))}\")\n",
    "print(f\"Test score: {mean_squared_log_error(y_true=y_test,y_pred=rfr_grid_search.predict(X_test))}\")\n",
    "print(rfr_grid_search.best_params_)"
   ],
   "metadata": {
    "collapsed": false,
    "pycharm": {
     "name": "#%%\n"
    }
   }
  }
 ],
 "metadata": {
  "kernelspec": {
   "display_name": "Python 3",
   "language": "python",
   "name": "python3"
  },
  "language_info": {
   "codemirror_mode": {
    "name": "ipython",
    "version": 2
   },
   "file_extension": ".py",
   "mimetype": "text/x-python",
   "name": "python",
   "nbconvert_exporter": "python",
   "pygments_lexer": "ipython2",
   "version": "2.7.6"
  }
 },
 "nbformat": 4,
 "nbformat_minor": 0
}