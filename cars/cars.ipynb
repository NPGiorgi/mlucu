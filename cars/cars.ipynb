{
 "cells": [
  {
   "cell_type": "code",
   "execution_count": 2,
   "outputs": [],
   "source": [
    "# avoid SSL errors\n",
    "import ssl\n",
    "\n",
    "ssl._create_default_https_context = ssl._create_unverified_context"
   ],
   "metadata": {
    "collapsed": false,
    "pycharm": {
     "name": "#%%\n"
    }
   }
  },
  {
   "cell_type": "code",
   "execution_count": 3,
   "outputs": [
    {
     "data": {
      "text/plain": "              region  price    year   manufacturer         model  \\\n0       26336.478873  33590  2014.0   30405.877152  35224.934498   \n1       26336.478873  22590  2010.0  115676.101645  20632.919261   \n2       26336.478873  39590  2020.0  115676.101645  34064.275930   \n3       26336.478873  30990  2017.0  234294.682621  34749.481707   \n4       26336.478873  15000  2013.0   36411.718025  18410.348361   \n...              ...    ...     ...            ...           ...   \n414858  21104.073770  23590  2019.0   18827.332826  23979.681857   \n414859  21104.073770  30590  2020.0  383755.147896  29800.909091   \n414860  21104.073770  34990  2020.0   19439.520926  34566.344086   \n414861  21104.073770  28990  2018.0   19206.152683  24225.745856   \n414862  21104.073770  30590  2019.0   26740.261446  27924.000000   \n\n           condition      cylinders           fuel  odometer  title_status  \\\n0       32545.203102  139935.829442   73989.607975   57923.0  78513.135485   \n1       32545.203102  139935.829442   73989.607975   71229.0  78513.135485   \n2       32545.203102  139935.829442   73989.607975   19160.0  78513.135485   \n3       32545.203102  139935.829442   73989.607975   41124.0  78513.135485   \n4       51351.886898   58773.709808   73989.607975  128000.0  78513.135485   \n...              ...            ...            ...       ...           ...   \n414858  32545.203102   58773.709808   73989.607975   32226.0  78513.135485   \n414859  32545.203102   87886.954823   73989.607975   12029.0  78513.135485   \n414860  32545.203102   87886.954823  118399.318542    4174.0  78513.135485   \n414861  32545.203102   58773.709808   73989.607975   30112.0  78513.135485   \n414862  32545.203102   87886.954823   73989.607975   22716.0  78513.135485   \n\n        transmission          drive          size           type  \\\n0       30009.149918  102094.049698  69622.070957  145559.578464   \n1       30009.149918  102094.049698  69622.070957  145559.578464   \n2       30009.149918  102094.049698  69622.070957  145559.578464   \n3       30009.149918  102094.049698  69622.070957  145559.578464   \n4       74994.703971   40799.701183  99169.478642   29383.577993   \n...              ...            ...           ...            ...   \n414858  30009.149918   15242.711408  69622.070957   15934.249885   \n414859  30009.149918   15242.711408  69622.070957   15934.249885   \n414860  30009.149918  102094.049698  69622.070957   14383.255848   \n414861  30009.149918   15242.711408  69622.070957   15934.249885   \n414862  30009.149918   40799.701183  69622.070957   21919.163391   \n\n          paint_color          state        lat       long  posting_date  \n0        36282.200398  242036.814747  32.590000 -85.480000    1620149478  \n1        16352.719990  242036.814747  32.590000 -85.480000    1620149468  \n2        22459.085930  242036.814747  32.590000 -85.480000    1620149485  \n3        22459.085930  242036.814747  32.590000 -85.480000    1620142891  \n4        43403.016278  242036.814747  32.592000 -85.518900    1620068523  \n...               ...            ...        ...        ...           ...  \n414858  125053.024699   21104.073770  33.786500 -84.445400    1617528091  \n414859   22459.085930   21104.073770  33.786500 -84.445400    1617528089  \n414860   36282.200398   21104.073770  33.779214 -84.411811    1617528077  \n414861  102859.752189   21104.073770  33.786500 -84.445400    1617528071  \n414862  125053.024699   21104.073770  33.779214 -84.411811    1617528067  \n\n[414863 rows x 19 columns]",
      "text/html": "<div>\n<style scoped>\n    .dataframe tbody tr th:only-of-type {\n        vertical-align: middle;\n    }\n\n    .dataframe tbody tr th {\n        vertical-align: top;\n    }\n\n    .dataframe thead th {\n        text-align: right;\n    }\n</style>\n<table border=\"1\" class=\"dataframe\">\n  <thead>\n    <tr style=\"text-align: right;\">\n      <th></th>\n      <th>region</th>\n      <th>price</th>\n      <th>year</th>\n      <th>manufacturer</th>\n      <th>model</th>\n      <th>condition</th>\n      <th>cylinders</th>\n      <th>fuel</th>\n      <th>odometer</th>\n      <th>title_status</th>\n      <th>transmission</th>\n      <th>drive</th>\n      <th>size</th>\n      <th>type</th>\n      <th>paint_color</th>\n      <th>state</th>\n      <th>lat</th>\n      <th>long</th>\n      <th>posting_date</th>\n    </tr>\n  </thead>\n  <tbody>\n    <tr>\n      <th>0</th>\n      <td>26336.478873</td>\n      <td>33590</td>\n      <td>2014.0</td>\n      <td>30405.877152</td>\n      <td>35224.934498</td>\n      <td>32545.203102</td>\n      <td>139935.829442</td>\n      <td>73989.607975</td>\n      <td>57923.0</td>\n      <td>78513.135485</td>\n      <td>30009.149918</td>\n      <td>102094.049698</td>\n      <td>69622.070957</td>\n      <td>145559.578464</td>\n      <td>36282.200398</td>\n      <td>242036.814747</td>\n      <td>32.590000</td>\n      <td>-85.480000</td>\n      <td>1620149478</td>\n    </tr>\n    <tr>\n      <th>1</th>\n      <td>26336.478873</td>\n      <td>22590</td>\n      <td>2010.0</td>\n      <td>115676.101645</td>\n      <td>20632.919261</td>\n      <td>32545.203102</td>\n      <td>139935.829442</td>\n      <td>73989.607975</td>\n      <td>71229.0</td>\n      <td>78513.135485</td>\n      <td>30009.149918</td>\n      <td>102094.049698</td>\n      <td>69622.070957</td>\n      <td>145559.578464</td>\n      <td>16352.719990</td>\n      <td>242036.814747</td>\n      <td>32.590000</td>\n      <td>-85.480000</td>\n      <td>1620149468</td>\n    </tr>\n    <tr>\n      <th>2</th>\n      <td>26336.478873</td>\n      <td>39590</td>\n      <td>2020.0</td>\n      <td>115676.101645</td>\n      <td>34064.275930</td>\n      <td>32545.203102</td>\n      <td>139935.829442</td>\n      <td>73989.607975</td>\n      <td>19160.0</td>\n      <td>78513.135485</td>\n      <td>30009.149918</td>\n      <td>102094.049698</td>\n      <td>69622.070957</td>\n      <td>145559.578464</td>\n      <td>22459.085930</td>\n      <td>242036.814747</td>\n      <td>32.590000</td>\n      <td>-85.480000</td>\n      <td>1620149485</td>\n    </tr>\n    <tr>\n      <th>3</th>\n      <td>26336.478873</td>\n      <td>30990</td>\n      <td>2017.0</td>\n      <td>234294.682621</td>\n      <td>34749.481707</td>\n      <td>32545.203102</td>\n      <td>139935.829442</td>\n      <td>73989.607975</td>\n      <td>41124.0</td>\n      <td>78513.135485</td>\n      <td>30009.149918</td>\n      <td>102094.049698</td>\n      <td>69622.070957</td>\n      <td>145559.578464</td>\n      <td>22459.085930</td>\n      <td>242036.814747</td>\n      <td>32.590000</td>\n      <td>-85.480000</td>\n      <td>1620142891</td>\n    </tr>\n    <tr>\n      <th>4</th>\n      <td>26336.478873</td>\n      <td>15000</td>\n      <td>2013.0</td>\n      <td>36411.718025</td>\n      <td>18410.348361</td>\n      <td>51351.886898</td>\n      <td>58773.709808</td>\n      <td>73989.607975</td>\n      <td>128000.0</td>\n      <td>78513.135485</td>\n      <td>74994.703971</td>\n      <td>40799.701183</td>\n      <td>99169.478642</td>\n      <td>29383.577993</td>\n      <td>43403.016278</td>\n      <td>242036.814747</td>\n      <td>32.592000</td>\n      <td>-85.518900</td>\n      <td>1620068523</td>\n    </tr>\n    <tr>\n      <th>...</th>\n      <td>...</td>\n      <td>...</td>\n      <td>...</td>\n      <td>...</td>\n      <td>...</td>\n      <td>...</td>\n      <td>...</td>\n      <td>...</td>\n      <td>...</td>\n      <td>...</td>\n      <td>...</td>\n      <td>...</td>\n      <td>...</td>\n      <td>...</td>\n      <td>...</td>\n      <td>...</td>\n      <td>...</td>\n      <td>...</td>\n      <td>...</td>\n    </tr>\n    <tr>\n      <th>414858</th>\n      <td>21104.073770</td>\n      <td>23590</td>\n      <td>2019.0</td>\n      <td>18827.332826</td>\n      <td>23979.681857</td>\n      <td>32545.203102</td>\n      <td>58773.709808</td>\n      <td>73989.607975</td>\n      <td>32226.0</td>\n      <td>78513.135485</td>\n      <td>30009.149918</td>\n      <td>15242.711408</td>\n      <td>69622.070957</td>\n      <td>15934.249885</td>\n      <td>125053.024699</td>\n      <td>21104.073770</td>\n      <td>33.786500</td>\n      <td>-84.445400</td>\n      <td>1617528091</td>\n    </tr>\n    <tr>\n      <th>414859</th>\n      <td>21104.073770</td>\n      <td>30590</td>\n      <td>2020.0</td>\n      <td>383755.147896</td>\n      <td>29800.909091</td>\n      <td>32545.203102</td>\n      <td>87886.954823</td>\n      <td>73989.607975</td>\n      <td>12029.0</td>\n      <td>78513.135485</td>\n      <td>30009.149918</td>\n      <td>15242.711408</td>\n      <td>69622.070957</td>\n      <td>15934.249885</td>\n      <td>22459.085930</td>\n      <td>21104.073770</td>\n      <td>33.786500</td>\n      <td>-84.445400</td>\n      <td>1617528089</td>\n    </tr>\n    <tr>\n      <th>414860</th>\n      <td>21104.073770</td>\n      <td>34990</td>\n      <td>2020.0</td>\n      <td>19439.520926</td>\n      <td>34566.344086</td>\n      <td>32545.203102</td>\n      <td>87886.954823</td>\n      <td>118399.318542</td>\n      <td>4174.0</td>\n      <td>78513.135485</td>\n      <td>30009.149918</td>\n      <td>102094.049698</td>\n      <td>69622.070957</td>\n      <td>14383.255848</td>\n      <td>36282.200398</td>\n      <td>21104.073770</td>\n      <td>33.779214</td>\n      <td>-84.411811</td>\n      <td>1617528077</td>\n    </tr>\n    <tr>\n      <th>414861</th>\n      <td>21104.073770</td>\n      <td>28990</td>\n      <td>2018.0</td>\n      <td>19206.152683</td>\n      <td>24225.745856</td>\n      <td>32545.203102</td>\n      <td>58773.709808</td>\n      <td>73989.607975</td>\n      <td>30112.0</td>\n      <td>78513.135485</td>\n      <td>30009.149918</td>\n      <td>15242.711408</td>\n      <td>69622.070957</td>\n      <td>15934.249885</td>\n      <td>102859.752189</td>\n      <td>21104.073770</td>\n      <td>33.786500</td>\n      <td>-84.445400</td>\n      <td>1617528071</td>\n    </tr>\n    <tr>\n      <th>414862</th>\n      <td>21104.073770</td>\n      <td>30590</td>\n      <td>2019.0</td>\n      <td>26740.261446</td>\n      <td>27924.000000</td>\n      <td>32545.203102</td>\n      <td>87886.954823</td>\n      <td>73989.607975</td>\n      <td>22716.0</td>\n      <td>78513.135485</td>\n      <td>30009.149918</td>\n      <td>40799.701183</td>\n      <td>69622.070957</td>\n      <td>21919.163391</td>\n      <td>125053.024699</td>\n      <td>21104.073770</td>\n      <td>33.779214</td>\n      <td>-84.411811</td>\n      <td>1617528067</td>\n    </tr>\n  </tbody>\n</table>\n<p>414863 rows × 19 columns</p>\n</div>"
     },
     "execution_count": 3,
     "metadata": {},
     "output_type": "execute_result"
    }
   ],
   "source": [
    "import pandas as pd\n",
    "\n",
    "# read csv and remove one emtpy row\n",
    "dfo = pd.read_csv(\"https://npg-ds.s3.amazonaws.com/cars.csv.zip\", compression=\"zip\")\n",
    "dfo.copy()"
   ],
   "metadata": {
    "collapsed": false,
    "pycharm": {
     "name": "#%%\n"
    }
   }
  },
  {
   "cell_type": "code",
   "execution_count": 4,
   "outputs": [],
   "source": [
    "df = dfo.copy()"
   ],
   "metadata": {
    "collapsed": false,
    "pycharm": {
     "name": "#%%\n"
    }
   }
  },
  {
   "cell_type": "code",
   "execution_count": 5,
   "outputs": [
    {
     "data": {
      "text/plain": "<Figure size 288x288 with 2 Axes>",
      "image/png": "[encoded data removed]"
     },
     "metadata": {
      "needs_background": "light"
     },
     "output_type": "display_data"
    },
    {
     "data": {
      "text/plain": "                region     price      year  manufacturer     model  condition  \\\nregion        1.000000  0.024914 -0.016306     -0.002965  0.002910   0.002385   \nprice         0.024914  1.000000 -0.004931      0.008929  0.109136   0.007557   \nyear         -0.016306 -0.004931  1.000000     -0.023391 -0.026115  -0.164334   \nmanufacturer -0.002965  0.008929 -0.023391      1.000000  0.076042  -0.003383   \nmodel         0.002910  0.109136 -0.026115      0.076042  1.000000   0.008473   \ncondition     0.002385  0.007557 -0.164334     -0.003383  0.008473   1.000000   \ncylinders    -0.009373  0.003362 -0.090913      0.013949  0.019535   0.013047   \nfuel          0.007801  0.001217 -0.045964     -0.062425  0.013684   0.037005   \nodometer      0.012860  0.010057 -0.156263      0.001302  0.013811   0.078567   \ntitle_status  0.009961  0.001155  0.009433      0.009855  0.003421  -0.012336   \ntransmission  0.010383  0.002877 -0.345903     -0.016484  0.012696   0.128876   \ndrive        -0.005303  0.003419  0.025754      0.051772  0.009490   0.023251   \nsize          0.004036  0.001801 -0.080354      0.001703  0.006498  -0.013092   \ntype          0.004448  0.006395 -0.118553     -0.010540  0.019422   0.078366   \npaint_color   0.003011  0.006096 -0.094145      0.003973  0.008405   0.046406   \nstate         0.582130  0.014343 -0.006877      0.000913  0.002480   0.001213   \nlat           0.012235  0.000349 -0.014737     -0.023568 -0.002322   0.037712   \nlong         -0.007686 -0.000430 -0.000672     -0.022567 -0.000645  -0.048628   \nposting_date -0.027734 -0.002903 -0.059452      0.022418  0.001570   0.022402   \n\n              cylinders      fuel  odometer  title_status  transmission  \\\nregion        -0.009373  0.007801  0.012860      0.009961      0.010383   \nprice          0.003362  0.001217  0.010057      0.001155      0.002877   \nyear          -0.090913 -0.045964 -0.156263      0.009433     -0.345903   \nmanufacturer   0.013949 -0.062425  0.001302      0.009855     -0.016484   \nmodel          0.019535  0.013684  0.013811      0.003421      0.012696   \ncondition      0.013047  0.037005  0.078567     -0.012336      0.128876   \ncylinders      1.000000  0.125444  0.007025      0.083833     -0.110287   \nfuel           0.125444  1.000000  0.054532      0.027909      0.096319   \nodometer       0.007025  0.054532  1.000000     -0.006756      0.092555   \ntitle_status   0.083833  0.027909 -0.006756      1.000000     -0.042910   \ntransmission  -0.110287  0.096319  0.092555     -0.042910      1.000000   \ndrive          0.271793  0.150013  0.018585     -0.029928     -0.012957   \nsize           0.032483  0.048370  0.039484     -0.005057      0.000595   \ntype           0.199019  0.109885  0.056232      0.017155      0.084233   \npaint_color    0.019850  0.013251  0.024598     -0.040094      0.050799   \nstate         -0.010259  0.007794  0.002593      0.009469      0.001900   \nlat           -0.009176  0.024776 -0.001522      0.001179      0.052418   \nlong           0.028696 -0.032399  0.009375      0.029017     -0.090768   \nposting_date  -0.033179 -0.017236  0.009979     -0.003439      0.042516   \n\n                 drive      size      type  paint_color     state       lat  \\\nregion       -0.005303  0.004036  0.004448     0.003011  0.582130  0.012235   \nprice         0.003419  0.001801  0.006395     0.006096  0.014343  0.000349   \nyear          0.025754 -0.080354 -0.118553    -0.094145 -0.006877 -0.014737   \nmanufacturer  0.051772  0.001703 -0.010540     0.003973  0.000913 -0.023568   \nmodel         0.009490  0.006498  0.019422     0.008405  0.002480 -0.002322   \ncondition     0.023251 -0.013092  0.078366     0.046406  0.001213  0.037712   \ncylinders     0.271793  0.032483  0.199019     0.019850 -0.010259 -0.009176   \nfuel          0.150013  0.048370  0.109885     0.013251  0.007794  0.024776   \nodometer      0.018585  0.039484  0.056232     0.024598  0.002593 -0.001522   \ntitle_status -0.029928 -0.005057  0.017155    -0.040094  0.009469  0.001179   \ntransmission -0.012957  0.000595  0.084233     0.050799  0.001900  0.052418   \ndrive         1.000000 -0.027557  0.310025     0.087707 -0.012380  0.122341   \nsize         -0.027557  1.000000 -0.103461    -0.063808 -0.004996 -0.003225   \ntype          0.310025 -0.103461  1.000000     0.174264 -0.005101 -0.028281   \npaint_color   0.087707 -0.063808  0.174264     1.000000  0.001790  0.019154   \nstate        -0.012380 -0.004996 -0.005101     0.001790  1.000000 -0.000144   \nlat           0.122341 -0.003225 -0.028281     0.019154 -0.000144  1.000000   \nlong         -0.005296  0.041743  0.032996    -0.024215 -0.013868 -0.126014   \nposting_date -0.019117  0.010825  0.034494     0.002260 -0.010446 -0.069123   \n\n                  long  posting_date  \nregion       -0.007686     -0.027734  \nprice        -0.000430     -0.002903  \nyear         -0.000672     -0.059452  \nmanufacturer -0.022567      0.022418  \nmodel        -0.000645      0.001570  \ncondition    -0.048628      0.022402  \ncylinders     0.028696     -0.033179  \nfuel         -0.032399     -0.017236  \nodometer      0.009375      0.009979  \ntitle_status  0.029017     -0.003439  \ntransmission -0.090768      0.042516  \ndrive        -0.005296     -0.019117  \nsize          0.041743      0.010825  \ntype          0.032996      0.034494  \npaint_color  -0.024215      0.002260  \nstate        -0.013868     -0.010446  \nlat          -0.126014     -0.069123  \nlong          1.000000     -0.121598  \nposting_date -0.121598      1.000000  ",
      "text/html": "<div>\n<style scoped>\n    .dataframe tbody tr th:only-of-type {\n        vertical-align: middle;\n    }\n\n    .dataframe tbody tr th {\n        vertical-align: top;\n    }\n\n    .dataframe thead th {\n        text-align: right;\n    }\n</style>\n<table border=\"1\" class=\"dataframe\">\n  <thead>\n    <tr style=\"text-align: right;\">\n      <th></th>\n      <th>region</th>\n      <th>price</th>\n      <th>year</th>\n      <th>manufacturer</th>\n      <th>model</th>\n      <th>condition</th>\n      <th>cylinders</th>\n      <th>fuel</th>\n      <th>odometer</th>\n      <th>title_status</th>\n      <th>transmission</th>\n      <th>drive</th>\n      <th>size</th>\n      <th>type</th>\n      <th>paint_color</th>\n      <th>state</th>\n      <th>lat</th>\n      <th>long</th>\n      <th>posting_date</th>\n    </tr>\n  </thead>\n  <tbody>\n    <tr>\n      <th>region</th>\n      <td>1.000000</td>\n      <td>0.024914</td>\n      <td>-0.016306</td>\n      <td>-0.002965</td>\n      <td>0.002910</td>\n      <td>0.002385</td>\n      <td>-0.009373</td>\n      <td>0.007801</td>\n      <td>0.012860</td>\n      <td>0.009961</td>\n      <td>0.010383</td>\n      <td>-0.005303</td>\n      <td>0.004036</td>\n      <td>0.004448</td>\n      <td>0.003011</td>\n      <td>0.582130</td>\n      <td>0.012235</td>\n      <td>-0.007686</td>\n      <td>-0.027734</td>\n    </tr>\n    <tr>\n      <th>price</th>\n      <td>0.024914</td>\n      <td>1.000000</td>\n      <td>-0.004931</td>\n      <td>0.008929</td>\n      <td>0.109136</td>\n      <td>0.007557</td>\n      <td>0.003362</td>\n      <td>0.001217</td>\n      <td>0.010057</td>\n      <td>0.001155</td>\n      <td>0.002877</td>\n      <td>0.003419</td>\n      <td>0.001801</td>\n      <td>0.006395</td>\n      <td>0.006096</td>\n      <td>0.014343</td>\n      <td>0.000349</td>\n      <td>-0.000430</td>\n      <td>-0.002903</td>\n    </tr>\n    <tr>\n      <th>year</th>\n      <td>-0.016306</td>\n      <td>-0.004931</td>\n      <td>1.000000</td>\n      <td>-0.023391</td>\n      <td>-0.026115</td>\n      <td>-0.164334</td>\n      <td>-0.090913</td>\n      <td>-0.045964</td>\n      <td>-0.156263</td>\n      <td>0.009433</td>\n      <td>-0.345903</td>\n      <td>0.025754</td>\n      <td>-0.080354</td>\n      <td>-0.118553</td>\n      <td>-0.094145</td>\n      <td>-0.006877</td>\n      <td>-0.014737</td>\n      <td>-0.000672</td>\n      <td>-0.059452</td>\n    </tr>\n    <tr>\n      <th>manufacturer</th>\n      <td>-0.002965</td>\n      <td>0.008929</td>\n      <td>-0.023391</td>\n      <td>1.000000</td>\n      <td>0.076042</td>\n      <td>-0.003383</td>\n      <td>0.013949</td>\n      <td>-0.062425</td>\n      <td>0.001302</td>\n      <td>0.009855</td>\n      <td>-0.016484</td>\n      <td>0.051772</td>\n      <td>0.001703</td>\n      <td>-0.010540</td>\n      <td>0.003973</td>\n      <td>0.000913</td>\n      <td>-0.023568</td>\n      <td>-0.022567</td>\n      <td>0.022418</td>\n    </tr>\n    <tr>\n      <th>model</th>\n      <td>0.002910</td>\n      <td>0.109136</td>\n      <td>-0.026115</td>\n      <td>0.076042</td>\n      <td>1.000000</td>\n      <td>0.008473</td>\n      <td>0.019535</td>\n      <td>0.013684</td>\n      <td>0.013811</td>\n      <td>0.003421</td>\n      <td>0.012696</td>\n      <td>0.009490</td>\n      <td>0.006498</td>\n      <td>0.019422</td>\n      <td>0.008405</td>\n      <td>0.002480</td>\n      <td>-0.002322</td>\n      <td>-0.000645</td>\n      <td>0.001570</td>\n    </tr>\n    <tr>\n      <th>condition</th>\n      <td>0.002385</td>\n      <td>0.007557</td>\n      <td>-0.164334</td>\n      <td>-0.003383</td>\n      <td>0.008473</td>\n      <td>1.000000</td>\n      <td>0.013047</td>\n      <td>0.037005</td>\n      <td>0.078567</td>\n      <td>-0.012336</td>\n      <td>0.128876</td>\n      <td>0.023251</td>\n      <td>-0.013092</td>\n      <td>0.078366</td>\n      <td>0.046406</td>\n      <td>0.001213</td>\n      <td>0.037712</td>\n      <td>-0.048628</td>\n      <td>0.022402</td>\n    </tr>\n    <tr>\n      <th>cylinders</th>\n      <td>-0.009373</td>\n      <td>0.003362</td>\n      <td>-0.090913</td>\n      <td>0.013949</td>\n      <td>0.019535</td>\n      <td>0.013047</td>\n      <td>1.000000</td>\n      <td>0.125444</td>\n      <td>0.007025</td>\n      <td>0.083833</td>\n      <td>-0.110287</td>\n      <td>0.271793</td>\n      <td>0.032483</td>\n      <td>0.199019</td>\n      <td>0.019850</td>\n      <td>-0.010259</td>\n      <td>-0.009176</td>\n      <td>0.028696</td>\n      <td>-0.033179</td>\n    </tr>\n    <tr>\n      <th>fuel</th>\n      <td>0.007801</td>\n      <td>0.001217</td>\n      <td>-0.045964</td>\n      <td>-0.062425</td>\n      <td>0.013684</td>\n      <td>0.037005</td>\n      <td>0.125444</td>\n      <td>1.000000</td>\n      <td>0.054532</td>\n      <td>0.027909</td>\n      <td>0.096319</td>\n      <td>0.150013</td>\n      <td>0.048370</td>\n      <td>0.109885</td>\n      <td>0.013251</td>\n      <td>0.007794</td>\n      <td>0.024776</td>\n      <td>-0.032399</td>\n      <td>-0.017236</td>\n    </tr>\n    <tr>\n      <th>odometer</th>\n      <td>0.012860</td>\n      <td>0.010057</td>\n      <td>-0.156263</td>\n      <td>0.001302</td>\n      <td>0.013811</td>\n      <td>0.078567</td>\n      <td>0.007025</td>\n      <td>0.054532</td>\n      <td>1.000000</td>\n      <td>-0.006756</td>\n      <td>0.092555</td>\n      <td>0.018585</td>\n      <td>0.039484</td>\n      <td>0.056232</td>\n      <td>0.024598</td>\n      <td>0.002593</td>\n      <td>-0.001522</td>\n      <td>0.009375</td>\n      <td>0.009979</td>\n    </tr>\n    <tr>\n      <th>title_status</th>\n      <td>0.009961</td>\n      <td>0.001155</td>\n      <td>0.009433</td>\n      <td>0.009855</td>\n      <td>0.003421</td>\n      <td>-0.012336</td>\n      <td>0.083833</td>\n      <td>0.027909</td>\n      <td>-0.006756</td>\n      <td>1.000000</td>\n      <td>-0.042910</td>\n      <td>-0.029928</td>\n      <td>-0.005057</td>\n      <td>0.017155</td>\n      <td>-0.040094</td>\n      <td>0.009469</td>\n      <td>0.001179</td>\n      <td>0.029017</td>\n      <td>-0.003439</td>\n    </tr>\n    <tr>\n      <th>transmission</th>\n      <td>0.010383</td>\n      <td>0.002877</td>\n      <td>-0.345903</td>\n      <td>-0.016484</td>\n      <td>0.012696</td>\n      <td>0.128876</td>\n      <td>-0.110287</td>\n      <td>0.096319</td>\n      <td>0.092555</td>\n      <td>-0.042910</td>\n      <td>1.000000</td>\n      <td>-0.012957</td>\n      <td>0.000595</td>\n      <td>0.084233</td>\n      <td>0.050799</td>\n      <td>0.001900</td>\n      <td>0.052418</td>\n      <td>-0.090768</td>\n      <td>0.042516</td>\n    </tr>\n    <tr>\n      <th>drive</th>\n      <td>-0.005303</td>\n      <td>0.003419</td>\n      <td>0.025754</td>\n      <td>0.051772</td>\n      <td>0.009490</td>\n      <td>0.023251</td>\n      <td>0.271793</td>\n      <td>0.150013</td>\n      <td>0.018585</td>\n      <td>-0.029928</td>\n      <td>-0.012957</td>\n      <td>1.000000</td>\n      <td>-0.027557</td>\n      <td>0.310025</td>\n      <td>0.087707</td>\n      <td>-0.012380</td>\n      <td>0.122341</td>\n      <td>-0.005296</td>\n      <td>-0.019117</td>\n    </tr>\n    <tr>\n      <th>size</th>\n      <td>0.004036</td>\n      <td>0.001801</td>\n      <td>-0.080354</td>\n      <td>0.001703</td>\n      <td>0.006498</td>\n      <td>-0.013092</td>\n      <td>0.032483</td>\n      <td>0.048370</td>\n      <td>0.039484</td>\n      <td>-0.005057</td>\n      <td>0.000595</td>\n      <td>-0.027557</td>\n      <td>1.000000</td>\n      <td>-0.103461</td>\n      <td>-0.063808</td>\n      <td>-0.004996</td>\n      <td>-0.003225</td>\n      <td>0.041743</td>\n      <td>0.010825</td>\n    </tr>\n    <tr>\n      <th>type</th>\n      <td>0.004448</td>\n      <td>0.006395</td>\n      <td>-0.118553</td>\n      <td>-0.010540</td>\n      <td>0.019422</td>\n      <td>0.078366</td>\n      <td>0.199019</td>\n      <td>0.109885</td>\n      <td>0.056232</td>\n      <td>0.017155</td>\n      <td>0.084233</td>\n      <td>0.310025</td>\n      <td>-0.103461</td>\n      <td>1.000000</td>\n      <td>0.174264</td>\n      <td>-0.005101</td>\n      <td>-0.028281</td>\n      <td>0.032996</td>\n      <td>0.034494</td>\n    </tr>\n    <tr>\n      <th>paint_color</th>\n      <td>0.003011</td>\n      <td>0.006096</td>\n      <td>-0.094145</td>\n      <td>0.003973</td>\n      <td>0.008405</td>\n      <td>0.046406</td>\n      <td>0.019850</td>\n      <td>0.013251</td>\n      <td>0.024598</td>\n      <td>-0.040094</td>\n      <td>0.050799</td>\n      <td>0.087707</td>\n      <td>-0.063808</td>\n      <td>0.174264</td>\n      <td>1.000000</td>\n      <td>0.001790</td>\n      <td>0.019154</td>\n      <td>-0.024215</td>\n      <td>0.002260</td>\n    </tr>\n    <tr>\n      <th>state</th>\n      <td>0.582130</td>\n      <td>0.014343</td>\n      <td>-0.006877</td>\n      <td>0.000913</td>\n      <td>0.002480</td>\n      <td>0.001213</td>\n      <td>-0.010259</td>\n      <td>0.007794</td>\n      <td>0.002593</td>\n      <td>0.009469</td>\n      <td>0.001900</td>\n      <td>-0.012380</td>\n      <td>-0.004996</td>\n      <td>-0.005101</td>\n      <td>0.001790</td>\n      <td>1.000000</td>\n      <td>-0.000144</td>\n      <td>-0.013868</td>\n      <td>-0.010446</td>\n    </tr>\n    <tr>\n      <th>lat</th>\n      <td>0.012235</td>\n      <td>0.000349</td>\n      <td>-0.014737</td>\n      <td>-0.023568</td>\n      <td>-0.002322</td>\n      <td>0.037712</td>\n      <td>-0.009176</td>\n      <td>0.024776</td>\n      <td>-0.001522</td>\n      <td>0.001179</td>\n      <td>0.052418</td>\n      <td>0.122341</td>\n      <td>-0.003225</td>\n      <td>-0.028281</td>\n      <td>0.019154</td>\n      <td>-0.000144</td>\n      <td>1.000000</td>\n      <td>-0.126014</td>\n      <td>-0.069123</td>\n    </tr>\n    <tr>\n      <th>long</th>\n      <td>-0.007686</td>\n      <td>-0.000430</td>\n      <td>-0.000672</td>\n      <td>-0.022567</td>\n      <td>-0.000645</td>\n      <td>-0.048628</td>\n      <td>0.028696</td>\n      <td>-0.032399</td>\n      <td>0.009375</td>\n      <td>0.029017</td>\n      <td>-0.090768</td>\n      <td>-0.005296</td>\n      <td>0.041743</td>\n      <td>0.032996</td>\n      <td>-0.024215</td>\n      <td>-0.013868</td>\n      <td>-0.126014</td>\n      <td>1.000000</td>\n      <td>-0.121598</td>\n    </tr>\n    <tr>\n      <th>posting_date</th>\n      <td>-0.027734</td>\n      <td>-0.002903</td>\n      <td>-0.059452</td>\n      <td>0.022418</td>\n      <td>0.001570</td>\n      <td>0.022402</td>\n      <td>-0.033179</td>\n      <td>-0.017236</td>\n      <td>0.009979</td>\n      <td>-0.003439</td>\n      <td>0.042516</td>\n      <td>-0.019117</td>\n      <td>0.010825</td>\n      <td>0.034494</td>\n      <td>0.002260</td>\n      <td>-0.010446</td>\n      <td>-0.069123</td>\n      <td>-0.121598</td>\n      <td>1.000000</td>\n    </tr>\n  </tbody>\n</table>\n</div>"
     },
     "execution_count": 5,
     "metadata": {},
     "output_type": "execute_result"
    }
   ],
   "source": [
    "import matplotlib.pyplot as plt\n",
    "\n",
    "# plot heatmap\n",
    "plt.matshow(df.corr())\n",
    "cb = plt.colorbar()\n",
    "plt.show()\n",
    "\n",
    "# show numerical values\n",
    "df.corr()"
   ],
   "metadata": {
    "collapsed": false,
    "pycharm": {
     "name": "#%%\n"
    }
   }
  },
  {
   "cell_type": "code",
   "execution_count": 6,
   "outputs": [
    {
     "data": {
      "text/plain": "          region  price      year  manufacturer     model  condition  \\\n0      -0.162222  33590  0.296092     -0.427579 -0.030978  -0.457577   \n1      -0.162222  22590 -0.124530      0.403040 -0.041815  -0.457577   \n2      -0.162222  39590  0.927026      0.403040 -0.031840  -0.457577   \n3      -0.162222  30990  0.611559      1.558506 -0.031331  -0.457577   \n4      -0.162222  15000  0.190937     -0.369076 -0.043465  -0.255119   \n...          ...    ...       ...           ...       ...        ...   \n414858 -0.179545  23590  0.821870     -0.540366 -0.039329  -0.457577   \n414859 -0.179545  30590  0.927026      3.014403 -0.035006  -0.457577   \n414860 -0.179545  34990  0.927026     -0.534403 -0.031467  -0.457577   \n414861 -0.179545  28990  0.716714     -0.536676 -0.039147  -0.457577   \n414862 -0.179545  30590  0.821870     -0.463286 -0.036400  -0.457577   \n\n        cylinders     fuel  odometer  title_status  transmission     drive  \\\n0        1.598596 -0.09461 -0.188795      0.229079     -1.294938  0.650680   \n1        1.598596 -0.09461 -0.126931      0.229079     -1.294938  0.650680   \n2        1.598596 -0.09461 -0.369017      0.229079     -1.294938  0.650680   \n3        1.598596 -0.09461 -0.266899      0.229079     -1.294938  0.650680   \n4       -0.408620 -0.09461  0.137017      0.229079     -0.010883 -0.836653   \n...           ...      ...       ...           ...           ...       ...   \n414858  -0.408620 -0.09461 -0.308269      0.229079     -1.294938 -1.456804   \n414859   0.311378 -0.09461 -0.402171      0.229079     -1.294938 -1.456804   \n414860   0.311378  2.98231 -0.438692      0.229079     -1.294938  0.650680   \n414861  -0.408620 -0.09461 -0.318097      0.229079     -1.294938 -1.456804   \n414862   0.311378 -0.09461 -0.352484      0.229079     -1.294938 -0.836653   \n\n            size      type  paint_color     state       lat      long  \\\n0      -0.267761  0.893932    -0.527930  0.946510 -1.012836  0.500321   \n1      -0.267761  0.893932    -0.795543  0.946510 -1.012836  0.500321   \n2      -0.267761  0.893932    -0.713547  0.946510 -1.012836  0.500321   \n3      -0.267761  0.893932    -0.713547  0.946510 -1.012836  0.500321   \n4       1.139291 -0.595479    -0.432312  0.946510 -1.012493  0.498202   \n...          ...       ...          ...       ...       ...       ...   \n414858 -0.267761 -0.767903     0.664083 -0.308953 -0.807997  0.556686   \n414859 -0.267761 -0.767903    -0.713547 -0.308953 -0.807997  0.556686   \n414860 -0.267761 -0.787788    -0.527930 -0.308953 -0.809244  0.558516   \n414861 -0.267761 -0.767903     0.366072 -0.308953 -0.807997  0.556686   \n414862 -0.267761 -0.691175     0.664083 -0.308953 -0.809244  0.558516   \n\n        posting_date  \n0           1.233451  \n1           1.233438  \n2           1.233461  \n3           1.224666  \n4           1.125483  \n...              ...  \n414858     -2.262659  \n414859     -2.262662  \n414860     -2.262678  \n414861     -2.262686  \n414862     -2.262691  \n\n[414863 rows x 19 columns]",
      "text/html": "<div>\n<style scoped>\n    .dataframe tbody tr th:only-of-type {\n        vertical-align: middle;\n    }\n\n    .dataframe tbody tr th {\n        vertical-align: top;\n    }\n\n    .dataframe thead th {\n        text-align: right;\n    }\n</style>\n<table border=\"1\" class=\"dataframe\">\n  <thead>\n    <tr style=\"text-align: right;\">\n      <th></th>\n      <th>region</th>\n      <th>price</th>\n      <th>year</th>\n      <th>manufacturer</th>\n      <th>model</th>\n      <th>condition</th>\n      <th>cylinders</th>\n      <th>fuel</th>\n      <th>odometer</th>\n      <th>title_status</th>\n      <th>transmission</th>\n      <th>drive</th>\n      <th>size</th>\n      <th>type</th>\n      <th>paint_color</th>\n      <th>state</th>\n      <th>lat</th>\n      <th>long</th>\n      <th>posting_date</th>\n    </tr>\n  </thead>\n  <tbody>\n    <tr>\n      <th>0</th>\n      <td>-0.162222</td>\n      <td>33590</td>\n      <td>0.296092</td>\n      <td>-0.427579</td>\n      <td>-0.030978</td>\n      <td>-0.457577</td>\n      <td>1.598596</td>\n      <td>-0.09461</td>\n      <td>-0.188795</td>\n      <td>0.229079</td>\n      <td>-1.294938</td>\n      <td>0.650680</td>\n      <td>-0.267761</td>\n      <td>0.893932</td>\n      <td>-0.527930</td>\n      <td>0.946510</td>\n      <td>-1.012836</td>\n      <td>0.500321</td>\n      <td>1.233451</td>\n    </tr>\n    <tr>\n      <th>1</th>\n      <td>-0.162222</td>\n      <td>22590</td>\n      <td>-0.124530</td>\n      <td>0.403040</td>\n      <td>-0.041815</td>\n      <td>-0.457577</td>\n      <td>1.598596</td>\n      <td>-0.09461</td>\n      <td>-0.126931</td>\n      <td>0.229079</td>\n      <td>-1.294938</td>\n      <td>0.650680</td>\n      <td>-0.267761</td>\n      <td>0.893932</td>\n      <td>-0.795543</td>\n      <td>0.946510</td>\n      <td>-1.012836</td>\n      <td>0.500321</td>\n      <td>1.233438</td>\n    </tr>\n    <tr>\n      <th>2</th>\n      <td>-0.162222</td>\n      <td>39590</td>\n      <td>0.927026</td>\n      <td>0.403040</td>\n      <td>-0.031840</td>\n      <td>-0.457577</td>\n      <td>1.598596</td>\n      <td>-0.09461</td>\n      <td>-0.369017</td>\n      <td>0.229079</td>\n      <td>-1.294938</td>\n      <td>0.650680</td>\n      <td>-0.267761</td>\n      <td>0.893932</td>\n      <td>-0.713547</td>\n      <td>0.946510</td>\n      <td>-1.012836</td>\n      <td>0.500321</td>\n      <td>1.233461</td>\n    </tr>\n    <tr>\n      <th>3</th>\n      <td>-0.162222</td>\n      <td>30990</td>\n      <td>0.611559</td>\n      <td>1.558506</td>\n      <td>-0.031331</td>\n      <td>-0.457577</td>\n      <td>1.598596</td>\n      <td>-0.09461</td>\n      <td>-0.266899</td>\n      <td>0.229079</td>\n      <td>-1.294938</td>\n      <td>0.650680</td>\n      <td>-0.267761</td>\n      <td>0.893932</td>\n      <td>-0.713547</td>\n      <td>0.946510</td>\n      <td>-1.012836</td>\n      <td>0.500321</td>\n      <td>1.224666</td>\n    </tr>\n    <tr>\n      <th>4</th>\n      <td>-0.162222</td>\n      <td>15000</td>\n      <td>0.190937</td>\n      <td>-0.369076</td>\n      <td>-0.043465</td>\n      <td>-0.255119</td>\n      <td>-0.408620</td>\n      <td>-0.09461</td>\n      <td>0.137017</td>\n      <td>0.229079</td>\n      <td>-0.010883</td>\n      <td>-0.836653</td>\n      <td>1.139291</td>\n      <td>-0.595479</td>\n      <td>-0.432312</td>\n      <td>0.946510</td>\n      <td>-1.012493</td>\n      <td>0.498202</td>\n      <td>1.125483</td>\n    </tr>\n    <tr>\n      <th>...</th>\n      <td>...</td>\n      <td>...</td>\n      <td>...</td>\n      <td>...</td>\n      <td>...</td>\n      <td>...</td>\n      <td>...</td>\n      <td>...</td>\n      <td>...</td>\n      <td>...</td>\n      <td>...</td>\n      <td>...</td>\n      <td>...</td>\n      <td>...</td>\n      <td>...</td>\n      <td>...</td>\n      <td>...</td>\n      <td>...</td>\n      <td>...</td>\n    </tr>\n    <tr>\n      <th>414858</th>\n      <td>-0.179545</td>\n      <td>23590</td>\n      <td>0.821870</td>\n      <td>-0.540366</td>\n      <td>-0.039329</td>\n      <td>-0.457577</td>\n      <td>-0.408620</td>\n      <td>-0.09461</td>\n      <td>-0.308269</td>\n      <td>0.229079</td>\n      <td>-1.294938</td>\n      <td>-1.456804</td>\n      <td>-0.267761</td>\n      <td>-0.767903</td>\n      <td>0.664083</td>\n      <td>-0.308953</td>\n      <td>-0.807997</td>\n      <td>0.556686</td>\n      <td>-2.262659</td>\n    </tr>\n    <tr>\n      <th>414859</th>\n      <td>-0.179545</td>\n      <td>30590</td>\n      <td>0.927026</td>\n      <td>3.014403</td>\n      <td>-0.035006</td>\n      <td>-0.457577</td>\n      <td>0.311378</td>\n      <td>-0.09461</td>\n      <td>-0.402171</td>\n      <td>0.229079</td>\n      <td>-1.294938</td>\n      <td>-1.456804</td>\n      <td>-0.267761</td>\n      <td>-0.767903</td>\n      <td>-0.713547</td>\n      <td>-0.308953</td>\n      <td>-0.807997</td>\n      <td>0.556686</td>\n      <td>-2.262662</td>\n    </tr>\n    <tr>\n      <th>414860</th>\n      <td>-0.179545</td>\n      <td>34990</td>\n      <td>0.927026</td>\n      <td>-0.534403</td>\n      <td>-0.031467</td>\n      <td>-0.457577</td>\n      <td>0.311378</td>\n      <td>2.98231</td>\n      <td>-0.438692</td>\n      <td>0.229079</td>\n      <td>-1.294938</td>\n      <td>0.650680</td>\n      <td>-0.267761</td>\n      <td>-0.787788</td>\n      <td>-0.527930</td>\n      <td>-0.308953</td>\n      <td>-0.809244</td>\n      <td>0.558516</td>\n      <td>-2.262678</td>\n    </tr>\n    <tr>\n      <th>414861</th>\n      <td>-0.179545</td>\n      <td>28990</td>\n      <td>0.716714</td>\n      <td>-0.536676</td>\n      <td>-0.039147</td>\n      <td>-0.457577</td>\n      <td>-0.408620</td>\n      <td>-0.09461</td>\n      <td>-0.318097</td>\n      <td>0.229079</td>\n      <td>-1.294938</td>\n      <td>-1.456804</td>\n      <td>-0.267761</td>\n      <td>-0.767903</td>\n      <td>0.366072</td>\n      <td>-0.308953</td>\n      <td>-0.807997</td>\n      <td>0.556686</td>\n      <td>-2.262686</td>\n    </tr>\n    <tr>\n      <th>414862</th>\n      <td>-0.179545</td>\n      <td>30590</td>\n      <td>0.821870</td>\n      <td>-0.463286</td>\n      <td>-0.036400</td>\n      <td>-0.457577</td>\n      <td>0.311378</td>\n      <td>-0.09461</td>\n      <td>-0.352484</td>\n      <td>0.229079</td>\n      <td>-1.294938</td>\n      <td>-0.836653</td>\n      <td>-0.267761</td>\n      <td>-0.691175</td>\n      <td>0.664083</td>\n      <td>-0.308953</td>\n      <td>-0.809244</td>\n      <td>0.558516</td>\n      <td>-2.262691</td>\n    </tr>\n  </tbody>\n</table>\n<p>414863 rows × 19 columns</p>\n</div>"
     },
     "execution_count": 6,
     "metadata": {},
     "output_type": "execute_result"
    }
   ],
   "source": [
    "from sklearn.preprocessing import StandardScaler\n",
    "\n",
    "# standardize columns\n",
    "cols = df.columns.difference(['price'])\n",
    "df[cols] = StandardScaler().fit_transform(df[cols])\n",
    "df.copy()"
   ],
   "metadata": {
    "collapsed": false,
    "pycharm": {
     "name": "#%%\n"
    }
   }
  },
  {
   "cell_type": "code",
   "execution_count": 13,
   "outputs": [
    {
     "data": {
      "text/plain": "LinearDiscriminantAnalysis()"
     },
     "execution_count": 13,
     "metadata": {},
     "output_type": "execute_result"
    }
   ],
   "source": [
    "from sklearn.model_selection import train_test_split\n",
    "from sklearn.discriminant_analysis import LinearDiscriminantAnalysis\n",
    "\n",
    "clf = LinearDiscriminantAnalysis(solver=\"svd\")\n",
    "cols = df.columns.difference(['price', \"model\"])\n",
    "\n",
    "# split data in train and test\n",
    "training_data, testing_data = train_test_split(df, test_size=0.2, random_state=25)\n",
    "\n",
    "# split into features and labels\n",
    "training_features = training_data.copy()[cols]\n",
    "training_labels = training_data[\"price\"]\n",
    "\n",
    "# split into features and labels\n",
    "testing_features = pd.DataFrame(testing_data.copy())[cols]\n",
    "testing_labels = pd.DataFrame(testing_data[\"price\"])\n",
    "\n",
    "clf.fit(training_features, training_labels)"
   ],
   "metadata": {
    "collapsed": false,
    "pycharm": {
     "name": "#%%\n"
    }
   }
  },
  {
   "cell_type": "code",
   "execution_count": 14,
   "outputs": [
    {
     "data": {
      "text/plain": "array([    0,     0,     0, ..., 16590, 24990,  2498])"
     },
     "execution_count": 14,
     "metadata": {},
     "output_type": "execute_result"
    }
   ],
   "source": [
    "clf.predict(testing_features)"
   ],
   "metadata": {
    "collapsed": false,
    "pycharm": {
     "name": "#%%\n"
    }
   }
  },
  {
   "cell_type": "code",
   "execution_count": 17,
   "outputs": [
    {
     "data": {
      "text/plain": "27705"
     },
     "execution_count": 17,
     "metadata": {},
     "output_type": "execute_result"
    }
   ],
   "source": [
    "len(df[df.price == 0])"
   ],
   "metadata": {
    "collapsed": false,
    "pycharm": {
     "name": "#%%\n"
    }
   }
  },
  {
   "cell_type": "code",
   "execution_count": 11,
   "outputs": [
    {
     "data": {
      "text/plain": "       price\n0      15995\n1       8400\n2       8850\n3          0\n4      12900\n...      ...\n82968   6995\n82969   3995\n82970  16990\n82971  25990\n82972   1599\n\n[82973 rows x 1 columns]",
      "text/html": "<div>\n<style scoped>\n    .dataframe tbody tr th:only-of-type {\n        vertical-align: middle;\n    }\n\n    .dataframe tbody tr th {\n        vertical-align: top;\n    }\n\n    .dataframe thead th {\n        text-align: right;\n    }\n</style>\n<table border=\"1\" class=\"dataframe\">\n  <thead>\n    <tr style=\"text-align: right;\">\n      <th></th>\n      <th>price</th>\n    </tr>\n  </thead>\n  <tbody>\n    <tr>\n      <th>0</th>\n      <td>15995</td>\n    </tr>\n    <tr>\n      <th>1</th>\n      <td>8400</td>\n    </tr>\n    <tr>\n      <th>2</th>\n      <td>8850</td>\n    </tr>\n    <tr>\n      <th>3</th>\n      <td>0</td>\n    </tr>\n    <tr>\n      <th>4</th>\n      <td>12900</td>\n    </tr>\n    <tr>\n      <th>...</th>\n      <td>...</td>\n    </tr>\n    <tr>\n      <th>82968</th>\n      <td>6995</td>\n    </tr>\n    <tr>\n      <th>82969</th>\n      <td>3995</td>\n    </tr>\n    <tr>\n      <th>82970</th>\n      <td>16990</td>\n    </tr>\n    <tr>\n      <th>82971</th>\n      <td>25990</td>\n    </tr>\n    <tr>\n      <th>82972</th>\n      <td>1599</td>\n    </tr>\n  </tbody>\n</table>\n<p>82973 rows × 1 columns</p>\n</div>"
     },
     "execution_count": 11,
     "metadata": {},
     "output_type": "execute_result"
    }
   ],
   "source": [
    "testing_labels.reset_index(drop=True)"
   ],
   "metadata": {
    "collapsed": false,
    "pycharm": {
     "name": "#%%\n"
    }
   }
  }
 ],
 "metadata": {
  "kernelspec": {
   "display_name": "Python 3",
   "language": "python",
   "name": "python3"
  },
  "language_info": {
   "codemirror_mode": {
    "name": "ipython",
    "version": 2
   },
   "file_extension": ".py",
   "mimetype": "text/x-python",
   "name": "python",
   "nbconvert_exporter": "python",
   "pygments_lexer": "ipython2",
   "version": "2.7.6"
  }
 },
 "nbformat": 4,
 "nbformat_minor": 0
}