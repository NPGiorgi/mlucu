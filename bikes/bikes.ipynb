{
 "cells": [
  {
   "cell_type": "code",
   "execution_count": 847,
   "outputs": [],
   "source": [
    "import ssl\n",
    "ssl._create_default_https_context = ssl._create_unverified_context"
   ],
   "metadata": {
    "collapsed": false,
    "pycharm": {
     "name": "#%%\n"
    }
   }
  },
  {
   "cell_type": "code",
   "execution_count": 848,
   "outputs": [],
   "source": [
    "import pandas as pd"
   ],
   "metadata": {
    "collapsed": false,
    "pycharm": {
     "name": "#%%\n"
    }
   }
  },
  {
   "cell_type": "code",
   "execution_count": 849,
   "metadata": {
    "collapsed": true
   },
   "outputs": [
    {
     "data": {
      "text/plain": "                  datetime  season  holiday  workingday  weather   temp  \\\n0      2011-01-01 00:00:00       1        0           0        1   9.84   \n1      2011-01-01 01:00:00       1        0           0        1   9.02   \n2      2011-01-01 02:00:00       1        0           0        1   9.02   \n3      2011-01-01 03:00:00       1        0           0        1   9.84   \n4      2011-01-01 04:00:00       1        0           0        1   9.84   \n...                    ...     ...      ...         ...      ...    ...   \n10881  2012-12-19 19:00:00       4        0           1        1  15.58   \n10882  2012-12-19 20:00:00       4        0           1        1  14.76   \n10883  2012-12-19 21:00:00       4        0           1        1  13.94   \n10884  2012-12-19 22:00:00       4        0           1        1  13.94   \n10885  2012-12-19 23:00:00       4        0           1        1  13.12   \n\n        atemp  humidity  windspeed  casual  registered  count  \n0      14.395        81     0.0000       3          13     16  \n1      13.635        80     0.0000       8          32     40  \n2      13.635        80     0.0000       5          27     32  \n3      14.395        75     0.0000       3          10     13  \n4      14.395        75     0.0000       0           1      1  \n...       ...       ...        ...     ...         ...    ...  \n10881  19.695        50    26.0027       7         329    336  \n10882  17.425        57    15.0013      10         231    241  \n10883  15.910        61    15.0013       4         164    168  \n10884  17.425        61     6.0032      12         117    129  \n10885  16.665        66     8.9981       4          84     88  \n\n[10886 rows x 12 columns]",
      "text/html": "<div>\n<style scoped>\n    .dataframe tbody tr th:only-of-type {\n        vertical-align: middle;\n    }\n\n    .dataframe tbody tr th {\n        vertical-align: top;\n    }\n\n    .dataframe thead th {\n        text-align: right;\n    }\n</style>\n<table border=\"1\" class=\"dataframe\">\n  <thead>\n    <tr style=\"text-align: right;\">\n      <th></th>\n      <th>datetime</th>\n      <th>season</th>\n      <th>holiday</th>\n      <th>workingday</th>\n      <th>weather</th>\n      <th>temp</th>\n      <th>atemp</th>\n      <th>humidity</th>\n      <th>windspeed</th>\n      <th>casual</th>\n      <th>registered</th>\n      <th>count</th>\n    </tr>\n  </thead>\n  <tbody>\n    <tr>\n      <th>0</th>\n      <td>2011-01-01 00:00:00</td>\n      <td>1</td>\n      <td>0</td>\n      <td>0</td>\n      <td>1</td>\n      <td>9.84</td>\n      <td>14.395</td>\n      <td>81</td>\n      <td>0.0000</td>\n      <td>3</td>\n      <td>13</td>\n      <td>16</td>\n    </tr>\n    <tr>\n      <th>1</th>\n      <td>2011-01-01 01:00:00</td>\n      <td>1</td>\n      <td>0</td>\n      <td>0</td>\n      <td>1</td>\n      <td>9.02</td>\n      <td>13.635</td>\n      <td>80</td>\n      <td>0.0000</td>\n      <td>8</td>\n      <td>32</td>\n      <td>40</td>\n    </tr>\n    <tr>\n      <th>2</th>\n      <td>2011-01-01 02:00:00</td>\n      <td>1</td>\n      <td>0</td>\n      <td>0</td>\n      <td>1</td>\n      <td>9.02</td>\n      <td>13.635</td>\n      <td>80</td>\n      <td>0.0000</td>\n      <td>5</td>\n      <td>27</td>\n      <td>32</td>\n    </tr>\n    <tr>\n      <th>3</th>\n      <td>2011-01-01 03:00:00</td>\n      <td>1</td>\n      <td>0</td>\n      <td>0</td>\n      <td>1</td>\n      <td>9.84</td>\n      <td>14.395</td>\n      <td>75</td>\n      <td>0.0000</td>\n      <td>3</td>\n      <td>10</td>\n      <td>13</td>\n    </tr>\n    <tr>\n      <th>4</th>\n      <td>2011-01-01 04:00:00</td>\n      <td>1</td>\n      <td>0</td>\n      <td>0</td>\n      <td>1</td>\n      <td>9.84</td>\n      <td>14.395</td>\n      <td>75</td>\n      <td>0.0000</td>\n      <td>0</td>\n      <td>1</td>\n      <td>1</td>\n    </tr>\n    <tr>\n      <th>...</th>\n      <td>...</td>\n      <td>...</td>\n      <td>...</td>\n      <td>...</td>\n      <td>...</td>\n      <td>...</td>\n      <td>...</td>\n      <td>...</td>\n      <td>...</td>\n      <td>...</td>\n      <td>...</td>\n      <td>...</td>\n    </tr>\n    <tr>\n      <th>10881</th>\n      <td>2012-12-19 19:00:00</td>\n      <td>4</td>\n      <td>0</td>\n      <td>1</td>\n      <td>1</td>\n      <td>15.58</td>\n      <td>19.695</td>\n      <td>50</td>\n      <td>26.0027</td>\n      <td>7</td>\n      <td>329</td>\n      <td>336</td>\n    </tr>\n    <tr>\n      <th>10882</th>\n      <td>2012-12-19 20:00:00</td>\n      <td>4</td>\n      <td>0</td>\n      <td>1</td>\n      <td>1</td>\n      <td>14.76</td>\n      <td>17.425</td>\n      <td>57</td>\n      <td>15.0013</td>\n      <td>10</td>\n      <td>231</td>\n      <td>241</td>\n    </tr>\n    <tr>\n      <th>10883</th>\n      <td>2012-12-19 21:00:00</td>\n      <td>4</td>\n      <td>0</td>\n      <td>1</td>\n      <td>1</td>\n      <td>13.94</td>\n      <td>15.910</td>\n      <td>61</td>\n      <td>15.0013</td>\n      <td>4</td>\n      <td>164</td>\n      <td>168</td>\n    </tr>\n    <tr>\n      <th>10884</th>\n      <td>2012-12-19 22:00:00</td>\n      <td>4</td>\n      <td>0</td>\n      <td>1</td>\n      <td>1</td>\n      <td>13.94</td>\n      <td>17.425</td>\n      <td>61</td>\n      <td>6.0032</td>\n      <td>12</td>\n      <td>117</td>\n      <td>129</td>\n    </tr>\n    <tr>\n      <th>10885</th>\n      <td>2012-12-19 23:00:00</td>\n      <td>4</td>\n      <td>0</td>\n      <td>1</td>\n      <td>1</td>\n      <td>13.12</td>\n      <td>16.665</td>\n      <td>66</td>\n      <td>8.9981</td>\n      <td>4</td>\n      <td>84</td>\n      <td>88</td>\n    </tr>\n  </tbody>\n</table>\n<p>10886 rows × 12 columns</p>\n</div>"
     },
     "execution_count": 849,
     "metadata": {},
     "output_type": "execute_result"
    }
   ],
   "source": [
    "odf = pd.read_csv(\"https://npg-ds.s3.amazonaws.com/bike_sharing.csv\")\n",
    "odf.copy()"
   ]
  },
  {
   "cell_type": "code",
   "execution_count": 850,
   "outputs": [],
   "source": [
    "# copy the dataframe from later usage\n",
    "df = odf.copy()"
   ],
   "metadata": {
    "collapsed": false,
    "pycharm": {
     "name": "#%%\n"
    }
   }
  },
  {
   "cell_type": "markdown",
   "source": [
    "The dataset has the following features:\n",
    "\n",
    "1. Datetime: hourly date + timestamp\n",
    "2. Season:\n",
    "    - 1 = spring\n",
    "    - 2 = summer\n",
    "    - 3 = fall\n",
    "    - 4 = winter\n",
    "3. Holiday: whether the day is considered a holiday\n",
    "4. Workingday: whether the day is neither a weekend nor holiday\n",
    "5. Weather:\n",
    "    - 1: Clear, Few clouds, Partly cloudy, Partly cloudy\n",
    "    - 2: Mist + Cloudy, Mist + Broken clouds, Mist + Few clouds, Mist\n",
    "    - 3: Light Snow, Light Rain + Thunderstorm + Scattered clouds, Light Rain + Scattered clouds\n",
    "    - 4: Heavy Rain + Ice Pallets + Thunderstorm + Mist, Snow + Fog\n",
    "6. Temp: temperature in Celsius\n",
    "7. Atemp: \"feels like\" temperature in Celsius\n",
    "8. Humidity: relative humidity\n",
    "9. Windspeed: wind speed\n",
    "10. Casual: number of non-registered user rentals initiated\n",
    "11. Registered: number of registered user rentals initiated\n",
    "12. Count: number of total rentals\n",
    "\n",
    "Let's see some statistics on the data."
   ],
   "metadata": {
    "collapsed": false,
    "pycharm": {
     "name": "#%% md\n"
    }
   }
  },
  {
   "cell_type": "code",
   "source": [
    "df.copy().describe()"
   ],
   "metadata": {
    "collapsed": false,
    "pycharm": {
     "name": "#%%\n"
    }
   },
   "execution_count": 851,
   "outputs": [
    {
     "data": {
      "text/plain": "             season       holiday    workingday       weather         temp  \\\ncount  10886.000000  10886.000000  10886.000000  10886.000000  10886.00000   \nmean       2.506614      0.028569      0.680875      1.418427     20.23086   \nstd        1.116174      0.166599      0.466159      0.633839      7.79159   \nmin        1.000000      0.000000      0.000000      1.000000      0.82000   \n25%        2.000000      0.000000      0.000000      1.000000     13.94000   \n50%        3.000000      0.000000      1.000000      1.000000     20.50000   \n75%        4.000000      0.000000      1.000000      2.000000     26.24000   \nmax        4.000000      1.000000      1.000000      4.000000     41.00000   \n\n              atemp      humidity     windspeed        casual    registered  \\\ncount  10886.000000  10886.000000  10886.000000  10886.000000  10886.000000   \nmean      23.655084     61.886460     12.799395     36.021955    155.552177   \nstd        8.474601     19.245033      8.164537     49.960477    151.039033   \nmin        0.760000      0.000000      0.000000      0.000000      0.000000   \n25%       16.665000     47.000000      7.001500      4.000000     36.000000   \n50%       24.240000     62.000000     12.998000     17.000000    118.000000   \n75%       31.060000     77.000000     16.997900     49.000000    222.000000   \nmax       45.455000    100.000000     56.996900    367.000000    886.000000   \n\n              count  \ncount  10886.000000  \nmean     191.574132  \nstd      181.144454  \nmin        1.000000  \n25%       42.000000  \n50%      145.000000  \n75%      284.000000  \nmax      977.000000  ",
      "text/html": "<div>\n<style scoped>\n    .dataframe tbody tr th:only-of-type {\n        vertical-align: middle;\n    }\n\n    .dataframe tbody tr th {\n        vertical-align: top;\n    }\n\n    .dataframe thead th {\n        text-align: right;\n    }\n</style>\n<table border=\"1\" class=\"dataframe\">\n  <thead>\n    <tr style=\"text-align: right;\">\n      <th></th>\n      <th>season</th>\n      <th>holiday</th>\n      <th>workingday</th>\n      <th>weather</th>\n      <th>temp</th>\n      <th>atemp</th>\n      <th>humidity</th>\n      <th>windspeed</th>\n      <th>casual</th>\n      <th>registered</th>\n      <th>count</th>\n    </tr>\n  </thead>\n  <tbody>\n    <tr>\n      <th>count</th>\n      <td>10886.000000</td>\n      <td>10886.000000</td>\n      <td>10886.000000</td>\n      <td>10886.000000</td>\n      <td>10886.00000</td>\n      <td>10886.000000</td>\n      <td>10886.000000</td>\n      <td>10886.000000</td>\n      <td>10886.000000</td>\n      <td>10886.000000</td>\n      <td>10886.000000</td>\n    </tr>\n    <tr>\n      <th>mean</th>\n      <td>2.506614</td>\n      <td>0.028569</td>\n      <td>0.680875</td>\n      <td>1.418427</td>\n      <td>20.23086</td>\n      <td>23.655084</td>\n      <td>61.886460</td>\n      <td>12.799395</td>\n      <td>36.021955</td>\n      <td>155.552177</td>\n      <td>191.574132</td>\n    </tr>\n    <tr>\n      <th>std</th>\n      <td>1.116174</td>\n      <td>0.166599</td>\n      <td>0.466159</td>\n      <td>0.633839</td>\n      <td>7.79159</td>\n      <td>8.474601</td>\n      <td>19.245033</td>\n      <td>8.164537</td>\n      <td>49.960477</td>\n      <td>151.039033</td>\n      <td>181.144454</td>\n    </tr>\n    <tr>\n      <th>min</th>\n      <td>1.000000</td>\n      <td>0.000000</td>\n      <td>0.000000</td>\n      <td>1.000000</td>\n      <td>0.82000</td>\n      <td>0.760000</td>\n      <td>0.000000</td>\n      <td>0.000000</td>\n      <td>0.000000</td>\n      <td>0.000000</td>\n      <td>1.000000</td>\n    </tr>\n    <tr>\n      <th>25%</th>\n      <td>2.000000</td>\n      <td>0.000000</td>\n      <td>0.000000</td>\n      <td>1.000000</td>\n      <td>13.94000</td>\n      <td>16.665000</td>\n      <td>47.000000</td>\n      <td>7.001500</td>\n      <td>4.000000</td>\n      <td>36.000000</td>\n      <td>42.000000</td>\n    </tr>\n    <tr>\n      <th>50%</th>\n      <td>3.000000</td>\n      <td>0.000000</td>\n      <td>1.000000</td>\n      <td>1.000000</td>\n      <td>20.50000</td>\n      <td>24.240000</td>\n      <td>62.000000</td>\n      <td>12.998000</td>\n      <td>17.000000</td>\n      <td>118.000000</td>\n      <td>145.000000</td>\n    </tr>\n    <tr>\n      <th>75%</th>\n      <td>4.000000</td>\n      <td>0.000000</td>\n      <td>1.000000</td>\n      <td>2.000000</td>\n      <td>26.24000</td>\n      <td>31.060000</td>\n      <td>77.000000</td>\n      <td>16.997900</td>\n      <td>49.000000</td>\n      <td>222.000000</td>\n      <td>284.000000</td>\n    </tr>\n    <tr>\n      <th>max</th>\n      <td>4.000000</td>\n      <td>1.000000</td>\n      <td>1.000000</td>\n      <td>4.000000</td>\n      <td>41.00000</td>\n      <td>45.455000</td>\n      <td>100.000000</td>\n      <td>56.996900</td>\n      <td>367.000000</td>\n      <td>886.000000</td>\n      <td>977.000000</td>\n    </tr>\n  </tbody>\n</table>\n</div>"
     },
     "execution_count": 851,
     "metadata": {},
     "output_type": "execute_result"
    }
   ]
  },
  {
   "cell_type": "markdown",
   "source": [
    "Let's now start checking for some initial statistics about our dataset. For instance we could check for null values per feature:"
   ],
   "metadata": {
    "collapsed": false,
    "pycharm": {
     "name": "#%% md\n"
    }
   }
  },
  {
   "cell_type": "code",
   "source": [
    "df.copy().isnull().sum()"
   ],
   "metadata": {
    "collapsed": false,
    "pycharm": {
     "name": "#%%\n"
    }
   },
   "execution_count": 852,
   "outputs": [
    {
     "data": {
      "text/plain": "datetime      0\nseason        0\nholiday       0\nworkingday    0\nweather       0\ntemp          0\natemp         0\nhumidity      0\nwindspeed     0\ncasual        0\nregistered    0\ncount         0\ndtype: int64"
     },
     "execution_count": 852,
     "metadata": {},
     "output_type": "execute_result"
    }
   ]
  },
  {
   "cell_type": "markdown",
   "source": [
    "Now let's convert the dates into timestamps."
   ],
   "metadata": {
    "collapsed": false
   }
  },
  {
   "cell_type": "code",
   "execution_count": 853,
   "outputs": [
    {
     "data": {
      "text/plain": "       season  holiday  workingday  weather   temp   atemp  humidity  \\\n0           1        0           0        1   9.84  14.395        81   \n1           1        0           0        1   9.02  13.635        80   \n2           1        0           0        1   9.02  13.635        80   \n3           1        0           0        1   9.84  14.395        75   \n4           1        0           0        1   9.84  14.395        75   \n...       ...      ...         ...      ...    ...     ...       ...   \n10881       4        0           1        1  15.58  19.695        50   \n10882       4        0           1        1  14.76  17.425        57   \n10883       4        0           1        1  13.94  15.910        61   \n10884       4        0           1        1  13.94  17.425        61   \n10885       4        0           1        1  13.12  16.665        66   \n\n       windspeed  count  year  month  hour  day_of_week  \n0         0.0000     16  2011      1     0            5  \n1         0.0000     40  2011      1     1            5  \n2         0.0000     32  2011      1     2            5  \n3         0.0000     13  2011      1     3            5  \n4         0.0000      1  2011      1     4            5  \n...          ...    ...   ...    ...   ...          ...  \n10881    26.0027    336  2012     12    19            2  \n10882    15.0013    241  2012     12    20            2  \n10883    15.0013    168  2012     12    21            2  \n10884     6.0032    129  2012     12    22            2  \n10885     8.9981     88  2012     12    23            2  \n\n[10886 rows x 13 columns]",
      "text/html": "<div>\n<style scoped>\n    .dataframe tbody tr th:only-of-type {\n        vertical-align: middle;\n    }\n\n    .dataframe tbody tr th {\n        vertical-align: top;\n    }\n\n    .dataframe thead th {\n        text-align: right;\n    }\n</style>\n<table border=\"1\" class=\"dataframe\">\n  <thead>\n    <tr style=\"text-align: right;\">\n      <th></th>\n      <th>season</th>\n      <th>holiday</th>\n      <th>workingday</th>\n      <th>weather</th>\n      <th>temp</th>\n      <th>atemp</th>\n      <th>humidity</th>\n      <th>windspeed</th>\n      <th>count</th>\n      <th>year</th>\n      <th>month</th>\n      <th>hour</th>\n      <th>day_of_week</th>\n    </tr>\n  </thead>\n  <tbody>\n    <tr>\n      <th>0</th>\n      <td>1</td>\n      <td>0</td>\n      <td>0</td>\n      <td>1</td>\n      <td>9.84</td>\n      <td>14.395</td>\n      <td>81</td>\n      <td>0.0000</td>\n      <td>16</td>\n      <td>2011</td>\n      <td>1</td>\n      <td>0</td>\n      <td>5</td>\n    </tr>\n    <tr>\n      <th>1</th>\n      <td>1</td>\n      <td>0</td>\n      <td>0</td>\n      <td>1</td>\n      <td>9.02</td>\n      <td>13.635</td>\n      <td>80</td>\n      <td>0.0000</td>\n      <td>40</td>\n      <td>2011</td>\n      <td>1</td>\n      <td>1</td>\n      <td>5</td>\n    </tr>\n    <tr>\n      <th>2</th>\n      <td>1</td>\n      <td>0</td>\n      <td>0</td>\n      <td>1</td>\n      <td>9.02</td>\n      <td>13.635</td>\n      <td>80</td>\n      <td>0.0000</td>\n      <td>32</td>\n      <td>2011</td>\n      <td>1</td>\n      <td>2</td>\n      <td>5</td>\n    </tr>\n    <tr>\n      <th>3</th>\n      <td>1</td>\n      <td>0</td>\n      <td>0</td>\n      <td>1</td>\n      <td>9.84</td>\n      <td>14.395</td>\n      <td>75</td>\n      <td>0.0000</td>\n      <td>13</td>\n      <td>2011</td>\n      <td>1</td>\n      <td>3</td>\n      <td>5</td>\n    </tr>\n    <tr>\n      <th>4</th>\n      <td>1</td>\n      <td>0</td>\n      <td>0</td>\n      <td>1</td>\n      <td>9.84</td>\n      <td>14.395</td>\n      <td>75</td>\n      <td>0.0000</td>\n      <td>1</td>\n      <td>2011</td>\n      <td>1</td>\n      <td>4</td>\n      <td>5</td>\n    </tr>\n    <tr>\n      <th>...</th>\n      <td>...</td>\n      <td>...</td>\n      <td>...</td>\n      <td>...</td>\n      <td>...</td>\n      <td>...</td>\n      <td>...</td>\n      <td>...</td>\n      <td>...</td>\n      <td>...</td>\n      <td>...</td>\n      <td>...</td>\n      <td>...</td>\n    </tr>\n    <tr>\n      <th>10881</th>\n      <td>4</td>\n      <td>0</td>\n      <td>1</td>\n      <td>1</td>\n      <td>15.58</td>\n      <td>19.695</td>\n      <td>50</td>\n      <td>26.0027</td>\n      <td>336</td>\n      <td>2012</td>\n      <td>12</td>\n      <td>19</td>\n      <td>2</td>\n    </tr>\n    <tr>\n      <th>10882</th>\n      <td>4</td>\n      <td>0</td>\n      <td>1</td>\n      <td>1</td>\n      <td>14.76</td>\n      <td>17.425</td>\n      <td>57</td>\n      <td>15.0013</td>\n      <td>241</td>\n      <td>2012</td>\n      <td>12</td>\n      <td>20</td>\n      <td>2</td>\n    </tr>\n    <tr>\n      <th>10883</th>\n      <td>4</td>\n      <td>0</td>\n      <td>1</td>\n      <td>1</td>\n      <td>13.94</td>\n      <td>15.910</td>\n      <td>61</td>\n      <td>15.0013</td>\n      <td>168</td>\n      <td>2012</td>\n      <td>12</td>\n      <td>21</td>\n      <td>2</td>\n    </tr>\n    <tr>\n      <th>10884</th>\n      <td>4</td>\n      <td>0</td>\n      <td>1</td>\n      <td>1</td>\n      <td>13.94</td>\n      <td>17.425</td>\n      <td>61</td>\n      <td>6.0032</td>\n      <td>129</td>\n      <td>2012</td>\n      <td>12</td>\n      <td>22</td>\n      <td>2</td>\n    </tr>\n    <tr>\n      <th>10885</th>\n      <td>4</td>\n      <td>0</td>\n      <td>1</td>\n      <td>1</td>\n      <td>13.12</td>\n      <td>16.665</td>\n      <td>66</td>\n      <td>8.9981</td>\n      <td>88</td>\n      <td>2012</td>\n      <td>12</td>\n      <td>23</td>\n      <td>2</td>\n    </tr>\n  </tbody>\n</table>\n<p>10886 rows × 13 columns</p>\n</div>"
     },
     "execution_count": 853,
     "metadata": {},
     "output_type": "execute_result"
    }
   ],
   "source": [
    "# those values represent the composition of the count\n",
    "# we won't have them in reality\n",
    "df.drop(\"casual\", axis=1, inplace=True)\n",
    "df.drop(\"registered\", axis=1, inplace=True)\n",
    "\n",
    "\n",
    "df['datetime'] = pd.to_datetime(df['datetime'])\n",
    "\n",
    "# We'll only use year, month, hour, and day of week as it has the granularity we want\n",
    "# we use day of week instead of the day number because the demand we'll probably\n",
    "# match better with the day of week than with an specific day in the month\n",
    "df[\"year\"] = df[\"datetime\"].dt.year\n",
    "df[\"month\"] = df[\"datetime\"].dt.month\n",
    "df['hour'] = df['datetime'].dt.hour\n",
    "df['day_of_week'] = df['datetime'].dt.dayofweek\n",
    "df.drop(\"datetime\", axis=1, inplace=True)\n",
    "df.copy()"
   ],
   "metadata": {
    "collapsed": false,
    "pycharm": {
     "name": "#%%\n"
    }
   }
  },
  {
   "cell_type": "code",
   "execution_count": 854,
   "outputs": [
    {
     "data": {
      "text/plain": "<Figure size 720x576 with 2 Axes>",
      "image/png": "[encoded data removed]"
     },
     "metadata": {
      "needs_background": "light"
     },
     "output_type": "display_data"
    }
   ],
   "source": [
    "import matplotlib.pyplot as plt\n",
    "import seaborn as sns\n",
    "\n",
    "\n",
    "correlation_matrix = df[[\"temp\", \"atemp\", \"humidity\", \"windspeed\", \"count\"]].corr()\n",
    "plt.figure(figsize=(10,8))\n",
    "sns.heatmap(correlation_matrix, annot=True);"
   ],
   "metadata": {
    "collapsed": false,
    "pycharm": {
     "name": "#%%\n"
    }
   }
  },
  {
   "cell_type": "markdown",
   "source": [
    "From the correlation matrix we can observe:\n",
    "\n",
    "1. Temp and Atemp are highly correlated. This make sense as we can expect people to to have a \"feel\" for the temperature close to the actual number. We are okay using one of them. Let's keep `temp` and drop `atemp`\n",
    "2. Windspeed and Humidity are highly correlated fields, we'll keep `humidity` for now and drop `windspeed`.\n",
    "\n",
    "Now let's try to compare how our categorical data compares to our target, `count`."
   ],
   "metadata": {
    "collapsed": false,
    "pycharm": {
     "name": "#%% md\n"
    }
   }
  },
  {
   "cell_type": "code",
   "execution_count": 855,
   "outputs": [
    {
     "data": {
      "text/plain": "<AxesSubplot:xlabel='season', ylabel='count'>"
     },
     "execution_count": 855,
     "metadata": {},
     "output_type": "execute_result"
    },
    {
     "data": {
      "text/plain": "<Figure size 432x288 with 1 Axes>",
      "image/png": "[encoded data removed]"
     },
     "metadata": {
      "needs_background": "light"
     },
     "output_type": "display_data"
    }
   ],
   "source": [
    "sns.barplot(data=df, x='season', y='count', palette='rainbow')"
   ],
   "metadata": {
    "collapsed": false,
    "pycharm": {
     "name": "#%%\n"
    }
   }
  },
  {
   "cell_type": "markdown",
   "source": [
    "We can see some variation with the season, it increases during summer and fall (2 and 3) and decreases in winter and spring. It's clear we are going to need to add the season as it has a real impact in demand."
   ],
   "metadata": {
    "collapsed": false
   }
  },
  {
   "cell_type": "code",
   "execution_count": 856,
   "outputs": [
    {
     "data": {
      "text/plain": "<AxesSubplot:xlabel='holiday', ylabel='count'>"
     },
     "execution_count": 856,
     "metadata": {},
     "output_type": "execute_result"
    },
    {
     "data": {
      "text/plain": "<Figure size 432x288 with 1 Axes>",
      "image/png": "[encoded data removed]"
     },
     "metadata": {
      "needs_background": "light"
     },
     "output_type": "display_data"
    }
   ],
   "source": [
    "sns.barplot(data=df, x='holiday', y='count')"
   ],
   "metadata": {
    "collapsed": false,
    "pycharm": {
     "name": "#%%\n"
    }
   }
  },
  {
   "cell_type": "markdown",
   "source": [
    "There is some impact, the demand was high during regular days and it decreases if the day is a holiday."
   ],
   "metadata": {
    "collapsed": false
   }
  },
  {
   "cell_type": "code",
   "execution_count": 857,
   "outputs": [
    {
     "data": {
      "text/plain": "<AxesSubplot:xlabel='workingday', ylabel='count'>"
     },
     "execution_count": 857,
     "metadata": {},
     "output_type": "execute_result"
    },
    {
     "data": {
      "text/plain": "<Figure size 432x288 with 1 Axes>",
      "image/png": "[encoded data removed]"
     },
     "metadata": {
      "needs_background": "light"
     },
     "output_type": "display_data"
    }
   ],
   "source": [
    "sns.barplot(data=df, x='workingday', y='count')"
   ],
   "metadata": {
    "collapsed": false,
    "pycharm": {
     "name": "#%%\n"
    }
   }
  },
  {
   "cell_type": "markdown",
   "source": [
    "Seems that the demand is similar for regular working days vs weekends plus holidays. We can ignore this as it doesn't have too much impact on the demand."
   ],
   "metadata": {
    "collapsed": false
   }
  },
  {
   "cell_type": "code",
   "execution_count": 858,
   "outputs": [
    {
     "data": {
      "text/plain": "<AxesSubplot:xlabel='weather', ylabel='count'>"
     },
     "execution_count": 858,
     "metadata": {},
     "output_type": "execute_result"
    },
    {
     "data": {
      "text/plain": "<Figure size 432x288 with 1 Axes>",
      "image/png": "[encoded data removed]"
     },
     "metadata": {
      "needs_background": "light"
     },
     "output_type": "display_data"
    }
   ],
   "source": [
    "sns.barplot(data=df, x='weather', y='count', palette='rainbow')"
   ],
   "metadata": {
    "collapsed": false,
    "pycharm": {
     "name": "#%%\n"
    }
   }
  },
  {
   "cell_type": "markdown",
   "source": [
    "Weather clearly changes demand, we'll want to use this feature."
   ],
   "metadata": {
    "collapsed": false
   }
  },
  {
   "cell_type": "code",
   "execution_count": 859,
   "outputs": [
    {
     "data": {
      "text/plain": "<AxesSubplot:xlabel='day_of_week', ylabel='count'>"
     },
     "execution_count": 859,
     "metadata": {},
     "output_type": "execute_result"
    },
    {
     "data": {
      "text/plain": "<Figure size 432x288 with 1 Axes>",
      "image/png": "[encoded data removed]"
     },
     "metadata": {
      "needs_background": "light"
     },
     "output_type": "display_data"
    }
   ],
   "source": [
    "sns.barplot(data=df, x='day_of_week', y='count', palette='rainbow')"
   ],
   "metadata": {
    "collapsed": false,
    "pycharm": {
     "name": "#%%\n"
    }
   }
  },
  {
   "cell_type": "raw",
   "source": [
    "Most of the days the demand is pretty similar, with a small decrease an Sundays. We can conclude day of week has no mayor impact on the final count."
   ],
   "metadata": {
    "collapsed": false
   }
  },
  {
   "cell_type": "code",
   "execution_count": 860,
   "outputs": [
    {
     "data": {
      "text/plain": "<AxesSubplot:xlabel='month', ylabel='count'>"
     },
     "execution_count": 860,
     "metadata": {},
     "output_type": "execute_result"
    },
    {
     "data": {
      "text/plain": "<Figure size 432x288 with 1 Axes>",
      "image/png": "[encoded data removed]"
     },
     "metadata": {
      "needs_background": "light"
     },
     "output_type": "display_data"
    }
   ],
   "source": [
    "sns.barplot(data=df, x='month', y='count', palette='rainbow')"
   ],
   "metadata": {
    "collapsed": false,
    "pycharm": {
     "name": "#%%\n"
    }
   }
  },
  {
   "cell_type": "markdown",
   "source": [
    "We can clearly see that some months has higher demand than other, it probably also related to the seasons. We'll keep it for now."
   ],
   "metadata": {
    "collapsed": false
   }
  },
  {
   "cell_type": "code",
   "execution_count": 861,
   "outputs": [
    {
     "data": {
      "text/plain": "<AxesSubplot:xlabel='hour', ylabel='count'>"
     },
     "execution_count": 861,
     "metadata": {},
     "output_type": "execute_result"
    },
    {
     "data": {
      "text/plain": "<Figure size 432x288 with 1 Axes>",
      "image/png": "[encoded data removed]"
     },
     "metadata": {
      "needs_background": "light"
     },
     "output_type": "display_data"
    }
   ],
   "source": [
    "sns.barplot(data=df, x='hour', y='count', palette='rainbow')"
   ],
   "metadata": {
    "collapsed": false,
    "pycharm": {
     "name": "#%%\n"
    }
   }
  },
  {
   "cell_type": "markdown",
   "source": [
    "Clearly demand is higher at on the early morning and in the afternoon, you could say after work."
   ],
   "metadata": {
    "collapsed": false,
    "pycharm": {
     "name": "#%% md\n"
    }
   }
  },
  {
   "cell_type": "code",
   "execution_count": 862,
   "outputs": [
    {
     "data": {
      "text/plain": "<AxesSubplot:xlabel='year', ylabel='count'>"
     },
     "execution_count": 862,
     "metadata": {},
     "output_type": "execute_result"
    },
    {
     "data": {
      "text/plain": "<Figure size 432x288 with 1 Axes>",
      "image/png": "[encoded data removed]"
     },
     "metadata": {
      "needs_background": "light"
     },
     "output_type": "display_data"
    }
   ],
   "source": [
    "sns.barplot(data=df, x='year', y='count', palette='rainbow')"
   ],
   "metadata": {
    "collapsed": false,
    "pycharm": {
     "name": "#%%\n"
    }
   }
  },
  {
   "cell_type": "markdown",
   "source": [
    "We don't want to use the years, the count for those could be smaller just because the evolving user base. Also we also only have data of two years, so we can't really get much out of this data. We'll drop it for now.\n",
    "Let's know apply the changes mentioned to the dataset."
   ],
   "metadata": {
    "collapsed": false
   }
  },
  {
   "cell_type": "code",
   "execution_count": 863,
   "outputs": [],
   "source": [
    "df.drop(\"windspeed\", axis=1, inplace=True)\n",
    "df.drop(\"atemp\", axis=1, inplace=True)\n",
    "df.drop(\"workingday\", axis=1, inplace=True)\n",
    "df.drop(\"year\", axis=1, inplace=True)\n",
    "df.drop(\"day_of_week\", axis=1, inplace=True)\n",
    "df.drop(\"humidity\", axis=1, inplace=True)"
   ],
   "metadata": {
    "collapsed": false,
    "pycharm": {
     "name": "#%%\n"
    }
   }
  },
  {
   "cell_type": "markdown",
   "source": [
    "Now that we decided which are the initial features we'll want to use, let's know encode the categorical data. For this we'll use Target Encoding."
   ],
   "metadata": {
    "collapsed": false
   }
  },
  {
   "cell_type": "code",
   "execution_count": 864,
   "outputs": [
    {
     "name": "stderr",
     "output_type": "stream",
     "text": [
      "/Users/npg/Library/Caches/pypoetry/virtualenvs/mlucu-Vdmf4rJI-py3.8/lib/python3.8/site-packages/category_encoders/utils.py:21: FutureWarning: is_categorical is deprecated and will be removed in a future version.  Use is_categorical_dtype instead\n",
      "  elif pd.api.types.is_categorical(cols):\n"
     ]
    },
    {
     "data": {
      "text/plain": "           season     holiday     weather   temp  count       month  \\\n0      116.343261  191.741655  205.236791   9.84     16   90.366516   \n1      116.343261  191.741655  205.236791   9.02     40   90.366516   \n2      116.343261  191.741655  205.236791   9.02     32   90.366516   \n3      116.343261  191.741655  205.236791   9.84     13   90.366516   \n4      116.343261  191.741655  205.236791   9.84      1   90.366516   \n...           ...         ...         ...    ...    ...         ...   \n10881  198.988296  191.741655  205.236791  15.58    336  175.614035   \n10882  198.988296  191.741655  205.236791  14.76    241  175.614035   \n10883  198.988296  191.741655  205.236791  13.94    168  175.614035   \n10884  198.988296  191.741655  205.236791  13.94    129  175.614035   \n10885  198.988296  191.741655  205.236791  13.12     88  175.614035   \n\n             hour  \n0       55.138462  \n1       33.859031  \n2       22.899554  \n3       11.757506  \n4        6.407240  \n...           ...  \n10881  315.278509  \n10882  228.517544  \n10883  173.370614  \n10884  133.576754  \n10885   89.508772  \n\n[10886 rows x 7 columns]",
      "text/html": "<div>\n<style scoped>\n    .dataframe tbody tr th:only-of-type {\n        vertical-align: middle;\n    }\n\n    .dataframe tbody tr th {\n        vertical-align: top;\n    }\n\n    .dataframe thead th {\n        text-align: right;\n    }\n</style>\n<table border=\"1\" class=\"dataframe\">\n  <thead>\n    <tr style=\"text-align: right;\">\n      <th></th>\n      <th>season</th>\n      <th>holiday</th>\n      <th>weather</th>\n      <th>temp</th>\n      <th>count</th>\n      <th>month</th>\n      <th>hour</th>\n    </tr>\n  </thead>\n  <tbody>\n    <tr>\n      <th>0</th>\n      <td>116.343261</td>\n      <td>191.741655</td>\n      <td>205.236791</td>\n      <td>9.84</td>\n      <td>16</td>\n      <td>90.366516</td>\n      <td>55.138462</td>\n    </tr>\n    <tr>\n      <th>1</th>\n      <td>116.343261</td>\n      <td>191.741655</td>\n      <td>205.236791</td>\n      <td>9.02</td>\n      <td>40</td>\n      <td>90.366516</td>\n      <td>33.859031</td>\n    </tr>\n    <tr>\n      <th>2</th>\n      <td>116.343261</td>\n      <td>191.741655</td>\n      <td>205.236791</td>\n      <td>9.02</td>\n      <td>32</td>\n      <td>90.366516</td>\n      <td>22.899554</td>\n    </tr>\n    <tr>\n      <th>3</th>\n      <td>116.343261</td>\n      <td>191.741655</td>\n      <td>205.236791</td>\n      <td>9.84</td>\n      <td>13</td>\n      <td>90.366516</td>\n      <td>11.757506</td>\n    </tr>\n    <tr>\n      <th>4</th>\n      <td>116.343261</td>\n      <td>191.741655</td>\n      <td>205.236791</td>\n      <td>9.84</td>\n      <td>1</td>\n      <td>90.366516</td>\n      <td>6.407240</td>\n    </tr>\n    <tr>\n      <th>...</th>\n      <td>...</td>\n      <td>...</td>\n      <td>...</td>\n      <td>...</td>\n      <td>...</td>\n      <td>...</td>\n      <td>...</td>\n    </tr>\n    <tr>\n      <th>10881</th>\n      <td>198.988296</td>\n      <td>191.741655</td>\n      <td>205.236791</td>\n      <td>15.58</td>\n      <td>336</td>\n      <td>175.614035</td>\n      <td>315.278509</td>\n    </tr>\n    <tr>\n      <th>10882</th>\n      <td>198.988296</td>\n      <td>191.741655</td>\n      <td>205.236791</td>\n      <td>14.76</td>\n      <td>241</td>\n      <td>175.614035</td>\n      <td>228.517544</td>\n    </tr>\n    <tr>\n      <th>10883</th>\n      <td>198.988296</td>\n      <td>191.741655</td>\n      <td>205.236791</td>\n      <td>13.94</td>\n      <td>168</td>\n      <td>175.614035</td>\n      <td>173.370614</td>\n    </tr>\n    <tr>\n      <th>10884</th>\n      <td>198.988296</td>\n      <td>191.741655</td>\n      <td>205.236791</td>\n      <td>13.94</td>\n      <td>129</td>\n      <td>175.614035</td>\n      <td>133.576754</td>\n    </tr>\n    <tr>\n      <th>10885</th>\n      <td>198.988296</td>\n      <td>191.741655</td>\n      <td>205.236791</td>\n      <td>13.12</td>\n      <td>88</td>\n      <td>175.614035</td>\n      <td>89.508772</td>\n    </tr>\n  </tbody>\n</table>\n<p>10886 rows × 7 columns</p>\n</div>"
     },
     "execution_count": 864,
     "metadata": {},
     "output_type": "execute_result"
    }
   ],
   "source": [
    "from category_encoders import TargetEncoder\n",
    "\n",
    "# encode categorical data\n",
    "df = TargetEncoder(cols=[\"season\", \"holiday\", \"weather\", \"month\", \"hour\"]).fit_transform(df, df[\"count\"])\n",
    "df.copy()"
   ],
   "metadata": {
    "collapsed": false,
    "pycharm": {
     "name": "#%%\n"
    }
   }
  },
  {
   "cell_type": "markdown",
   "source": [
    "Let's identify and remove outliers."
   ],
   "metadata": {
    "collapsed": false
   }
  },
  {
   "cell_type": "code",
   "execution_count": 865,
   "outputs": [
    {
     "name": "stdout",
     "output_type": "stream",
     "text": [
      "Number of outliers: 226\n"
     ]
    },
    {
     "data": {
      "text/plain": "           season     holiday     weather   temp  count       month  \\\n0      116.343261  191.741655  205.236791   9.84     16   90.366516   \n1      116.343261  191.741655  205.236791   9.02     40   90.366516   \n2      116.343261  191.741655  205.236791   9.02     32   90.366516   \n3      116.343261  191.741655  205.236791   9.84     13   90.366516   \n4      116.343261  191.741655  205.236791   9.84      1   90.366516   \n...           ...         ...         ...    ...    ...         ...   \n10655  198.988296  191.741655  205.236791  15.58    336  175.614035   \n10656  198.988296  191.741655  205.236791  14.76    241  175.614035   \n10657  198.988296  191.741655  205.236791  13.94    168  175.614035   \n10658  198.988296  191.741655  205.236791  13.94    129  175.614035   \n10659  198.988296  191.741655  205.236791  13.12     88  175.614035   \n\n             hour  \n0       55.138462  \n1       33.859031  \n2       22.899554  \n3       11.757506  \n4        6.407240  \n...           ...  \n10655  315.278509  \n10656  228.517544  \n10657  173.370614  \n10658  133.576754  \n10659   89.508772  \n\n[10660 rows x 7 columns]",
      "text/html": "<div>\n<style scoped>\n    .dataframe tbody tr th:only-of-type {\n        vertical-align: middle;\n    }\n\n    .dataframe tbody tr th {\n        vertical-align: top;\n    }\n\n    .dataframe thead th {\n        text-align: right;\n    }\n</style>\n<table border=\"1\" class=\"dataframe\">\n  <thead>\n    <tr style=\"text-align: right;\">\n      <th></th>\n      <th>season</th>\n      <th>holiday</th>\n      <th>weather</th>\n      <th>temp</th>\n      <th>count</th>\n      <th>month</th>\n      <th>hour</th>\n    </tr>\n  </thead>\n  <tbody>\n    <tr>\n      <th>0</th>\n      <td>116.343261</td>\n      <td>191.741655</td>\n      <td>205.236791</td>\n      <td>9.84</td>\n      <td>16</td>\n      <td>90.366516</td>\n      <td>55.138462</td>\n    </tr>\n    <tr>\n      <th>1</th>\n      <td>116.343261</td>\n      <td>191.741655</td>\n      <td>205.236791</td>\n      <td>9.02</td>\n      <td>40</td>\n      <td>90.366516</td>\n      <td>33.859031</td>\n    </tr>\n    <tr>\n      <th>2</th>\n      <td>116.343261</td>\n      <td>191.741655</td>\n      <td>205.236791</td>\n      <td>9.02</td>\n      <td>32</td>\n      <td>90.366516</td>\n      <td>22.899554</td>\n    </tr>\n    <tr>\n      <th>3</th>\n      <td>116.343261</td>\n      <td>191.741655</td>\n      <td>205.236791</td>\n      <td>9.84</td>\n      <td>13</td>\n      <td>90.366516</td>\n      <td>11.757506</td>\n    </tr>\n    <tr>\n      <th>4</th>\n      <td>116.343261</td>\n      <td>191.741655</td>\n      <td>205.236791</td>\n      <td>9.84</td>\n      <td>1</td>\n      <td>90.366516</td>\n      <td>6.407240</td>\n    </tr>\n    <tr>\n      <th>...</th>\n      <td>...</td>\n      <td>...</td>\n      <td>...</td>\n      <td>...</td>\n      <td>...</td>\n      <td>...</td>\n      <td>...</td>\n    </tr>\n    <tr>\n      <th>10655</th>\n      <td>198.988296</td>\n      <td>191.741655</td>\n      <td>205.236791</td>\n      <td>15.58</td>\n      <td>336</td>\n      <td>175.614035</td>\n      <td>315.278509</td>\n    </tr>\n    <tr>\n      <th>10656</th>\n      <td>198.988296</td>\n      <td>191.741655</td>\n      <td>205.236791</td>\n      <td>14.76</td>\n      <td>241</td>\n      <td>175.614035</td>\n      <td>228.517544</td>\n    </tr>\n    <tr>\n      <th>10657</th>\n      <td>198.988296</td>\n      <td>191.741655</td>\n      <td>205.236791</td>\n      <td>13.94</td>\n      <td>168</td>\n      <td>175.614035</td>\n      <td>173.370614</td>\n    </tr>\n    <tr>\n      <th>10658</th>\n      <td>198.988296</td>\n      <td>191.741655</td>\n      <td>205.236791</td>\n      <td>13.94</td>\n      <td>129</td>\n      <td>175.614035</td>\n      <td>133.576754</td>\n    </tr>\n    <tr>\n      <th>10659</th>\n      <td>198.988296</td>\n      <td>191.741655</td>\n      <td>205.236791</td>\n      <td>13.12</td>\n      <td>88</td>\n      <td>175.614035</td>\n      <td>89.508772</td>\n    </tr>\n  </tbody>\n</table>\n<p>10660 rows × 7 columns</p>\n</div>"
     },
     "execution_count": 865,
     "metadata": {},
     "output_type": "execute_result"
    }
   ],
   "source": [
    "from sklearn.neighbors import LocalOutlierFactor\n",
    "\n",
    "df[\"outlier\"] = LocalOutlierFactor(n_neighbors=570).fit_predict(df)\n",
    "print(f\"Number of outliers: {len(df[df.outlier == -1])}\")\n",
    "df = df[df.outlier == 1]\n",
    "df.drop(\"outlier\", axis=1, inplace=True)\n",
    "df.reset_index(inplace=True, drop=True)\n",
    "df.copy()"
   ],
   "metadata": {
    "collapsed": false,
    "pycharm": {
     "name": "#%%\n"
    }
   }
  },
  {
   "cell_type": "markdown",
   "source": [
    "Now we can start training our model. First let's split our data in test and training."
   ],
   "metadata": {
    "collapsed": false
   }
  },
  {
   "cell_type": "code",
   "execution_count": 866,
   "outputs": [
    {
     "data": {
      "text/plain": "          season     holiday     weather   temp       month        hour\n0     198.988296  191.741655  205.236791  14.76  193.677278  133.576754\n1     215.251372  191.741655  205.236791  22.96  219.459430  133.576754\n2     116.343261  191.741655  205.236791   4.10   90.366516  213.116484\n3     234.417124  191.741655  205.236791  36.90  235.325658  254.298246\n4     198.988296  191.741655  205.236791  13.12  193.677278  315.278509\n...          ...         ...         ...    ...         ...         ...\n8523  234.417124  191.741655  205.236791  31.16  234.118421  210.674725\n8524  234.417124  191.741655  205.236791  28.70  235.325658  468.765351\n8525  198.988296  191.741655  178.955540  14.76  175.614035   19.767699\n8526  116.343261  191.741655  178.955540  20.50  148.169811  243.442982\n8527  234.417124  191.741655  205.236791  29.52  234.118421   11.757506\n\n[8528 rows x 6 columns]",
      "text/html": "<div>\n<style scoped>\n    .dataframe tbody tr th:only-of-type {\n        vertical-align: middle;\n    }\n\n    .dataframe tbody tr th {\n        vertical-align: top;\n    }\n\n    .dataframe thead th {\n        text-align: right;\n    }\n</style>\n<table border=\"1\" class=\"dataframe\">\n  <thead>\n    <tr style=\"text-align: right;\">\n      <th></th>\n      <th>season</th>\n      <th>holiday</th>\n      <th>weather</th>\n      <th>temp</th>\n      <th>month</th>\n      <th>hour</th>\n    </tr>\n  </thead>\n  <tbody>\n    <tr>\n      <th>0</th>\n      <td>198.988296</td>\n      <td>191.741655</td>\n      <td>205.236791</td>\n      <td>14.76</td>\n      <td>193.677278</td>\n      <td>133.576754</td>\n    </tr>\n    <tr>\n      <th>1</th>\n      <td>215.251372</td>\n      <td>191.741655</td>\n      <td>205.236791</td>\n      <td>22.96</td>\n      <td>219.459430</td>\n      <td>133.576754</td>\n    </tr>\n    <tr>\n      <th>2</th>\n      <td>116.343261</td>\n      <td>191.741655</td>\n      <td>205.236791</td>\n      <td>4.10</td>\n      <td>90.366516</td>\n      <td>213.116484</td>\n    </tr>\n    <tr>\n      <th>3</th>\n      <td>234.417124</td>\n      <td>191.741655</td>\n      <td>205.236791</td>\n      <td>36.90</td>\n      <td>235.325658</td>\n      <td>254.298246</td>\n    </tr>\n    <tr>\n      <th>4</th>\n      <td>198.988296</td>\n      <td>191.741655</td>\n      <td>205.236791</td>\n      <td>13.12</td>\n      <td>193.677278</td>\n      <td>315.278509</td>\n    </tr>\n    <tr>\n      <th>...</th>\n      <td>...</td>\n      <td>...</td>\n      <td>...</td>\n      <td>...</td>\n      <td>...</td>\n      <td>...</td>\n    </tr>\n    <tr>\n      <th>8523</th>\n      <td>234.417124</td>\n      <td>191.741655</td>\n      <td>205.236791</td>\n      <td>31.16</td>\n      <td>234.118421</td>\n      <td>210.674725</td>\n    </tr>\n    <tr>\n      <th>8524</th>\n      <td>234.417124</td>\n      <td>191.741655</td>\n      <td>205.236791</td>\n      <td>28.70</td>\n      <td>235.325658</td>\n      <td>468.765351</td>\n    </tr>\n    <tr>\n      <th>8525</th>\n      <td>198.988296</td>\n      <td>191.741655</td>\n      <td>178.955540</td>\n      <td>14.76</td>\n      <td>175.614035</td>\n      <td>19.767699</td>\n    </tr>\n    <tr>\n      <th>8526</th>\n      <td>116.343261</td>\n      <td>191.741655</td>\n      <td>178.955540</td>\n      <td>20.50</td>\n      <td>148.169811</td>\n      <td>243.442982</td>\n    </tr>\n    <tr>\n      <th>8527</th>\n      <td>234.417124</td>\n      <td>191.741655</td>\n      <td>205.236791</td>\n      <td>29.52</td>\n      <td>234.118421</td>\n      <td>11.757506</td>\n    </tr>\n  </tbody>\n</table>\n<p>8528 rows × 6 columns</p>\n</div>"
     },
     "execution_count": 866,
     "metadata": {},
     "output_type": "execute_result"
    }
   ],
   "source": [
    "from sklearn.model_selection import train_test_split\n",
    "\n",
    "# split data for train and test\n",
    "training_data, testing_data = train_test_split(df, test_size=0.2, random_state=25)\n",
    "\n",
    "# split into features and labels\n",
    "training_features = training_data.copy()\n",
    "training_features = training_features.drop(\"count\", axis=1)\n",
    "training_labels = training_data[\"count\"]\n",
    "\n",
    "# split into features and labels\n",
    "testing_features = pd.DataFrame(testing_data.copy())\n",
    "testing_features = testing_features.drop(\"count\", axis=1)\n",
    "testing_labels = pd.DataFrame(testing_data[\"count\"])\n",
    "\n",
    "training_features.reset_index(inplace=True, drop=True)\n",
    "training_labels.reset_index(inplace=True, drop=True)\n",
    "testing_features.reset_index(inplace=True, drop=True)\n",
    "testing_labels.reset_index(inplace=True, drop=True)\n",
    "\n",
    "training_features"
   ],
   "metadata": {
    "collapsed": false,
    "pycharm": {
     "name": "#%%\n"
    }
   }
  },
  {
   "cell_type": "markdown",
   "source": [
    "Now we can train our model. In this case we will use linear regression."
   ],
   "metadata": {
    "collapsed": false,
    "pycharm": {
     "name": "#%% md\n"
    }
   }
  },
  {
   "cell_type": "code",
   "execution_count": 871,
   "outputs": [
    {
     "ename": "KeyboardInterrupt",
     "evalue": "",
     "output_type": "error",
     "traceback": [
      "\u001B[0;31m---------------------------------------------------------------------------\u001B[0m",
      "\u001B[0;31mKeyboardInterrupt\u001B[0m                         Traceback (most recent call last)",
      "\u001B[0;32m/var/folders/wt/z1kn1r9d5d9dxws96_cyhsxh0000gn/T/ipykernel_88109/815369931.py\u001B[0m in \u001B[0;36m<module>\u001B[0;34m\u001B[0m\n\u001B[1;32m     28\u001B[0m     \u001B[0mn_jobs\u001B[0m\u001B[0;34m=\u001B[0m\u001B[0;34m-\u001B[0m\u001B[0;36m1\u001B[0m\u001B[0;34m\u001B[0m\u001B[0;34m\u001B[0m\u001B[0m\n\u001B[1;32m     29\u001B[0m )\n\u001B[0;32m---> 30\u001B[0;31m \u001B[0mrf_random\u001B[0m\u001B[0;34m.\u001B[0m\u001B[0mfit\u001B[0m\u001B[0;34m(\u001B[0m\u001B[0mtraining_features\u001B[0m\u001B[0;34m,\u001B[0m \u001B[0mtraining_labels\u001B[0m\u001B[0;34m)\u001B[0m\u001B[0;34m\u001B[0m\u001B[0;34m\u001B[0m\u001B[0m\n\u001B[0m\u001B[1;32m     31\u001B[0m \u001B[0mrf_random\u001B[0m\u001B[0;34m.\u001B[0m\u001B[0mbest_params_\u001B[0m\u001B[0;34m\u001B[0m\u001B[0;34m\u001B[0m\u001B[0m\n",
      "\u001B[0;32m~/Library/Caches/pypoetry/virtualenvs/mlucu-Vdmf4rJI-py3.8/lib/python3.8/site-packages/sklearn/utils/validation.py\u001B[0m in \u001B[0;36minner_f\u001B[0;34m(*args, **kwargs)\u001B[0m\n\u001B[1;32m     61\u001B[0m             \u001B[0mextra_args\u001B[0m \u001B[0;34m=\u001B[0m \u001B[0mlen\u001B[0m\u001B[0;34m(\u001B[0m\u001B[0margs\u001B[0m\u001B[0;34m)\u001B[0m \u001B[0;34m-\u001B[0m \u001B[0mlen\u001B[0m\u001B[0;34m(\u001B[0m\u001B[0mall_args\u001B[0m\u001B[0;34m)\u001B[0m\u001B[0;34m\u001B[0m\u001B[0;34m\u001B[0m\u001B[0m\n\u001B[1;32m     62\u001B[0m             \u001B[0;32mif\u001B[0m \u001B[0mextra_args\u001B[0m \u001B[0;34m<=\u001B[0m \u001B[0;36m0\u001B[0m\u001B[0;34m:\u001B[0m\u001B[0;34m\u001B[0m\u001B[0;34m\u001B[0m\u001B[0m\n\u001B[0;32m---> 63\u001B[0;31m                 \u001B[0;32mreturn\u001B[0m \u001B[0mf\u001B[0m\u001B[0;34m(\u001B[0m\u001B[0;34m*\u001B[0m\u001B[0margs\u001B[0m\u001B[0;34m,\u001B[0m \u001B[0;34m**\u001B[0m\u001B[0mkwargs\u001B[0m\u001B[0;34m)\u001B[0m\u001B[0;34m\u001B[0m\u001B[0;34m\u001B[0m\u001B[0m\n\u001B[0m\u001B[1;32m     64\u001B[0m \u001B[0;34m\u001B[0m\u001B[0m\n\u001B[1;32m     65\u001B[0m             \u001B[0;31m# extra_args > 0\u001B[0m\u001B[0;34m\u001B[0m\u001B[0;34m\u001B[0m\u001B[0;34m\u001B[0m\u001B[0m\n",
      "\u001B[0;32m~/Library/Caches/pypoetry/virtualenvs/mlucu-Vdmf4rJI-py3.8/lib/python3.8/site-packages/sklearn/model_selection/_search.py\u001B[0m in \u001B[0;36mfit\u001B[0;34m(self, X, y, groups, **fit_params)\u001B[0m\n\u001B[1;32m    839\u001B[0m                 \u001B[0;32mreturn\u001B[0m \u001B[0mresults\u001B[0m\u001B[0;34m\u001B[0m\u001B[0;34m\u001B[0m\u001B[0m\n\u001B[1;32m    840\u001B[0m \u001B[0;34m\u001B[0m\u001B[0m\n\u001B[0;32m--> 841\u001B[0;31m             \u001B[0mself\u001B[0m\u001B[0;34m.\u001B[0m\u001B[0m_run_search\u001B[0m\u001B[0;34m(\u001B[0m\u001B[0mevaluate_candidates\u001B[0m\u001B[0;34m)\u001B[0m\u001B[0;34m\u001B[0m\u001B[0;34m\u001B[0m\u001B[0m\n\u001B[0m\u001B[1;32m    842\u001B[0m \u001B[0;34m\u001B[0m\u001B[0m\n\u001B[1;32m    843\u001B[0m             \u001B[0;31m# multimetric is determined here because in the case of a callable\u001B[0m\u001B[0;34m\u001B[0m\u001B[0;34m\u001B[0m\u001B[0;34m\u001B[0m\u001B[0m\n",
      "\u001B[0;32m~/Library/Caches/pypoetry/virtualenvs/mlucu-Vdmf4rJI-py3.8/lib/python3.8/site-packages/sklearn/model_selection/_search.py\u001B[0m in \u001B[0;36m_run_search\u001B[0;34m(self, evaluate_candidates)\u001B[0m\n\u001B[1;32m   1631\u001B[0m     \u001B[0;32mdef\u001B[0m \u001B[0m_run_search\u001B[0m\u001B[0;34m(\u001B[0m\u001B[0mself\u001B[0m\u001B[0;34m,\u001B[0m \u001B[0mevaluate_candidates\u001B[0m\u001B[0;34m)\u001B[0m\u001B[0;34m:\u001B[0m\u001B[0;34m\u001B[0m\u001B[0;34m\u001B[0m\u001B[0m\n\u001B[1;32m   1632\u001B[0m         \u001B[0;34m\"\"\"Search n_iter candidates from param_distributions\"\"\"\u001B[0m\u001B[0;34m\u001B[0m\u001B[0;34m\u001B[0m\u001B[0m\n\u001B[0;32m-> 1633\u001B[0;31m         evaluate_candidates(ParameterSampler(\n\u001B[0m\u001B[1;32m   1634\u001B[0m             \u001B[0mself\u001B[0m\u001B[0;34m.\u001B[0m\u001B[0mparam_distributions\u001B[0m\u001B[0;34m,\u001B[0m \u001B[0mself\u001B[0m\u001B[0;34m.\u001B[0m\u001B[0mn_iter\u001B[0m\u001B[0;34m,\u001B[0m\u001B[0;34m\u001B[0m\u001B[0;34m\u001B[0m\u001B[0m\n\u001B[1;32m   1635\u001B[0m             random_state=self.random_state))\n",
      "\u001B[0;32m~/Library/Caches/pypoetry/virtualenvs/mlucu-Vdmf4rJI-py3.8/lib/python3.8/site-packages/sklearn/model_selection/_search.py\u001B[0m in \u001B[0;36mevaluate_candidates\u001B[0;34m(candidate_params, cv, more_results)\u001B[0m\n\u001B[1;32m    793\u001B[0m                               n_splits, n_candidates, n_candidates * n_splits))\n\u001B[1;32m    794\u001B[0m \u001B[0;34m\u001B[0m\u001B[0m\n\u001B[0;32m--> 795\u001B[0;31m                 out = parallel(delayed(_fit_and_score)(clone(base_estimator),\n\u001B[0m\u001B[1;32m    796\u001B[0m                                                        \u001B[0mX\u001B[0m\u001B[0;34m,\u001B[0m \u001B[0my\u001B[0m\u001B[0;34m,\u001B[0m\u001B[0;34m\u001B[0m\u001B[0;34m\u001B[0m\u001B[0m\n\u001B[1;32m    797\u001B[0m                                                        \u001B[0mtrain\u001B[0m\u001B[0;34m=\u001B[0m\u001B[0mtrain\u001B[0m\u001B[0;34m,\u001B[0m \u001B[0mtest\u001B[0m\u001B[0;34m=\u001B[0m\u001B[0mtest\u001B[0m\u001B[0;34m,\u001B[0m\u001B[0;34m\u001B[0m\u001B[0;34m\u001B[0m\u001B[0m\n",
      "\u001B[0;32m~/Library/Caches/pypoetry/virtualenvs/mlucu-Vdmf4rJI-py3.8/lib/python3.8/site-packages/joblib/parallel.py\u001B[0m in \u001B[0;36m__call__\u001B[0;34m(self, iterable)\u001B[0m\n\u001B[1;32m   1052\u001B[0m \u001B[0;34m\u001B[0m\u001B[0m\n\u001B[1;32m   1053\u001B[0m             \u001B[0;32mwith\u001B[0m \u001B[0mself\u001B[0m\u001B[0;34m.\u001B[0m\u001B[0m_backend\u001B[0m\u001B[0;34m.\u001B[0m\u001B[0mretrieval_context\u001B[0m\u001B[0;34m(\u001B[0m\u001B[0;34m)\u001B[0m\u001B[0;34m:\u001B[0m\u001B[0;34m\u001B[0m\u001B[0;34m\u001B[0m\u001B[0m\n\u001B[0;32m-> 1054\u001B[0;31m                 \u001B[0mself\u001B[0m\u001B[0;34m.\u001B[0m\u001B[0mretrieve\u001B[0m\u001B[0;34m(\u001B[0m\u001B[0;34m)\u001B[0m\u001B[0;34m\u001B[0m\u001B[0;34m\u001B[0m\u001B[0m\n\u001B[0m\u001B[1;32m   1055\u001B[0m             \u001B[0;31m# Make sure that we get a last message telling us we are done\u001B[0m\u001B[0;34m\u001B[0m\u001B[0;34m\u001B[0m\u001B[0;34m\u001B[0m\u001B[0m\n\u001B[1;32m   1056\u001B[0m             \u001B[0melapsed_time\u001B[0m \u001B[0;34m=\u001B[0m \u001B[0mtime\u001B[0m\u001B[0;34m.\u001B[0m\u001B[0mtime\u001B[0m\u001B[0;34m(\u001B[0m\u001B[0;34m)\u001B[0m \u001B[0;34m-\u001B[0m \u001B[0mself\u001B[0m\u001B[0;34m.\u001B[0m\u001B[0m_start_time\u001B[0m\u001B[0;34m\u001B[0m\u001B[0;34m\u001B[0m\u001B[0m\n",
      "\u001B[0;32m~/Library/Caches/pypoetry/virtualenvs/mlucu-Vdmf4rJI-py3.8/lib/python3.8/site-packages/joblib/parallel.py\u001B[0m in \u001B[0;36mretrieve\u001B[0;34m(self)\u001B[0m\n\u001B[1;32m    931\u001B[0m             \u001B[0;32mtry\u001B[0m\u001B[0;34m:\u001B[0m\u001B[0;34m\u001B[0m\u001B[0;34m\u001B[0m\u001B[0m\n\u001B[1;32m    932\u001B[0m                 \u001B[0;32mif\u001B[0m \u001B[0mgetattr\u001B[0m\u001B[0;34m(\u001B[0m\u001B[0mself\u001B[0m\u001B[0;34m.\u001B[0m\u001B[0m_backend\u001B[0m\u001B[0;34m,\u001B[0m \u001B[0;34m'supports_timeout'\u001B[0m\u001B[0;34m,\u001B[0m \u001B[0;32mFalse\u001B[0m\u001B[0;34m)\u001B[0m\u001B[0;34m:\u001B[0m\u001B[0;34m\u001B[0m\u001B[0;34m\u001B[0m\u001B[0m\n\u001B[0;32m--> 933\u001B[0;31m                     \u001B[0mself\u001B[0m\u001B[0;34m.\u001B[0m\u001B[0m_output\u001B[0m\u001B[0;34m.\u001B[0m\u001B[0mextend\u001B[0m\u001B[0;34m(\u001B[0m\u001B[0mjob\u001B[0m\u001B[0;34m.\u001B[0m\u001B[0mget\u001B[0m\u001B[0;34m(\u001B[0m\u001B[0mtimeout\u001B[0m\u001B[0;34m=\u001B[0m\u001B[0mself\u001B[0m\u001B[0;34m.\u001B[0m\u001B[0mtimeout\u001B[0m\u001B[0;34m)\u001B[0m\u001B[0;34m)\u001B[0m\u001B[0;34m\u001B[0m\u001B[0;34m\u001B[0m\u001B[0m\n\u001B[0m\u001B[1;32m    934\u001B[0m                 \u001B[0;32melse\u001B[0m\u001B[0;34m:\u001B[0m\u001B[0;34m\u001B[0m\u001B[0;34m\u001B[0m\u001B[0m\n\u001B[1;32m    935\u001B[0m                     \u001B[0mself\u001B[0m\u001B[0;34m.\u001B[0m\u001B[0m_output\u001B[0m\u001B[0;34m.\u001B[0m\u001B[0mextend\u001B[0m\u001B[0;34m(\u001B[0m\u001B[0mjob\u001B[0m\u001B[0;34m.\u001B[0m\u001B[0mget\u001B[0m\u001B[0;34m(\u001B[0m\u001B[0;34m)\u001B[0m\u001B[0;34m)\u001B[0m\u001B[0;34m\u001B[0m\u001B[0;34m\u001B[0m\u001B[0m\n",
      "\u001B[0;32m~/Library/Caches/pypoetry/virtualenvs/mlucu-Vdmf4rJI-py3.8/lib/python3.8/site-packages/joblib/_parallel_backends.py\u001B[0m in \u001B[0;36mwrap_future_result\u001B[0;34m(future, timeout)\u001B[0m\n\u001B[1;32m    540\u001B[0m         AsyncResults.get from multiprocessing.\"\"\"\n\u001B[1;32m    541\u001B[0m         \u001B[0;32mtry\u001B[0m\u001B[0;34m:\u001B[0m\u001B[0;34m\u001B[0m\u001B[0;34m\u001B[0m\u001B[0m\n\u001B[0;32m--> 542\u001B[0;31m             \u001B[0;32mreturn\u001B[0m \u001B[0mfuture\u001B[0m\u001B[0;34m.\u001B[0m\u001B[0mresult\u001B[0m\u001B[0;34m(\u001B[0m\u001B[0mtimeout\u001B[0m\u001B[0;34m=\u001B[0m\u001B[0mtimeout\u001B[0m\u001B[0;34m)\u001B[0m\u001B[0;34m\u001B[0m\u001B[0;34m\u001B[0m\u001B[0m\n\u001B[0m\u001B[1;32m    543\u001B[0m         \u001B[0;32mexcept\u001B[0m \u001B[0mCfTimeoutError\u001B[0m \u001B[0;32mas\u001B[0m \u001B[0me\u001B[0m\u001B[0;34m:\u001B[0m\u001B[0;34m\u001B[0m\u001B[0;34m\u001B[0m\u001B[0m\n\u001B[1;32m    544\u001B[0m             \u001B[0;32mraise\u001B[0m \u001B[0mTimeoutError\u001B[0m \u001B[0;32mfrom\u001B[0m \u001B[0me\u001B[0m\u001B[0;34m\u001B[0m\u001B[0;34m\u001B[0m\u001B[0m\n",
      "\u001B[0;32m/Library/Frameworks/Python.framework/Versions/3.8/lib/python3.8/concurrent/futures/_base.py\u001B[0m in \u001B[0;36mresult\u001B[0;34m(self, timeout)\u001B[0m\n\u001B[1;32m    432\u001B[0m                 \u001B[0;32mreturn\u001B[0m \u001B[0mself\u001B[0m\u001B[0;34m.\u001B[0m\u001B[0m__get_result\u001B[0m\u001B[0;34m(\u001B[0m\u001B[0;34m)\u001B[0m\u001B[0;34m\u001B[0m\u001B[0;34m\u001B[0m\u001B[0m\n\u001B[1;32m    433\u001B[0m \u001B[0;34m\u001B[0m\u001B[0m\n\u001B[0;32m--> 434\u001B[0;31m             \u001B[0mself\u001B[0m\u001B[0;34m.\u001B[0m\u001B[0m_condition\u001B[0m\u001B[0;34m.\u001B[0m\u001B[0mwait\u001B[0m\u001B[0;34m(\u001B[0m\u001B[0mtimeout\u001B[0m\u001B[0;34m)\u001B[0m\u001B[0;34m\u001B[0m\u001B[0;34m\u001B[0m\u001B[0m\n\u001B[0m\u001B[1;32m    435\u001B[0m \u001B[0;34m\u001B[0m\u001B[0m\n\u001B[1;32m    436\u001B[0m             \u001B[0;32mif\u001B[0m \u001B[0mself\u001B[0m\u001B[0;34m.\u001B[0m\u001B[0m_state\u001B[0m \u001B[0;32min\u001B[0m \u001B[0;34m[\u001B[0m\u001B[0mCANCELLED\u001B[0m\u001B[0;34m,\u001B[0m \u001B[0mCANCELLED_AND_NOTIFIED\u001B[0m\u001B[0;34m]\u001B[0m\u001B[0;34m:\u001B[0m\u001B[0;34m\u001B[0m\u001B[0;34m\u001B[0m\u001B[0m\n",
      "\u001B[0;32m/Library/Frameworks/Python.framework/Versions/3.8/lib/python3.8/threading.py\u001B[0m in \u001B[0;36mwait\u001B[0;34m(self, timeout)\u001B[0m\n\u001B[1;32m    300\u001B[0m         \u001B[0;32mtry\u001B[0m\u001B[0;34m:\u001B[0m    \u001B[0;31m# restore state no matter what (e.g., KeyboardInterrupt)\u001B[0m\u001B[0;34m\u001B[0m\u001B[0;34m\u001B[0m\u001B[0m\n\u001B[1;32m    301\u001B[0m             \u001B[0;32mif\u001B[0m \u001B[0mtimeout\u001B[0m \u001B[0;32mis\u001B[0m \u001B[0;32mNone\u001B[0m\u001B[0;34m:\u001B[0m\u001B[0;34m\u001B[0m\u001B[0;34m\u001B[0m\u001B[0m\n\u001B[0;32m--> 302\u001B[0;31m                 \u001B[0mwaiter\u001B[0m\u001B[0;34m.\u001B[0m\u001B[0macquire\u001B[0m\u001B[0;34m(\u001B[0m\u001B[0;34m)\u001B[0m\u001B[0;34m\u001B[0m\u001B[0;34m\u001B[0m\u001B[0m\n\u001B[0m\u001B[1;32m    303\u001B[0m                 \u001B[0mgotit\u001B[0m \u001B[0;34m=\u001B[0m \u001B[0;32mTrue\u001B[0m\u001B[0;34m\u001B[0m\u001B[0;34m\u001B[0m\u001B[0m\n\u001B[1;32m    304\u001B[0m             \u001B[0;32melse\u001B[0m\u001B[0;34m:\u001B[0m\u001B[0;34m\u001B[0m\u001B[0;34m\u001B[0m\u001B[0m\n",
      "\u001B[0;31mKeyboardInterrupt\u001B[0m: "
     ]
    }
   ],
   "source": [
    "from sklearn.model_selection import RandomizedSearchCV\n",
    "import numpy as np\n",
    "from sklearn.ensemble import RandomForestRegressor\n",
    "\n",
    "random_grid = {\n",
    "    'n_estimators': [int(x) for x in np.linspace(start=50, stop=2000, num=30)],\n",
    "    \"criterion\": [\"mse\", \"mae\"],\n",
    "    'max_features': ['sqrt', \"log2\"],\n",
    "    'max_depth': [int(x) for x in np.linspace(10, 110, num = 11)] + [None],\n",
    "    'min_samples_split': [2, 5, 10],\n",
    "    'min_samples_leaf': [1, 2, 4],\n",
    "    'bootstrap': [True, False]\n",
    "}\n",
    "\n",
    "# Use the random grid to search for best hyperparameters\n",
    "# First create the base model to tune\n",
    "rfr = RandomForestRegressor()\n",
    "\n",
    "# Random search of parameters, using 3 fold cross validation,\n",
    "# search across 100 different combinations, and use all available cores\n",
    "rf_random = RandomizedSearchCV(\n",
    "    estimator=rfr,\n",
    "    param_distributions=random_grid,\n",
    "    n_iter=100,\n",
    "    cv=3,\n",
    "    verbose=0,\n",
    "    random_state=42,\n",
    "    n_jobs=-1\n",
    ")\n",
    "rf_random.fit(training_features, training_labels)\n",
    "rf_random.best_params_"
   ],
   "metadata": {
    "collapsed": false,
    "pycharm": {
     "name": "#%%\n"
    }
   }
  },
  {
   "cell_type": "code",
   "execution_count": 846,
   "outputs": [
    {
     "name": "stdout",
     "output_type": "stream",
     "text": [
      "Training Score: 0.8634700389842518\n",
      "Test Score: 0.6587788224810882\n"
     ]
    },
    {
     "data": {
      "text/plain": "          actual  expected\n0     214.035500       150\n1     150.680000       179\n2     562.633667       809\n3       2.939429         3\n4      47.362000        53\n...          ...       ...\n2127  368.125369       308\n2128  243.719893       140\n2129    4.372968        30\n2130   74.932833       120\n2131  216.937071       258\n\n[2132 rows x 2 columns]",
      "text/html": "<div>\n<style scoped>\n    .dataframe tbody tr th:only-of-type {\n        vertical-align: middle;\n    }\n\n    .dataframe tbody tr th {\n        vertical-align: top;\n    }\n\n    .dataframe thead th {\n        text-align: right;\n    }\n</style>\n<table border=\"1\" class=\"dataframe\">\n  <thead>\n    <tr style=\"text-align: right;\">\n      <th></th>\n      <th>actual</th>\n      <th>expected</th>\n    </tr>\n  </thead>\n  <tbody>\n    <tr>\n      <th>0</th>\n      <td>214.035500</td>\n      <td>150</td>\n    </tr>\n    <tr>\n      <th>1</th>\n      <td>150.680000</td>\n      <td>179</td>\n    </tr>\n    <tr>\n      <th>2</th>\n      <td>562.633667</td>\n      <td>809</td>\n    </tr>\n    <tr>\n      <th>3</th>\n      <td>2.939429</td>\n      <td>3</td>\n    </tr>\n    <tr>\n      <th>4</th>\n      <td>47.362000</td>\n      <td>53</td>\n    </tr>\n    <tr>\n      <th>...</th>\n      <td>...</td>\n      <td>...</td>\n    </tr>\n    <tr>\n      <th>2127</th>\n      <td>368.125369</td>\n      <td>308</td>\n    </tr>\n    <tr>\n      <th>2128</th>\n      <td>243.719893</td>\n      <td>140</td>\n    </tr>\n    <tr>\n      <th>2129</th>\n      <td>4.372968</td>\n      <td>30</td>\n    </tr>\n    <tr>\n      <th>2130</th>\n      <td>74.932833</td>\n      <td>120</td>\n    </tr>\n    <tr>\n      <th>2131</th>\n      <td>216.937071</td>\n      <td>258</td>\n    </tr>\n  </tbody>\n</table>\n<p>2132 rows × 2 columns</p>\n</div>"
     },
     "execution_count": 846,
     "metadata": {},
     "output_type": "execute_result"
    }
   ],
   "source": [
    "from pandas import DataFrame\n",
    "from sklearn.linear_model import LinearRegression\n",
    "from sklearn.preprocessing import PolynomialFeatures, StandardScaler\n",
    "from sklearn.pipeline import make_pipeline\n",
    "\n",
    "# train model\n",
    "rfr = RandomForestRegressor()\n",
    "rfr.fit(training_features, training_labels)\n",
    "\n",
    "training_score = rfr.score(training_features, training_labels)\n",
    "test_score = rfr.score(testing_features, testing_labels)\n",
    "\n",
    "print(f\"Training Score: {training_score}\")\n",
    "print(f\"Test Score: {test_score}\")\n",
    "\n",
    "\n",
    "result = DataFrame()\n",
    "result[\"actual\"] = rfr.predict(testing_features)\n",
    "result[\"expected\"] = testing_labels\n",
    "result"
   ],
   "metadata": {
    "collapsed": false,
    "pycharm": {
     "name": "#%%\n"
    }
   }
  }
 ],
 "metadata": {
  "kernelspec": {
   "display_name": "Python 3",
   "language": "python",
   "name": "python3"
  },
  "language_info": {
   "codemirror_mode": {
    "name": "ipython",
    "version": 2
   },
   "file_extension": ".py",
   "mimetype": "text/x-python",
   "name": "python",
   "nbconvert_exporter": "python",
   "pygments_lexer": "ipython2",
   "version": "2.7.6"
  }
 },
 "nbformat": 4,
 "nbformat_minor": 0
}