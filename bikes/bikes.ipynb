{
 "cells": [
  {
   "cell_type": "code",
   "execution_count": 131,
   "outputs": [],
   "source": [
    "import ssl\n",
    "\n",
    "import numpy as np\n",
    "\n",
    "ssl._create_default_https_context = ssl._create_unverified_context"
   ],
   "metadata": {
    "collapsed": false,
    "pycharm": {
     "name": "#%%\n"
    }
   }
  },
  {
   "cell_type": "code",
   "execution_count": 132,
   "metadata": {
    "collapsed": true
   },
   "outputs": [
    {
     "data": {
      "text/plain": "                  datetime  season  holiday  workingday  weather   temp  \\\n0      2011-01-01 00:00:00       1        0           0        1   9.84   \n1      2011-01-01 01:00:00       1        0           0        1   9.02   \n2      2011-01-01 02:00:00       1        0           0        1   9.02   \n3      2011-01-01 03:00:00       1        0           0        1   9.84   \n4      2011-01-01 04:00:00       1        0           0        1   9.84   \n...                    ...     ...      ...         ...      ...    ...   \n10881  2012-12-19 19:00:00       4        0           1        1  15.58   \n10882  2012-12-19 20:00:00       4        0           1        1  14.76   \n10883  2012-12-19 21:00:00       4        0           1        1  13.94   \n10884  2012-12-19 22:00:00       4        0           1        1  13.94   \n10885  2012-12-19 23:00:00       4        0           1        1  13.12   \n\n        atemp  humidity  windspeed  casual  registered  count  \n0      14.395        81     0.0000       3          13     16  \n1      13.635        80     0.0000       8          32     40  \n2      13.635        80     0.0000       5          27     32  \n3      14.395        75     0.0000       3          10     13  \n4      14.395        75     0.0000       0           1      1  \n...       ...       ...        ...     ...         ...    ...  \n10881  19.695        50    26.0027       7         329    336  \n10882  17.425        57    15.0013      10         231    241  \n10883  15.910        61    15.0013       4         164    168  \n10884  17.425        61     6.0032      12         117    129  \n10885  16.665        66     8.9981       4          84     88  \n\n[10886 rows x 12 columns]",
      "text/html": "<div>\n<style scoped>\n    .dataframe tbody tr th:only-of-type {\n        vertical-align: middle;\n    }\n\n    .dataframe tbody tr th {\n        vertical-align: top;\n    }\n\n    .dataframe thead th {\n        text-align: right;\n    }\n</style>\n<table border=\"1\" class=\"dataframe\">\n  <thead>\n    <tr style=\"text-align: right;\">\n      <th></th>\n      <th>datetime</th>\n      <th>season</th>\n      <th>holiday</th>\n      <th>workingday</th>\n      <th>weather</th>\n      <th>temp</th>\n      <th>atemp</th>\n      <th>humidity</th>\n      <th>windspeed</th>\n      <th>casual</th>\n      <th>registered</th>\n      <th>count</th>\n    </tr>\n  </thead>\n  <tbody>\n    <tr>\n      <th>0</th>\n      <td>2011-01-01 00:00:00</td>\n      <td>1</td>\n      <td>0</td>\n      <td>0</td>\n      <td>1</td>\n      <td>9.84</td>\n      <td>14.395</td>\n      <td>81</td>\n      <td>0.0000</td>\n      <td>3</td>\n      <td>13</td>\n      <td>16</td>\n    </tr>\n    <tr>\n      <th>1</th>\n      <td>2011-01-01 01:00:00</td>\n      <td>1</td>\n      <td>0</td>\n      <td>0</td>\n      <td>1</td>\n      <td>9.02</td>\n      <td>13.635</td>\n      <td>80</td>\n      <td>0.0000</td>\n      <td>8</td>\n      <td>32</td>\n      <td>40</td>\n    </tr>\n    <tr>\n      <th>2</th>\n      <td>2011-01-01 02:00:00</td>\n      <td>1</td>\n      <td>0</td>\n      <td>0</td>\n      <td>1</td>\n      <td>9.02</td>\n      <td>13.635</td>\n      <td>80</td>\n      <td>0.0000</td>\n      <td>5</td>\n      <td>27</td>\n      <td>32</td>\n    </tr>\n    <tr>\n      <th>3</th>\n      <td>2011-01-01 03:00:00</td>\n      <td>1</td>\n      <td>0</td>\n      <td>0</td>\n      <td>1</td>\n      <td>9.84</td>\n      <td>14.395</td>\n      <td>75</td>\n      <td>0.0000</td>\n      <td>3</td>\n      <td>10</td>\n      <td>13</td>\n    </tr>\n    <tr>\n      <th>4</th>\n      <td>2011-01-01 04:00:00</td>\n      <td>1</td>\n      <td>0</td>\n      <td>0</td>\n      <td>1</td>\n      <td>9.84</td>\n      <td>14.395</td>\n      <td>75</td>\n      <td>0.0000</td>\n      <td>0</td>\n      <td>1</td>\n      <td>1</td>\n    </tr>\n    <tr>\n      <th>...</th>\n      <td>...</td>\n      <td>...</td>\n      <td>...</td>\n      <td>...</td>\n      <td>...</td>\n      <td>...</td>\n      <td>...</td>\n      <td>...</td>\n      <td>...</td>\n      <td>...</td>\n      <td>...</td>\n      <td>...</td>\n    </tr>\n    <tr>\n      <th>10881</th>\n      <td>2012-12-19 19:00:00</td>\n      <td>4</td>\n      <td>0</td>\n      <td>1</td>\n      <td>1</td>\n      <td>15.58</td>\n      <td>19.695</td>\n      <td>50</td>\n      <td>26.0027</td>\n      <td>7</td>\n      <td>329</td>\n      <td>336</td>\n    </tr>\n    <tr>\n      <th>10882</th>\n      <td>2012-12-19 20:00:00</td>\n      <td>4</td>\n      <td>0</td>\n      <td>1</td>\n      <td>1</td>\n      <td>14.76</td>\n      <td>17.425</td>\n      <td>57</td>\n      <td>15.0013</td>\n      <td>10</td>\n      <td>231</td>\n      <td>241</td>\n    </tr>\n    <tr>\n      <th>10883</th>\n      <td>2012-12-19 21:00:00</td>\n      <td>4</td>\n      <td>0</td>\n      <td>1</td>\n      <td>1</td>\n      <td>13.94</td>\n      <td>15.910</td>\n      <td>61</td>\n      <td>15.0013</td>\n      <td>4</td>\n      <td>164</td>\n      <td>168</td>\n    </tr>\n    <tr>\n      <th>10884</th>\n      <td>2012-12-19 22:00:00</td>\n      <td>4</td>\n      <td>0</td>\n      <td>1</td>\n      <td>1</td>\n      <td>13.94</td>\n      <td>17.425</td>\n      <td>61</td>\n      <td>6.0032</td>\n      <td>12</td>\n      <td>117</td>\n      <td>129</td>\n    </tr>\n    <tr>\n      <th>10885</th>\n      <td>2012-12-19 23:00:00</td>\n      <td>4</td>\n      <td>0</td>\n      <td>1</td>\n      <td>1</td>\n      <td>13.12</td>\n      <td>16.665</td>\n      <td>66</td>\n      <td>8.9981</td>\n      <td>4</td>\n      <td>84</td>\n      <td>88</td>\n    </tr>\n  </tbody>\n</table>\n<p>10886 rows × 12 columns</p>\n</div>"
     },
     "execution_count": 132,
     "metadata": {},
     "output_type": "execute_result"
    }
   ],
   "source": [
    "import pandas as pd\n",
    "\n",
    "odf = pd.read_csv(\"https://npg-ds.s3.amazonaws.com/bike_sharing.csv\")\n",
    "odf.copy()"
   ]
  },
  {
   "cell_type": "code",
   "execution_count": 133,
   "outputs": [],
   "source": [
    "# copy the dataframe from later usage\n",
    "df = odf.copy()"
   ],
   "metadata": {
    "collapsed": false,
    "pycharm": {
     "name": "#%%\n"
    }
   }
  },
  {
   "cell_type": "markdown",
   "source": [
    "The dataset has the following features:\n",
    "\n",
    "1. Datetime: hourly date + timestamp\n",
    "2. Season:\n",
    "    - 1 = spring\n",
    "    - 2 = summer\n",
    "    - 3 = fall\n",
    "    - 4 = winter\n",
    "3. Holiday: whether the day is considered a holiday\n",
    "4. Workingday: whether the day is neither a weekend nor holiday\n",
    "5. Weather:\n",
    "    - 1: Clear, Few clouds, Partly cloudy, Partly cloudy\n",
    "    - 2: Mist + Cloudy, Mist + Broken clouds, Mist + Few clouds, Mist\n",
    "    - 3: Light Snow, Light Rain + Thunderstorm + Scattered clouds, Light Rain + Scattered clouds\n",
    "    - 4: Heavy Rain + Ice Pallets + Thunderstorm + Mist, Snow + Fog\n",
    "6. Temp: temperature in Celsius\n",
    "7. Atemp: \"feels like\" temperature in Celsius\n",
    "8. Humidity: relative humidity\n",
    "9. Windspeed: wind speed\n",
    "10. Casual: number of non-registered user rentals initiated\n",
    "11. Registered: number of registered user rentals initiated\n",
    "12. Count: number of total rentals\n",
    "\n",
    "Let's see some statistics on the data."
   ],
   "metadata": {
    "collapsed": false,
    "pycharm": {
     "name": "#%% md\n"
    }
   }
  },
  {
   "cell_type": "code",
   "source": [
    "df.copy().describe()"
   ],
   "metadata": {
    "collapsed": false,
    "pycharm": {
     "name": "#%%\n"
    }
   },
   "execution_count": 134,
   "outputs": [
    {
     "data": {
      "text/plain": "             season       holiday    workingday       weather         temp  \\\ncount  10886.000000  10886.000000  10886.000000  10886.000000  10886.00000   \nmean       2.506614      0.028569      0.680875      1.418427     20.23086   \nstd        1.116174      0.166599      0.466159      0.633839      7.79159   \nmin        1.000000      0.000000      0.000000      1.000000      0.82000   \n25%        2.000000      0.000000      0.000000      1.000000     13.94000   \n50%        3.000000      0.000000      1.000000      1.000000     20.50000   \n75%        4.000000      0.000000      1.000000      2.000000     26.24000   \nmax        4.000000      1.000000      1.000000      4.000000     41.00000   \n\n              atemp      humidity     windspeed        casual    registered  \\\ncount  10886.000000  10886.000000  10886.000000  10886.000000  10886.000000   \nmean      23.655084     61.886460     12.799395     36.021955    155.552177   \nstd        8.474601     19.245033      8.164537     49.960477    151.039033   \nmin        0.760000      0.000000      0.000000      0.000000      0.000000   \n25%       16.665000     47.000000      7.001500      4.000000     36.000000   \n50%       24.240000     62.000000     12.998000     17.000000    118.000000   \n75%       31.060000     77.000000     16.997900     49.000000    222.000000   \nmax       45.455000    100.000000     56.996900    367.000000    886.000000   \n\n              count  \ncount  10886.000000  \nmean     191.574132  \nstd      181.144454  \nmin        1.000000  \n25%       42.000000  \n50%      145.000000  \n75%      284.000000  \nmax      977.000000  ",
      "text/html": "<div>\n<style scoped>\n    .dataframe tbody tr th:only-of-type {\n        vertical-align: middle;\n    }\n\n    .dataframe tbody tr th {\n        vertical-align: top;\n    }\n\n    .dataframe thead th {\n        text-align: right;\n    }\n</style>\n<table border=\"1\" class=\"dataframe\">\n  <thead>\n    <tr style=\"text-align: right;\">\n      <th></th>\n      <th>season</th>\n      <th>holiday</th>\n      <th>workingday</th>\n      <th>weather</th>\n      <th>temp</th>\n      <th>atemp</th>\n      <th>humidity</th>\n      <th>windspeed</th>\n      <th>casual</th>\n      <th>registered</th>\n      <th>count</th>\n    </tr>\n  </thead>\n  <tbody>\n    <tr>\n      <th>count</th>\n      <td>10886.000000</td>\n      <td>10886.000000</td>\n      <td>10886.000000</td>\n      <td>10886.000000</td>\n      <td>10886.00000</td>\n      <td>10886.000000</td>\n      <td>10886.000000</td>\n      <td>10886.000000</td>\n      <td>10886.000000</td>\n      <td>10886.000000</td>\n      <td>10886.000000</td>\n    </tr>\n    <tr>\n      <th>mean</th>\n      <td>2.506614</td>\n      <td>0.028569</td>\n      <td>0.680875</td>\n      <td>1.418427</td>\n      <td>20.23086</td>\n      <td>23.655084</td>\n      <td>61.886460</td>\n      <td>12.799395</td>\n      <td>36.021955</td>\n      <td>155.552177</td>\n      <td>191.574132</td>\n    </tr>\n    <tr>\n      <th>std</th>\n      <td>1.116174</td>\n      <td>0.166599</td>\n      <td>0.466159</td>\n      <td>0.633839</td>\n      <td>7.79159</td>\n      <td>8.474601</td>\n      <td>19.245033</td>\n      <td>8.164537</td>\n      <td>49.960477</td>\n      <td>151.039033</td>\n      <td>181.144454</td>\n    </tr>\n    <tr>\n      <th>min</th>\n      <td>1.000000</td>\n      <td>0.000000</td>\n      <td>0.000000</td>\n      <td>1.000000</td>\n      <td>0.82000</td>\n      <td>0.760000</td>\n      <td>0.000000</td>\n      <td>0.000000</td>\n      <td>0.000000</td>\n      <td>0.000000</td>\n      <td>1.000000</td>\n    </tr>\n    <tr>\n      <th>25%</th>\n      <td>2.000000</td>\n      <td>0.000000</td>\n      <td>0.000000</td>\n      <td>1.000000</td>\n      <td>13.94000</td>\n      <td>16.665000</td>\n      <td>47.000000</td>\n      <td>7.001500</td>\n      <td>4.000000</td>\n      <td>36.000000</td>\n      <td>42.000000</td>\n    </tr>\n    <tr>\n      <th>50%</th>\n      <td>3.000000</td>\n      <td>0.000000</td>\n      <td>1.000000</td>\n      <td>1.000000</td>\n      <td>20.50000</td>\n      <td>24.240000</td>\n      <td>62.000000</td>\n      <td>12.998000</td>\n      <td>17.000000</td>\n      <td>118.000000</td>\n      <td>145.000000</td>\n    </tr>\n    <tr>\n      <th>75%</th>\n      <td>4.000000</td>\n      <td>0.000000</td>\n      <td>1.000000</td>\n      <td>2.000000</td>\n      <td>26.24000</td>\n      <td>31.060000</td>\n      <td>77.000000</td>\n      <td>16.997900</td>\n      <td>49.000000</td>\n      <td>222.000000</td>\n      <td>284.000000</td>\n    </tr>\n    <tr>\n      <th>max</th>\n      <td>4.000000</td>\n      <td>1.000000</td>\n      <td>1.000000</td>\n      <td>4.000000</td>\n      <td>41.00000</td>\n      <td>45.455000</td>\n      <td>100.000000</td>\n      <td>56.996900</td>\n      <td>367.000000</td>\n      <td>886.000000</td>\n      <td>977.000000</td>\n    </tr>\n  </tbody>\n</table>\n</div>"
     },
     "execution_count": 134,
     "metadata": {},
     "output_type": "execute_result"
    }
   ]
  },
  {
   "cell_type": "markdown",
   "source": [
    "Let's now start checking for some initial statistics about our dataset. For instance we could check for null values per feature:"
   ],
   "metadata": {
    "collapsed": false,
    "pycharm": {
     "name": "#%% md\n"
    }
   }
  },
  {
   "cell_type": "code",
   "source": [
    "df.copy().isnull().sum()"
   ],
   "metadata": {
    "collapsed": false,
    "pycharm": {
     "name": "#%%\n"
    }
   },
   "execution_count": 135,
   "outputs": [
    {
     "data": {
      "text/plain": "datetime      0\nseason        0\nholiday       0\nworkingday    0\nweather       0\ntemp          0\natemp         0\nhumidity      0\nwindspeed     0\ncasual        0\nregistered    0\ncount         0\ndtype: int64"
     },
     "execution_count": 135,
     "metadata": {},
     "output_type": "execute_result"
    }
   ]
  },
  {
   "cell_type": "markdown",
   "source": [
    "Now let's convert the dates into timestamps."
   ],
   "metadata": {
    "collapsed": false
   }
  },
  {
   "cell_type": "code",
   "execution_count": 136,
   "outputs": [],
   "source": [
    "from datetime import datetime\n",
    "df[\"datetime\"] = df[\"datetime\"].apply(lambda x: datetime.fromisoformat(x).timestamp())"
   ],
   "metadata": {
    "collapsed": false,
    "pycharm": {
     "name": "#%%\n"
    }
   }
  },
  {
   "cell_type": "markdown",
   "source": [
    "We have some categorical data we need to properly encode."
   ],
   "metadata": {
    "collapsed": false
   }
  },
  {
   "cell_type": "code",
   "execution_count": 137,
   "outputs": [
    {
     "name": "stderr",
     "output_type": "stream",
     "text": [
      "/Users/npg/Library/Caches/pypoetry/virtualenvs/mlucu-Vdmf4rJI-py3.8/lib/python3.8/site-packages/category_encoders/utils.py:21: FutureWarning: is_categorical is deprecated and will be removed in a future version.  Use is_categorical_dtype instead\n",
      "  elif pd.api.types.is_categorical(cols):\n"
     ]
    },
    {
     "data": {
      "text/plain": "           datetime      season     holiday  workingday  weather   temp  \\\n0      1.293847e+09  116.343261  191.741655  188.506621        1   9.84   \n1      1.293851e+09  116.343261  191.741655  188.506621        1   9.02   \n2      1.293854e+09  116.343261  191.741655  188.506621        1   9.02   \n3      1.293858e+09  116.343261  191.741655  188.506621        1   9.84   \n4      1.293862e+09  116.343261  191.741655  188.506621        1   9.84   \n...             ...         ...         ...         ...      ...    ...   \n10881  1.355951e+09  198.988296  191.741655  193.011873        1  15.58   \n10882  1.355954e+09  198.988296  191.741655  193.011873        1  14.76   \n10883  1.355958e+09  198.988296  191.741655  193.011873        1  13.94   \n10884  1.355962e+09  198.988296  191.741655  193.011873        1  13.94   \n10885  1.355965e+09  198.988296  191.741655  193.011873        1  13.12   \n\n        atemp  humidity  windspeed  casual  registered  count  \n0      14.395        81     0.0000       3          13     16  \n1      13.635        80     0.0000       8          32     40  \n2      13.635        80     0.0000       5          27     32  \n3      14.395        75     0.0000       3          10     13  \n4      14.395        75     0.0000       0           1      1  \n...       ...       ...        ...     ...         ...    ...  \n10881  19.695        50    26.0027       7         329    336  \n10882  17.425        57    15.0013      10         231    241  \n10883  15.910        61    15.0013       4         164    168  \n10884  17.425        61     6.0032      12         117    129  \n10885  16.665        66     8.9981       4          84     88  \n\n[10886 rows x 12 columns]",
      "text/html": "<div>\n<style scoped>\n    .dataframe tbody tr th:only-of-type {\n        vertical-align: middle;\n    }\n\n    .dataframe tbody tr th {\n        vertical-align: top;\n    }\n\n    .dataframe thead th {\n        text-align: right;\n    }\n</style>\n<table border=\"1\" class=\"dataframe\">\n  <thead>\n    <tr style=\"text-align: right;\">\n      <th></th>\n      <th>datetime</th>\n      <th>season</th>\n      <th>holiday</th>\n      <th>workingday</th>\n      <th>weather</th>\n      <th>temp</th>\n      <th>atemp</th>\n      <th>humidity</th>\n      <th>windspeed</th>\n      <th>casual</th>\n      <th>registered</th>\n      <th>count</th>\n    </tr>\n  </thead>\n  <tbody>\n    <tr>\n      <th>0</th>\n      <td>1.293847e+09</td>\n      <td>116.343261</td>\n      <td>191.741655</td>\n      <td>188.506621</td>\n      <td>1</td>\n      <td>9.84</td>\n      <td>14.395</td>\n      <td>81</td>\n      <td>0.0000</td>\n      <td>3</td>\n      <td>13</td>\n      <td>16</td>\n    </tr>\n    <tr>\n      <th>1</th>\n      <td>1.293851e+09</td>\n      <td>116.343261</td>\n      <td>191.741655</td>\n      <td>188.506621</td>\n      <td>1</td>\n      <td>9.02</td>\n      <td>13.635</td>\n      <td>80</td>\n      <td>0.0000</td>\n      <td>8</td>\n      <td>32</td>\n      <td>40</td>\n    </tr>\n    <tr>\n      <th>2</th>\n      <td>1.293854e+09</td>\n      <td>116.343261</td>\n      <td>191.741655</td>\n      <td>188.506621</td>\n      <td>1</td>\n      <td>9.02</td>\n      <td>13.635</td>\n      <td>80</td>\n      <td>0.0000</td>\n      <td>5</td>\n      <td>27</td>\n      <td>32</td>\n    </tr>\n    <tr>\n      <th>3</th>\n      <td>1.293858e+09</td>\n      <td>116.343261</td>\n      <td>191.741655</td>\n      <td>188.506621</td>\n      <td>1</td>\n      <td>9.84</td>\n      <td>14.395</td>\n      <td>75</td>\n      <td>0.0000</td>\n      <td>3</td>\n      <td>10</td>\n      <td>13</td>\n    </tr>\n    <tr>\n      <th>4</th>\n      <td>1.293862e+09</td>\n      <td>116.343261</td>\n      <td>191.741655</td>\n      <td>188.506621</td>\n      <td>1</td>\n      <td>9.84</td>\n      <td>14.395</td>\n      <td>75</td>\n      <td>0.0000</td>\n      <td>0</td>\n      <td>1</td>\n      <td>1</td>\n    </tr>\n    <tr>\n      <th>...</th>\n      <td>...</td>\n      <td>...</td>\n      <td>...</td>\n      <td>...</td>\n      <td>...</td>\n      <td>...</td>\n      <td>...</td>\n      <td>...</td>\n      <td>...</td>\n      <td>...</td>\n      <td>...</td>\n      <td>...</td>\n    </tr>\n    <tr>\n      <th>10881</th>\n      <td>1.355951e+09</td>\n      <td>198.988296</td>\n      <td>191.741655</td>\n      <td>193.011873</td>\n      <td>1</td>\n      <td>15.58</td>\n      <td>19.695</td>\n      <td>50</td>\n      <td>26.0027</td>\n      <td>7</td>\n      <td>329</td>\n      <td>336</td>\n    </tr>\n    <tr>\n      <th>10882</th>\n      <td>1.355954e+09</td>\n      <td>198.988296</td>\n      <td>191.741655</td>\n      <td>193.011873</td>\n      <td>1</td>\n      <td>14.76</td>\n      <td>17.425</td>\n      <td>57</td>\n      <td>15.0013</td>\n      <td>10</td>\n      <td>231</td>\n      <td>241</td>\n    </tr>\n    <tr>\n      <th>10883</th>\n      <td>1.355958e+09</td>\n      <td>198.988296</td>\n      <td>191.741655</td>\n      <td>193.011873</td>\n      <td>1</td>\n      <td>13.94</td>\n      <td>15.910</td>\n      <td>61</td>\n      <td>15.0013</td>\n      <td>4</td>\n      <td>164</td>\n      <td>168</td>\n    </tr>\n    <tr>\n      <th>10884</th>\n      <td>1.355962e+09</td>\n      <td>198.988296</td>\n      <td>191.741655</td>\n      <td>193.011873</td>\n      <td>1</td>\n      <td>13.94</td>\n      <td>17.425</td>\n      <td>61</td>\n      <td>6.0032</td>\n      <td>12</td>\n      <td>117</td>\n      <td>129</td>\n    </tr>\n    <tr>\n      <th>10885</th>\n      <td>1.355965e+09</td>\n      <td>198.988296</td>\n      <td>191.741655</td>\n      <td>193.011873</td>\n      <td>1</td>\n      <td>13.12</td>\n      <td>16.665</td>\n      <td>66</td>\n      <td>8.9981</td>\n      <td>4</td>\n      <td>84</td>\n      <td>88</td>\n    </tr>\n  </tbody>\n</table>\n<p>10886 rows × 12 columns</p>\n</div>"
     },
     "execution_count": 137,
     "metadata": {},
     "output_type": "execute_result"
    }
   ],
   "source": [
    "from category_encoders import TargetEncoder\n",
    "\n",
    "\n",
    "df[\"season\"] = df[\"season\"].apply(lambda x: str(x))\n",
    "df[\"holiday\"] = df[\"holiday\"].apply(lambda x: str(x))\n",
    "df[\"workingday\"] = df[\"workingday\"].apply(lambda x: str(x))\n",
    "\n",
    "\n",
    "# encode categorical data\n",
    "ndf = TargetEncoder().fit_transform(df['season'], df[\"count\"])\n",
    "df[\"season\"] = ndf\n",
    "\n",
    "ndf = TargetEncoder().fit_transform(df['holiday'], df[\"count\"])\n",
    "df[\"holiday\"] = ndf\n",
    "\n",
    "ndf = TargetEncoder().fit_transform(df['workingday'], df[\"count\"])\n",
    "df[\"workingday\"] = ndf\n",
    "df.copy()"
   ],
   "metadata": {
    "collapsed": false,
    "pycharm": {
     "name": "#%%\n"
    }
   }
  },
  {
   "cell_type": "markdown",
   "source": [
    "We'll now have to normalize the values."
   ],
   "metadata": {
    "collapsed": false
   }
  },
  {
   "cell_type": "code",
   "execution_count": 138,
   "outputs": [
    {
     "data": {
      "text/plain": "       datetime    season   holiday  workingday   weather      temp     atemp  \\\n0     -1.711453 -1.677181  0.171483   -1.460605 -0.660148 -1.333599 -1.092687   \n1     -1.711255 -1.677181  0.171483   -1.460605 -0.660148 -1.438841 -1.182367   \n2     -1.711057 -1.677181  0.171483   -1.460605 -0.660148 -1.438841 -1.182367   \n3     -1.710859 -1.677181  0.171483   -1.460605 -0.660148 -1.333599 -1.092687   \n4     -1.710661 -1.677181  0.171483   -1.460605 -0.660148 -1.333599 -1.092687   \n...         ...       ...       ...         ...       ...       ...       ...   \n10881  1.703142  0.165290  0.171483    0.684585 -0.660148 -0.596908 -0.467289   \n10882  1.703340  0.165290  0.171483    0.684585 -0.660148 -0.702149 -0.735148   \n10883  1.703538  0.165290  0.171483    0.684585 -0.660148 -0.807391 -0.913917   \n10884  1.703736  0.165290  0.171483    0.684585 -0.660148 -0.807391 -0.735148   \n10885  1.703934  0.165290  0.171483    0.684585 -0.660148 -0.912633 -0.824828   \n\n       humidity  windspeed    casual  registered  count  \n0      0.993167  -1.567682 -0.660962   -0.943810     16  \n1      0.941206  -1.567682 -0.560882   -0.818015     40  \n2      0.941206  -1.567682 -0.620930   -0.851119     32  \n3      0.681399  -1.567682 -0.660962   -0.963673     13  \n4      0.681399  -1.567682 -0.721009   -1.023260      1  \n...         ...        ...       ...         ...    ...  \n10881 -0.617638   1.617153 -0.580898    1.148364    336  \n10882 -0.253908   0.269691 -0.520851    0.499525    241  \n10883 -0.046062   0.269691 -0.640946    0.055931    168  \n10884 -0.046062  -0.832404 -0.480819   -0.255246    129  \n10885  0.213746  -0.465586 -0.640946   -0.473733     88  \n\n[10886 rows x 12 columns]",
      "text/html": "<div>\n<style scoped>\n    .dataframe tbody tr th:only-of-type {\n        vertical-align: middle;\n    }\n\n    .dataframe tbody tr th {\n        vertical-align: top;\n    }\n\n    .dataframe thead th {\n        text-align: right;\n    }\n</style>\n<table border=\"1\" class=\"dataframe\">\n  <thead>\n    <tr style=\"text-align: right;\">\n      <th></th>\n      <th>datetime</th>\n      <th>season</th>\n      <th>holiday</th>\n      <th>workingday</th>\n      <th>weather</th>\n      <th>temp</th>\n      <th>atemp</th>\n      <th>humidity</th>\n      <th>windspeed</th>\n      <th>casual</th>\n      <th>registered</th>\n      <th>count</th>\n    </tr>\n  </thead>\n  <tbody>\n    <tr>\n      <th>0</th>\n      <td>-1.711453</td>\n      <td>-1.677181</td>\n      <td>0.171483</td>\n      <td>-1.460605</td>\n      <td>-0.660148</td>\n      <td>-1.333599</td>\n      <td>-1.092687</td>\n      <td>0.993167</td>\n      <td>-1.567682</td>\n      <td>-0.660962</td>\n      <td>-0.943810</td>\n      <td>16</td>\n    </tr>\n    <tr>\n      <th>1</th>\n      <td>-1.711255</td>\n      <td>-1.677181</td>\n      <td>0.171483</td>\n      <td>-1.460605</td>\n      <td>-0.660148</td>\n      <td>-1.438841</td>\n      <td>-1.182367</td>\n      <td>0.941206</td>\n      <td>-1.567682</td>\n      <td>-0.560882</td>\n      <td>-0.818015</td>\n      <td>40</td>\n    </tr>\n    <tr>\n      <th>2</th>\n      <td>-1.711057</td>\n      <td>-1.677181</td>\n      <td>0.171483</td>\n      <td>-1.460605</td>\n      <td>-0.660148</td>\n      <td>-1.438841</td>\n      <td>-1.182367</td>\n      <td>0.941206</td>\n      <td>-1.567682</td>\n      <td>-0.620930</td>\n      <td>-0.851119</td>\n      <td>32</td>\n    </tr>\n    <tr>\n      <th>3</th>\n      <td>-1.710859</td>\n      <td>-1.677181</td>\n      <td>0.171483</td>\n      <td>-1.460605</td>\n      <td>-0.660148</td>\n      <td>-1.333599</td>\n      <td>-1.092687</td>\n      <td>0.681399</td>\n      <td>-1.567682</td>\n      <td>-0.660962</td>\n      <td>-0.963673</td>\n      <td>13</td>\n    </tr>\n    <tr>\n      <th>4</th>\n      <td>-1.710661</td>\n      <td>-1.677181</td>\n      <td>0.171483</td>\n      <td>-1.460605</td>\n      <td>-0.660148</td>\n      <td>-1.333599</td>\n      <td>-1.092687</td>\n      <td>0.681399</td>\n      <td>-1.567682</td>\n      <td>-0.721009</td>\n      <td>-1.023260</td>\n      <td>1</td>\n    </tr>\n    <tr>\n      <th>...</th>\n      <td>...</td>\n      <td>...</td>\n      <td>...</td>\n      <td>...</td>\n      <td>...</td>\n      <td>...</td>\n      <td>...</td>\n      <td>...</td>\n      <td>...</td>\n      <td>...</td>\n      <td>...</td>\n      <td>...</td>\n    </tr>\n    <tr>\n      <th>10881</th>\n      <td>1.703142</td>\n      <td>0.165290</td>\n      <td>0.171483</td>\n      <td>0.684585</td>\n      <td>-0.660148</td>\n      <td>-0.596908</td>\n      <td>-0.467289</td>\n      <td>-0.617638</td>\n      <td>1.617153</td>\n      <td>-0.580898</td>\n      <td>1.148364</td>\n      <td>336</td>\n    </tr>\n    <tr>\n      <th>10882</th>\n      <td>1.703340</td>\n      <td>0.165290</td>\n      <td>0.171483</td>\n      <td>0.684585</td>\n      <td>-0.660148</td>\n      <td>-0.702149</td>\n      <td>-0.735148</td>\n      <td>-0.253908</td>\n      <td>0.269691</td>\n      <td>-0.520851</td>\n      <td>0.499525</td>\n      <td>241</td>\n    </tr>\n    <tr>\n      <th>10883</th>\n      <td>1.703538</td>\n      <td>0.165290</td>\n      <td>0.171483</td>\n      <td>0.684585</td>\n      <td>-0.660148</td>\n      <td>-0.807391</td>\n      <td>-0.913917</td>\n      <td>-0.046062</td>\n      <td>0.269691</td>\n      <td>-0.640946</td>\n      <td>0.055931</td>\n      <td>168</td>\n    </tr>\n    <tr>\n      <th>10884</th>\n      <td>1.703736</td>\n      <td>0.165290</td>\n      <td>0.171483</td>\n      <td>0.684585</td>\n      <td>-0.660148</td>\n      <td>-0.807391</td>\n      <td>-0.735148</td>\n      <td>-0.046062</td>\n      <td>-0.832404</td>\n      <td>-0.480819</td>\n      <td>-0.255246</td>\n      <td>129</td>\n    </tr>\n    <tr>\n      <th>10885</th>\n      <td>1.703934</td>\n      <td>0.165290</td>\n      <td>0.171483</td>\n      <td>0.684585</td>\n      <td>-0.660148</td>\n      <td>-0.912633</td>\n      <td>-0.824828</td>\n      <td>0.213746</td>\n      <td>-0.465586</td>\n      <td>-0.640946</td>\n      <td>-0.473733</td>\n      <td>88</td>\n    </tr>\n  </tbody>\n</table>\n<p>10886 rows × 12 columns</p>\n</div>"
     },
     "execution_count": 138,
     "metadata": {},
     "output_type": "execute_result"
    }
   ],
   "source": [
    "# normalize everything but the count\n",
    "cols = df.columns.difference(['count'])\n",
    "df[cols] = (df[cols] - df[cols].mean()) / df[cols].std()\n",
    "df.copy()"
   ],
   "metadata": {
    "collapsed": false,
    "pycharm": {
     "name": "#%%\n"
    }
   }
  },
  {
   "cell_type": "markdown",
   "source": [
    "Let's check the correlation matrix."
   ],
   "metadata": {
    "collapsed": false,
    "pycharm": {
     "name": "#%% md\n"
    }
   }
  },
  {
   "cell_type": "code",
   "execution_count": 139,
   "outputs": [
    {
     "data": {
      "text/plain": "<Figure size 288x288 with 2 Axes>",
      "image/png": "[encoded data removed]"
     },
     "metadata": {
      "needs_background": "light"
     },
     "output_type": "display_data"
    },
    {
     "data": {
      "text/plain": "            datetime    season   holiday  workingday   weather      temp  \\\ndatetime    1.000000  0.313406 -0.010985   -0.003657 -0.005051  0.181057   \nseason      0.313406  1.000000 -0.007620    0.000136 -0.019853  0.697446   \nholiday    -0.010985 -0.007620  1.000000    0.250491  0.007074 -0.000295   \nworkingday -0.003657  0.000136  0.250491    1.000000  0.033772  0.029966   \nweather    -0.005051 -0.019853  0.007074    0.033772  1.000000 -0.055035   \ntemp        0.181057  0.697446 -0.000295    0.029966 -0.055035  1.000000   \natemp       0.181893  0.692124  0.005215    0.024660 -0.055376  0.984948   \nhumidity    0.032860  0.150192 -0.001929   -0.010880  0.406244 -0.064949   \nwindspeed  -0.086893 -0.126915 -0.008409    0.013373  0.007261 -0.017852   \ncasual      0.172757  0.271964 -0.043799   -0.319111 -0.135918  0.467097   \nregistered  0.314893  0.207020  0.020956    0.119460 -0.109340  0.318571   \ncount       0.310206  0.247623  0.005393    0.011594 -0.128655  0.394454   \n\n               atemp  humidity  windspeed    casual  registered     count  \ndatetime    0.181893  0.032860  -0.086893  0.172757    0.314893  0.310206  \nseason      0.692124  0.150192  -0.126915  0.271964    0.207020  0.247623  \nholiday     0.005215 -0.001929  -0.008409 -0.043799    0.020956  0.005393  \nworkingday  0.024660 -0.010880   0.013373 -0.319111    0.119460  0.011594  \nweather    -0.055376  0.406244   0.007261 -0.135918   -0.109340 -0.128655  \ntemp        0.984948 -0.064949  -0.017852  0.467097    0.318571  0.394454  \natemp       1.000000 -0.043536  -0.057473  0.462067    0.314635  0.389784  \nhumidity   -0.043536  1.000000  -0.318607 -0.348187   -0.265458 -0.317371  \nwindspeed  -0.057473 -0.318607   1.000000  0.092276    0.091052  0.101369  \ncasual      0.462067 -0.348187   0.092276  1.000000    0.497250  0.690414  \nregistered  0.314635 -0.265458   0.091052  0.497250    1.000000  0.970948  \ncount       0.389784 -0.317371   0.101369  0.690414    0.970948  1.000000  ",
      "text/html": "<div>\n<style scoped>\n    .dataframe tbody tr th:only-of-type {\n        vertical-align: middle;\n    }\n\n    .dataframe tbody tr th {\n        vertical-align: top;\n    }\n\n    .dataframe thead th {\n        text-align: right;\n    }\n</style>\n<table border=\"1\" class=\"dataframe\">\n  <thead>\n    <tr style=\"text-align: right;\">\n      <th></th>\n      <th>datetime</th>\n      <th>season</th>\n      <th>holiday</th>\n      <th>workingday</th>\n      <th>weather</th>\n      <th>temp</th>\n      <th>atemp</th>\n      <th>humidity</th>\n      <th>windspeed</th>\n      <th>casual</th>\n      <th>registered</th>\n      <th>count</th>\n    </tr>\n  </thead>\n  <tbody>\n    <tr>\n      <th>datetime</th>\n      <td>1.000000</td>\n      <td>0.313406</td>\n      <td>-0.010985</td>\n      <td>-0.003657</td>\n      <td>-0.005051</td>\n      <td>0.181057</td>\n      <td>0.181893</td>\n      <td>0.032860</td>\n      <td>-0.086893</td>\n      <td>0.172757</td>\n      <td>0.314893</td>\n      <td>0.310206</td>\n    </tr>\n    <tr>\n      <th>season</th>\n      <td>0.313406</td>\n      <td>1.000000</td>\n      <td>-0.007620</td>\n      <td>0.000136</td>\n      <td>-0.019853</td>\n      <td>0.697446</td>\n      <td>0.692124</td>\n      <td>0.150192</td>\n      <td>-0.126915</td>\n      <td>0.271964</td>\n      <td>0.207020</td>\n      <td>0.247623</td>\n    </tr>\n    <tr>\n      <th>holiday</th>\n      <td>-0.010985</td>\n      <td>-0.007620</td>\n      <td>1.000000</td>\n      <td>0.250491</td>\n      <td>0.007074</td>\n      <td>-0.000295</td>\n      <td>0.005215</td>\n      <td>-0.001929</td>\n      <td>-0.008409</td>\n      <td>-0.043799</td>\n      <td>0.020956</td>\n      <td>0.005393</td>\n    </tr>\n    <tr>\n      <th>workingday</th>\n      <td>-0.003657</td>\n      <td>0.000136</td>\n      <td>0.250491</td>\n      <td>1.000000</td>\n      <td>0.033772</td>\n      <td>0.029966</td>\n      <td>0.024660</td>\n      <td>-0.010880</td>\n      <td>0.013373</td>\n      <td>-0.319111</td>\n      <td>0.119460</td>\n      <td>0.011594</td>\n    </tr>\n    <tr>\n      <th>weather</th>\n      <td>-0.005051</td>\n      <td>-0.019853</td>\n      <td>0.007074</td>\n      <td>0.033772</td>\n      <td>1.000000</td>\n      <td>-0.055035</td>\n      <td>-0.055376</td>\n      <td>0.406244</td>\n      <td>0.007261</td>\n      <td>-0.135918</td>\n      <td>-0.109340</td>\n      <td>-0.128655</td>\n    </tr>\n    <tr>\n      <th>temp</th>\n      <td>0.181057</td>\n      <td>0.697446</td>\n      <td>-0.000295</td>\n      <td>0.029966</td>\n      <td>-0.055035</td>\n      <td>1.000000</td>\n      <td>0.984948</td>\n      <td>-0.064949</td>\n      <td>-0.017852</td>\n      <td>0.467097</td>\n      <td>0.318571</td>\n      <td>0.394454</td>\n    </tr>\n    <tr>\n      <th>atemp</th>\n      <td>0.181893</td>\n      <td>0.692124</td>\n      <td>0.005215</td>\n      <td>0.024660</td>\n      <td>-0.055376</td>\n      <td>0.984948</td>\n      <td>1.000000</td>\n      <td>-0.043536</td>\n      <td>-0.057473</td>\n      <td>0.462067</td>\n      <td>0.314635</td>\n      <td>0.389784</td>\n    </tr>\n    <tr>\n      <th>humidity</th>\n      <td>0.032860</td>\n      <td>0.150192</td>\n      <td>-0.001929</td>\n      <td>-0.010880</td>\n      <td>0.406244</td>\n      <td>-0.064949</td>\n      <td>-0.043536</td>\n      <td>1.000000</td>\n      <td>-0.318607</td>\n      <td>-0.348187</td>\n      <td>-0.265458</td>\n      <td>-0.317371</td>\n    </tr>\n    <tr>\n      <th>windspeed</th>\n      <td>-0.086893</td>\n      <td>-0.126915</td>\n      <td>-0.008409</td>\n      <td>0.013373</td>\n      <td>0.007261</td>\n      <td>-0.017852</td>\n      <td>-0.057473</td>\n      <td>-0.318607</td>\n      <td>1.000000</td>\n      <td>0.092276</td>\n      <td>0.091052</td>\n      <td>0.101369</td>\n    </tr>\n    <tr>\n      <th>casual</th>\n      <td>0.172757</td>\n      <td>0.271964</td>\n      <td>-0.043799</td>\n      <td>-0.319111</td>\n      <td>-0.135918</td>\n      <td>0.467097</td>\n      <td>0.462067</td>\n      <td>-0.348187</td>\n      <td>0.092276</td>\n      <td>1.000000</td>\n      <td>0.497250</td>\n      <td>0.690414</td>\n    </tr>\n    <tr>\n      <th>registered</th>\n      <td>0.314893</td>\n      <td>0.207020</td>\n      <td>0.020956</td>\n      <td>0.119460</td>\n      <td>-0.109340</td>\n      <td>0.318571</td>\n      <td>0.314635</td>\n      <td>-0.265458</td>\n      <td>0.091052</td>\n      <td>0.497250</td>\n      <td>1.000000</td>\n      <td>0.970948</td>\n    </tr>\n    <tr>\n      <th>count</th>\n      <td>0.310206</td>\n      <td>0.247623</td>\n      <td>0.005393</td>\n      <td>0.011594</td>\n      <td>-0.128655</td>\n      <td>0.394454</td>\n      <td>0.389784</td>\n      <td>-0.317371</td>\n      <td>0.101369</td>\n      <td>0.690414</td>\n      <td>0.970948</td>\n      <td>1.000000</td>\n    </tr>\n  </tbody>\n</table>\n</div>"
     },
     "execution_count": 139,
     "metadata": {},
     "output_type": "execute_result"
    }
   ],
   "source": [
    "import matplotlib.pyplot as plt\n",
    "\n",
    "# plot heatmap\n",
    "plt.matshow(df.corr())\n",
    "cb = plt.colorbar()\n",
    "plt.show()\n",
    "\n",
    "# show numerical values\n",
    "df.corr()"
   ],
   "metadata": {
    "collapsed": false,
    "pycharm": {
     "name": "#%%\n"
    }
   }
  },
  {
   "cell_type": "markdown",
   "source": [
    "From the correlation matrix we can observe:\n",
    "\n",
    "1. Temp and Atemp are highly correlated. This make sense as we can expect people to to have a \"feel\" for the temperature close to the actual number. We can probably be okay using one of them. Let's keep Temp as is a more objective value.\n",
    "2. Holiday and workday are totally correlated. Makes sense given that a day is either a workday or a holiday. We are okay keeping one of this, let's use holiday.\n",
    "3. Windspeed and Humidity - High correlated fields, we'll keep windspeed.\n",
    "4. Registered vs Casual, both represent the same concept, whether the user is registered or not. We are going to keep only registered."
   ],
   "metadata": {
    "collapsed": false,
    "pycharm": {
     "name": "#%% md\n"
    }
   }
  },
  {
   "cell_type": "code",
   "execution_count": 140,
   "outputs": [
    {
     "data": {
      "text/plain": "       datetime    season  workingday   weather      temp  humidity  \\\n0     -1.711453 -1.677181   -1.460605 -0.660148 -1.333599  0.993167   \n1     -1.711255 -1.677181   -1.460605 -0.660148 -1.438841  0.941206   \n2     -1.711057 -1.677181   -1.460605 -0.660148 -1.438841  0.941206   \n3     -1.710859 -1.677181   -1.460605 -0.660148 -1.333599  0.681399   \n4     -1.710661 -1.677181   -1.460605 -0.660148 -1.333599  0.681399   \n...         ...       ...         ...       ...       ...       ...   \n10881  1.703142  0.165290    0.684585 -0.660148 -0.596908 -0.617638   \n10882  1.703340  0.165290    0.684585 -0.660148 -0.702149 -0.253908   \n10883  1.703538  0.165290    0.684585 -0.660148 -0.807391 -0.046062   \n10884  1.703736  0.165290    0.684585 -0.660148 -0.807391 -0.046062   \n10885  1.703934  0.165290    0.684585 -0.660148 -0.912633  0.213746   \n\n       windspeed  count  \n0      -1.567682     16  \n1      -1.567682     40  \n2      -1.567682     32  \n3      -1.567682     13  \n4      -1.567682      1  \n...          ...    ...  \n10881   1.617153    336  \n10882   0.269691    241  \n10883   0.269691    168  \n10884  -0.832404    129  \n10885  -0.465586     88  \n\n[10886 rows x 8 columns]",
      "text/html": "<div>\n<style scoped>\n    .dataframe tbody tr th:only-of-type {\n        vertical-align: middle;\n    }\n\n    .dataframe tbody tr th {\n        vertical-align: top;\n    }\n\n    .dataframe thead th {\n        text-align: right;\n    }\n</style>\n<table border=\"1\" class=\"dataframe\">\n  <thead>\n    <tr style=\"text-align: right;\">\n      <th></th>\n      <th>datetime</th>\n      <th>season</th>\n      <th>workingday</th>\n      <th>weather</th>\n      <th>temp</th>\n      <th>humidity</th>\n      <th>windspeed</th>\n      <th>count</th>\n    </tr>\n  </thead>\n  <tbody>\n    <tr>\n      <th>0</th>\n      <td>-1.711453</td>\n      <td>-1.677181</td>\n      <td>-1.460605</td>\n      <td>-0.660148</td>\n      <td>-1.333599</td>\n      <td>0.993167</td>\n      <td>-1.567682</td>\n      <td>16</td>\n    </tr>\n    <tr>\n      <th>1</th>\n      <td>-1.711255</td>\n      <td>-1.677181</td>\n      <td>-1.460605</td>\n      <td>-0.660148</td>\n      <td>-1.438841</td>\n      <td>0.941206</td>\n      <td>-1.567682</td>\n      <td>40</td>\n    </tr>\n    <tr>\n      <th>2</th>\n      <td>-1.711057</td>\n      <td>-1.677181</td>\n      <td>-1.460605</td>\n      <td>-0.660148</td>\n      <td>-1.438841</td>\n      <td>0.941206</td>\n      <td>-1.567682</td>\n      <td>32</td>\n    </tr>\n    <tr>\n      <th>3</th>\n      <td>-1.710859</td>\n      <td>-1.677181</td>\n      <td>-1.460605</td>\n      <td>-0.660148</td>\n      <td>-1.333599</td>\n      <td>0.681399</td>\n      <td>-1.567682</td>\n      <td>13</td>\n    </tr>\n    <tr>\n      <th>4</th>\n      <td>-1.710661</td>\n      <td>-1.677181</td>\n      <td>-1.460605</td>\n      <td>-0.660148</td>\n      <td>-1.333599</td>\n      <td>0.681399</td>\n      <td>-1.567682</td>\n      <td>1</td>\n    </tr>\n    <tr>\n      <th>...</th>\n      <td>...</td>\n      <td>...</td>\n      <td>...</td>\n      <td>...</td>\n      <td>...</td>\n      <td>...</td>\n      <td>...</td>\n      <td>...</td>\n    </tr>\n    <tr>\n      <th>10881</th>\n      <td>1.703142</td>\n      <td>0.165290</td>\n      <td>0.684585</td>\n      <td>-0.660148</td>\n      <td>-0.596908</td>\n      <td>-0.617638</td>\n      <td>1.617153</td>\n      <td>336</td>\n    </tr>\n    <tr>\n      <th>10882</th>\n      <td>1.703340</td>\n      <td>0.165290</td>\n      <td>0.684585</td>\n      <td>-0.660148</td>\n      <td>-0.702149</td>\n      <td>-0.253908</td>\n      <td>0.269691</td>\n      <td>241</td>\n    </tr>\n    <tr>\n      <th>10883</th>\n      <td>1.703538</td>\n      <td>0.165290</td>\n      <td>0.684585</td>\n      <td>-0.660148</td>\n      <td>-0.807391</td>\n      <td>-0.046062</td>\n      <td>0.269691</td>\n      <td>168</td>\n    </tr>\n    <tr>\n      <th>10884</th>\n      <td>1.703736</td>\n      <td>0.165290</td>\n      <td>0.684585</td>\n      <td>-0.660148</td>\n      <td>-0.807391</td>\n      <td>-0.046062</td>\n      <td>-0.832404</td>\n      <td>129</td>\n    </tr>\n    <tr>\n      <th>10885</th>\n      <td>1.703934</td>\n      <td>0.165290</td>\n      <td>0.684585</td>\n      <td>-0.660148</td>\n      <td>-0.912633</td>\n      <td>0.213746</td>\n      <td>-0.465586</td>\n      <td>88</td>\n    </tr>\n  </tbody>\n</table>\n<p>10886 rows × 8 columns</p>\n</div>"
     },
     "execution_count": 140,
     "metadata": {},
     "output_type": "execute_result"
    }
   ],
   "source": [
    "df = df.drop(\"atemp\", axis=1)\n",
    "df = df.drop(\"holiday\", axis=1)\n",
    "df = df.drop(\"casual\", axis=1)\n",
    "df = df.drop(\"registered\", axis=1)\n",
    "df.copy()"
   ],
   "metadata": {
    "collapsed": false,
    "pycharm": {
     "name": "#%%\n"
    }
   }
  },
  {
   "cell_type": "markdown",
   "source": [
    "Let's now search the data for outliers"
   ],
   "metadata": {
    "collapsed": false,
    "pycharm": {
     "name": "#%% md\n"
    }
   }
  },
  {
   "cell_type": "code",
   "execution_count": 141,
   "outputs": [],
   "source": [
    "# from sklearn.ensemble import IsolationForest\n",
    "#\n",
    "# # estimate outliers\n",
    "# df[\"outlier\"] = IsolationForest().fit_predict(df)\n",
    "# print(\"Outliers detected:\", abs(df[df.outlier == -1][\"outlier\"].sum()))\n",
    "#\n",
    "# # remove outliers (-1), keep inliers (1)\n",
    "# df = df[df.outlier == 1]\n",
    "# df = df.drop(\"outlier\", axis=1).reset_index()\n",
    "# df = df.drop(\"index\", axis=1)\n",
    "# df.copy()"
   ],
   "metadata": {
    "collapsed": false,
    "pycharm": {
     "name": "#%%\n"
    }
   }
  },
  {
   "cell_type": "markdown",
   "source": [
    "Now we can start training our model. First let's split our data in test and training."
   ],
   "metadata": {
    "collapsed": false,
    "pycharm": {
     "name": "#%% md\n"
    }
   }
  },
  {
   "cell_type": "code",
   "execution_count": 142,
   "outputs": [],
   "source": [
    "from sklearn.model_selection import train_test_split\n",
    "\n",
    "# split data for train and test\n",
    "training_data, testing_data = train_test_split(df, test_size=0.2, random_state=25)\n",
    "\n",
    "# split into features and labels\n",
    "training_features = training_data.copy()\n",
    "training_features = training_features.drop(\"count\", axis=1)\n",
    "training_labels = training_data[\"count\"]\n",
    "\n",
    "# split into features and labels\n",
    "testing_features = pd.DataFrame(testing_data.copy())\n",
    "testing_features = testing_features.drop(\"count\", axis=1)\n",
    "testing_labels = pd.DataFrame(testing_data[\"count\"])"
   ],
   "metadata": {
    "collapsed": false,
    "pycharm": {
     "name": "#%%\n"
    }
   }
  },
  {
   "cell_type": "markdown",
   "source": [
    "Now we can train our model. In this case we will use linear regression."
   ],
   "metadata": {
    "collapsed": false,
    "pycharm": {
     "name": "#%% md\n"
    }
   }
  },
  {
   "cell_type": "code",
   "execution_count": 143,
   "outputs": [
    {
     "ename": "KeyboardInterrupt",
     "evalue": "",
     "output_type": "error",
     "traceback": [
      "\u001B[0;31m---------------------------------------------------------------------------\u001B[0m",
      "\u001B[0;31mKeyboardInterrupt\u001B[0m                         Traceback (most recent call last)",
      "\u001B[0;32m/var/folders/wt/z1kn1r9d5d9dxws96_cyhsxh0000gn/T/ipykernel_50447/274290019.py\u001B[0m in \u001B[0;36m<module>\u001B[0;34m\u001B[0m\n\u001B[1;32m      4\u001B[0m \u001B[0;31m# train model\u001B[0m\u001B[0;34m\u001B[0m\u001B[0;34m\u001B[0m\u001B[0;34m\u001B[0m\u001B[0m\n\u001B[1;32m      5\u001B[0m \u001B[0mkernel\u001B[0m \u001B[0;34m=\u001B[0m \u001B[0mDotProduct\u001B[0m\u001B[0;34m(\u001B[0m\u001B[0;34m)\u001B[0m \u001B[0;34m+\u001B[0m \u001B[0mWhiteKernel\u001B[0m\u001B[0;34m(\u001B[0m\u001B[0;34m)\u001B[0m\u001B[0;34m\u001B[0m\u001B[0;34m\u001B[0m\u001B[0m\n\u001B[0;32m----> 6\u001B[0;31m \u001B[0mlinear_regression\u001B[0m \u001B[0;34m=\u001B[0m \u001B[0mGaussianProcessRegressor\u001B[0m\u001B[0;34m(\u001B[0m\u001B[0mkernel\u001B[0m\u001B[0;34m=\u001B[0m\u001B[0mkernel\u001B[0m\u001B[0;34m,\u001B[0m \u001B[0mrandom_state\u001B[0m\u001B[0;34m=\u001B[0m\u001B[0;36m0\u001B[0m\u001B[0;34m)\u001B[0m\u001B[0;34m.\u001B[0m\u001B[0mfit\u001B[0m\u001B[0;34m(\u001B[0m\u001B[0mtraining_features\u001B[0m\u001B[0;34m,\u001B[0m \u001B[0mtraining_labels\u001B[0m\u001B[0;34m)\u001B[0m\u001B[0;34m\u001B[0m\u001B[0;34m\u001B[0m\u001B[0m\n\u001B[0m\u001B[1;32m      7\u001B[0m \u001B[0;34m\u001B[0m\u001B[0m\n\u001B[1;32m      8\u001B[0m \u001B[0mtraining_score\u001B[0m \u001B[0;34m=\u001B[0m \u001B[0mlinear_regression\u001B[0m\u001B[0;34m.\u001B[0m\u001B[0mscore\u001B[0m\u001B[0;34m(\u001B[0m\u001B[0mtraining_features\u001B[0m\u001B[0;34m,\u001B[0m \u001B[0mtraining_labels\u001B[0m\u001B[0;34m)\u001B[0m\u001B[0;34m\u001B[0m\u001B[0;34m\u001B[0m\u001B[0m\n",
      "\u001B[0;32m~/Library/Caches/pypoetry/virtualenvs/mlucu-Vdmf4rJI-py3.8/lib/python3.8/site-packages/sklearn/gaussian_process/_gpr.py\u001B[0m in \u001B[0;36mfit\u001B[0;34m(self, X, y)\u001B[0m\n\u001B[1;32m    236\u001B[0m \u001B[0;34m\u001B[0m\u001B[0m\n\u001B[1;32m    237\u001B[0m             \u001B[0;31m# First optimize starting from theta specified in kernel\u001B[0m\u001B[0;34m\u001B[0m\u001B[0;34m\u001B[0m\u001B[0;34m\u001B[0m\u001B[0m\n\u001B[0;32m--> 238\u001B[0;31m             optima = [(self._constrained_optimization(obj_func,\n\u001B[0m\u001B[1;32m    239\u001B[0m                                                       \u001B[0mself\u001B[0m\u001B[0;34m.\u001B[0m\u001B[0mkernel_\u001B[0m\u001B[0;34m.\u001B[0m\u001B[0mtheta\u001B[0m\u001B[0;34m,\u001B[0m\u001B[0;34m\u001B[0m\u001B[0;34m\u001B[0m\u001B[0m\n\u001B[1;32m    240\u001B[0m                                                       self.kernel_.bounds))]\n",
      "\u001B[0;32m~/Library/Caches/pypoetry/virtualenvs/mlucu-Vdmf4rJI-py3.8/lib/python3.8/site-packages/sklearn/gaussian_process/_gpr.py\u001B[0m in \u001B[0;36m_constrained_optimization\u001B[0;34m(self, obj_func, initial_theta, bounds)\u001B[0m\n\u001B[1;32m    501\u001B[0m     \u001B[0;32mdef\u001B[0m \u001B[0m_constrained_optimization\u001B[0m\u001B[0;34m(\u001B[0m\u001B[0mself\u001B[0m\u001B[0;34m,\u001B[0m \u001B[0mobj_func\u001B[0m\u001B[0;34m,\u001B[0m \u001B[0minitial_theta\u001B[0m\u001B[0;34m,\u001B[0m \u001B[0mbounds\u001B[0m\u001B[0;34m)\u001B[0m\u001B[0;34m:\u001B[0m\u001B[0;34m\u001B[0m\u001B[0;34m\u001B[0m\u001B[0m\n\u001B[1;32m    502\u001B[0m         \u001B[0;32mif\u001B[0m \u001B[0mself\u001B[0m\u001B[0;34m.\u001B[0m\u001B[0moptimizer\u001B[0m \u001B[0;34m==\u001B[0m \u001B[0;34m\"fmin_l_bfgs_b\"\u001B[0m\u001B[0;34m:\u001B[0m\u001B[0;34m\u001B[0m\u001B[0;34m\u001B[0m\u001B[0m\n\u001B[0;32m--> 503\u001B[0;31m             opt_res = scipy.optimize.minimize(\n\u001B[0m\u001B[1;32m    504\u001B[0m                 \u001B[0mobj_func\u001B[0m\u001B[0;34m,\u001B[0m \u001B[0minitial_theta\u001B[0m\u001B[0;34m,\u001B[0m \u001B[0mmethod\u001B[0m\u001B[0;34m=\u001B[0m\u001B[0;34m\"L-BFGS-B\"\u001B[0m\u001B[0;34m,\u001B[0m \u001B[0mjac\u001B[0m\u001B[0;34m=\u001B[0m\u001B[0;32mTrue\u001B[0m\u001B[0;34m,\u001B[0m\u001B[0;34m\u001B[0m\u001B[0;34m\u001B[0m\u001B[0m\n\u001B[1;32m    505\u001B[0m                 bounds=bounds)\n",
      "\u001B[0;32m~/Library/Caches/pypoetry/virtualenvs/mlucu-Vdmf4rJI-py3.8/lib/python3.8/site-packages/scipy/optimize/_minimize.py\u001B[0m in \u001B[0;36mminimize\u001B[0;34m(fun, x0, args, method, jac, hess, hessp, bounds, constraints, tol, callback, options)\u001B[0m\n\u001B[1;32m    617\u001B[0m                                   **options)\n\u001B[1;32m    618\u001B[0m     \u001B[0;32melif\u001B[0m \u001B[0mmeth\u001B[0m \u001B[0;34m==\u001B[0m \u001B[0;34m'l-bfgs-b'\u001B[0m\u001B[0;34m:\u001B[0m\u001B[0;34m\u001B[0m\u001B[0;34m\u001B[0m\u001B[0m\n\u001B[0;32m--> 619\u001B[0;31m         return _minimize_lbfgsb(fun, x0, args, jac, bounds,\n\u001B[0m\u001B[1;32m    620\u001B[0m                                 callback=callback, **options)\n\u001B[1;32m    621\u001B[0m     \u001B[0;32melif\u001B[0m \u001B[0mmeth\u001B[0m \u001B[0;34m==\u001B[0m \u001B[0;34m'tnc'\u001B[0m\u001B[0;34m:\u001B[0m\u001B[0;34m\u001B[0m\u001B[0;34m\u001B[0m\u001B[0m\n",
      "\u001B[0;32m~/Library/Caches/pypoetry/virtualenvs/mlucu-Vdmf4rJI-py3.8/lib/python3.8/site-packages/scipy/optimize/lbfgsb.py\u001B[0m in \u001B[0;36m_minimize_lbfgsb\u001B[0;34m(fun, x0, args, jac, bounds, disp, maxcor, ftol, gtol, eps, maxfun, maxiter, iprint, callback, maxls, finite_diff_rel_step, **unknown_options)\u001B[0m\n\u001B[1;32m    358\u001B[0m             \u001B[0;31m# until the completion of the current minimization iteration.\u001B[0m\u001B[0;34m\u001B[0m\u001B[0;34m\u001B[0m\u001B[0;34m\u001B[0m\u001B[0m\n\u001B[1;32m    359\u001B[0m             \u001B[0;31m# Overwrite f and g:\u001B[0m\u001B[0;34m\u001B[0m\u001B[0;34m\u001B[0m\u001B[0;34m\u001B[0m\u001B[0m\n\u001B[0;32m--> 360\u001B[0;31m             \u001B[0mf\u001B[0m\u001B[0;34m,\u001B[0m \u001B[0mg\u001B[0m \u001B[0;34m=\u001B[0m \u001B[0mfunc_and_grad\u001B[0m\u001B[0;34m(\u001B[0m\u001B[0mx\u001B[0m\u001B[0;34m)\u001B[0m\u001B[0;34m\u001B[0m\u001B[0;34m\u001B[0m\u001B[0m\n\u001B[0m\u001B[1;32m    361\u001B[0m         \u001B[0;32melif\u001B[0m \u001B[0mtask_str\u001B[0m\u001B[0;34m.\u001B[0m\u001B[0mstartswith\u001B[0m\u001B[0;34m(\u001B[0m\u001B[0;34mb'NEW_X'\u001B[0m\u001B[0;34m)\u001B[0m\u001B[0;34m:\u001B[0m\u001B[0;34m\u001B[0m\u001B[0;34m\u001B[0m\u001B[0m\n\u001B[1;32m    362\u001B[0m             \u001B[0;31m# new iteration\u001B[0m\u001B[0;34m\u001B[0m\u001B[0;34m\u001B[0m\u001B[0;34m\u001B[0m\u001B[0m\n",
      "\u001B[0;32m~/Library/Caches/pypoetry/virtualenvs/mlucu-Vdmf4rJI-py3.8/lib/python3.8/site-packages/scipy/optimize/_differentiable_functions.py\u001B[0m in \u001B[0;36mfun_and_grad\u001B[0;34m(self, x)\u001B[0m\n\u001B[1;32m    258\u001B[0m         \u001B[0;32mif\u001B[0m \u001B[0;32mnot\u001B[0m \u001B[0mnp\u001B[0m\u001B[0;34m.\u001B[0m\u001B[0marray_equal\u001B[0m\u001B[0;34m(\u001B[0m\u001B[0mx\u001B[0m\u001B[0;34m,\u001B[0m \u001B[0mself\u001B[0m\u001B[0;34m.\u001B[0m\u001B[0mx\u001B[0m\u001B[0;34m)\u001B[0m\u001B[0;34m:\u001B[0m\u001B[0;34m\u001B[0m\u001B[0;34m\u001B[0m\u001B[0m\n\u001B[1;32m    259\u001B[0m             \u001B[0mself\u001B[0m\u001B[0;34m.\u001B[0m\u001B[0m_update_x_impl\u001B[0m\u001B[0;34m(\u001B[0m\u001B[0mx\u001B[0m\u001B[0;34m)\u001B[0m\u001B[0;34m\u001B[0m\u001B[0;34m\u001B[0m\u001B[0m\n\u001B[0;32m--> 260\u001B[0;31m         \u001B[0mself\u001B[0m\u001B[0;34m.\u001B[0m\u001B[0m_update_fun\u001B[0m\u001B[0;34m(\u001B[0m\u001B[0;34m)\u001B[0m\u001B[0;34m\u001B[0m\u001B[0;34m\u001B[0m\u001B[0m\n\u001B[0m\u001B[1;32m    261\u001B[0m         \u001B[0mself\u001B[0m\u001B[0;34m.\u001B[0m\u001B[0m_update_grad\u001B[0m\u001B[0;34m(\u001B[0m\u001B[0;34m)\u001B[0m\u001B[0;34m\u001B[0m\u001B[0;34m\u001B[0m\u001B[0m\n\u001B[1;32m    262\u001B[0m         \u001B[0;32mreturn\u001B[0m \u001B[0mself\u001B[0m\u001B[0;34m.\u001B[0m\u001B[0mf\u001B[0m\u001B[0;34m,\u001B[0m \u001B[0mself\u001B[0m\u001B[0;34m.\u001B[0m\u001B[0mg\u001B[0m\u001B[0;34m\u001B[0m\u001B[0;34m\u001B[0m\u001B[0m\n",
      "\u001B[0;32m~/Library/Caches/pypoetry/virtualenvs/mlucu-Vdmf4rJI-py3.8/lib/python3.8/site-packages/scipy/optimize/_differentiable_functions.py\u001B[0m in \u001B[0;36m_update_fun\u001B[0;34m(self)\u001B[0m\n\u001B[1;32m    224\u001B[0m     \u001B[0;32mdef\u001B[0m \u001B[0m_update_fun\u001B[0m\u001B[0;34m(\u001B[0m\u001B[0mself\u001B[0m\u001B[0;34m)\u001B[0m\u001B[0;34m:\u001B[0m\u001B[0;34m\u001B[0m\u001B[0;34m\u001B[0m\u001B[0m\n\u001B[1;32m    225\u001B[0m         \u001B[0;32mif\u001B[0m \u001B[0;32mnot\u001B[0m \u001B[0mself\u001B[0m\u001B[0;34m.\u001B[0m\u001B[0mf_updated\u001B[0m\u001B[0;34m:\u001B[0m\u001B[0;34m\u001B[0m\u001B[0;34m\u001B[0m\u001B[0m\n\u001B[0;32m--> 226\u001B[0;31m             \u001B[0mself\u001B[0m\u001B[0;34m.\u001B[0m\u001B[0m_update_fun_impl\u001B[0m\u001B[0;34m(\u001B[0m\u001B[0;34m)\u001B[0m\u001B[0;34m\u001B[0m\u001B[0;34m\u001B[0m\u001B[0m\n\u001B[0m\u001B[1;32m    227\u001B[0m             \u001B[0mself\u001B[0m\u001B[0;34m.\u001B[0m\u001B[0mf_updated\u001B[0m \u001B[0;34m=\u001B[0m \u001B[0;32mTrue\u001B[0m\u001B[0;34m\u001B[0m\u001B[0;34m\u001B[0m\u001B[0m\n\u001B[1;32m    228\u001B[0m \u001B[0;34m\u001B[0m\u001B[0m\n",
      "\u001B[0;32m~/Library/Caches/pypoetry/virtualenvs/mlucu-Vdmf4rJI-py3.8/lib/python3.8/site-packages/scipy/optimize/_differentiable_functions.py\u001B[0m in \u001B[0;36mupdate_fun\u001B[0;34m()\u001B[0m\n\u001B[1;32m    131\u001B[0m \u001B[0;34m\u001B[0m\u001B[0m\n\u001B[1;32m    132\u001B[0m         \u001B[0;32mdef\u001B[0m \u001B[0mupdate_fun\u001B[0m\u001B[0;34m(\u001B[0m\u001B[0;34m)\u001B[0m\u001B[0;34m:\u001B[0m\u001B[0;34m\u001B[0m\u001B[0;34m\u001B[0m\u001B[0m\n\u001B[0;32m--> 133\u001B[0;31m             \u001B[0mself\u001B[0m\u001B[0;34m.\u001B[0m\u001B[0mf\u001B[0m \u001B[0;34m=\u001B[0m \u001B[0mfun_wrapped\u001B[0m\u001B[0;34m(\u001B[0m\u001B[0mself\u001B[0m\u001B[0;34m.\u001B[0m\u001B[0mx\u001B[0m\u001B[0;34m)\u001B[0m\u001B[0;34m\u001B[0m\u001B[0;34m\u001B[0m\u001B[0m\n\u001B[0m\u001B[1;32m    134\u001B[0m \u001B[0;34m\u001B[0m\u001B[0m\n\u001B[1;32m    135\u001B[0m         \u001B[0mself\u001B[0m\u001B[0;34m.\u001B[0m\u001B[0m_update_fun_impl\u001B[0m \u001B[0;34m=\u001B[0m \u001B[0mupdate_fun\u001B[0m\u001B[0;34m\u001B[0m\u001B[0;34m\u001B[0m\u001B[0m\n",
      "\u001B[0;32m~/Library/Caches/pypoetry/virtualenvs/mlucu-Vdmf4rJI-py3.8/lib/python3.8/site-packages/scipy/optimize/_differentiable_functions.py\u001B[0m in \u001B[0;36mfun_wrapped\u001B[0;34m(x)\u001B[0m\n\u001B[1;32m    128\u001B[0m         \u001B[0;32mdef\u001B[0m \u001B[0mfun_wrapped\u001B[0m\u001B[0;34m(\u001B[0m\u001B[0mx\u001B[0m\u001B[0;34m)\u001B[0m\u001B[0;34m:\u001B[0m\u001B[0;34m\u001B[0m\u001B[0;34m\u001B[0m\u001B[0m\n\u001B[1;32m    129\u001B[0m             \u001B[0mself\u001B[0m\u001B[0;34m.\u001B[0m\u001B[0mnfev\u001B[0m \u001B[0;34m+=\u001B[0m \u001B[0;36m1\u001B[0m\u001B[0;34m\u001B[0m\u001B[0;34m\u001B[0m\u001B[0m\n\u001B[0;32m--> 130\u001B[0;31m             \u001B[0;32mreturn\u001B[0m \u001B[0mfun\u001B[0m\u001B[0;34m(\u001B[0m\u001B[0mx\u001B[0m\u001B[0;34m,\u001B[0m \u001B[0;34m*\u001B[0m\u001B[0margs\u001B[0m\u001B[0;34m)\u001B[0m\u001B[0;34m\u001B[0m\u001B[0;34m\u001B[0m\u001B[0m\n\u001B[0m\u001B[1;32m    131\u001B[0m \u001B[0;34m\u001B[0m\u001B[0m\n\u001B[1;32m    132\u001B[0m         \u001B[0;32mdef\u001B[0m \u001B[0mupdate_fun\u001B[0m\u001B[0;34m(\u001B[0m\u001B[0;34m)\u001B[0m\u001B[0;34m:\u001B[0m\u001B[0;34m\u001B[0m\u001B[0;34m\u001B[0m\u001B[0m\n",
      "\u001B[0;32m~/Library/Caches/pypoetry/virtualenvs/mlucu-Vdmf4rJI-py3.8/lib/python3.8/site-packages/scipy/optimize/optimize.py\u001B[0m in \u001B[0;36m__call__\u001B[0;34m(self, x, *args)\u001B[0m\n\u001B[1;32m     72\u001B[0m     \u001B[0;32mdef\u001B[0m \u001B[0m__call__\u001B[0m\u001B[0;34m(\u001B[0m\u001B[0mself\u001B[0m\u001B[0;34m,\u001B[0m \u001B[0mx\u001B[0m\u001B[0;34m,\u001B[0m \u001B[0;34m*\u001B[0m\u001B[0margs\u001B[0m\u001B[0;34m)\u001B[0m\u001B[0;34m:\u001B[0m\u001B[0;34m\u001B[0m\u001B[0;34m\u001B[0m\u001B[0m\n\u001B[1;32m     73\u001B[0m         \u001B[0;34m\"\"\" returns the the function value \"\"\"\u001B[0m\u001B[0;34m\u001B[0m\u001B[0;34m\u001B[0m\u001B[0m\n\u001B[0;32m---> 74\u001B[0;31m         \u001B[0mself\u001B[0m\u001B[0;34m.\u001B[0m\u001B[0m_compute_if_needed\u001B[0m\u001B[0;34m(\u001B[0m\u001B[0mx\u001B[0m\u001B[0;34m,\u001B[0m \u001B[0;34m*\u001B[0m\u001B[0margs\u001B[0m\u001B[0;34m)\u001B[0m\u001B[0;34m\u001B[0m\u001B[0;34m\u001B[0m\u001B[0m\n\u001B[0m\u001B[1;32m     75\u001B[0m         \u001B[0;32mreturn\u001B[0m \u001B[0mself\u001B[0m\u001B[0;34m.\u001B[0m\u001B[0m_value\u001B[0m\u001B[0;34m\u001B[0m\u001B[0;34m\u001B[0m\u001B[0m\n\u001B[1;32m     76\u001B[0m \u001B[0;34m\u001B[0m\u001B[0m\n",
      "\u001B[0;32m~/Library/Caches/pypoetry/virtualenvs/mlucu-Vdmf4rJI-py3.8/lib/python3.8/site-packages/scipy/optimize/optimize.py\u001B[0m in \u001B[0;36m_compute_if_needed\u001B[0;34m(self, x, *args)\u001B[0m\n\u001B[1;32m     66\u001B[0m         \u001B[0;32mif\u001B[0m \u001B[0;32mnot\u001B[0m \u001B[0mnp\u001B[0m\u001B[0;34m.\u001B[0m\u001B[0mall\u001B[0m\u001B[0;34m(\u001B[0m\u001B[0mx\u001B[0m \u001B[0;34m==\u001B[0m \u001B[0mself\u001B[0m\u001B[0;34m.\u001B[0m\u001B[0mx\u001B[0m\u001B[0;34m)\u001B[0m \u001B[0;32mor\u001B[0m \u001B[0mself\u001B[0m\u001B[0;34m.\u001B[0m\u001B[0m_value\u001B[0m \u001B[0;32mis\u001B[0m \u001B[0;32mNone\u001B[0m \u001B[0;32mor\u001B[0m \u001B[0mself\u001B[0m\u001B[0;34m.\u001B[0m\u001B[0mjac\u001B[0m \u001B[0;32mis\u001B[0m \u001B[0;32mNone\u001B[0m\u001B[0;34m:\u001B[0m\u001B[0;34m\u001B[0m\u001B[0;34m\u001B[0m\u001B[0m\n\u001B[1;32m     67\u001B[0m             \u001B[0mself\u001B[0m\u001B[0;34m.\u001B[0m\u001B[0mx\u001B[0m \u001B[0;34m=\u001B[0m \u001B[0mnp\u001B[0m\u001B[0;34m.\u001B[0m\u001B[0masarray\u001B[0m\u001B[0;34m(\u001B[0m\u001B[0mx\u001B[0m\u001B[0;34m)\u001B[0m\u001B[0;34m.\u001B[0m\u001B[0mcopy\u001B[0m\u001B[0;34m(\u001B[0m\u001B[0;34m)\u001B[0m\u001B[0;34m\u001B[0m\u001B[0;34m\u001B[0m\u001B[0m\n\u001B[0;32m---> 68\u001B[0;31m             \u001B[0mfg\u001B[0m \u001B[0;34m=\u001B[0m \u001B[0mself\u001B[0m\u001B[0;34m.\u001B[0m\u001B[0mfun\u001B[0m\u001B[0;34m(\u001B[0m\u001B[0mx\u001B[0m\u001B[0;34m,\u001B[0m \u001B[0;34m*\u001B[0m\u001B[0margs\u001B[0m\u001B[0;34m)\u001B[0m\u001B[0;34m\u001B[0m\u001B[0;34m\u001B[0m\u001B[0m\n\u001B[0m\u001B[1;32m     69\u001B[0m             \u001B[0mself\u001B[0m\u001B[0;34m.\u001B[0m\u001B[0mjac\u001B[0m \u001B[0;34m=\u001B[0m \u001B[0mfg\u001B[0m\u001B[0;34m[\u001B[0m\u001B[0;36m1\u001B[0m\u001B[0;34m]\u001B[0m\u001B[0;34m\u001B[0m\u001B[0;34m\u001B[0m\u001B[0m\n\u001B[1;32m     70\u001B[0m             \u001B[0mself\u001B[0m\u001B[0;34m.\u001B[0m\u001B[0m_value\u001B[0m \u001B[0;34m=\u001B[0m \u001B[0mfg\u001B[0m\u001B[0;34m[\u001B[0m\u001B[0;36m0\u001B[0m\u001B[0;34m]\u001B[0m\u001B[0;34m\u001B[0m\u001B[0;34m\u001B[0m\u001B[0m\n",
      "\u001B[0;32m~/Library/Caches/pypoetry/virtualenvs/mlucu-Vdmf4rJI-py3.8/lib/python3.8/site-packages/sklearn/gaussian_process/_gpr.py\u001B[0m in \u001B[0;36mobj_func\u001B[0;34m(theta, eval_gradient)\u001B[0m\n\u001B[1;32m    228\u001B[0m             \u001B[0;32mdef\u001B[0m \u001B[0mobj_func\u001B[0m\u001B[0;34m(\u001B[0m\u001B[0mtheta\u001B[0m\u001B[0;34m,\u001B[0m \u001B[0meval_gradient\u001B[0m\u001B[0;34m=\u001B[0m\u001B[0;32mTrue\u001B[0m\u001B[0;34m)\u001B[0m\u001B[0;34m:\u001B[0m\u001B[0;34m\u001B[0m\u001B[0;34m\u001B[0m\u001B[0m\n\u001B[1;32m    229\u001B[0m                 \u001B[0;32mif\u001B[0m \u001B[0meval_gradient\u001B[0m\u001B[0;34m:\u001B[0m\u001B[0;34m\u001B[0m\u001B[0;34m\u001B[0m\u001B[0m\n\u001B[0;32m--> 230\u001B[0;31m                     lml, grad = self.log_marginal_likelihood(\n\u001B[0m\u001B[1;32m    231\u001B[0m                         theta, eval_gradient=True, clone_kernel=False)\n\u001B[1;32m    232\u001B[0m                     \u001B[0;32mreturn\u001B[0m \u001B[0;34m-\u001B[0m\u001B[0mlml\u001B[0m\u001B[0;34m,\u001B[0m \u001B[0;34m-\u001B[0m\u001B[0mgrad\u001B[0m\u001B[0;34m\u001B[0m\u001B[0;34m\u001B[0m\u001B[0m\n",
      "\u001B[0;32m~/Library/Caches/pypoetry/virtualenvs/mlucu-Vdmf4rJI-py3.8/lib/python3.8/site-packages/sklearn/gaussian_process/_gpr.py\u001B[0m in \u001B[0;36mlog_marginal_likelihood\u001B[0;34m(self, theta, eval_gradient, clone_kernel)\u001B[0m\n\u001B[1;32m    486\u001B[0m         \u001B[0;32mif\u001B[0m \u001B[0meval_gradient\u001B[0m\u001B[0;34m:\u001B[0m  \u001B[0;31m# compare Equation 5.9 from GPML\u001B[0m\u001B[0;34m\u001B[0m\u001B[0;34m\u001B[0m\u001B[0m\n\u001B[1;32m    487\u001B[0m             \u001B[0mtmp\u001B[0m \u001B[0;34m=\u001B[0m \u001B[0mnp\u001B[0m\u001B[0;34m.\u001B[0m\u001B[0meinsum\u001B[0m\u001B[0;34m(\u001B[0m\u001B[0;34m\"ik,jk->ijk\"\u001B[0m\u001B[0;34m,\u001B[0m \u001B[0malpha\u001B[0m\u001B[0;34m,\u001B[0m \u001B[0malpha\u001B[0m\u001B[0;34m)\u001B[0m  \u001B[0;31m# k: output-dimension\u001B[0m\u001B[0;34m\u001B[0m\u001B[0;34m\u001B[0m\u001B[0m\n\u001B[0;32m--> 488\u001B[0;31m             \u001B[0mtmp\u001B[0m \u001B[0;34m-=\u001B[0m \u001B[0mcho_solve\u001B[0m\u001B[0;34m(\u001B[0m\u001B[0;34m(\u001B[0m\u001B[0mL\u001B[0m\u001B[0;34m,\u001B[0m \u001B[0;32mTrue\u001B[0m\u001B[0;34m)\u001B[0m\u001B[0;34m,\u001B[0m \u001B[0mnp\u001B[0m\u001B[0;34m.\u001B[0m\u001B[0meye\u001B[0m\u001B[0;34m(\u001B[0m\u001B[0mK\u001B[0m\u001B[0;34m.\u001B[0m\u001B[0mshape\u001B[0m\u001B[0;34m[\u001B[0m\u001B[0;36m0\u001B[0m\u001B[0;34m]\u001B[0m\u001B[0;34m)\u001B[0m\u001B[0;34m)\u001B[0m\u001B[0;34m[\u001B[0m\u001B[0;34m:\u001B[0m\u001B[0;34m,\u001B[0m \u001B[0;34m:\u001B[0m\u001B[0;34m,\u001B[0m \u001B[0mnp\u001B[0m\u001B[0;34m.\u001B[0m\u001B[0mnewaxis\u001B[0m\u001B[0;34m]\u001B[0m\u001B[0;34m\u001B[0m\u001B[0;34m\u001B[0m\u001B[0m\n\u001B[0m\u001B[1;32m    489\u001B[0m             \u001B[0;31m# Compute \"0.5 * trace(tmp.dot(K_gradient))\" without\u001B[0m\u001B[0;34m\u001B[0m\u001B[0;34m\u001B[0m\u001B[0;34m\u001B[0m\u001B[0m\n\u001B[1;32m    490\u001B[0m             \u001B[0;31m# constructing the full matrix tmp.dot(K_gradient) since only\u001B[0m\u001B[0;34m\u001B[0m\u001B[0;34m\u001B[0m\u001B[0;34m\u001B[0m\u001B[0m\n",
      "\u001B[0;32m~/Library/Caches/pypoetry/virtualenvs/mlucu-Vdmf4rJI-py3.8/lib/python3.8/site-packages/scipy/linalg/decomp_cholesky.py\u001B[0m in \u001B[0;36mcho_solve\u001B[0;34m(c_and_lower, b, overwrite_b, check_finite)\u001B[0m\n\u001B[1;32m    206\u001B[0m \u001B[0;34m\u001B[0m\u001B[0m\n\u001B[1;32m    207\u001B[0m     \u001B[0mpotrs\u001B[0m\u001B[0;34m,\u001B[0m \u001B[0;34m=\u001B[0m \u001B[0mget_lapack_funcs\u001B[0m\u001B[0;34m(\u001B[0m\u001B[0;34m(\u001B[0m\u001B[0;34m'potrs'\u001B[0m\u001B[0;34m,\u001B[0m\u001B[0;34m)\u001B[0m\u001B[0;34m,\u001B[0m \u001B[0;34m(\u001B[0m\u001B[0mc\u001B[0m\u001B[0;34m,\u001B[0m \u001B[0mb1\u001B[0m\u001B[0;34m)\u001B[0m\u001B[0;34m)\u001B[0m\u001B[0;34m\u001B[0m\u001B[0;34m\u001B[0m\u001B[0m\n\u001B[0;32m--> 208\u001B[0;31m     \u001B[0mx\u001B[0m\u001B[0;34m,\u001B[0m \u001B[0minfo\u001B[0m \u001B[0;34m=\u001B[0m \u001B[0mpotrs\u001B[0m\u001B[0;34m(\u001B[0m\u001B[0mc\u001B[0m\u001B[0;34m,\u001B[0m \u001B[0mb1\u001B[0m\u001B[0;34m,\u001B[0m \u001B[0mlower\u001B[0m\u001B[0;34m=\u001B[0m\u001B[0mlower\u001B[0m\u001B[0;34m,\u001B[0m \u001B[0moverwrite_b\u001B[0m\u001B[0;34m=\u001B[0m\u001B[0moverwrite_b\u001B[0m\u001B[0;34m)\u001B[0m\u001B[0;34m\u001B[0m\u001B[0;34m\u001B[0m\u001B[0m\n\u001B[0m\u001B[1;32m    209\u001B[0m     \u001B[0;32mif\u001B[0m \u001B[0minfo\u001B[0m \u001B[0;34m!=\u001B[0m \u001B[0;36m0\u001B[0m\u001B[0;34m:\u001B[0m\u001B[0;34m\u001B[0m\u001B[0;34m\u001B[0m\u001B[0m\n\u001B[1;32m    210\u001B[0m         raise ValueError('illegal value in %dth argument of internal potrs'\n",
      "\u001B[0;31mKeyboardInterrupt\u001B[0m: "
     ]
    }
   ],
   "source": [
    "from sklearn.gaussian_process import GaussianProcessRegressor\n",
    "from sklearn.gaussian_process.kernels import DotProduct, WhiteKernel\n",
    "\n",
    "# train model\n",
    "kernel = DotProduct() + WhiteKernel()\n",
    "linear_regression = GaussianProcessRegressor(kernel=kernel, random_state=0).fit(training_features, training_labels)\n",
    "\n",
    "training_score = linear_regression.score(training_features, training_labels)\n",
    "test_score = linear_regression.score(testing_features, testing_labels)\n",
    "\n",
    "print(f\"Training Score: {training_score}\")\n",
    "print(f\"Test Score: {test_score}\")"
   ],
   "metadata": {
    "collapsed": false,
    "pycharm": {
     "name": "#%%\n"
    }
   }
  }
 ],
 "metadata": {
  "kernelspec": {
   "display_name": "Python 3",
   "language": "python",
   "name": "python3"
  },
  "language_info": {
   "codemirror_mode": {
    "name": "ipython",
    "version": 2
   },
   "file_extension": ".py",
   "mimetype": "text/x-python",
   "name": "python",
   "nbconvert_exporter": "python",
   "pygments_lexer": "ipython2",
   "version": "2.7.6"
  }
 },
 "nbformat": 4,
 "nbformat_minor": 0
}